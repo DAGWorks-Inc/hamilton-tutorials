{
 "cells": [
  {
   "cell_type": "markdown",
   "metadata": {
    "collapsed": false
   },
   "source": [
    "# Data / Feature engineering Notebook\n",
    "This notebook's purpose is to show how one might:\n",
    "\n",
    "1. Pull some data in. Validate a schema.\n",
    "2. Process it into features.\n",
    "3. Save it.\n",
    "\n",
    "Using feature engineering as the context. The transforms here are not complex, but hopefully illustrative of how one might use Hamilton in this context.\n",
    "\n",
    "In terms of this notebook, it's structured the following way:\n",
    "\n",
    "1. we do some setup\n",
    "2. then cover what Hamilton replaces\n",
    "3. then dive into pulling data and saving it\n",
    "4. add DAGWorks (optional) to view executions/versions/nicer UI.\n",
    "5. then cover feature engineering\n"
   ]
  },
  {
   "cell_type": "markdown",
   "metadata": {
    "collapsed": false
   },
   "source": [
    "# Notebook setup\n"
   ]
  },
  {
   "cell_type": "code",
   "execution_count": 1,
   "metadata": {
    "ExecuteTime": {
     "end_time": "2023-10-04T20:24:19.628868Z",
     "start_time": "2023-10-04T20:24:19.528178Z"
    },
    "collapsed": false
   },
   "outputs": [],
   "source": [
    "from IPython.display import clear_output"
   ]
  },
  {
   "cell_type": "markdown",
   "metadata": {
    "collapsed": false
   },
   "source": [
    "Uncomment and run the cell below if you are in a Google Colab environment. It will:\n",
    "\n",
    "1. Mount google drive. You will be asked to authenticate and give permissions.\n",
    "2. Change directory to google drive.\n",
    "3. Make a directory \"hamilton-tutorials\"\n",
    "4. Change directory to it.\n",
    "5. Clone this repository to your google drive\n",
    "6. Move your current directory to the example\n",
    "7. Install requirements.\n",
    "8. This means that any modifications will be saved, and you won't lose them if you close your browser."
   ]
  },
  {
   "cell_type": "code",
   "execution_count": 2,
   "metadata": {
    "ExecuteTime": {
     "end_time": "2023-10-04T20:24:19.630502Z",
     "start_time": "2023-10-04T20:24:19.533601Z"
    },
    "collapsed": false
   },
   "outputs": [],
   "source": [
    "## 1. Mount google drive\n",
    "# from google.colab import drive\n",
    "# drive.mount('/content/drive')\n",
    "## 2. Change directory to google drive.\n",
    "# %cd /content/drive/MyDrive\n",
    "## 3. Make a directory \"hamilton-tutorials\"\n",
    "# !mkdir hamilton-tutorials\n",
    "## 4. Change directory to it.\n",
    "# %cd hamilton-tutorials\n",
    "## 5. Clone this repository to your google drive\n",
    "# !git clone https://github.com/DAGWorks-Inc/hamilton-tutorials/\n",
    "## 6. Move your current directory to the example\n",
    "# %cd hamilton-tutorials/2023-11-14/titanic_dataset\n",
    "## 7. Install requirements.\n",
    "# %pip install -r requirements.txt\n",
    "# clear_output()  # optionally clear outputs\n",
    "# To check your current working directory you can type `!pwd` in a cell and run it."
   ]
  },
  {
   "cell_type": "code",
   "execution_count": 1,
   "metadata": {
    "collapsed": false,
    "ExecuteTime": {
     "end_time": "2024-02-09T06:51:50.670611Z",
     "start_time": "2024-02-09T06:51:48.499520Z"
    }
   },
   "outputs": [],
   "source": [
    "import os\n",
    "import numpy as np\n",
    "import pandas as pd\n",
    "from hamilton import driver, base\n",
    "from hamilton.function_modifiers import source\n",
    "from IPython.display import display\n",
    "\n",
    "# Use autoreload to automatically reload our function modules\n",
    "%load_ext autoreload\n",
    "%autoreload 1\n",
    "\n",
    "# if you want to connect to DAGWorks -- replace these here.\n",
    "# you can sign up for a free account at www.dagworks.io.\n",
    "DAGWORKS_API_KEY = os.environ[\"DW_API_KEY\"]\n",
    "DAGWORKS_PROJECT_ID = 81\n",
    "DAGWORKS_PROJECT_EMAIL = \"stefan@dagworks.io\""
   ]
  },
  {
   "cell_type": "markdown",
   "metadata": {},
   "source": [
    "---------"
   ]
  },
  {
   "cell_type": "markdown",
   "metadata": {
    "collapsed": false
   },
   "source": [
    "# Reminder - what is Hamilton replacing?\n",
    "Rather than writing procedural code in scripts that you then have to worry about how to test, maintain, reuse, etc. Hamilton allows you to write functions that are \"pure\" and then compose them together into a dataflow."
   ]
  },
  {
   "cell_type": "code",
   "execution_count": 2,
   "metadata": {
    "collapsed": false,
    "ExecuteTime": {
     "end_time": "2024-02-09T06:52:04.029970Z",
     "start_time": "2024-02-09T06:52:03.998125Z"
    }
   },
   "outputs": [
    {
     "name": "stdout",
     "output_type": "stream",
     "text": [
      "   spend  signups  avg_3wk_spend  spend_per_signup  spend_zero_mean  spend_zero_mean_unit_variance\n",
      "0      1       10            NaN               0.1      -125.833333                      -0.825849\n",
      "1     10       10            NaN               1.0      -116.833333                      -0.766781\n",
      "2     50       20      20.333333               2.5       -76.833333                      -0.504260\n",
      "3    100       40      53.333333               2.5       -26.833333                      -0.176108\n",
      "4    200       40     116.666667               5.0        73.166667                       0.480195\n",
      "5    400       50     233.333333               8.0       273.166667                       1.792802\n"
     ]
    }
   ],
   "source": [
    "# Old way\n",
    "def load_data():\n",
    "    return pd.DataFrame({\"spend\": [1, 10, 50, 100, 200, 400], \"signups\": [10, 10, 20, 40, 40, 50]})\n",
    "data = load_data()\n",
    "data['avg_3wk_spend'] = data['spend'].rolling(3).mean()\n",
    "data['spend_per_signup'] = data['spend']/data['signups']\n",
    "spend_mean = data['spend'].mean()\n",
    "data['spend_zero_mean'] = data['spend'] - spend_mean\n",
    "spend_std_dev = data['spend'].std()\n",
    "data['spend_zero_mean_unit_variance'] = data['spend_zero_mean']/spend_std_dev\n",
    "print(data.to_string())"
   ]
  },
  {
   "cell_type": "code",
   "execution_count": 3,
   "metadata": {
    "ExecuteTime": {
     "end_time": "2024-02-09T06:52:13.784815Z",
     "start_time": "2024-02-09T06:52:13.762377Z"
    }
   },
   "outputs": [
    {
     "name": "stdout",
     "output_type": "stream",
     "text": [
      "Overwriting hw_funcs.py\n"
     ]
    }
   ],
   "source": [
    "%%writefile hw_funcs.py\n",
    "import pandas as pd\n",
    "# New way\n",
    "def avg_3wk_spend(spend: pd.Series) -> pd.Series:\n",
    "  \"\"\"Rolling 3 day average spend.\"\"\"\n",
    "  return spend.rolling(3).mean()\n",
    "\n",
    "\n",
    "def spend_per_signup(spend: pd.Series, signups: pd.Series) -> pd.Series:\n",
    "  \"\"\"The cost per signup in relation to spend.\"\"\"\n",
    "  return spend / signups\n",
    "\n",
    "\n",
    "def spend_mean(spend: pd.Series) -> float:\n",
    "  \"\"\"Shows function creating a scalar. In this case it computes the mean of the entire column.\"\"\"\n",
    "  return spend.mean()\n",
    "\n",
    "\n",
    "def spend_zero_mean(spend: pd.Series, spend_mean: float) -> pd.Series:\n",
    "  \"\"\"Shows function that takes a scalar. In this case to zero mean spend.\"\"\"\n",
    "  return spend - spend_mean\n",
    "\n",
    "\n",
    "def spend_std_dev(spend: pd.Series) -> float:\n",
    "  \"\"\"Function that computes the standard deviation of the spend column.\"\"\"\n",
    "  return spend.std()\n",
    "\n",
    "\n",
    "def spend_zero_mean_unit_variance(spend_zero_mean: pd.Series, spend_std_dev: float) -> pd.Series:\n",
    "  \"\"\"Function showing one way to make spend have zero mean and unit variance.\"\"\"\n",
    "  return spend_zero_mean / spend_std_dev"
   ]
  },
  {
   "cell_type": "code",
   "execution_count": 4,
   "metadata": {
    "ExecuteTime": {
     "end_time": "2024-02-09T06:52:16.219442Z",
     "start_time": "2024-02-09T06:52:15.378989Z"
    }
   },
   "outputs": [
    {
     "data": {
      "image/svg+xml": "<?xml version=\"1.0\" encoding=\"UTF-8\" standalone=\"no\"?>\n<!DOCTYPE svg PUBLIC \"-//W3C//DTD SVG 1.1//EN\"\n \"http://www.w3.org/Graphics/SVG/1.1/DTD/svg11.dtd\">\n<!-- Generated by graphviz version 9.0.0 (20230911.1827)\n -->\n<!-- Pages: 1 -->\n<svg width=\"853pt\" height=\"376pt\"\n viewBox=\"0.00 0.00 852.92 375.90\" xmlns=\"http://www.w3.org/2000/svg\" xmlns:xlink=\"http://www.w3.org/1999/xlink\">\n<g id=\"graph0\" class=\"graph\" transform=\"scale(1 1) rotate(0) translate(4 371.9)\">\n<polygon fill=\"white\" stroke=\"none\" points=\"-4,4 -4,-371.9 848.92,-371.9 848.92,4 -4,4\"/>\n<g id=\"clust1\" class=\"cluster\">\n<title>cluster__legend</title>\n<polygon fill=\"none\" stroke=\"black\" points=\"680.92,-284.3 680.92,-359.9 836.92,-359.9 836.92,-284.3 680.92,-284.3\"/>\n<text text-anchor=\"middle\" x=\"758.92\" y=\"-342.6\" font-family=\"Helvetica,sans-Serif\" font-size=\"14.00\">Legend</text>\n</g>\n<!-- spend_zero_mean_unit_variance -->\n<g id=\"node1\" class=\"node\">\n<title>spend_zero_mean_unit_variance</title>\n<path fill=\"#b4d8e4\" stroke=\"black\" d=\"M239.22,-63.6C239.22,-63.6 28.62,-63.6 28.62,-63.6 22.62,-63.6 16.62,-57.6 16.62,-51.6 16.62,-51.6 16.62,-12 16.62,-12 16.62,-6 22.62,0 28.62,0 28.62,0 239.22,0 239.22,0 245.22,0 251.22,-6 251.22,-12 251.22,-12 251.22,-51.6 251.22,-51.6 251.22,-57.6 245.22,-63.6 239.22,-63.6\"/>\n<text text-anchor=\"start\" x=\"27.42\" y=\"-40.5\" font-family=\"Helvetica,sans-Serif\" font-weight=\"bold\" font-size=\"14.00\">spend_zero_mean_unit_variance</text>\n<text text-anchor=\"start\" x=\"114.8\" y=\"-12.5\" font-family=\"Helvetica,sans-Serif\" font-style=\"italic\" font-size=\"14.00\">Series</text>\n</g>\n<!-- spend_std_dev -->\n<g id=\"node2\" class=\"node\">\n<title>spend_std_dev</title>\n<path fill=\"#b4d8e4\" stroke=\"black\" d=\"M107.85,-156.2C107.85,-156.2 12,-156.2 12,-156.2 6,-156.2 0,-150.2 0,-144.2 0,-144.2 0,-104.6 0,-104.6 0,-98.6 6,-92.6 12,-92.6 12,-92.6 107.85,-92.6 107.85,-92.6 113.85,-92.6 119.85,-98.6 119.85,-104.6 119.85,-104.6 119.85,-144.2 119.85,-144.2 119.85,-150.2 113.85,-156.2 107.85,-156.2\"/>\n<text text-anchor=\"start\" x=\"10.8\" y=\"-133.1\" font-family=\"Helvetica,sans-Serif\" font-weight=\"bold\" font-size=\"14.00\">spend_std_dev</text>\n<text text-anchor=\"start\" x=\"47.17\" y=\"-105.1\" font-family=\"Helvetica,sans-Serif\" font-style=\"italic\" font-size=\"14.00\">float</text>\n</g>\n<!-- spend_std_dev&#45;&gt;spend_zero_mean_unit_variance -->\n<g id=\"edge2\" class=\"edge\">\n<title>spend_std_dev&#45;&gt;spend_zero_mean_unit_variance</title>\n<path fill=\"none\" stroke=\"black\" d=\"M85.39,-92.22C90.51,-85.96 95.95,-79.29 101.27,-72.78\"/>\n<polygon fill=\"black\" stroke=\"black\" points=\"103.84,-75.17 107.45,-65.21 98.42,-70.74 103.84,-75.17\"/>\n</g>\n<!-- spend_zero_mean -->\n<g id=\"node3\" class=\"node\">\n<title>spend_zero_mean</title>\n<path fill=\"#b4d8e4\" stroke=\"black\" d=\"M265.97,-156.2C265.97,-156.2 149.87,-156.2 149.87,-156.2 143.87,-156.2 137.87,-150.2 137.87,-144.2 137.87,-144.2 137.87,-104.6 137.87,-104.6 137.87,-98.6 143.87,-92.6 149.87,-92.6 149.87,-92.6 265.97,-92.6 265.97,-92.6 271.97,-92.6 277.97,-98.6 277.97,-104.6 277.97,-104.6 277.97,-144.2 277.97,-144.2 277.97,-150.2 271.97,-156.2 265.97,-156.2\"/>\n<text text-anchor=\"start\" x=\"148.67\" y=\"-133.1\" font-family=\"Helvetica,sans-Serif\" font-weight=\"bold\" font-size=\"14.00\">spend_zero_mean</text>\n<text text-anchor=\"start\" x=\"188.8\" y=\"-105.1\" font-family=\"Helvetica,sans-Serif\" font-style=\"italic\" font-size=\"14.00\">Series</text>\n</g>\n<!-- spend_zero_mean&#45;&gt;spend_zero_mean_unit_variance -->\n<g id=\"edge1\" class=\"edge\">\n<title>spend_zero_mean&#45;&gt;spend_zero_mean_unit_variance</title>\n<path fill=\"none\" stroke=\"black\" d=\"M182.46,-92.22C177.34,-85.96 171.9,-79.29 166.58,-72.78\"/>\n<polygon fill=\"black\" stroke=\"black\" points=\"169.43,-70.74 160.4,-65.21 164.01,-75.17 169.43,-70.74\"/>\n</g>\n<!-- avg_3wk_spend -->\n<g id=\"node4\" class=\"node\">\n<title>avg_3wk_spend</title>\n<path fill=\"#b4d8e4\" stroke=\"black\" d=\"M509.85,-248.8C509.85,-248.8 408,-248.8 408,-248.8 402,-248.8 396,-242.8 396,-236.8 396,-236.8 396,-197.2 396,-197.2 396,-191.2 402,-185.2 408,-185.2 408,-185.2 509.85,-185.2 509.85,-185.2 515.85,-185.2 521.85,-191.2 521.85,-197.2 521.85,-197.2 521.85,-236.8 521.85,-236.8 521.85,-242.8 515.85,-248.8 509.85,-248.8\"/>\n<text text-anchor=\"start\" x=\"406.8\" y=\"-225.7\" font-family=\"Helvetica,sans-Serif\" font-weight=\"bold\" font-size=\"14.00\">avg_3wk_spend</text>\n<text text-anchor=\"start\" x=\"439.8\" y=\"-197.7\" font-family=\"Helvetica,sans-Serif\" font-style=\"italic\" font-size=\"14.00\">Series</text>\n</g>\n<!-- spend_mean -->\n<g id=\"node5\" class=\"node\">\n<title>spend_mean</title>\n<path fill=\"#b4d8e4\" stroke=\"black\" d=\"M237.35,-248.8C237.35,-248.8 156.5,-248.8 156.5,-248.8 150.5,-248.8 144.5,-242.8 144.5,-236.8 144.5,-236.8 144.5,-197.2 144.5,-197.2 144.5,-191.2 150.5,-185.2 156.5,-185.2 156.5,-185.2 237.35,-185.2 237.35,-185.2 243.35,-185.2 249.35,-191.2 249.35,-197.2 249.35,-197.2 249.35,-236.8 249.35,-236.8 249.35,-242.8 243.35,-248.8 237.35,-248.8\"/>\n<text text-anchor=\"start\" x=\"155.3\" y=\"-225.7\" font-family=\"Helvetica,sans-Serif\" font-weight=\"bold\" font-size=\"14.00\">spend_mean</text>\n<text text-anchor=\"start\" x=\"184.17\" y=\"-197.7\" font-family=\"Helvetica,sans-Serif\" font-style=\"italic\" font-size=\"14.00\">float</text>\n</g>\n<!-- spend_mean&#45;&gt;spend_zero_mean -->\n<g id=\"edge4\" class=\"edge\">\n<title>spend_mean&#45;&gt;spend_zero_mean</title>\n<path fill=\"none\" stroke=\"black\" d=\"M200.71,-184.82C201.37,-179.41 202.06,-173.7 202.75,-168.05\"/>\n<polygon fill=\"black\" stroke=\"black\" points=\"206.22,-168.49 203.95,-158.14 199.27,-167.64 206.22,-168.49\"/>\n</g>\n<!-- spend_per_signup -->\n<g id=\"node6\" class=\"node\">\n<title>spend_per_signup</title>\n<path fill=\"#b4d8e4\" stroke=\"black\" d=\"M669.72,-248.8C669.72,-248.8 552.12,-248.8 552.12,-248.8 546.12,-248.8 540.12,-242.8 540.12,-236.8 540.12,-236.8 540.12,-197.2 540.12,-197.2 540.12,-191.2 546.12,-185.2 552.12,-185.2 552.12,-185.2 669.72,-185.2 669.72,-185.2 675.72,-185.2 681.72,-191.2 681.72,-197.2 681.72,-197.2 681.72,-236.8 681.72,-236.8 681.72,-242.8 675.72,-248.8 669.72,-248.8\"/>\n<text text-anchor=\"start\" x=\"550.92\" y=\"-225.7\" font-family=\"Helvetica,sans-Serif\" font-weight=\"bold\" font-size=\"14.00\">spend_per_signup</text>\n<text text-anchor=\"start\" x=\"591.8\" y=\"-197.7\" font-family=\"Helvetica,sans-Serif\" font-style=\"italic\" font-size=\"14.00\">Series</text>\n</g>\n<!-- _spend_std_dev_inputs -->\n<g id=\"node7\" class=\"node\">\n<title>_spend_std_dev_inputs</title>\n<polygon fill=\"none\" stroke=\"black\" stroke-dasharray=\"5,2\" points=\"115.22,-239.3 4.62,-239.3 4.62,-194.7 115.22,-194.7 115.22,-239.3\"/>\n<text text-anchor=\"start\" x=\"19.42\" y=\"-211.2\" font-family=\"Helvetica,sans-Serif\" font-size=\"14.00\">spend</text>\n<text text-anchor=\"start\" x=\"62.17\" y=\"-211.2\" font-family=\"Helvetica,sans-Serif\" font-size=\"14.00\">Series</text>\n</g>\n<!-- _spend_std_dev_inputs&#45;&gt;spend_std_dev -->\n<g id=\"edge3\" class=\"edge\">\n<title>_spend_std_dev_inputs&#45;&gt;spend_std_dev</title>\n<path fill=\"none\" stroke=\"black\" d=\"M59.92,-194.53C59.92,-186.58 59.92,-177.27 59.92,-168.09\"/>\n<polygon fill=\"black\" stroke=\"black\" points=\"63.43,-168.18 59.93,-158.18 56.43,-168.18 63.43,-168.18\"/>\n</g>\n<!-- _spend_zero_mean_inputs -->\n<g id=\"node8\" class=\"node\">\n<title>_spend_zero_mean_inputs</title>\n<polygon fill=\"none\" stroke=\"black\" stroke-dasharray=\"5,2\" points=\"378.22,-239.3 267.62,-239.3 267.62,-194.7 378.22,-194.7 378.22,-239.3\"/>\n<text text-anchor=\"start\" x=\"282.42\" y=\"-211.2\" font-family=\"Helvetica,sans-Serif\" font-size=\"14.00\">spend</text>\n<text text-anchor=\"start\" x=\"325.17\" y=\"-211.2\" font-family=\"Helvetica,sans-Serif\" font-size=\"14.00\">Series</text>\n</g>\n<!-- _spend_zero_mean_inputs&#45;&gt;spend_zero_mean -->\n<g id=\"edge5\" class=\"edge\">\n<title>_spend_zero_mean_inputs&#45;&gt;spend_zero_mean</title>\n<path fill=\"none\" stroke=\"black\" d=\"M295.38,-194.3C283.61,-185.02 269.51,-173.92 256.1,-163.36\"/>\n<polygon fill=\"black\" stroke=\"black\" points=\"258.64,-160.9 248.61,-157.46 254.3,-166.39 258.64,-160.9\"/>\n</g>\n<!-- _avg_3wk_spend_inputs -->\n<g id=\"node9\" class=\"node\">\n<title>_avg_3wk_spend_inputs</title>\n<polygon fill=\"none\" stroke=\"black\" stroke-dasharray=\"5,2\" points=\"514.22,-332.9 403.62,-332.9 403.62,-288.3 514.22,-288.3 514.22,-332.9\"/>\n<text text-anchor=\"start\" x=\"418.42\" y=\"-304.8\" font-family=\"Helvetica,sans-Serif\" font-size=\"14.00\">spend</text>\n<text text-anchor=\"start\" x=\"461.17\" y=\"-304.8\" font-family=\"Helvetica,sans-Serif\" font-size=\"14.00\">Series</text>\n</g>\n<!-- _avg_3wk_spend_inputs&#45;&gt;avg_3wk_spend -->\n<g id=\"edge6\" class=\"edge\">\n<title>_avg_3wk_spend_inputs&#45;&gt;avg_3wk_spend</title>\n<path fill=\"none\" stroke=\"black\" d=\"M458.92,-287.89C458.92,-279.69 458.92,-270.05 458.92,-260.6\"/>\n<polygon fill=\"black\" stroke=\"black\" points=\"462.43,-260.77 458.93,-250.77 455.43,-260.77 462.43,-260.77\"/>\n</g>\n<!-- _spend_mean_inputs -->\n<g id=\"node10\" class=\"node\">\n<title>_spend_mean_inputs</title>\n<polygon fill=\"none\" stroke=\"black\" stroke-dasharray=\"5,2\" points=\"252.22,-332.9 141.62,-332.9 141.62,-288.3 252.22,-288.3 252.22,-332.9\"/>\n<text text-anchor=\"start\" x=\"156.42\" y=\"-304.8\" font-family=\"Helvetica,sans-Serif\" font-size=\"14.00\">spend</text>\n<text text-anchor=\"start\" x=\"199.17\" y=\"-304.8\" font-family=\"Helvetica,sans-Serif\" font-size=\"14.00\">Series</text>\n</g>\n<!-- _spend_mean_inputs&#45;&gt;spend_mean -->\n<g id=\"edge7\" class=\"edge\">\n<title>_spend_mean_inputs&#45;&gt;spend_mean</title>\n<path fill=\"none\" stroke=\"black\" d=\"M196.92,-287.89C196.92,-279.69 196.92,-270.05 196.92,-260.6\"/>\n<polygon fill=\"black\" stroke=\"black\" points=\"200.43,-260.77 196.93,-250.77 193.43,-260.77 200.43,-260.77\"/>\n</g>\n<!-- _spend_per_signup_inputs -->\n<g id=\"node11\" class=\"node\">\n<title>_spend_per_signup_inputs</title>\n<polygon fill=\"none\" stroke=\"black\" stroke-dasharray=\"5,2\" points=\"670.72,-343.4 551.12,-343.4 551.12,-277.8 670.72,-277.8 670.72,-343.4\"/>\n<text text-anchor=\"start\" x=\"565.67\" y=\"-315.3\" font-family=\"Helvetica,sans-Serif\" font-size=\"14.00\">signups</text>\n<text text-anchor=\"start\" x=\"617.8\" y=\"-315.3\" font-family=\"Helvetica,sans-Serif\" font-size=\"14.00\">Series</text>\n<text text-anchor=\"start\" x=\"570.55\" y=\"-294.3\" font-family=\"Helvetica,sans-Serif\" font-size=\"14.00\">spend</text>\n<text text-anchor=\"start\" x=\"617.8\" y=\"-294.3\" font-family=\"Helvetica,sans-Serif\" font-size=\"14.00\">Series</text>\n</g>\n<!-- _spend_per_signup_inputs&#45;&gt;spend_per_signup -->\n<g id=\"edge8\" class=\"edge\">\n<title>_spend_per_signup_inputs&#45;&gt;spend_per_signup</title>\n<path fill=\"none\" stroke=\"black\" d=\"M610.92,-277.31C610.92,-271.86 610.92,-266.14 610.92,-260.48\"/>\n<polygon fill=\"black\" stroke=\"black\" points=\"614.43,-260.59 610.93,-250.59 607.43,-260.59 614.43,-260.59\"/>\n</g>\n<!-- input -->\n<g id=\"node12\" class=\"node\">\n<title>input</title>\n<polygon fill=\"none\" stroke=\"black\" stroke-dasharray=\"5,2\" points=\"828.92,-328.9 774.92,-328.9 774.92,-292.3 828.92,-292.3 828.92,-328.9\"/>\n<text text-anchor=\"middle\" x=\"801.92\" y=\"-304.8\" font-family=\"Helvetica,sans-Serif\" font-size=\"14.00\">input</text>\n</g>\n<!-- function -->\n<g id=\"node13\" class=\"node\">\n<title>function</title>\n<path fill=\"#b4d8e4\" stroke=\"black\" d=\"M745.35,-328.9C745.35,-328.9 700.5,-328.9 700.5,-328.9 694.5,-328.9 688.5,-322.9 688.5,-316.9 688.5,-316.9 688.5,-304.3 688.5,-304.3 688.5,-298.3 694.5,-292.3 700.5,-292.3 700.5,-292.3 745.35,-292.3 745.35,-292.3 751.35,-292.3 757.35,-298.3 757.35,-304.3 757.35,-304.3 757.35,-316.9 757.35,-316.9 757.35,-322.9 751.35,-328.9 745.35,-328.9\"/>\n<text text-anchor=\"middle\" x=\"722.92\" y=\"-304.8\" font-family=\"Helvetica,sans-Serif\" font-size=\"14.00\">function</text>\n</g>\n</g>\n</svg>\n",
      "text/plain": "<graphviz.graphs.Digraph at 0x1450e1e10>"
     },
     "execution_count": 4,
     "metadata": {},
     "output_type": "execute_result"
    }
   ],
   "source": [
    "from hamilton import driver\n",
    "%aimport hw_funcs\n",
    "config = {}\n",
    "dr = (\n",
    "        driver.Builder()\n",
    "        .with_modules(hw_funcs)\n",
    "        .with_config(config)\n",
    "        .with_adapter(base.SimplePythonDataFrameGraphAdapter())  # make output return a dataframe, else it's a dict.\n",
    "        .build()\n",
    "    )\n",
    "dr.display_all_functions(orient=\"TB\")  # shows \"provenance\", a form of lineage"
   ]
  },
  {
   "cell_type": "code",
   "execution_count": 5,
   "metadata": {
    "ExecuteTime": {
     "end_time": "2024-02-09T06:52:17.602965Z",
     "start_time": "2024-02-09T06:52:17.556104Z"
    }
   },
   "outputs": [
    {
     "data": {
      "text/plain": "   spend  signups  avg_3wk_spend  spend_zero_mean_unit_variance\n0      1       10            NaN                      -0.825849\n1     10       10            NaN                      -0.766781\n2     50       20      20.333333                      -0.504260\n3    100       40      53.333333                      -0.176108\n4    200       40     116.666667                       0.480195\n5    400       50     233.333333                       1.792802",
      "text/html": "<div>\n<style scoped>\n    .dataframe tbody tr th:only-of-type {\n        vertical-align: middle;\n    }\n\n    .dataframe tbody tr th {\n        vertical-align: top;\n    }\n\n    .dataframe thead th {\n        text-align: right;\n    }\n</style>\n<table border=\"1\" class=\"dataframe\">\n  <thead>\n    <tr style=\"text-align: right;\">\n      <th></th>\n      <th>spend</th>\n      <th>signups</th>\n      <th>avg_3wk_spend</th>\n      <th>spend_zero_mean_unit_variance</th>\n    </tr>\n  </thead>\n  <tbody>\n    <tr>\n      <th>0</th>\n      <td>1</td>\n      <td>10</td>\n      <td>NaN</td>\n      <td>-0.825849</td>\n    </tr>\n    <tr>\n      <th>1</th>\n      <td>10</td>\n      <td>10</td>\n      <td>NaN</td>\n      <td>-0.766781</td>\n    </tr>\n    <tr>\n      <th>2</th>\n      <td>50</td>\n      <td>20</td>\n      <td>20.333333</td>\n      <td>-0.504260</td>\n    </tr>\n    <tr>\n      <th>3</th>\n      <td>100</td>\n      <td>40</td>\n      <td>53.333333</td>\n      <td>-0.176108</td>\n    </tr>\n    <tr>\n      <th>4</th>\n      <td>200</td>\n      <td>40</td>\n      <td>116.666667</td>\n      <td>0.480195</td>\n    </tr>\n    <tr>\n      <th>5</th>\n      <td>400</td>\n      <td>50</td>\n      <td>233.333333</td>\n      <td>1.792802</td>\n    </tr>\n  </tbody>\n</table>\n</div>"
     },
     "execution_count": 5,
     "metadata": {},
     "output_type": "execute_result"
    }
   ],
   "source": [
    "outputs=[\"spend\", \"signups\", \"avg_3wk_spend\", \"spend_zero_mean_unit_variance\"]\n",
    "\n",
    "# Here are few things to try and see what happens -- uncomment one and see what happens.\n",
    "#df = dr.execute(outputs) # -- this will error, saying \"spend\" not provided.\n",
    "#df = dr.execute([\"foo\"]) # -- this will error saying \"foo\" doesn't exist.\n",
    "df = dr.execute(outputs, inputs=load_data()) #  -- normal execution.\n",
    "#df = dr.execute(outputs, inputs=load_data(), overrides={\"spend_zero_mean\": 10.2})  # can overide/inject data.\n",
    "#df = dr.materialize(additional_vars=outputs, inputs=load_data()) # return tuple, of meta + dict of outputs.\n",
    "df"
   ]
  },
  {
   "cell_type": "markdown",
   "metadata": {},
   "source": [
    "# Iteration pattern\n",
    "There are several ways to iterate on Hamilton code. We're looking to make this even simpler, but here's a few ways in a notebook:\n",
    "1. Write a function in the module. Use auto-reloading, and build out the DAG as you go.\n",
    "2. Write the function, develop the logic, and then place into the module.\n",
    "3. Open up a python module, and develop there alongside the notebook.\n",
    "4. there's probably others..\n",
    "\n",
    "Note: you can cache results and override DAG execution for quick iteration."
   ]
  },
  {
   "cell_type": "code",
   "execution_count": 6,
   "metadata": {
    "ExecuteTime": {
     "end_time": "2024-02-09T06:52:24.501780Z",
     "start_time": "2024-02-09T06:52:24.462646Z"
    }
   },
   "outputs": [
    {
     "name": "stdout",
     "output_type": "stream",
     "text": [
      "0         NaN\n",
      "1         NaN\n",
      "2    1.016667\n",
      "3    1.333333\n",
      "4    2.916667\n",
      "5    4.666667\n",
      "dtype: float64\n"
     ]
    }
   ],
   "source": [
    "# Example of (2) -- write function\n",
    "def my_new_func(avg_3wk_spend: pd.Series, signups: pd.Series) -> pd.Series:\n",
    "    return avg_3wk_spend / signups\n",
    "\n",
    "# test\n",
    "print(my_new_func(df[\"avg_3wk_spend\"], df[\"signups\"]))\n",
    "\n",
    "# move to module..."
   ]
  },
  {
   "cell_type": "markdown",
   "metadata": {},
   "source": [
    "# Testing Hamilton Code\n",
    "Hamilton code is always unit testable.\n",
    "Integration testing is also easy, since Hamilton only walks the graph for the dependent functions required."
   ]
  },
  {
   "cell_type": "code",
   "execution_count": 7,
   "metadata": {
    "ExecuteTime": {
     "end_time": "2024-02-09T06:52:26.768861Z",
     "start_time": "2024-02-09T06:52:26.746176Z"
    }
   },
   "outputs": [],
   "source": [
    "from hw_funcs import avg_3wk_spend\n",
    "def test_avg_3wk_spend():\n",
    "    \"\"\"I'm writing them as one large block here. But ideally you'd use pytest.mark.parameterized,\n",
    "    and have some pretty clean unit test code.\n",
    "\n",
    "    Also ChatGPT does a good job of coming up with tests to simple functions...\n",
    "    \"\"\"\n",
    "    spend_data = pd.Series([10, 20, 30, 40, 50])\n",
    "    expected_output = pd.Series([None, None, 20.0, 30.0, 40.0])\n",
    "    pd.testing.assert_series_equal(avg_3wk_spend(spend_data), expected_output, check_names=False)\n",
    "\n",
    "    # Test with all identical values\n",
    "    spend_data = pd.Series([5, 5, 5, 5, 5])\n",
    "    expected_output = pd.Series([None, None, 5.0, 5.0, 5.0])\n",
    "    pd.testing.assert_series_equal(avg_3wk_spend(spend_data), expected_output, check_names=False)\n",
    "\n",
    "    # Test with a series containing NaN values\n",
    "    spend_data = pd.Series([10, None, 30, 40, 50])\n",
    "    expected_output = pd.Series([None, None, None, None, 40.0])  \n",
    "    pd.testing.assert_series_equal(avg_3wk_spend(spend_data), expected_output, check_names=False)\n",
    "\n",
    "    # Test with an empty series\n",
    "    spend_data = pd.Series([], dtype=float)\n",
    "    expected_output = pd.Series([], dtype=float)\n",
    "    pd.testing.assert_series_equal(avg_3wk_spend(spend_data), expected_output, check_names=False)\n",
    "\n",
    "    # Test with a series shorter than 3\n",
    "    spend_data = pd.Series([10, 20])\n",
    "    expected_output = pd.Series([None, None], dtype=float)\n",
    "    pd.testing.assert_series_equal(avg_3wk_spend(spend_data), expected_output, check_names=False)\n",
    "\n",
    "test_avg_3wk_spend()"
   ]
  },
  {
   "cell_type": "markdown",
   "metadata": {},
   "source": [
    "--------------"
   ]
  },
  {
   "cell_type": "markdown",
   "metadata": {
    "collapsed": false
   },
   "source": [
    "# Write the code to load data\n",
    "The following code defines creating a dataframe and validating its schema.\n",
    "\n",
    "There is no \"data joining\" here really, but you could go to a SQL database, or many files, etc., and perform the joins you want on data and then pull that into memory for Hamilton to then operate over.\n",
    "\n",
    "Note: you need to manage indexes/row alignment when processing. With Pandas this manifests itself as setting the right indexes when you load data.\n",
    "\n",
    "Note: it uses @config.when to switch how data is loaded."
   ]
  },
  {
   "cell_type": "code",
   "execution_count": 8,
   "metadata": {
    "collapsed": false,
    "ExecuteTime": {
     "end_time": "2024-02-09T06:52:31.078369Z",
     "start_time": "2024-02-09T06:52:31.049188Z"
    }
   },
   "outputs": [
    {
     "name": "stdout",
     "output_type": "stream",
     "text": [
      "Overwriting data_loader.py\n"
     ]
    }
   ],
   "source": [
    "%%writefile data_loader.py\n",
    "\"\"\"\n",
    "This module contains our data loading functions.\n",
    "\"\"\"\n",
    "from typing import List\n",
    "\n",
    "import pandas as pd\n",
    "import pandera as pa\n",
    "from sklearn import datasets\n",
    "\n",
    "from hamilton.function_modifiers import check_output, config, extract_columns, load_from, source\n",
    "\n",
    "\n",
    "def _sanitize_columns(df_columns: List[str]) -> List[str]:\n",
    "    \"\"\"Renames columns to be valid hamilton names -- and lower cases them.\n",
    "    :param df_columns: the current column names.\n",
    "    :return: sanitize column names that work with Hamilton\n",
    "    \"\"\"\n",
    "    return [\n",
    "        c.strip().replace(\".\", \"_\").replace(\"/\", \"_per_\").replace(\" \", \"_\").lower()\n",
    "        for c in df_columns\n",
    "    ]\n",
    "\n",
    "\n",
    "# schema to validate against\n",
    "passengers_df_schema = pa.DataFrameSchema(\n",
    "    {\n",
    "        \"pclass\": pa.Column(int, nullable=False),\n",
    "        # \"pclass\": pa.Column(float, nullable=False),  # swap this for the above to fail/warn\n",
    "        \"sex\": pa.Column(str, nullable=False),\n",
    "        \"age\": pa.Column(float, nullable=True),\n",
    "        \"parch\": pa.Column(int, nullable=False),\n",
    "        \"sibsp\": pa.Column(int, nullable=False),\n",
    "        \"fare\": pa.Column(float, nullable=True),\n",
    "        \"embarked\": pa.Column(str, nullable=True),\n",
    "        \"name\": pa.Column(str, nullable=False),\n",
    "        \"ticket\": pa.Column(str, nullable=False),\n",
    "        \"boat\": pa.Column(str, nullable=True),\n",
    "        \"body\": pa.Column(float, nullable=True),\n",
    "        \"home_dest\": pa.Column(str, nullable=True),\n",
    "        \"cabin\": pa.Column(str, nullable=True),\n",
    "        \"survived\": pa.Column(pa.dtypes.Category, nullable=False),\n",
    "    },\n",
    "    strict=True,\n",
    ")\n",
    "\n",
    "\n",
    "@config.when(loader=\"openml\")\n",
    "def raw_passengers_df__openml() -> pd.DataFrame:\n",
    "    \"\"\"Pulls data from the web. Only becomes a node in the DAG if `openml` is specified.\n",
    "\n",
    "    :return: dataframe of data.\n",
    "    \"\"\"\n",
    "    base, targets = datasets.fetch_openml(\"titanic\", parser='auto', version=1, as_frame=True, return_X_y=True)\n",
    "    df = pd.concat([base, targets], axis=1)\n",
    "    return df\n",
    "\n",
    "\n",
    "@config.when(loader=\"parquet\")\n",
    "@load_from.parquet(path=source(\"titanic_dataset_path\"))\n",
    "def raw_passengers_df__parquet(raw_passengers: pd.DataFrame) -> pd.DataFrame:\n",
    "    \"\"\"Pulls data from the web. Only becomes a node in the DAG if `openml` is specified.\n",
    "\n",
    "    :return: dataframe of data.\n",
    "    \"\"\"\n",
    "    return raw_passengers\n",
    "\n",
    "\n",
    "@extract_columns(\"pclass\", \"sex\", \"age\", \"parch\", \"sibsp\", \"fare\", \"embarked\", \"name\", \"survived\")\n",
    "@check_output(schema=passengers_df_schema, target_=\"passengers_df\", importance=\"fail\")\n",
    "def passengers_df(raw_passengers_df: pd.DataFrame) -> pd.DataFrame:\n",
    "    \"\"\"Function to take in a raw dataframe, check the output, and then extract columns.\n",
    "\n",
    "    :param raw_passengers_df: the raw dataset we want to bring in.\n",
    "    :return:\n",
    "    \"\"\"\n",
    "    raw_passengers_df = raw_passengers_df.dropna(subset=[\"embarked\"])\n",
    "    raw_passengers_df.columns = _sanitize_columns(raw_passengers_df.columns)\n",
    "    return raw_passengers_df\n",
    "\n",
    "\n",
    "def target(survived: pd.Series) -> pd.Series:\n",
    "    \"\"\"Just hard coding this mapping that we want survived to be our target.\n",
    "\n",
    "    :param survived:\n",
    "    :return:\n",
    "    \"\"\"\n",
    "    target_col = survived.copy()\n",
    "    target_col.name = \"target\"\n",
    "    return target_col\n"
   ]
  },
  {
   "cell_type": "code",
   "execution_count": 9,
   "metadata": {
    "collapsed": false,
    "ExecuteTime": {
     "end_time": "2024-02-09T06:52:32.224201Z",
     "start_time": "2024-02-09T06:52:32.129517Z"
    }
   },
   "outputs": [],
   "source": [
    "# load the data_loader and setup autoreloading\n",
    "%aimport data_loader"
   ]
  },
  {
   "cell_type": "markdown",
   "metadata": {
    "collapsed": false
   },
   "source": [
    "# Load from openml\n",
    "Here we have a driver that loads data from openml."
   ]
  },
  {
   "cell_type": "code",
   "execution_count": 10,
   "metadata": {
    "collapsed": false,
    "ExecuteTime": {
     "end_time": "2024-02-09T06:52:42.447895Z",
     "start_time": "2024-02-09T06:52:42.167177Z"
    }
   },
   "outputs": [
    {
     "data": {
      "image/svg+xml": "<?xml version=\"1.0\" encoding=\"UTF-8\" standalone=\"no\"?>\n<!DOCTYPE svg PUBLIC \"-//W3C//DTD SVG 1.1//EN\"\n \"http://www.w3.org/Graphics/SVG/1.1/DTD/svg11.dtd\">\n<!-- Generated by graphviz version 9.0.0 (20230911.1827)\n -->\n<!-- Pages: 1 -->\n<svg width=\"738pt\" height=\"560pt\"\n viewBox=\"0.00 0.00 737.85 560.10\" xmlns=\"http://www.w3.org/2000/svg\" xmlns:xlink=\"http://www.w3.org/1999/xlink\">\n<g id=\"graph0\" class=\"graph\" transform=\"scale(1 1) rotate(0) translate(4 556.1)\">\n<polygon fill=\"white\" stroke=\"none\" points=\"-4,4 -4,-556.1 733.85,-556.1 733.85,4 -4,4\"/>\n<g id=\"clust1\" class=\"cluster\">\n<title>cluster__legend</title>\n<polygon fill=\"none\" stroke=\"black\" points=\"512.92,-468.5 512.92,-544.1 668.92,-544.1 668.92,-468.5 512.92,-468.5\"/>\n<text text-anchor=\"middle\" x=\"590.92\" y=\"-526.8\" font-family=\"Helvetica,sans-Serif\" font-size=\"14.00\">Legend</text>\n</g>\n<!-- age -->\n<g id=\"node1\" class=\"node\">\n<title>age</title>\n<path fill=\"#b4d8e4\" stroke=\"black\" d=\"M47.85,-156.2C47.85,-156.2 12,-156.2 12,-156.2 6,-156.2 0,-150.2 0,-144.2 0,-144.2 0,-104.6 0,-104.6 0,-98.6 6,-92.6 12,-92.6 12,-92.6 47.85,-92.6 47.85,-92.6 53.85,-92.6 59.85,-98.6 59.85,-104.6 59.85,-104.6 59.85,-144.2 59.85,-144.2 59.85,-150.2 53.85,-156.2 47.85,-156.2\"/>\n<text text-anchor=\"start\" x=\"18.3\" y=\"-133.1\" font-family=\"Helvetica,sans-Serif\" font-weight=\"bold\" font-size=\"14.00\">age</text>\n<text text-anchor=\"start\" x=\"10.8\" y=\"-105.1\" font-family=\"Helvetica,sans-Serif\" font-style=\"italic\" font-size=\"14.00\">Series</text>\n</g>\n<!-- passengers_df -->\n<g id=\"node2\" class=\"node\">\n<title>passengers_df</title>\n<path fill=\"#b4d8e4\" stroke=\"black\" d=\"M400.35,-248.8C400.35,-248.8 307.5,-248.8 307.5,-248.8 301.5,-248.8 295.5,-242.8 295.5,-236.8 295.5,-236.8 295.5,-197.2 295.5,-197.2 295.5,-191.2 301.5,-185.2 307.5,-185.2 307.5,-185.2 400.35,-185.2 400.35,-185.2 406.35,-185.2 412.35,-191.2 412.35,-197.2 412.35,-197.2 412.35,-236.8 412.35,-236.8 412.35,-242.8 406.35,-248.8 400.35,-248.8\"/>\n<text text-anchor=\"start\" x=\"306.3\" y=\"-225.7\" font-family=\"Helvetica,sans-Serif\" font-weight=\"bold\" font-size=\"14.00\">passengers_df</text>\n<text text-anchor=\"start\" x=\"319.8\" y=\"-197.7\" font-family=\"Helvetica,sans-Serif\" font-style=\"italic\" font-size=\"14.00\">DataFrame</text>\n</g>\n<!-- passengers_df&#45;&gt;age -->\n<g id=\"edge1\" class=\"edge\">\n<title>passengers_df&#45;&gt;age</title>\n<path fill=\"none\" stroke=\"black\" d=\"M295.22,-211.6C238.22,-205.62 150.02,-191.79 70.32,-156.05\"/>\n<polygon fill=\"black\" stroke=\"black\" points=\"72.06,-153 61.52,-151.98 69.12,-159.35 72.06,-153\"/>\n</g>\n<!-- parch -->\n<g id=\"node4\" class=\"node\">\n<title>parch</title>\n<path fill=\"#b4d8e4\" stroke=\"black\" d=\"M125.85,-156.2C125.85,-156.2 90,-156.2 90,-156.2 84,-156.2 78,-150.2 78,-144.2 78,-144.2 78,-104.6 78,-104.6 78,-98.6 84,-92.6 90,-92.6 90,-92.6 125.85,-92.6 125.85,-92.6 131.85,-92.6 137.85,-98.6 137.85,-104.6 137.85,-104.6 137.85,-144.2 137.85,-144.2 137.85,-150.2 131.85,-156.2 125.85,-156.2\"/>\n<text text-anchor=\"start\" x=\"89.55\" y=\"-133.1\" font-family=\"Helvetica,sans-Serif\" font-weight=\"bold\" font-size=\"14.00\">parch</text>\n<text text-anchor=\"start\" x=\"88.8\" y=\"-105.1\" font-family=\"Helvetica,sans-Serif\" font-style=\"italic\" font-size=\"14.00\">Series</text>\n</g>\n<!-- passengers_df&#45;&gt;parch -->\n<g id=\"edge5\" class=\"edge\">\n<title>passengers_df&#45;&gt;parch</title>\n<path fill=\"none\" stroke=\"black\" d=\"M295.44,-205.43C255.28,-196.79 201.2,-182.37 148.44,-156.29\"/>\n<polygon fill=\"black\" stroke=\"black\" points=\"150.11,-153.21 139.61,-151.79 146.93,-159.45 150.11,-153.21\"/>\n</g>\n<!-- pclass -->\n<g id=\"node5\" class=\"node\">\n<title>pclass</title>\n<path fill=\"#b4d8e4\" stroke=\"black\" d=\"M207.72,-156.2C207.72,-156.2 168.13,-156.2 168.13,-156.2 162.13,-156.2 156.13,-150.2 156.13,-144.2 156.13,-144.2 156.13,-104.6 156.13,-104.6 156.13,-98.6 162.13,-92.6 168.13,-92.6 168.13,-92.6 207.72,-92.6 207.72,-92.6 213.72,-92.6 219.72,-98.6 219.72,-104.6 219.72,-104.6 219.72,-144.2 219.72,-144.2 219.72,-150.2 213.72,-156.2 207.72,-156.2\"/>\n<text text-anchor=\"start\" x=\"166.93\" y=\"-133.1\" font-family=\"Helvetica,sans-Serif\" font-weight=\"bold\" font-size=\"14.00\">pclass</text>\n<text text-anchor=\"start\" x=\"168.8\" y=\"-105.1\" font-family=\"Helvetica,sans-Serif\" font-style=\"italic\" font-size=\"14.00\">Series</text>\n</g>\n<!-- passengers_df&#45;&gt;pclass -->\n<g id=\"edge6\" class=\"edge\">\n<title>passengers_df&#45;&gt;pclass</title>\n<path fill=\"none\" stroke=\"black\" d=\"M295.11,-190.78C276.11,-181.97 255.01,-171.47 229.71,-156.34\"/>\n<polygon fill=\"black\" stroke=\"black\" points=\"231.85,-153.54 221.48,-151.34 228.21,-159.52 231.85,-153.54\"/>\n</g>\n<!-- sex -->\n<g id=\"node6\" class=\"node\">\n<title>sex</title>\n<path fill=\"#b4d8e4\" stroke=\"black\" d=\"M285.85,-156.2C285.85,-156.2 250,-156.2 250,-156.2 244,-156.2 238,-150.2 238,-144.2 238,-144.2 238,-104.6 238,-104.6 238,-98.6 244,-92.6 250,-92.6 250,-92.6 285.85,-92.6 285.85,-92.6 291.85,-92.6 297.85,-98.6 297.85,-104.6 297.85,-104.6 297.85,-144.2 297.85,-144.2 297.85,-150.2 291.85,-156.2 285.85,-156.2\"/>\n<text text-anchor=\"start\" x=\"256.68\" y=\"-133.1\" font-family=\"Helvetica,sans-Serif\" font-weight=\"bold\" font-size=\"14.00\">sex</text>\n<text text-anchor=\"start\" x=\"248.8\" y=\"-105.1\" font-family=\"Helvetica,sans-Serif\" font-style=\"italic\" font-size=\"14.00\">Series</text>\n</g>\n<!-- passengers_df&#45;&gt;sex -->\n<g id=\"edge7\" class=\"edge\">\n<title>passengers_df&#45;&gt;sex</title>\n<path fill=\"none\" stroke=\"black\" d=\"M324.33,-184.82C318.25,-178.41 311.77,-171.59 305.45,-164.93\"/>\n<polygon fill=\"black\" stroke=\"black\" points=\"308.04,-162.58 298.62,-157.73 302.96,-167.4 308.04,-162.58\"/>\n</g>\n<!-- survived -->\n<g id=\"node8\" class=\"node\">\n<title>survived</title>\n<path fill=\"#b4d8e4\" stroke=\"black\" d=\"M380.48,-156.2C380.48,-156.2 327.38,-156.2 327.38,-156.2 321.38,-156.2 315.38,-150.2 315.38,-144.2 315.38,-144.2 315.38,-104.6 315.38,-104.6 315.38,-98.6 321.38,-92.6 327.38,-92.6 327.38,-92.6 380.48,-92.6 380.48,-92.6 386.48,-92.6 392.48,-98.6 392.48,-104.6 392.48,-104.6 392.48,-144.2 392.48,-144.2 392.48,-150.2 386.48,-156.2 380.48,-156.2\"/>\n<text text-anchor=\"start\" x=\"326.18\" y=\"-133.1\" font-family=\"Helvetica,sans-Serif\" font-weight=\"bold\" font-size=\"14.00\">survived</text>\n<text text-anchor=\"start\" x=\"334.8\" y=\"-105.1\" font-family=\"Helvetica,sans-Serif\" font-style=\"italic\" font-size=\"14.00\">Series</text>\n</g>\n<!-- passengers_df&#45;&gt;survived -->\n<g id=\"edge8\" class=\"edge\">\n<title>passengers_df&#45;&gt;survived</title>\n<path fill=\"none\" stroke=\"black\" d=\"M353.93,-184.82C353.93,-179.41 353.93,-173.7 353.93,-168.05\"/>\n<polygon fill=\"black\" stroke=\"black\" points=\"357.43,-168.15 353.93,-158.15 350.43,-168.15 357.43,-168.15\"/>\n</g>\n<!-- fare -->\n<g id=\"node9\" class=\"node\">\n<title>fare</title>\n<path fill=\"#b4d8e4\" stroke=\"black\" d=\"M457.85,-156.2C457.85,-156.2 422,-156.2 422,-156.2 416,-156.2 410,-150.2 410,-144.2 410,-144.2 410,-104.6 410,-104.6 410,-98.6 416,-92.6 422,-92.6 422,-92.6 457.85,-92.6 457.85,-92.6 463.85,-92.6 469.85,-98.6 469.85,-104.6 469.85,-104.6 469.85,-144.2 469.85,-144.2 469.85,-150.2 463.85,-156.2 457.85,-156.2\"/>\n<text text-anchor=\"start\" x=\"427.55\" y=\"-133.1\" font-family=\"Helvetica,sans-Serif\" font-weight=\"bold\" font-size=\"14.00\">fare</text>\n<text text-anchor=\"start\" x=\"420.8\" y=\"-105.1\" font-family=\"Helvetica,sans-Serif\" font-style=\"italic\" font-size=\"14.00\">Series</text>\n</g>\n<!-- passengers_df&#45;&gt;fare -->\n<g id=\"edge9\" class=\"edge\">\n<title>passengers_df&#45;&gt;fare</title>\n<path fill=\"none\" stroke=\"black\" d=\"M383.52,-184.82C389.6,-178.41 396.08,-171.59 402.4,-164.93\"/>\n<polygon fill=\"black\" stroke=\"black\" points=\"404.89,-167.4 409.23,-157.73 399.81,-162.58 404.89,-167.4\"/>\n</g>\n<!-- name -->\n<g id=\"node10\" class=\"node\">\n<title>name</title>\n<path fill=\"#b4d8e4\" stroke=\"black\" d=\"M535.85,-156.2C535.85,-156.2 500,-156.2 500,-156.2 494,-156.2 488,-150.2 488,-144.2 488,-144.2 488,-104.6 488,-104.6 488,-98.6 494,-92.6 500,-92.6 500,-92.6 535.85,-92.6 535.85,-92.6 541.85,-92.6 547.85,-98.6 547.85,-104.6 547.85,-104.6 547.85,-144.2 547.85,-144.2 547.85,-150.2 541.85,-156.2 535.85,-156.2\"/>\n<text text-anchor=\"start\" x=\"499.92\" y=\"-133.1\" font-family=\"Helvetica,sans-Serif\" font-weight=\"bold\" font-size=\"14.00\">name</text>\n<text text-anchor=\"start\" x=\"498.8\" y=\"-105.1\" font-family=\"Helvetica,sans-Serif\" font-style=\"italic\" font-size=\"14.00\">Series</text>\n</g>\n<!-- passengers_df&#45;&gt;name -->\n<g id=\"edge10\" class=\"edge\">\n<title>passengers_df&#45;&gt;name</title>\n<path fill=\"none\" stroke=\"black\" d=\"M412.6,-191.21C431.68,-182.39 452.87,-171.81 478.21,-156.24\"/>\n<polygon fill=\"black\" stroke=\"black\" points=\"479.84,-159.36 486.46,-151.08 476.12,-153.42 479.84,-159.36\"/>\n</g>\n<!-- embarked -->\n<g id=\"node11\" class=\"node\">\n<title>embarked</title>\n<path fill=\"#b4d8e4\" stroke=\"black\" d=\"M639.97,-156.2C639.97,-156.2 577.88,-156.2 577.88,-156.2 571.88,-156.2 565.88,-150.2 565.88,-144.2 565.88,-144.2 565.88,-104.6 565.88,-104.6 565.88,-98.6 571.88,-92.6 577.88,-92.6 577.88,-92.6 639.97,-92.6 639.97,-92.6 645.97,-92.6 651.97,-98.6 651.97,-104.6 651.97,-104.6 651.97,-144.2 651.97,-144.2 651.97,-150.2 645.97,-156.2 639.97,-156.2\"/>\n<text text-anchor=\"start\" x=\"576.67\" y=\"-133.1\" font-family=\"Helvetica,sans-Serif\" font-weight=\"bold\" font-size=\"14.00\">embarked</text>\n<text text-anchor=\"start\" x=\"589.8\" y=\"-105.1\" font-family=\"Helvetica,sans-Serif\" font-style=\"italic\" font-size=\"14.00\">Series</text>\n</g>\n<!-- passengers_df&#45;&gt;embarked -->\n<g id=\"edge11\" class=\"edge\">\n<title>passengers_df&#45;&gt;embarked</title>\n<path fill=\"none\" stroke=\"black\" d=\"M412.59,-202.83C451.3,-193.22 502.98,-178.63 555.2,-156.6\"/>\n<polygon fill=\"black\" stroke=\"black\" points=\"556.46,-159.87 564.26,-152.69 553.69,-153.44 556.46,-159.87\"/>\n</g>\n<!-- sibsp -->\n<g id=\"node12\" class=\"node\">\n<title>sibsp</title>\n<path fill=\"#b4d8e4\" stroke=\"black\" d=\"M717.85,-156.2C717.85,-156.2 682,-156.2 682,-156.2 676,-156.2 670,-150.2 670,-144.2 670,-144.2 670,-104.6 670,-104.6 670,-98.6 676,-92.6 682,-92.6 682,-92.6 717.85,-92.6 717.85,-92.6 723.85,-92.6 729.85,-98.6 729.85,-104.6 729.85,-104.6 729.85,-144.2 729.85,-144.2 729.85,-150.2 723.85,-156.2 717.85,-156.2\"/>\n<text text-anchor=\"start\" x=\"682.3\" y=\"-133.1\" font-family=\"Helvetica,sans-Serif\" font-weight=\"bold\" font-size=\"14.00\">sibsp</text>\n<text text-anchor=\"start\" x=\"680.8\" y=\"-105.1\" font-family=\"Helvetica,sans-Serif\" font-style=\"italic\" font-size=\"14.00\">Series</text>\n</g>\n<!-- passengers_df&#45;&gt;sibsp -->\n<g id=\"edge12\" class=\"edge\">\n<title>passengers_df&#45;&gt;sibsp</title>\n<path fill=\"none\" stroke=\"black\" d=\"M412.73,-212.8C474.02,-207.69 572.05,-194.47 659.41,-156.07\"/>\n<polygon fill=\"black\" stroke=\"black\" points=\"660.69,-159.33 668.35,-152.01 657.8,-152.96 660.69,-159.33\"/>\n</g>\n<!-- passengers_df_pandera_schema_validator -->\n<g id=\"node3\" class=\"node\">\n<title>passengers_df_pandera_schema_validator</title>\n<path fill=\"#b4d8e4\" stroke=\"black\" d=\"M580.48,-341.4C580.48,-341.4 305.38,-341.4 305.38,-341.4 299.38,-341.4 293.38,-335.4 293.38,-329.4 293.38,-329.4 293.38,-289.8 293.38,-289.8 293.38,-283.8 299.38,-277.8 305.38,-277.8 305.38,-277.8 580.48,-277.8 580.48,-277.8 586.48,-277.8 592.48,-283.8 592.48,-289.8 592.48,-289.8 592.48,-329.4 592.48,-329.4 592.48,-335.4 586.48,-341.4 580.48,-341.4\"/>\n<text text-anchor=\"start\" x=\"304.18\" y=\"-318.3\" font-family=\"Helvetica,sans-Serif\" font-weight=\"bold\" font-size=\"14.00\">passengers_df_pandera_schema_validator</text>\n<text text-anchor=\"start\" x=\"394.18\" y=\"-290.3\" font-family=\"Helvetica,sans-Serif\" font-style=\"italic\" font-size=\"14.00\">ValidationResult</text>\n</g>\n<!-- passengers_df_pandera_schema_validator&#45;&gt;passengers_df -->\n<g id=\"edge3\" class=\"edge\">\n<title>passengers_df_pandera_schema_validator&#45;&gt;passengers_df</title>\n<path fill=\"none\" stroke=\"black\" d=\"M412.3,-277.42C405.86,-270.87 399,-263.89 392.32,-257.09\"/>\n<polygon fill=\"black\" stroke=\"black\" points=\"395.18,-255 385.67,-250.32 390.18,-259.9 395.18,-255\"/>\n</g>\n<!-- loader -->\n<g id=\"node7\" class=\"node\">\n<title>loader</title>\n<polygon fill=\"none\" stroke=\"black\" points=\"496.18,-519.8 445.68,-519.8 445.68,-469.8 502.18,-469.8 502.18,-513.8 496.18,-519.8\"/>\n<polyline fill=\"none\" stroke=\"black\" points=\"496.18,-519.8 496.18,-513.8\"/>\n<polyline fill=\"none\" stroke=\"black\" points=\"502.18,-513.8 496.18,-513.8\"/>\n<text text-anchor=\"start\" x=\"453.68\" y=\"-503.5\" font-family=\"Helvetica,sans-Serif\" font-weight=\"bold\" font-size=\"14.00\">loader</text>\n<text text-anchor=\"start\" x=\"462.3\" y=\"-475.5\" font-family=\"Helvetica,sans-Serif\" font-style=\"italic\" font-size=\"14.00\">Any</text>\n</g>\n<!-- target -->\n<g id=\"node14\" class=\"node\">\n<title>target</title>\n<path fill=\"#b4d8e4\" stroke=\"black\" d=\"M371.85,-63.6C371.85,-63.6 336,-63.6 336,-63.6 330,-63.6 324,-57.6 324,-51.6 324,-51.6 324,-12 324,-12 324,-6 330,0 336,0 336,0 371.85,0 371.85,0 377.85,0 383.85,-6 383.85,-12 383.85,-12 383.85,-51.6 383.85,-51.6 383.85,-57.6 377.85,-63.6 371.85,-63.6\"/>\n<text text-anchor=\"start\" x=\"335.18\" y=\"-40.5\" font-family=\"Helvetica,sans-Serif\" font-weight=\"bold\" font-size=\"14.00\">target</text>\n<text text-anchor=\"start\" x=\"334.8\" y=\"-12.5\" font-family=\"Helvetica,sans-Serif\" font-style=\"italic\" font-size=\"14.00\">Series</text>\n</g>\n<!-- survived&#45;&gt;target -->\n<g id=\"edge14\" class=\"edge\">\n<title>survived&#45;&gt;target</title>\n<path fill=\"none\" stroke=\"black\" d=\"M353.93,-92.22C353.93,-86.81 353.93,-81.1 353.93,-75.45\"/>\n<polygon fill=\"black\" stroke=\"black\" points=\"357.43,-75.55 353.93,-65.55 350.43,-75.55 357.43,-75.55\"/>\n</g>\n<!-- passengers_df_raw -->\n<g id=\"node13\" class=\"node\">\n<title>passengers_df_raw</title>\n<path fill=\"#b4d8e4\" stroke=\"black\" d=\"M416.1,-434C416.1,-434 291.75,-434 291.75,-434 285.75,-434 279.75,-428 279.75,-422 279.75,-422 279.75,-382.4 279.75,-382.4 279.75,-376.4 285.75,-370.4 291.75,-370.4 291.75,-370.4 416.1,-370.4 416.1,-370.4 422.1,-370.4 428.1,-376.4 428.1,-382.4 428.1,-382.4 428.1,-422 428.1,-422 428.1,-428 422.1,-434 416.1,-434\"/>\n<text text-anchor=\"start\" x=\"290.55\" y=\"-410.9\" font-family=\"Helvetica,sans-Serif\" font-weight=\"bold\" font-size=\"14.00\">passengers_df_raw</text>\n<text text-anchor=\"start\" x=\"319.8\" y=\"-382.9\" font-family=\"Helvetica,sans-Serif\" font-style=\"italic\" font-size=\"14.00\">DataFrame</text>\n</g>\n<!-- passengers_df_raw&#45;&gt;passengers_df -->\n<g id=\"edge2\" class=\"edge\">\n<title>passengers_df_raw&#45;&gt;passengers_df</title>\n<path fill=\"none\" stroke=\"black\" d=\"M305.95,-370.12C297.03,-361.93 288.94,-352.29 283.93,-341.4 272.09,-315.73 272.09,-303.47 283.93,-277.8 287.37,-270.32 292.27,-263.42 297.9,-257.18\"/>\n<polygon fill=\"black\" stroke=\"black\" points=\"300.32,-259.71 304.89,-250.16 295.35,-254.78 300.32,-259.71\"/>\n</g>\n<!-- passengers_df_raw&#45;&gt;passengers_df_pandera_schema_validator -->\n<g id=\"edge4\" class=\"edge\">\n<title>passengers_df_raw&#45;&gt;passengers_df_pandera_schema_validator</title>\n<path fill=\"none\" stroke=\"black\" d=\"M384.55,-370.02C390.99,-363.47 397.85,-356.49 404.53,-349.69\"/>\n<polygon fill=\"black\" stroke=\"black\" points=\"406.67,-352.5 411.18,-342.92 401.67,-347.6 406.67,-352.5\"/>\n</g>\n<!-- raw_passengers_df -->\n<g id=\"node15\" class=\"node\">\n<title>raw_passengers_df</title>\n<path fill=\"#b4d8e4\" stroke=\"black\" d=\"M416.1,-526.6C416.1,-526.6 291.75,-526.6 291.75,-526.6 285.75,-526.6 279.75,-520.6 279.75,-514.6 279.75,-514.6 279.75,-475 279.75,-475 279.75,-469 285.75,-463 291.75,-463 291.75,-463 416.1,-463 416.1,-463 422.1,-463 428.1,-469 428.1,-475 428.1,-475 428.1,-514.6 428.1,-514.6 428.1,-520.6 422.1,-526.6 416.1,-526.6\"/>\n<text text-anchor=\"start\" x=\"290.55\" y=\"-503.5\" font-family=\"Helvetica,sans-Serif\" font-weight=\"bold\" font-size=\"14.00\">raw_passengers_df</text>\n<text text-anchor=\"start\" x=\"319.8\" y=\"-475.5\" font-family=\"Helvetica,sans-Serif\" font-style=\"italic\" font-size=\"14.00\">DataFrame</text>\n</g>\n<!-- raw_passengers_df&#45;&gt;passengers_df_raw -->\n<g id=\"edge13\" class=\"edge\">\n<title>raw_passengers_df&#45;&gt;passengers_df_raw</title>\n<path fill=\"none\" stroke=\"black\" d=\"M353.93,-462.62C353.93,-457.21 353.93,-451.5 353.93,-445.85\"/>\n<polygon fill=\"black\" stroke=\"black\" points=\"357.43,-445.95 353.93,-435.95 350.43,-445.95 357.43,-445.95\"/>\n</g>\n<!-- config -->\n<g id=\"node16\" class=\"node\">\n<title>config</title>\n<polygon fill=\"none\" stroke=\"black\" points=\"654.92,-512.8 606.92,-512.8 606.92,-476.8 660.92,-476.8 660.92,-506.8 654.92,-512.8\"/>\n<polyline fill=\"none\" stroke=\"black\" points=\"654.92,-512.8 654.92,-506.8\"/>\n<polyline fill=\"none\" stroke=\"black\" points=\"660.92,-506.8 654.92,-506.8\"/>\n<text text-anchor=\"middle\" x=\"633.92\" y=\"-489\" font-family=\"Helvetica,sans-Serif\" font-size=\"14.00\">config</text>\n</g>\n<!-- function -->\n<g id=\"node17\" class=\"node\">\n<title>function</title>\n<path fill=\"#b4d8e4\" stroke=\"black\" d=\"M577.35,-513.1C577.35,-513.1 532.5,-513.1 532.5,-513.1 526.5,-513.1 520.5,-507.1 520.5,-501.1 520.5,-501.1 520.5,-488.5 520.5,-488.5 520.5,-482.5 526.5,-476.5 532.5,-476.5 532.5,-476.5 577.35,-476.5 577.35,-476.5 583.35,-476.5 589.35,-482.5 589.35,-488.5 589.35,-488.5 589.35,-501.1 589.35,-501.1 589.35,-507.1 583.35,-513.1 577.35,-513.1\"/>\n<text text-anchor=\"middle\" x=\"554.92\" y=\"-489\" font-family=\"Helvetica,sans-Serif\" font-size=\"14.00\">function</text>\n</g>\n</g>\n</svg>\n",
      "text/plain": "<graphviz.graphs.Digraph at 0x110c72bc0>"
     },
     "execution_count": 10,
     "metadata": {},
     "output_type": "execute_result"
    }
   ],
   "source": [
    "config = {\"loader\": \"openml\"}\n",
    "dr = (\n",
    "        driver.Builder()\n",
    "        .with_modules(data_loader)\n",
    "        .with_config(config)\n",
    "        .build()\n",
    "    )\n",
    "dr.display_all_functions(orient=\"TB\")"
   ]
  },
  {
   "cell_type": "markdown",
   "metadata": {
    "collapsed": false
   },
   "source": [
    "# Load from Parquet\n",
    "Here we have a driver that loads data from parquet. Note it requires an extra input to operate."
   ]
  },
  {
   "cell_type": "code",
   "execution_count": 11,
   "metadata": {
    "collapsed": false,
    "ExecuteTime": {
     "end_time": "2024-02-09T06:52:45.003839Z",
     "start_time": "2024-02-09T06:52:44.709934Z"
    }
   },
   "outputs": [
    {
     "data": {
      "image/svg+xml": "<?xml version=\"1.0\" encoding=\"UTF-8\" standalone=\"no\"?>\n<!DOCTYPE svg PUBLIC \"-//W3C//DTD SVG 1.1//EN\"\n \"http://www.w3.org/Graphics/SVG/1.1/DTD/svg11.dtd\">\n<!-- Generated by graphviz version 9.0.0 (20230911.1827)\n -->\n<!-- Pages: 1 -->\n<svg width=\"779pt\" height=\"831pt\"\n viewBox=\"0.00 0.00 778.92 831.10\" xmlns=\"http://www.w3.org/2000/svg\" xmlns:xlink=\"http://www.w3.org/1999/xlink\">\n<g id=\"graph0\" class=\"graph\" transform=\"scale(1 1) rotate(0) translate(4 827.1)\">\n<polygon fill=\"white\" stroke=\"none\" points=\"-4,4 -4,-827.1 774.92,-827.1 774.92,4 -4,4\"/>\n<g id=\"clust1\" class=\"cluster\">\n<title>cluster__legend</title>\n<polygon fill=\"none\" stroke=\"black\" points=\"534.92,-739.5 534.92,-815.1 762.92,-815.1 762.92,-739.5 534.92,-739.5\"/>\n<text text-anchor=\"middle\" x=\"648.92\" y=\"-797.8\" font-family=\"Helvetica,sans-Serif\" font-size=\"14.00\">Legend</text>\n</g>\n<!-- age -->\n<g id=\"node1\" class=\"node\">\n<title>age</title>\n<path fill=\"#b4d8e4\" stroke=\"black\" d=\"M47.85,-156.2C47.85,-156.2 12,-156.2 12,-156.2 6,-156.2 0,-150.2 0,-144.2 0,-144.2 0,-104.6 0,-104.6 0,-98.6 6,-92.6 12,-92.6 12,-92.6 47.85,-92.6 47.85,-92.6 53.85,-92.6 59.85,-98.6 59.85,-104.6 59.85,-104.6 59.85,-144.2 59.85,-144.2 59.85,-150.2 53.85,-156.2 47.85,-156.2\"/>\n<text text-anchor=\"start\" x=\"18.3\" y=\"-133.1\" font-family=\"Helvetica,sans-Serif\" font-weight=\"bold\" font-size=\"14.00\">age</text>\n<text text-anchor=\"start\" x=\"10.8\" y=\"-105.1\" font-family=\"Helvetica,sans-Serif\" font-style=\"italic\" font-size=\"14.00\">Series</text>\n</g>\n<!-- passengers_df -->\n<g id=\"node2\" class=\"node\">\n<title>passengers_df</title>\n<path fill=\"#b4d8e4\" stroke=\"black\" d=\"M400.35,-248.8C400.35,-248.8 307.5,-248.8 307.5,-248.8 301.5,-248.8 295.5,-242.8 295.5,-236.8 295.5,-236.8 295.5,-197.2 295.5,-197.2 295.5,-191.2 301.5,-185.2 307.5,-185.2 307.5,-185.2 400.35,-185.2 400.35,-185.2 406.35,-185.2 412.35,-191.2 412.35,-197.2 412.35,-197.2 412.35,-236.8 412.35,-236.8 412.35,-242.8 406.35,-248.8 400.35,-248.8\"/>\n<text text-anchor=\"start\" x=\"306.3\" y=\"-225.7\" font-family=\"Helvetica,sans-Serif\" font-weight=\"bold\" font-size=\"14.00\">passengers_df</text>\n<text text-anchor=\"start\" x=\"319.8\" y=\"-197.7\" font-family=\"Helvetica,sans-Serif\" font-style=\"italic\" font-size=\"14.00\">DataFrame</text>\n</g>\n<!-- passengers_df&#45;&gt;age -->\n<g id=\"edge1\" class=\"edge\">\n<title>passengers_df&#45;&gt;age</title>\n<path fill=\"none\" stroke=\"black\" d=\"M295.22,-211.6C238.22,-205.62 150.02,-191.79 70.32,-156.05\"/>\n<polygon fill=\"black\" stroke=\"black\" points=\"72.06,-153 61.52,-151.98 69.12,-159.35 72.06,-153\"/>\n</g>\n<!-- parch -->\n<g id=\"node4\" class=\"node\">\n<title>parch</title>\n<path fill=\"#b4d8e4\" stroke=\"black\" d=\"M125.85,-156.2C125.85,-156.2 90,-156.2 90,-156.2 84,-156.2 78,-150.2 78,-144.2 78,-144.2 78,-104.6 78,-104.6 78,-98.6 84,-92.6 90,-92.6 90,-92.6 125.85,-92.6 125.85,-92.6 131.85,-92.6 137.85,-98.6 137.85,-104.6 137.85,-104.6 137.85,-144.2 137.85,-144.2 137.85,-150.2 131.85,-156.2 125.85,-156.2\"/>\n<text text-anchor=\"start\" x=\"89.55\" y=\"-133.1\" font-family=\"Helvetica,sans-Serif\" font-weight=\"bold\" font-size=\"14.00\">parch</text>\n<text text-anchor=\"start\" x=\"88.8\" y=\"-105.1\" font-family=\"Helvetica,sans-Serif\" font-style=\"italic\" font-size=\"14.00\">Series</text>\n</g>\n<!-- passengers_df&#45;&gt;parch -->\n<g id=\"edge5\" class=\"edge\">\n<title>passengers_df&#45;&gt;parch</title>\n<path fill=\"none\" stroke=\"black\" d=\"M295.44,-205.43C255.28,-196.79 201.2,-182.37 148.44,-156.29\"/>\n<polygon fill=\"black\" stroke=\"black\" points=\"150.11,-153.21 139.61,-151.79 146.93,-159.45 150.11,-153.21\"/>\n</g>\n<!-- pclass -->\n<g id=\"node6\" class=\"node\">\n<title>pclass</title>\n<path fill=\"#b4d8e4\" stroke=\"black\" d=\"M207.72,-156.2C207.72,-156.2 168.12,-156.2 168.12,-156.2 162.12,-156.2 156.12,-150.2 156.12,-144.2 156.12,-144.2 156.12,-104.6 156.12,-104.6 156.12,-98.6 162.12,-92.6 168.12,-92.6 168.12,-92.6 207.72,-92.6 207.72,-92.6 213.72,-92.6 219.72,-98.6 219.72,-104.6 219.72,-104.6 219.72,-144.2 219.72,-144.2 219.72,-150.2 213.72,-156.2 207.72,-156.2\"/>\n<text text-anchor=\"start\" x=\"166.92\" y=\"-133.1\" font-family=\"Helvetica,sans-Serif\" font-weight=\"bold\" font-size=\"14.00\">pclass</text>\n<text text-anchor=\"start\" x=\"168.8\" y=\"-105.1\" font-family=\"Helvetica,sans-Serif\" font-style=\"italic\" font-size=\"14.00\">Series</text>\n</g>\n<!-- passengers_df&#45;&gt;pclass -->\n<g id=\"edge7\" class=\"edge\">\n<title>passengers_df&#45;&gt;pclass</title>\n<path fill=\"none\" stroke=\"black\" d=\"M295.11,-190.78C276.11,-181.97 255.01,-171.47 229.71,-156.34\"/>\n<polygon fill=\"black\" stroke=\"black\" points=\"231.85,-153.54 221.48,-151.34 228.21,-159.52 231.85,-153.54\"/>\n</g>\n<!-- sex -->\n<g id=\"node7\" class=\"node\">\n<title>sex</title>\n<path fill=\"#b4d8e4\" stroke=\"black\" d=\"M285.85,-156.2C285.85,-156.2 250,-156.2 250,-156.2 244,-156.2 238,-150.2 238,-144.2 238,-144.2 238,-104.6 238,-104.6 238,-98.6 244,-92.6 250,-92.6 250,-92.6 285.85,-92.6 285.85,-92.6 291.85,-92.6 297.85,-98.6 297.85,-104.6 297.85,-104.6 297.85,-144.2 297.85,-144.2 297.85,-150.2 291.85,-156.2 285.85,-156.2\"/>\n<text text-anchor=\"start\" x=\"256.67\" y=\"-133.1\" font-family=\"Helvetica,sans-Serif\" font-weight=\"bold\" font-size=\"14.00\">sex</text>\n<text text-anchor=\"start\" x=\"248.8\" y=\"-105.1\" font-family=\"Helvetica,sans-Serif\" font-style=\"italic\" font-size=\"14.00\">Series</text>\n</g>\n<!-- passengers_df&#45;&gt;sex -->\n<g id=\"edge8\" class=\"edge\">\n<title>passengers_df&#45;&gt;sex</title>\n<path fill=\"none\" stroke=\"black\" d=\"M324.33,-184.82C318.25,-178.41 311.77,-171.59 305.45,-164.93\"/>\n<polygon fill=\"black\" stroke=\"black\" points=\"308.04,-162.58 298.62,-157.73 302.96,-167.4 308.04,-162.58\"/>\n</g>\n<!-- survived -->\n<g id=\"node10\" class=\"node\">\n<title>survived</title>\n<path fill=\"#b4d8e4\" stroke=\"black\" d=\"M380.47,-156.2C380.47,-156.2 327.37,-156.2 327.37,-156.2 321.37,-156.2 315.37,-150.2 315.37,-144.2 315.37,-144.2 315.37,-104.6 315.37,-104.6 315.37,-98.6 321.37,-92.6 327.37,-92.6 327.37,-92.6 380.47,-92.6 380.47,-92.6 386.47,-92.6 392.47,-98.6 392.47,-104.6 392.47,-104.6 392.47,-144.2 392.47,-144.2 392.47,-150.2 386.47,-156.2 380.47,-156.2\"/>\n<text text-anchor=\"start\" x=\"326.17\" y=\"-133.1\" font-family=\"Helvetica,sans-Serif\" font-weight=\"bold\" font-size=\"14.00\">survived</text>\n<text text-anchor=\"start\" x=\"334.8\" y=\"-105.1\" font-family=\"Helvetica,sans-Serif\" font-style=\"italic\" font-size=\"14.00\">Series</text>\n</g>\n<!-- passengers_df&#45;&gt;survived -->\n<g id=\"edge10\" class=\"edge\">\n<title>passengers_df&#45;&gt;survived</title>\n<path fill=\"none\" stroke=\"black\" d=\"M353.92,-184.82C353.92,-179.41 353.92,-173.7 353.92,-168.05\"/>\n<polygon fill=\"black\" stroke=\"black\" points=\"357.43,-168.15 353.93,-158.15 350.43,-168.15 357.43,-168.15\"/>\n</g>\n<!-- fare -->\n<g id=\"node11\" class=\"node\">\n<title>fare</title>\n<path fill=\"#b4d8e4\" stroke=\"black\" d=\"M457.85,-156.2C457.85,-156.2 422,-156.2 422,-156.2 416,-156.2 410,-150.2 410,-144.2 410,-144.2 410,-104.6 410,-104.6 410,-98.6 416,-92.6 422,-92.6 422,-92.6 457.85,-92.6 457.85,-92.6 463.85,-92.6 469.85,-98.6 469.85,-104.6 469.85,-104.6 469.85,-144.2 469.85,-144.2 469.85,-150.2 463.85,-156.2 457.85,-156.2\"/>\n<text text-anchor=\"start\" x=\"427.55\" y=\"-133.1\" font-family=\"Helvetica,sans-Serif\" font-weight=\"bold\" font-size=\"14.00\">fare</text>\n<text text-anchor=\"start\" x=\"420.8\" y=\"-105.1\" font-family=\"Helvetica,sans-Serif\" font-style=\"italic\" font-size=\"14.00\">Series</text>\n</g>\n<!-- passengers_df&#45;&gt;fare -->\n<g id=\"edge11\" class=\"edge\">\n<title>passengers_df&#45;&gt;fare</title>\n<path fill=\"none\" stroke=\"black\" d=\"M383.52,-184.82C389.6,-178.41 396.08,-171.59 402.4,-164.93\"/>\n<polygon fill=\"black\" stroke=\"black\" points=\"404.89,-167.4 409.23,-157.73 399.81,-162.58 404.89,-167.4\"/>\n</g>\n<!-- name -->\n<g id=\"node12\" class=\"node\">\n<title>name</title>\n<path fill=\"#b4d8e4\" stroke=\"black\" d=\"M535.85,-156.2C535.85,-156.2 500,-156.2 500,-156.2 494,-156.2 488,-150.2 488,-144.2 488,-144.2 488,-104.6 488,-104.6 488,-98.6 494,-92.6 500,-92.6 500,-92.6 535.85,-92.6 535.85,-92.6 541.85,-92.6 547.85,-98.6 547.85,-104.6 547.85,-104.6 547.85,-144.2 547.85,-144.2 547.85,-150.2 541.85,-156.2 535.85,-156.2\"/>\n<text text-anchor=\"start\" x=\"499.92\" y=\"-133.1\" font-family=\"Helvetica,sans-Serif\" font-weight=\"bold\" font-size=\"14.00\">name</text>\n<text text-anchor=\"start\" x=\"498.8\" y=\"-105.1\" font-family=\"Helvetica,sans-Serif\" font-style=\"italic\" font-size=\"14.00\">Series</text>\n</g>\n<!-- passengers_df&#45;&gt;name -->\n<g id=\"edge12\" class=\"edge\">\n<title>passengers_df&#45;&gt;name</title>\n<path fill=\"none\" stroke=\"black\" d=\"M412.6,-191.21C431.68,-182.39 452.87,-171.81 478.21,-156.24\"/>\n<polygon fill=\"black\" stroke=\"black\" points=\"479.84,-159.36 486.46,-151.08 476.12,-153.42 479.84,-159.36\"/>\n</g>\n<!-- embarked -->\n<g id=\"node13\" class=\"node\">\n<title>embarked</title>\n<path fill=\"#b4d8e4\" stroke=\"black\" d=\"M639.97,-156.2C639.97,-156.2 577.88,-156.2 577.88,-156.2 571.88,-156.2 565.88,-150.2 565.88,-144.2 565.88,-144.2 565.88,-104.6 565.88,-104.6 565.88,-98.6 571.88,-92.6 577.88,-92.6 577.88,-92.6 639.97,-92.6 639.97,-92.6 645.97,-92.6 651.97,-98.6 651.97,-104.6 651.97,-104.6 651.97,-144.2 651.97,-144.2 651.97,-150.2 645.97,-156.2 639.97,-156.2\"/>\n<text text-anchor=\"start\" x=\"576.67\" y=\"-133.1\" font-family=\"Helvetica,sans-Serif\" font-weight=\"bold\" font-size=\"14.00\">embarked</text>\n<text text-anchor=\"start\" x=\"589.8\" y=\"-105.1\" font-family=\"Helvetica,sans-Serif\" font-style=\"italic\" font-size=\"14.00\">Series</text>\n</g>\n<!-- passengers_df&#45;&gt;embarked -->\n<g id=\"edge13\" class=\"edge\">\n<title>passengers_df&#45;&gt;embarked</title>\n<path fill=\"none\" stroke=\"black\" d=\"M412.59,-202.83C451.3,-193.22 502.98,-178.63 555.2,-156.6\"/>\n<polygon fill=\"black\" stroke=\"black\" points=\"556.46,-159.87 564.26,-152.69 553.69,-153.44 556.46,-159.87\"/>\n</g>\n<!-- sibsp -->\n<g id=\"node14\" class=\"node\">\n<title>sibsp</title>\n<path fill=\"#b4d8e4\" stroke=\"black\" d=\"M717.85,-156.2C717.85,-156.2 682,-156.2 682,-156.2 676,-156.2 670,-150.2 670,-144.2 670,-144.2 670,-104.6 670,-104.6 670,-98.6 676,-92.6 682,-92.6 682,-92.6 717.85,-92.6 717.85,-92.6 723.85,-92.6 729.85,-98.6 729.85,-104.6 729.85,-104.6 729.85,-144.2 729.85,-144.2 729.85,-150.2 723.85,-156.2 717.85,-156.2\"/>\n<text text-anchor=\"start\" x=\"682.3\" y=\"-133.1\" font-family=\"Helvetica,sans-Serif\" font-weight=\"bold\" font-size=\"14.00\">sibsp</text>\n<text text-anchor=\"start\" x=\"680.8\" y=\"-105.1\" font-family=\"Helvetica,sans-Serif\" font-style=\"italic\" font-size=\"14.00\">Series</text>\n</g>\n<!-- passengers_df&#45;&gt;sibsp -->\n<g id=\"edge14\" class=\"edge\">\n<title>passengers_df&#45;&gt;sibsp</title>\n<path fill=\"none\" stroke=\"black\" d=\"M412.73,-212.8C474.02,-207.69 572.05,-194.47 659.41,-156.07\"/>\n<polygon fill=\"black\" stroke=\"black\" points=\"660.69,-159.33 668.35,-152.01 657.8,-152.96 660.69,-159.33\"/>\n</g>\n<!-- passengers_df_pandera_schema_validator -->\n<g id=\"node3\" class=\"node\">\n<title>passengers_df_pandera_schema_validator</title>\n<path fill=\"#b4d8e4\" stroke=\"black\" d=\"M580.47,-341.4C580.47,-341.4 305.37,-341.4 305.37,-341.4 299.37,-341.4 293.37,-335.4 293.37,-329.4 293.37,-329.4 293.37,-289.8 293.37,-289.8 293.37,-283.8 299.37,-277.8 305.37,-277.8 305.37,-277.8 580.47,-277.8 580.47,-277.8 586.47,-277.8 592.47,-283.8 592.47,-289.8 592.47,-289.8 592.47,-329.4 592.47,-329.4 592.47,-335.4 586.47,-341.4 580.47,-341.4\"/>\n<text text-anchor=\"start\" x=\"304.17\" y=\"-318.3\" font-family=\"Helvetica,sans-Serif\" font-weight=\"bold\" font-size=\"14.00\">passengers_df_pandera_schema_validator</text>\n<text text-anchor=\"start\" x=\"394.17\" y=\"-290.3\" font-family=\"Helvetica,sans-Serif\" font-style=\"italic\" font-size=\"14.00\">ValidationResult</text>\n</g>\n<!-- passengers_df_pandera_schema_validator&#45;&gt;passengers_df -->\n<g id=\"edge3\" class=\"edge\">\n<title>passengers_df_pandera_schema_validator&#45;&gt;passengers_df</title>\n<path fill=\"none\" stroke=\"black\" d=\"M412.3,-277.42C405.86,-270.87 399,-263.89 392.32,-257.09\"/>\n<polygon fill=\"black\" stroke=\"black\" points=\"395.18,-255 385.67,-250.32 390.18,-259.9 395.18,-255\"/>\n</g>\n<!-- raw_passengers_df.select_data.raw_passengers -->\n<g id=\"node5\" class=\"node\">\n<title>raw_passengers_df.select_data.raw_passengers</title>\n<path fill=\"#b4d8e4\" stroke=\"black\" d=\"M509.85,-619.2C509.85,-619.2 198,-619.2 198,-619.2 192,-619.2 186,-613.2 186,-607.2 186,-607.2 186,-567.6 186,-567.6 186,-561.6 192,-555.6 198,-555.6 198,-555.6 509.85,-555.6 509.85,-555.6 515.85,-555.6 521.85,-561.6 521.85,-567.6 521.85,-567.6 521.85,-607.2 521.85,-607.2 521.85,-613.2 515.85,-619.2 509.85,-619.2\"/>\n<text text-anchor=\"start\" x=\"196.8\" y=\"-596.1\" font-family=\"Helvetica,sans-Serif\" font-weight=\"bold\" font-size=\"14.00\">raw_passengers_df.select_data.raw_passengers</text>\n<text text-anchor=\"start\" x=\"319.8\" y=\"-568.1\" font-family=\"Helvetica,sans-Serif\" font-style=\"italic\" font-size=\"14.00\">DataFrame</text>\n</g>\n<!-- raw_passengers_df -->\n<g id=\"node17\" class=\"node\">\n<title>raw_passengers_df</title>\n<path fill=\"#b4d8e4\" stroke=\"black\" d=\"M416.1,-526.6C416.1,-526.6 291.75,-526.6 291.75,-526.6 285.75,-526.6 279.75,-520.6 279.75,-514.6 279.75,-514.6 279.75,-475 279.75,-475 279.75,-469 285.75,-463 291.75,-463 291.75,-463 416.1,-463 416.1,-463 422.1,-463 428.1,-469 428.1,-475 428.1,-475 428.1,-514.6 428.1,-514.6 428.1,-520.6 422.1,-526.6 416.1,-526.6\"/>\n<text text-anchor=\"start\" x=\"290.55\" y=\"-503.5\" font-family=\"Helvetica,sans-Serif\" font-weight=\"bold\" font-size=\"14.00\">raw_passengers_df</text>\n<text text-anchor=\"start\" x=\"319.8\" y=\"-475.5\" font-family=\"Helvetica,sans-Serif\" font-style=\"italic\" font-size=\"14.00\">DataFrame</text>\n</g>\n<!-- raw_passengers_df.select_data.raw_passengers&#45;&gt;raw_passengers_df -->\n<g id=\"edge17\" class=\"edge\">\n<title>raw_passengers_df.select_data.raw_passengers&#45;&gt;raw_passengers_df</title>\n<path fill=\"none\" stroke=\"black\" d=\"M353.92,-555.22C353.92,-549.81 353.92,-544.1 353.92,-538.45\"/>\n<polygon fill=\"black\" stroke=\"black\" points=\"357.43,-538.55 353.93,-528.55 350.43,-538.55 357.43,-538.55\"/>\n</g>\n<!-- raw_passengers_df.load_data.raw_passengers -->\n<g id=\"node8\" class=\"node\">\n<title>raw_passengers_df.load_data.raw_passengers</title>\n<path fill=\"#b4d8e4\" stroke=\"black\" d=\"M504.6,-711.8C504.6,-711.8 203.25,-711.8 203.25,-711.8 197.25,-711.8 191.25,-705.8 191.25,-699.8 191.25,-699.8 191.25,-660.2 191.25,-660.2 191.25,-654.2 197.25,-648.2 203.25,-648.2 203.25,-648.2 504.6,-648.2 504.6,-648.2 510.6,-648.2 516.6,-654.2 516.6,-660.2 516.6,-660.2 516.6,-699.8 516.6,-699.8 516.6,-705.8 510.6,-711.8 504.6,-711.8\"/>\n<text text-anchor=\"start\" x=\"202.05\" y=\"-688.7\" font-family=\"Helvetica,sans-Serif\" font-weight=\"bold\" font-size=\"14.00\">raw_passengers_df.load_data.raw_passengers</text>\n<text text-anchor=\"start\" x=\"337.05\" y=\"-660.7\" font-family=\"Helvetica,sans-Serif\" font-style=\"italic\" font-size=\"14.00\">Tuple</text>\n</g>\n<!-- raw_passengers_df.load_data.raw_passengers&#45;&gt;raw_passengers_df.select_data.raw_passengers -->\n<g id=\"edge6\" class=\"edge\">\n<title>raw_passengers_df.load_data.raw_passengers&#45;&gt;raw_passengers_df.select_data.raw_passengers</title>\n<path fill=\"none\" stroke=\"black\" d=\"M353.92,-647.82C353.92,-642.41 353.92,-636.7 353.92,-631.05\"/>\n<polygon fill=\"black\" stroke=\"black\" points=\"357.43,-631.15 353.93,-621.15 350.43,-631.15 357.43,-631.15\"/>\n</g>\n<!-- loader -->\n<g id=\"node9\" class=\"node\">\n<title>loader</title>\n<polygon fill=\"none\" stroke=\"black\" points=\"518.17,-790.8 467.67,-790.8 467.67,-740.8 524.17,-740.8 524.17,-784.8 518.17,-790.8\"/>\n<polyline fill=\"none\" stroke=\"black\" points=\"518.17,-790.8 518.17,-784.8\"/>\n<polyline fill=\"none\" stroke=\"black\" points=\"524.17,-784.8 518.17,-784.8\"/>\n<text text-anchor=\"start\" x=\"475.67\" y=\"-774.5\" font-family=\"Helvetica,sans-Serif\" font-weight=\"bold\" font-size=\"14.00\">loader</text>\n<text text-anchor=\"start\" x=\"484.3\" y=\"-746.5\" font-family=\"Helvetica,sans-Serif\" font-style=\"italic\" font-size=\"14.00\">Any</text>\n</g>\n<!-- target -->\n<g id=\"node16\" class=\"node\">\n<title>target</title>\n<path fill=\"#b4d8e4\" stroke=\"black\" d=\"M371.85,-63.6C371.85,-63.6 336,-63.6 336,-63.6 330,-63.6 324,-57.6 324,-51.6 324,-51.6 324,-12 324,-12 324,-6 330,0 336,0 336,0 371.85,0 371.85,0 377.85,0 383.85,-6 383.85,-12 383.85,-12 383.85,-51.6 383.85,-51.6 383.85,-57.6 377.85,-63.6 371.85,-63.6\"/>\n<text text-anchor=\"start\" x=\"335.17\" y=\"-40.5\" font-family=\"Helvetica,sans-Serif\" font-weight=\"bold\" font-size=\"14.00\">target</text>\n<text text-anchor=\"start\" x=\"334.8\" y=\"-12.5\" font-family=\"Helvetica,sans-Serif\" font-style=\"italic\" font-size=\"14.00\">Series</text>\n</g>\n<!-- survived&#45;&gt;target -->\n<g id=\"edge16\" class=\"edge\">\n<title>survived&#45;&gt;target</title>\n<path fill=\"none\" stroke=\"black\" d=\"M353.92,-92.22C353.92,-86.81 353.92,-81.1 353.92,-75.45\"/>\n<polygon fill=\"black\" stroke=\"black\" points=\"357.43,-75.55 353.93,-65.55 350.43,-75.55 357.43,-75.55\"/>\n</g>\n<!-- passengers_df_raw -->\n<g id=\"node15\" class=\"node\">\n<title>passengers_df_raw</title>\n<path fill=\"#b4d8e4\" stroke=\"black\" d=\"M416.1,-434C416.1,-434 291.75,-434 291.75,-434 285.75,-434 279.75,-428 279.75,-422 279.75,-422 279.75,-382.4 279.75,-382.4 279.75,-376.4 285.75,-370.4 291.75,-370.4 291.75,-370.4 416.1,-370.4 416.1,-370.4 422.1,-370.4 428.1,-376.4 428.1,-382.4 428.1,-382.4 428.1,-422 428.1,-422 428.1,-428 422.1,-434 416.1,-434\"/>\n<text text-anchor=\"start\" x=\"290.55\" y=\"-410.9\" font-family=\"Helvetica,sans-Serif\" font-weight=\"bold\" font-size=\"14.00\">passengers_df_raw</text>\n<text text-anchor=\"start\" x=\"319.8\" y=\"-382.9\" font-family=\"Helvetica,sans-Serif\" font-style=\"italic\" font-size=\"14.00\">DataFrame</text>\n</g>\n<!-- passengers_df_raw&#45;&gt;passengers_df -->\n<g id=\"edge2\" class=\"edge\">\n<title>passengers_df_raw&#45;&gt;passengers_df</title>\n<path fill=\"none\" stroke=\"black\" d=\"M305.95,-370.12C297.03,-361.93 288.94,-352.29 283.92,-341.4 272.09,-315.73 272.09,-303.47 283.92,-277.8 287.37,-270.32 292.27,-263.42 297.9,-257.18\"/>\n<polygon fill=\"black\" stroke=\"black\" points=\"300.32,-259.71 304.89,-250.16 295.35,-254.78 300.32,-259.71\"/>\n</g>\n<!-- passengers_df_raw&#45;&gt;passengers_df_pandera_schema_validator -->\n<g id=\"edge4\" class=\"edge\">\n<title>passengers_df_raw&#45;&gt;passengers_df_pandera_schema_validator</title>\n<path fill=\"none\" stroke=\"black\" d=\"M384.55,-370.02C390.99,-363.47 397.85,-356.49 404.53,-349.69\"/>\n<polygon fill=\"black\" stroke=\"black\" points=\"406.67,-352.5 411.18,-342.92 401.67,-347.6 406.67,-352.5\"/>\n</g>\n<!-- raw_passengers_df&#45;&gt;passengers_df_raw -->\n<g id=\"edge15\" class=\"edge\">\n<title>raw_passengers_df&#45;&gt;passengers_df_raw</title>\n<path fill=\"none\" stroke=\"black\" d=\"M353.92,-462.62C353.92,-457.21 353.92,-451.5 353.92,-445.85\"/>\n<polygon fill=\"black\" stroke=\"black\" points=\"357.43,-445.95 353.93,-435.95 350.43,-445.95 357.43,-445.95\"/>\n</g>\n<!-- _raw_passengers_df.load_data.raw_passengers_inputs -->\n<g id=\"node18\" class=\"node\">\n<title>_raw_passengers_df.load_data.raw_passengers_inputs</title>\n<polygon fill=\"none\" stroke=\"black\" stroke-dasharray=\"5,2\" points=\"449.72,-788.1 258.12,-788.1 258.12,-743.5 449.72,-743.5 449.72,-788.1\"/>\n<text text-anchor=\"start\" x=\"272.92\" y=\"-760\" font-family=\"Helvetica,sans-Serif\" font-size=\"14.00\">titanic_dataset_path</text>\n<text text-anchor=\"start\" x=\"399.67\" y=\"-760\" font-family=\"Helvetica,sans-Serif\" font-size=\"14.00\">Union</text>\n</g>\n<!-- _raw_passengers_df.load_data.raw_passengers_inputs&#45;&gt;raw_passengers_df.load_data.raw_passengers -->\n<g id=\"edge9\" class=\"edge\">\n<title>_raw_passengers_df.load_data.raw_passengers_inputs&#45;&gt;raw_passengers_df.load_data.raw_passengers</title>\n<path fill=\"none\" stroke=\"black\" d=\"M353.92,-743.22C353.92,-737.13 353.92,-730.29 353.92,-723.42\"/>\n<polygon fill=\"black\" stroke=\"black\" points=\"357.43,-723.5 353.93,-713.5 350.43,-723.5 357.43,-723.5\"/>\n</g>\n<!-- config -->\n<g id=\"node19\" class=\"node\">\n<title>config</title>\n<polygon fill=\"none\" stroke=\"black\" points=\"748.92,-783.8 700.92,-783.8 700.92,-747.8 754.92,-747.8 754.92,-777.8 748.92,-783.8\"/>\n<polyline fill=\"none\" stroke=\"black\" points=\"748.92,-783.8 748.92,-777.8\"/>\n<polyline fill=\"none\" stroke=\"black\" points=\"754.92,-777.8 748.92,-777.8\"/>\n<text text-anchor=\"middle\" x=\"727.92\" y=\"-760\" font-family=\"Helvetica,sans-Serif\" font-size=\"14.00\">config</text>\n</g>\n<!-- input -->\n<g id=\"node20\" class=\"node\">\n<title>input</title>\n<polygon fill=\"none\" stroke=\"black\" stroke-dasharray=\"5,2\" points=\"682.92,-784.1 628.92,-784.1 628.92,-747.5 682.92,-747.5 682.92,-784.1\"/>\n<text text-anchor=\"middle\" x=\"655.92\" y=\"-760\" font-family=\"Helvetica,sans-Serif\" font-size=\"14.00\">input</text>\n</g>\n<!-- function -->\n<g id=\"node21\" class=\"node\">\n<title>function</title>\n<path fill=\"#b4d8e4\" stroke=\"black\" d=\"M599.35,-784.1C599.35,-784.1 554.5,-784.1 554.5,-784.1 548.5,-784.1 542.5,-778.1 542.5,-772.1 542.5,-772.1 542.5,-759.5 542.5,-759.5 542.5,-753.5 548.5,-747.5 554.5,-747.5 554.5,-747.5 599.35,-747.5 599.35,-747.5 605.35,-747.5 611.35,-753.5 611.35,-759.5 611.35,-759.5 611.35,-772.1 611.35,-772.1 611.35,-778.1 605.35,-784.1 599.35,-784.1\"/>\n<text text-anchor=\"middle\" x=\"576.92\" y=\"-760\" font-family=\"Helvetica,sans-Serif\" font-size=\"14.00\">function</text>\n</g>\n</g>\n</svg>\n",
      "text/plain": "<graphviz.graphs.Digraph at 0x144a1cee0>"
     },
     "execution_count": 11,
     "metadata": {},
     "output_type": "execute_result"
    }
   ],
   "source": [
    "config = {\"loader\": \"parquet\"}\n",
    "dr = (\n",
    "        driver.Builder()\n",
    "        .with_modules(data_loader)\n",
    "        .with_config(config)\n",
    "        .build()\n",
    "    )\n",
    "dr.display_all_functions(orient=\"TB\")"
   ]
  },
  {
   "cell_type": "markdown",
   "metadata": {
    "collapsed": false
   },
   "source": [
    "# Load it yourself\n",
    "When no value is passed that matches @config nodes -- they disappear. In this particular context we can then pass in a dataframe at execution time.\n",
    "\n",
    "The point here is that without having to change the code, we can swap out different modalities of how data is provided easily. Which is a common cause of technical debt because you couple how data is loaded."
   ]
  },
  {
   "cell_type": "code",
   "execution_count": 12,
   "metadata": {
    "collapsed": false,
    "ExecuteTime": {
     "end_time": "2024-02-09T06:52:47.352912Z",
     "start_time": "2024-02-09T06:52:47.031026Z"
    }
   },
   "outputs": [
    {
     "data": {
      "image/svg+xml": "<?xml version=\"1.0\" encoding=\"UTF-8\" standalone=\"no\"?>\n<!DOCTYPE svg PUBLIC \"-//W3C//DTD SVG 1.1//EN\"\n \"http://www.w3.org/Graphics/SVG/1.1/DTD/svg11.dtd\">\n<!-- Generated by graphviz version 9.0.0 (20230911.1827)\n -->\n<!-- Pages: 1 -->\n<svg width=\"738pt\" height=\"551pt\"\n viewBox=\"0.00 0.00 737.85 550.60\" xmlns=\"http://www.w3.org/2000/svg\" xmlns:xlink=\"http://www.w3.org/1999/xlink\">\n<g id=\"graph0\" class=\"graph\" transform=\"scale(1 1) rotate(0) translate(4 546.6)\">\n<polygon fill=\"white\" stroke=\"none\" points=\"-4,4 -4,-546.6 733.85,-546.6 733.85,4 -4,4\"/>\n<g id=\"clust1\" class=\"cluster\">\n<title>cluster__legend</title>\n<polygon fill=\"none\" stroke=\"black\" points=\"474.93,-459 474.93,-534.6 630.92,-534.6 630.92,-459 474.93,-459\"/>\n<text text-anchor=\"middle\" x=\"552.92\" y=\"-517.3\" font-family=\"Helvetica,sans-Serif\" font-size=\"14.00\">Legend</text>\n</g>\n<!-- age -->\n<g id=\"node1\" class=\"node\">\n<title>age</title>\n<path fill=\"#b4d8e4\" stroke=\"black\" d=\"M47.85,-156.2C47.85,-156.2 12,-156.2 12,-156.2 6,-156.2 0,-150.2 0,-144.2 0,-144.2 0,-104.6 0,-104.6 0,-98.6 6,-92.6 12,-92.6 12,-92.6 47.85,-92.6 47.85,-92.6 53.85,-92.6 59.85,-98.6 59.85,-104.6 59.85,-104.6 59.85,-144.2 59.85,-144.2 59.85,-150.2 53.85,-156.2 47.85,-156.2\"/>\n<text text-anchor=\"start\" x=\"18.3\" y=\"-133.1\" font-family=\"Helvetica,sans-Serif\" font-weight=\"bold\" font-size=\"14.00\">age</text>\n<text text-anchor=\"start\" x=\"10.8\" y=\"-105.1\" font-family=\"Helvetica,sans-Serif\" font-style=\"italic\" font-size=\"14.00\">Series</text>\n</g>\n<!-- passengers_df -->\n<g id=\"node2\" class=\"node\">\n<title>passengers_df</title>\n<path fill=\"#b4d8e4\" stroke=\"black\" d=\"M400.35,-248.8C400.35,-248.8 307.5,-248.8 307.5,-248.8 301.5,-248.8 295.5,-242.8 295.5,-236.8 295.5,-236.8 295.5,-197.2 295.5,-197.2 295.5,-191.2 301.5,-185.2 307.5,-185.2 307.5,-185.2 400.35,-185.2 400.35,-185.2 406.35,-185.2 412.35,-191.2 412.35,-197.2 412.35,-197.2 412.35,-236.8 412.35,-236.8 412.35,-242.8 406.35,-248.8 400.35,-248.8\"/>\n<text text-anchor=\"start\" x=\"306.3\" y=\"-225.7\" font-family=\"Helvetica,sans-Serif\" font-weight=\"bold\" font-size=\"14.00\">passengers_df</text>\n<text text-anchor=\"start\" x=\"319.8\" y=\"-197.7\" font-family=\"Helvetica,sans-Serif\" font-style=\"italic\" font-size=\"14.00\">DataFrame</text>\n</g>\n<!-- passengers_df&#45;&gt;age -->\n<g id=\"edge1\" class=\"edge\">\n<title>passengers_df&#45;&gt;age</title>\n<path fill=\"none\" stroke=\"black\" d=\"M295.22,-211.6C238.22,-205.62 150.02,-191.79 70.32,-156.05\"/>\n<polygon fill=\"black\" stroke=\"black\" points=\"72.06,-153 61.52,-151.98 69.12,-159.35 72.06,-153\"/>\n</g>\n<!-- parch -->\n<g id=\"node4\" class=\"node\">\n<title>parch</title>\n<path fill=\"#b4d8e4\" stroke=\"black\" d=\"M125.85,-156.2C125.85,-156.2 90,-156.2 90,-156.2 84,-156.2 78,-150.2 78,-144.2 78,-144.2 78,-104.6 78,-104.6 78,-98.6 84,-92.6 90,-92.6 90,-92.6 125.85,-92.6 125.85,-92.6 131.85,-92.6 137.85,-98.6 137.85,-104.6 137.85,-104.6 137.85,-144.2 137.85,-144.2 137.85,-150.2 131.85,-156.2 125.85,-156.2\"/>\n<text text-anchor=\"start\" x=\"89.55\" y=\"-133.1\" font-family=\"Helvetica,sans-Serif\" font-weight=\"bold\" font-size=\"14.00\">parch</text>\n<text text-anchor=\"start\" x=\"88.8\" y=\"-105.1\" font-family=\"Helvetica,sans-Serif\" font-style=\"italic\" font-size=\"14.00\">Series</text>\n</g>\n<!-- passengers_df&#45;&gt;parch -->\n<g id=\"edge5\" class=\"edge\">\n<title>passengers_df&#45;&gt;parch</title>\n<path fill=\"none\" stroke=\"black\" d=\"M295.44,-205.43C255.28,-196.79 201.2,-182.37 148.44,-156.29\"/>\n<polygon fill=\"black\" stroke=\"black\" points=\"150.11,-153.21 139.61,-151.79 146.93,-159.45 150.11,-153.21\"/>\n</g>\n<!-- pclass -->\n<g id=\"node5\" class=\"node\">\n<title>pclass</title>\n<path fill=\"#b4d8e4\" stroke=\"black\" d=\"M207.72,-156.2C207.72,-156.2 168.13,-156.2 168.13,-156.2 162.13,-156.2 156.13,-150.2 156.13,-144.2 156.13,-144.2 156.13,-104.6 156.13,-104.6 156.13,-98.6 162.13,-92.6 168.13,-92.6 168.13,-92.6 207.72,-92.6 207.72,-92.6 213.72,-92.6 219.72,-98.6 219.72,-104.6 219.72,-104.6 219.72,-144.2 219.72,-144.2 219.72,-150.2 213.72,-156.2 207.72,-156.2\"/>\n<text text-anchor=\"start\" x=\"166.93\" y=\"-133.1\" font-family=\"Helvetica,sans-Serif\" font-weight=\"bold\" font-size=\"14.00\">pclass</text>\n<text text-anchor=\"start\" x=\"168.8\" y=\"-105.1\" font-family=\"Helvetica,sans-Serif\" font-style=\"italic\" font-size=\"14.00\">Series</text>\n</g>\n<!-- passengers_df&#45;&gt;pclass -->\n<g id=\"edge6\" class=\"edge\">\n<title>passengers_df&#45;&gt;pclass</title>\n<path fill=\"none\" stroke=\"black\" d=\"M295.11,-190.78C276.11,-181.97 255.01,-171.47 229.71,-156.34\"/>\n<polygon fill=\"black\" stroke=\"black\" points=\"231.85,-153.54 221.48,-151.34 228.21,-159.52 231.85,-153.54\"/>\n</g>\n<!-- sex -->\n<g id=\"node6\" class=\"node\">\n<title>sex</title>\n<path fill=\"#b4d8e4\" stroke=\"black\" d=\"M285.85,-156.2C285.85,-156.2 250,-156.2 250,-156.2 244,-156.2 238,-150.2 238,-144.2 238,-144.2 238,-104.6 238,-104.6 238,-98.6 244,-92.6 250,-92.6 250,-92.6 285.85,-92.6 285.85,-92.6 291.85,-92.6 297.85,-98.6 297.85,-104.6 297.85,-104.6 297.85,-144.2 297.85,-144.2 297.85,-150.2 291.85,-156.2 285.85,-156.2\"/>\n<text text-anchor=\"start\" x=\"256.68\" y=\"-133.1\" font-family=\"Helvetica,sans-Serif\" font-weight=\"bold\" font-size=\"14.00\">sex</text>\n<text text-anchor=\"start\" x=\"248.8\" y=\"-105.1\" font-family=\"Helvetica,sans-Serif\" font-style=\"italic\" font-size=\"14.00\">Series</text>\n</g>\n<!-- passengers_df&#45;&gt;sex -->\n<g id=\"edge7\" class=\"edge\">\n<title>passengers_df&#45;&gt;sex</title>\n<path fill=\"none\" stroke=\"black\" d=\"M324.33,-184.82C318.25,-178.41 311.77,-171.59 305.45,-164.93\"/>\n<polygon fill=\"black\" stroke=\"black\" points=\"308.04,-162.58 298.62,-157.73 302.96,-167.4 308.04,-162.58\"/>\n</g>\n<!-- survived -->\n<g id=\"node7\" class=\"node\">\n<title>survived</title>\n<path fill=\"#b4d8e4\" stroke=\"black\" d=\"M380.48,-156.2C380.48,-156.2 327.38,-156.2 327.38,-156.2 321.38,-156.2 315.38,-150.2 315.38,-144.2 315.38,-144.2 315.38,-104.6 315.38,-104.6 315.38,-98.6 321.38,-92.6 327.38,-92.6 327.38,-92.6 380.48,-92.6 380.48,-92.6 386.48,-92.6 392.48,-98.6 392.48,-104.6 392.48,-104.6 392.48,-144.2 392.48,-144.2 392.48,-150.2 386.48,-156.2 380.48,-156.2\"/>\n<text text-anchor=\"start\" x=\"326.18\" y=\"-133.1\" font-family=\"Helvetica,sans-Serif\" font-weight=\"bold\" font-size=\"14.00\">survived</text>\n<text text-anchor=\"start\" x=\"334.8\" y=\"-105.1\" font-family=\"Helvetica,sans-Serif\" font-style=\"italic\" font-size=\"14.00\">Series</text>\n</g>\n<!-- passengers_df&#45;&gt;survived -->\n<g id=\"edge8\" class=\"edge\">\n<title>passengers_df&#45;&gt;survived</title>\n<path fill=\"none\" stroke=\"black\" d=\"M353.93,-184.82C353.93,-179.41 353.93,-173.7 353.93,-168.05\"/>\n<polygon fill=\"black\" stroke=\"black\" points=\"357.43,-168.15 353.93,-158.15 350.43,-168.15 357.43,-168.15\"/>\n</g>\n<!-- fare -->\n<g id=\"node8\" class=\"node\">\n<title>fare</title>\n<path fill=\"#b4d8e4\" stroke=\"black\" d=\"M457.85,-156.2C457.85,-156.2 422,-156.2 422,-156.2 416,-156.2 410,-150.2 410,-144.2 410,-144.2 410,-104.6 410,-104.6 410,-98.6 416,-92.6 422,-92.6 422,-92.6 457.85,-92.6 457.85,-92.6 463.85,-92.6 469.85,-98.6 469.85,-104.6 469.85,-104.6 469.85,-144.2 469.85,-144.2 469.85,-150.2 463.85,-156.2 457.85,-156.2\"/>\n<text text-anchor=\"start\" x=\"427.55\" y=\"-133.1\" font-family=\"Helvetica,sans-Serif\" font-weight=\"bold\" font-size=\"14.00\">fare</text>\n<text text-anchor=\"start\" x=\"420.8\" y=\"-105.1\" font-family=\"Helvetica,sans-Serif\" font-style=\"italic\" font-size=\"14.00\">Series</text>\n</g>\n<!-- passengers_df&#45;&gt;fare -->\n<g id=\"edge9\" class=\"edge\">\n<title>passengers_df&#45;&gt;fare</title>\n<path fill=\"none\" stroke=\"black\" d=\"M383.52,-184.82C389.6,-178.41 396.08,-171.59 402.4,-164.93\"/>\n<polygon fill=\"black\" stroke=\"black\" points=\"404.89,-167.4 409.23,-157.73 399.81,-162.58 404.89,-167.4\"/>\n</g>\n<!-- name -->\n<g id=\"node9\" class=\"node\">\n<title>name</title>\n<path fill=\"#b4d8e4\" stroke=\"black\" d=\"M535.85,-156.2C535.85,-156.2 500,-156.2 500,-156.2 494,-156.2 488,-150.2 488,-144.2 488,-144.2 488,-104.6 488,-104.6 488,-98.6 494,-92.6 500,-92.6 500,-92.6 535.85,-92.6 535.85,-92.6 541.85,-92.6 547.85,-98.6 547.85,-104.6 547.85,-104.6 547.85,-144.2 547.85,-144.2 547.85,-150.2 541.85,-156.2 535.85,-156.2\"/>\n<text text-anchor=\"start\" x=\"499.92\" y=\"-133.1\" font-family=\"Helvetica,sans-Serif\" font-weight=\"bold\" font-size=\"14.00\">name</text>\n<text text-anchor=\"start\" x=\"498.8\" y=\"-105.1\" font-family=\"Helvetica,sans-Serif\" font-style=\"italic\" font-size=\"14.00\">Series</text>\n</g>\n<!-- passengers_df&#45;&gt;name -->\n<g id=\"edge10\" class=\"edge\">\n<title>passengers_df&#45;&gt;name</title>\n<path fill=\"none\" stroke=\"black\" d=\"M412.6,-191.21C431.68,-182.39 452.87,-171.81 478.21,-156.24\"/>\n<polygon fill=\"black\" stroke=\"black\" points=\"479.84,-159.36 486.46,-151.08 476.12,-153.42 479.84,-159.36\"/>\n</g>\n<!-- embarked -->\n<g id=\"node10\" class=\"node\">\n<title>embarked</title>\n<path fill=\"#b4d8e4\" stroke=\"black\" d=\"M639.97,-156.2C639.97,-156.2 577.88,-156.2 577.88,-156.2 571.88,-156.2 565.88,-150.2 565.88,-144.2 565.88,-144.2 565.88,-104.6 565.88,-104.6 565.88,-98.6 571.88,-92.6 577.88,-92.6 577.88,-92.6 639.97,-92.6 639.97,-92.6 645.97,-92.6 651.97,-98.6 651.97,-104.6 651.97,-104.6 651.97,-144.2 651.97,-144.2 651.97,-150.2 645.97,-156.2 639.97,-156.2\"/>\n<text text-anchor=\"start\" x=\"576.67\" y=\"-133.1\" font-family=\"Helvetica,sans-Serif\" font-weight=\"bold\" font-size=\"14.00\">embarked</text>\n<text text-anchor=\"start\" x=\"589.8\" y=\"-105.1\" font-family=\"Helvetica,sans-Serif\" font-style=\"italic\" font-size=\"14.00\">Series</text>\n</g>\n<!-- passengers_df&#45;&gt;embarked -->\n<g id=\"edge11\" class=\"edge\">\n<title>passengers_df&#45;&gt;embarked</title>\n<path fill=\"none\" stroke=\"black\" d=\"M412.59,-202.83C451.3,-193.22 502.98,-178.63 555.2,-156.6\"/>\n<polygon fill=\"black\" stroke=\"black\" points=\"556.46,-159.87 564.26,-152.69 553.69,-153.44 556.46,-159.87\"/>\n</g>\n<!-- sibsp -->\n<g id=\"node11\" class=\"node\">\n<title>sibsp</title>\n<path fill=\"#b4d8e4\" stroke=\"black\" d=\"M717.85,-156.2C717.85,-156.2 682,-156.2 682,-156.2 676,-156.2 670,-150.2 670,-144.2 670,-144.2 670,-104.6 670,-104.6 670,-98.6 676,-92.6 682,-92.6 682,-92.6 717.85,-92.6 717.85,-92.6 723.85,-92.6 729.85,-98.6 729.85,-104.6 729.85,-104.6 729.85,-144.2 729.85,-144.2 729.85,-150.2 723.85,-156.2 717.85,-156.2\"/>\n<text text-anchor=\"start\" x=\"682.3\" y=\"-133.1\" font-family=\"Helvetica,sans-Serif\" font-weight=\"bold\" font-size=\"14.00\">sibsp</text>\n<text text-anchor=\"start\" x=\"680.8\" y=\"-105.1\" font-family=\"Helvetica,sans-Serif\" font-style=\"italic\" font-size=\"14.00\">Series</text>\n</g>\n<!-- passengers_df&#45;&gt;sibsp -->\n<g id=\"edge12\" class=\"edge\">\n<title>passengers_df&#45;&gt;sibsp</title>\n<path fill=\"none\" stroke=\"black\" d=\"M412.73,-212.8C474.02,-207.69 572.05,-194.47 659.41,-156.07\"/>\n<polygon fill=\"black\" stroke=\"black\" points=\"660.69,-159.33 668.35,-152.01 657.8,-152.96 660.69,-159.33\"/>\n</g>\n<!-- passengers_df_pandera_schema_validator -->\n<g id=\"node3\" class=\"node\">\n<title>passengers_df_pandera_schema_validator</title>\n<path fill=\"#b4d8e4\" stroke=\"black\" d=\"M580.48,-341.4C580.48,-341.4 305.38,-341.4 305.38,-341.4 299.38,-341.4 293.38,-335.4 293.38,-329.4 293.38,-329.4 293.38,-289.8 293.38,-289.8 293.38,-283.8 299.38,-277.8 305.38,-277.8 305.38,-277.8 580.48,-277.8 580.48,-277.8 586.48,-277.8 592.48,-283.8 592.48,-289.8 592.48,-289.8 592.48,-329.4 592.48,-329.4 592.48,-335.4 586.48,-341.4 580.48,-341.4\"/>\n<text text-anchor=\"start\" x=\"304.18\" y=\"-318.3\" font-family=\"Helvetica,sans-Serif\" font-weight=\"bold\" font-size=\"14.00\">passengers_df_pandera_schema_validator</text>\n<text text-anchor=\"start\" x=\"394.18\" y=\"-290.3\" font-family=\"Helvetica,sans-Serif\" font-style=\"italic\" font-size=\"14.00\">ValidationResult</text>\n</g>\n<!-- passengers_df_pandera_schema_validator&#45;&gt;passengers_df -->\n<g id=\"edge3\" class=\"edge\">\n<title>passengers_df_pandera_schema_validator&#45;&gt;passengers_df</title>\n<path fill=\"none\" stroke=\"black\" d=\"M412.3,-277.42C405.86,-270.87 399,-263.89 392.32,-257.09\"/>\n<polygon fill=\"black\" stroke=\"black\" points=\"395.18,-255 385.67,-250.32 390.18,-259.9 395.18,-255\"/>\n</g>\n<!-- target -->\n<g id=\"node13\" class=\"node\">\n<title>target</title>\n<path fill=\"#b4d8e4\" stroke=\"black\" d=\"M371.85,-63.6C371.85,-63.6 336,-63.6 336,-63.6 330,-63.6 324,-57.6 324,-51.6 324,-51.6 324,-12 324,-12 324,-6 330,0 336,0 336,0 371.85,0 371.85,0 377.85,0 383.85,-6 383.85,-12 383.85,-12 383.85,-51.6 383.85,-51.6 383.85,-57.6 377.85,-63.6 371.85,-63.6\"/>\n<text text-anchor=\"start\" x=\"335.18\" y=\"-40.5\" font-family=\"Helvetica,sans-Serif\" font-weight=\"bold\" font-size=\"14.00\">target</text>\n<text text-anchor=\"start\" x=\"334.8\" y=\"-12.5\" font-family=\"Helvetica,sans-Serif\" font-style=\"italic\" font-size=\"14.00\">Series</text>\n</g>\n<!-- survived&#45;&gt;target -->\n<g id=\"edge14\" class=\"edge\">\n<title>survived&#45;&gt;target</title>\n<path fill=\"none\" stroke=\"black\" d=\"M353.93,-92.22C353.93,-86.81 353.93,-81.1 353.93,-75.45\"/>\n<polygon fill=\"black\" stroke=\"black\" points=\"357.43,-75.55 353.93,-65.55 350.43,-75.55 357.43,-75.55\"/>\n</g>\n<!-- passengers_df_raw -->\n<g id=\"node12\" class=\"node\">\n<title>passengers_df_raw</title>\n<path fill=\"#b4d8e4\" stroke=\"black\" d=\"M416.1,-434C416.1,-434 291.75,-434 291.75,-434 285.75,-434 279.75,-428 279.75,-422 279.75,-422 279.75,-382.4 279.75,-382.4 279.75,-376.4 285.75,-370.4 291.75,-370.4 291.75,-370.4 416.1,-370.4 416.1,-370.4 422.1,-370.4 428.1,-376.4 428.1,-382.4 428.1,-382.4 428.1,-422 428.1,-422 428.1,-428 422.1,-434 416.1,-434\"/>\n<text text-anchor=\"start\" x=\"290.55\" y=\"-410.9\" font-family=\"Helvetica,sans-Serif\" font-weight=\"bold\" font-size=\"14.00\">passengers_df_raw</text>\n<text text-anchor=\"start\" x=\"319.8\" y=\"-382.9\" font-family=\"Helvetica,sans-Serif\" font-style=\"italic\" font-size=\"14.00\">DataFrame</text>\n</g>\n<!-- passengers_df_raw&#45;&gt;passengers_df -->\n<g id=\"edge2\" class=\"edge\">\n<title>passengers_df_raw&#45;&gt;passengers_df</title>\n<path fill=\"none\" stroke=\"black\" d=\"M305.95,-370.12C297.03,-361.93 288.94,-352.29 283.93,-341.4 272.09,-315.73 272.09,-303.47 283.93,-277.8 287.37,-270.32 292.27,-263.42 297.9,-257.18\"/>\n<polygon fill=\"black\" stroke=\"black\" points=\"300.32,-259.71 304.89,-250.16 295.35,-254.78 300.32,-259.71\"/>\n</g>\n<!-- passengers_df_raw&#45;&gt;passengers_df_pandera_schema_validator -->\n<g id=\"edge4\" class=\"edge\">\n<title>passengers_df_raw&#45;&gt;passengers_df_pandera_schema_validator</title>\n<path fill=\"none\" stroke=\"black\" d=\"M384.55,-370.02C390.99,-363.47 397.85,-356.49 404.53,-349.69\"/>\n<polygon fill=\"black\" stroke=\"black\" points=\"406.67,-352.5 411.18,-342.92 401.67,-347.6 406.67,-352.5\"/>\n</g>\n<!-- _passengers_df_raw_inputs -->\n<g id=\"node14\" class=\"node\">\n<title>_passengers_df_raw_inputs</title>\n<polygon fill=\"none\" stroke=\"black\" stroke-dasharray=\"5,2\" points=\"464.73,-507.6 243.12,-507.6 243.12,-463 464.73,-463 464.73,-507.6\"/>\n<text text-anchor=\"start\" x=\"257.93\" y=\"-479.5\" font-family=\"Helvetica,sans-Serif\" font-size=\"14.00\">raw_passengers_df</text>\n<text text-anchor=\"start\" x=\"381.68\" y=\"-479.5\" font-family=\"Helvetica,sans-Serif\" font-size=\"14.00\">DataFrame</text>\n</g>\n<!-- _passengers_df_raw_inputs&#45;&gt;passengers_df_raw -->\n<g id=\"edge13\" class=\"edge\">\n<title>_passengers_df_raw_inputs&#45;&gt;passengers_df_raw</title>\n<path fill=\"none\" stroke=\"black\" d=\"M353.93,-462.57C353.93,-457.31 353.93,-451.5 353.93,-445.65\"/>\n<polygon fill=\"black\" stroke=\"black\" points=\"357.43,-445.96 353.93,-435.96 350.43,-445.96 357.43,-445.96\"/>\n</g>\n<!-- input -->\n<g id=\"node15\" class=\"node\">\n<title>input</title>\n<polygon fill=\"none\" stroke=\"black\" stroke-dasharray=\"5,2\" points=\"622.92,-503.6 568.92,-503.6 568.92,-467 622.92,-467 622.92,-503.6\"/>\n<text text-anchor=\"middle\" x=\"595.92\" y=\"-479.5\" font-family=\"Helvetica,sans-Serif\" font-size=\"14.00\">input</text>\n</g>\n<!-- function -->\n<g id=\"node16\" class=\"node\">\n<title>function</title>\n<path fill=\"#b4d8e4\" stroke=\"black\" d=\"M539.35,-503.6C539.35,-503.6 494.5,-503.6 494.5,-503.6 488.5,-503.6 482.5,-497.6 482.5,-491.6 482.5,-491.6 482.5,-479 482.5,-479 482.5,-473 488.5,-467 494.5,-467 494.5,-467 539.35,-467 539.35,-467 545.35,-467 551.35,-473 551.35,-479 551.35,-479 551.35,-491.6 551.35,-491.6 551.35,-497.6 545.35,-503.6 539.35,-503.6\"/>\n<text text-anchor=\"middle\" x=\"516.92\" y=\"-479.5\" font-family=\"Helvetica,sans-Serif\" font-size=\"14.00\">function</text>\n</g>\n</g>\n</svg>\n",
      "text/plain": "<graphviz.graphs.Digraph at 0x144a1d030>"
     },
     "execution_count": 12,
     "metadata": {},
     "output_type": "execute_result"
    }
   ],
   "source": [
    "config = {}\n",
    "dr = (\n",
    "        driver.Builder()\n",
    "        .with_modules(data_loader)\n",
    "        .with_config(config)\n",
    "        .build()\n",
    "    )\n",
    "dr.display_all_functions(orient=\"TB\")"
   ]
  },
  {
   "cell_type": "markdown",
   "metadata": {
    "collapsed": false
   },
   "source": [
    "# Let's \"load the data\"\n",
    "Let's run the dataflow and talk about saving artifacts.\n",
    "\n",
    "A few things to note:\n",
    "1. You can get any intermediate node as output in Hamilton.\n",
    "2. There are two means to execute a driver. `.execute()` and `.materialize()`.\n",
    "3. `.execute()` is a way to \"fix\" what is created/returned when execute is called.\n",
    "4. `.materialize()` allows more flexiblity to add/adjust what and how is returned, by \"injecting\" nodes into the dataflow.\n",
    "\n",
    "Let's see the code. First using `.execute()` and then `.materialize()`."
   ]
  },
  {
   "cell_type": "code",
   "execution_count": 13,
   "metadata": {
    "collapsed": false,
    "ExecuteTime": {
     "end_time": "2024-02-09T06:52:49.571834Z",
     "start_time": "2024-02-09T06:52:49.175645Z"
    }
   },
   "outputs": [
    {
     "name": "stdout",
     "output_type": "stream",
     "text": [
      "dict result:\n",
      " dict_keys(['pclass', 'sibsp', 'age', 'name', 'parch', 'target'])\n",
      "0    29.0000\n",
      "1     0.9167\n",
      "2     2.0000\n",
      "3    30.0000\n",
      "4    25.0000\n"
     ]
    },
    {
     "data": {
      "image/svg+xml": "<?xml version=\"1.0\" encoding=\"UTF-8\" standalone=\"no\"?>\n<!DOCTYPE svg PUBLIC \"-//W3C//DTD SVG 1.1//EN\"\n \"http://www.w3.org/Graphics/SVG/1.1/DTD/svg11.dtd\">\n<!-- Generated by graphviz version 9.0.0 (20230911.1827)\n -->\n<!-- Pages: 1 -->\n<svg width=\"494pt\" height=\"560pt\"\n viewBox=\"0.00 0.00 493.93 560.10\" xmlns=\"http://www.w3.org/2000/svg\" xmlns:xlink=\"http://www.w3.org/1999/xlink\">\n<g id=\"graph0\" class=\"graph\" transform=\"scale(1 1) rotate(0) translate(4 556.1)\">\n<polygon fill=\"white\" stroke=\"none\" points=\"-4,4 -4,-556.1 489.93,-556.1 489.93,4 -4,4\"/>\n<g id=\"clust1\" class=\"cluster\">\n<title>cluster__legend</title>\n<polygon fill=\"none\" stroke=\"black\" points=\"315.93,-468.5 315.93,-544.1 477.93,-544.1 477.93,-468.5 315.93,-468.5\"/>\n<text text-anchor=\"middle\" x=\"396.93\" y=\"-526.8\" font-family=\"Helvetica,sans-Serif\" font-size=\"14.00\">Legend</text>\n</g>\n<!-- age -->\n<g id=\"node1\" class=\"node\">\n<title>age</title>\n<path fill=\"#ffc857\" stroke=\"black\" d=\"M47.85,-156.2C47.85,-156.2 12,-156.2 12,-156.2 6,-156.2 0,-150.2 0,-144.2 0,-144.2 0,-104.6 0,-104.6 0,-98.6 6,-92.6 12,-92.6 12,-92.6 47.85,-92.6 47.85,-92.6 53.85,-92.6 59.85,-98.6 59.85,-104.6 59.85,-104.6 59.85,-144.2 59.85,-144.2 59.85,-150.2 53.85,-156.2 47.85,-156.2\"/>\n<text text-anchor=\"start\" x=\"18.3\" y=\"-133.1\" font-family=\"Helvetica,sans-Serif\" font-weight=\"bold\" font-size=\"14.00\">age</text>\n<text text-anchor=\"start\" x=\"10.8\" y=\"-105.1\" font-family=\"Helvetica,sans-Serif\" font-style=\"italic\" font-size=\"14.00\">Series</text>\n</g>\n<!-- passengers_df -->\n<g id=\"node2\" class=\"node\">\n<title>passengers_df</title>\n<path fill=\"#b4d8e4\" stroke=\"black\" d=\"M278.35,-248.8C278.35,-248.8 185.5,-248.8 185.5,-248.8 179.5,-248.8 173.5,-242.8 173.5,-236.8 173.5,-236.8 173.5,-197.2 173.5,-197.2 173.5,-191.2 179.5,-185.2 185.5,-185.2 185.5,-185.2 278.35,-185.2 278.35,-185.2 284.35,-185.2 290.35,-191.2 290.35,-197.2 290.35,-197.2 290.35,-236.8 290.35,-236.8 290.35,-242.8 284.35,-248.8 278.35,-248.8\"/>\n<text text-anchor=\"start\" x=\"184.3\" y=\"-225.7\" font-family=\"Helvetica,sans-Serif\" font-weight=\"bold\" font-size=\"14.00\">passengers_df</text>\n<text text-anchor=\"start\" x=\"197.8\" y=\"-197.7\" font-family=\"Helvetica,sans-Serif\" font-style=\"italic\" font-size=\"14.00\">DataFrame</text>\n</g>\n<!-- passengers_df&#45;&gt;age -->\n<g id=\"edge1\" class=\"edge\">\n<title>passengers_df&#45;&gt;age</title>\n<path fill=\"none\" stroke=\"black\" d=\"M173.01,-199.38C143.62,-189.96 107.79,-176.78 69.67,-156.02\"/>\n<polygon fill=\"black\" stroke=\"black\" points=\"71.69,-153.14 61.25,-151.32 68.28,-159.25 71.69,-153.14\"/>\n</g>\n<!-- parch -->\n<g id=\"node4\" class=\"node\">\n<title>parch</title>\n<path fill=\"#ffc857\" stroke=\"black\" d=\"M125.85,-156.2C125.85,-156.2 90,-156.2 90,-156.2 84,-156.2 78,-150.2 78,-144.2 78,-144.2 78,-104.6 78,-104.6 78,-98.6 84,-92.6 90,-92.6 90,-92.6 125.85,-92.6 125.85,-92.6 131.85,-92.6 137.85,-98.6 137.85,-104.6 137.85,-104.6 137.85,-144.2 137.85,-144.2 137.85,-150.2 131.85,-156.2 125.85,-156.2\"/>\n<text text-anchor=\"start\" x=\"89.55\" y=\"-133.1\" font-family=\"Helvetica,sans-Serif\" font-weight=\"bold\" font-size=\"14.00\">parch</text>\n<text text-anchor=\"start\" x=\"88.8\" y=\"-105.1\" font-family=\"Helvetica,sans-Serif\" font-style=\"italic\" font-size=\"14.00\">Series</text>\n</g>\n<!-- passengers_df&#45;&gt;parch -->\n<g id=\"edge5\" class=\"edge\">\n<title>passengers_df&#45;&gt;parch</title>\n<path fill=\"none\" stroke=\"black\" d=\"M186.6,-184.8C175.59,-177.07 163.79,-168.65 147.18,-156.29\"/>\n<polygon fill=\"black\" stroke=\"black\" points=\"149.35,-153.54 139.24,-150.35 145.15,-159.14 149.35,-153.54\"/>\n</g>\n<!-- pclass -->\n<g id=\"node5\" class=\"node\">\n<title>pclass</title>\n<path fill=\"#ffc857\" stroke=\"black\" d=\"M207.72,-156.2C207.72,-156.2 168.13,-156.2 168.13,-156.2 162.13,-156.2 156.13,-150.2 156.13,-144.2 156.13,-144.2 156.13,-104.6 156.13,-104.6 156.13,-98.6 162.13,-92.6 168.13,-92.6 168.13,-92.6 207.72,-92.6 207.72,-92.6 213.72,-92.6 219.72,-98.6 219.72,-104.6 219.72,-104.6 219.72,-144.2 219.72,-144.2 219.72,-150.2 213.72,-156.2 207.72,-156.2\"/>\n<text text-anchor=\"start\" x=\"166.93\" y=\"-133.1\" font-family=\"Helvetica,sans-Serif\" font-weight=\"bold\" font-size=\"14.00\">pclass</text>\n<text text-anchor=\"start\" x=\"168.8\" y=\"-105.1\" font-family=\"Helvetica,sans-Serif\" font-style=\"italic\" font-size=\"14.00\">Series</text>\n</g>\n<!-- passengers_df&#45;&gt;pclass -->\n<g id=\"edge6\" class=\"edge\">\n<title>passengers_df&#45;&gt;pclass</title>\n<path fill=\"none\" stroke=\"black\" d=\"M216.78,-184.82C213.95,-178.98 210.94,-172.8 207.99,-166.71\"/>\n<polygon fill=\"black\" stroke=\"black\" points=\"211.27,-165.46 203.76,-158 204.98,-168.52 211.27,-165.46\"/>\n</g>\n<!-- survived -->\n<g id=\"node6\" class=\"node\">\n<title>survived</title>\n<path fill=\"#b4d8e4\" stroke=\"black\" d=\"M302.48,-156.2C302.48,-156.2 249.38,-156.2 249.38,-156.2 243.38,-156.2 237.38,-150.2 237.38,-144.2 237.38,-144.2 237.38,-104.6 237.38,-104.6 237.38,-98.6 243.38,-92.6 249.38,-92.6 249.38,-92.6 302.48,-92.6 302.48,-92.6 308.48,-92.6 314.48,-98.6 314.48,-104.6 314.48,-104.6 314.48,-144.2 314.48,-144.2 314.48,-150.2 308.48,-156.2 302.48,-156.2\"/>\n<text text-anchor=\"start\" x=\"248.18\" y=\"-133.1\" font-family=\"Helvetica,sans-Serif\" font-weight=\"bold\" font-size=\"14.00\">survived</text>\n<text text-anchor=\"start\" x=\"256.8\" y=\"-105.1\" font-family=\"Helvetica,sans-Serif\" font-style=\"italic\" font-size=\"14.00\">Series</text>\n</g>\n<!-- passengers_df&#45;&gt;survived -->\n<g id=\"edge7\" class=\"edge\">\n<title>passengers_df&#45;&gt;survived</title>\n<path fill=\"none\" stroke=\"black\" d=\"M247.07,-184.82C249.9,-178.98 252.91,-172.8 255.86,-166.71\"/>\n<polygon fill=\"black\" stroke=\"black\" points=\"258.87,-168.52 260.09,-158 252.58,-165.46 258.87,-168.52\"/>\n</g>\n<!-- name -->\n<g id=\"node7\" class=\"node\">\n<title>name</title>\n<path fill=\"#ffc857\" stroke=\"black\" d=\"M379.85,-156.2C379.85,-156.2 344,-156.2 344,-156.2 338,-156.2 332,-150.2 332,-144.2 332,-144.2 332,-104.6 332,-104.6 332,-98.6 338,-92.6 344,-92.6 344,-92.6 379.85,-92.6 379.85,-92.6 385.85,-92.6 391.85,-98.6 391.85,-104.6 391.85,-104.6 391.85,-144.2 391.85,-144.2 391.85,-150.2 385.85,-156.2 379.85,-156.2\"/>\n<text text-anchor=\"start\" x=\"343.93\" y=\"-133.1\" font-family=\"Helvetica,sans-Serif\" font-weight=\"bold\" font-size=\"14.00\">name</text>\n<text text-anchor=\"start\" x=\"342.8\" y=\"-105.1\" font-family=\"Helvetica,sans-Serif\" font-style=\"italic\" font-size=\"14.00\">Series</text>\n</g>\n<!-- passengers_df&#45;&gt;name -->\n<g id=\"edge8\" class=\"edge\">\n<title>passengers_df&#45;&gt;name</title>\n<path fill=\"none\" stroke=\"black\" d=\"M281.75,-184.97C293.55,-177.31 306.12,-168.9 322.77,-156.87\"/>\n<polygon fill=\"black\" stroke=\"black\" points=\"324.63,-159.85 330.64,-151.13 320.5,-154.19 324.63,-159.85\"/>\n</g>\n<!-- sibsp -->\n<g id=\"node8\" class=\"node\">\n<title>sibsp</title>\n<path fill=\"#ffc857\" stroke=\"black\" d=\"M457.85,-156.2C457.85,-156.2 422,-156.2 422,-156.2 416,-156.2 410,-150.2 410,-144.2 410,-144.2 410,-104.6 410,-104.6 410,-98.6 416,-92.6 422,-92.6 422,-92.6 457.85,-92.6 457.85,-92.6 463.85,-92.6 469.85,-98.6 469.85,-104.6 469.85,-104.6 469.85,-144.2 469.85,-144.2 469.85,-150.2 463.85,-156.2 457.85,-156.2\"/>\n<text text-anchor=\"start\" x=\"422.3\" y=\"-133.1\" font-family=\"Helvetica,sans-Serif\" font-weight=\"bold\" font-size=\"14.00\">sibsp</text>\n<text text-anchor=\"start\" x=\"420.8\" y=\"-105.1\" font-family=\"Helvetica,sans-Serif\" font-style=\"italic\" font-size=\"14.00\">Series</text>\n</g>\n<!-- passengers_df&#45;&gt;sibsp -->\n<g id=\"edge9\" class=\"edge\">\n<title>passengers_df&#45;&gt;sibsp</title>\n<path fill=\"none\" stroke=\"black\" d=\"M290.66,-200.42C321.58,-191.05 359.83,-177.62 399.97,-156.11\"/>\n<polygon fill=\"black\" stroke=\"black\" points=\"401.54,-159.24 408.61,-151.35 398.16,-153.11 401.54,-159.24\"/>\n</g>\n<!-- passengers_df_pandera_schema_validator -->\n<g id=\"node3\" class=\"node\">\n<title>passengers_df_pandera_schema_validator</title>\n<path fill=\"#b4d8e4\" stroke=\"black\" d=\"M458.48,-341.4C458.48,-341.4 183.38,-341.4 183.38,-341.4 177.38,-341.4 171.38,-335.4 171.38,-329.4 171.38,-329.4 171.38,-289.8 171.38,-289.8 171.38,-283.8 177.38,-277.8 183.38,-277.8 183.38,-277.8 458.48,-277.8 458.48,-277.8 464.48,-277.8 470.48,-283.8 470.48,-289.8 470.48,-289.8 470.48,-329.4 470.48,-329.4 470.48,-335.4 464.48,-341.4 458.48,-341.4\"/>\n<text text-anchor=\"start\" x=\"182.18\" y=\"-318.3\" font-family=\"Helvetica,sans-Serif\" font-weight=\"bold\" font-size=\"14.00\">passengers_df_pandera_schema_validator</text>\n<text text-anchor=\"start\" x=\"272.18\" y=\"-290.3\" font-family=\"Helvetica,sans-Serif\" font-style=\"italic\" font-size=\"14.00\">ValidationResult</text>\n</g>\n<!-- passengers_df_pandera_schema_validator&#45;&gt;passengers_df -->\n<g id=\"edge3\" class=\"edge\">\n<title>passengers_df_pandera_schema_validator&#45;&gt;passengers_df</title>\n<path fill=\"none\" stroke=\"black\" d=\"M290.3,-277.42C283.86,-270.87 277,-263.89 270.32,-257.09\"/>\n<polygon fill=\"black\" stroke=\"black\" points=\"273.18,-255 263.67,-250.32 268.18,-259.9 273.18,-255\"/>\n</g>\n<!-- target -->\n<g id=\"node10\" class=\"node\">\n<title>target</title>\n<path fill=\"#ffc857\" stroke=\"black\" d=\"M293.85,-63.6C293.85,-63.6 258,-63.6 258,-63.6 252,-63.6 246,-57.6 246,-51.6 246,-51.6 246,-12 246,-12 246,-6 252,0 258,0 258,0 293.85,0 293.85,0 299.85,0 305.85,-6 305.85,-12 305.85,-12 305.85,-51.6 305.85,-51.6 305.85,-57.6 299.85,-63.6 293.85,-63.6\"/>\n<text text-anchor=\"start\" x=\"257.18\" y=\"-40.5\" font-family=\"Helvetica,sans-Serif\" font-weight=\"bold\" font-size=\"14.00\">target</text>\n<text text-anchor=\"start\" x=\"256.8\" y=\"-12.5\" font-family=\"Helvetica,sans-Serif\" font-style=\"italic\" font-size=\"14.00\">Series</text>\n</g>\n<!-- survived&#45;&gt;target -->\n<g id=\"edge11\" class=\"edge\">\n<title>survived&#45;&gt;target</title>\n<path fill=\"none\" stroke=\"black\" d=\"M275.93,-92.22C275.93,-86.81 275.93,-81.1 275.93,-75.45\"/>\n<polygon fill=\"black\" stroke=\"black\" points=\"279.43,-75.55 275.93,-65.55 272.43,-75.55 279.43,-75.55\"/>\n</g>\n<!-- passengers_df_raw -->\n<g id=\"node9\" class=\"node\">\n<title>passengers_df_raw</title>\n<path fill=\"#b4d8e4\" stroke=\"black\" d=\"M294.1,-434C294.1,-434 169.75,-434 169.75,-434 163.75,-434 157.75,-428 157.75,-422 157.75,-422 157.75,-382.4 157.75,-382.4 157.75,-376.4 163.75,-370.4 169.75,-370.4 169.75,-370.4 294.1,-370.4 294.1,-370.4 300.1,-370.4 306.1,-376.4 306.1,-382.4 306.1,-382.4 306.1,-422 306.1,-422 306.1,-428 300.1,-434 294.1,-434\"/>\n<text text-anchor=\"start\" x=\"168.55\" y=\"-410.9\" font-family=\"Helvetica,sans-Serif\" font-weight=\"bold\" font-size=\"14.00\">passengers_df_raw</text>\n<text text-anchor=\"start\" x=\"197.8\" y=\"-382.9\" font-family=\"Helvetica,sans-Serif\" font-style=\"italic\" font-size=\"14.00\">DataFrame</text>\n</g>\n<!-- passengers_df_raw&#45;&gt;passengers_df -->\n<g id=\"edge2\" class=\"edge\">\n<title>passengers_df_raw&#45;&gt;passengers_df</title>\n<path fill=\"none\" stroke=\"black\" d=\"M183.95,-370.12C175.03,-361.93 166.94,-352.29 161.93,-341.4 150.09,-315.73 150.09,-303.47 161.93,-277.8 165.37,-270.32 170.27,-263.42 175.9,-257.18\"/>\n<polygon fill=\"black\" stroke=\"black\" points=\"178.32,-259.71 182.89,-250.16 173.35,-254.78 178.32,-259.71\"/>\n</g>\n<!-- passengers_df_raw&#45;&gt;passengers_df_pandera_schema_validator -->\n<g id=\"edge4\" class=\"edge\">\n<title>passengers_df_raw&#45;&gt;passengers_df_pandera_schema_validator</title>\n<path fill=\"none\" stroke=\"black\" d=\"M262.55,-370.02C268.99,-363.47 275.85,-356.49 282.53,-349.69\"/>\n<polygon fill=\"black\" stroke=\"black\" points=\"284.67,-352.5 289.18,-342.92 279.67,-347.6 284.67,-352.5\"/>\n</g>\n<!-- raw_passengers_df -->\n<g id=\"node11\" class=\"node\">\n<title>raw_passengers_df</title>\n<path fill=\"#b4d8e4\" stroke=\"black\" d=\"M294.1,-526.6C294.1,-526.6 169.75,-526.6 169.75,-526.6 163.75,-526.6 157.75,-520.6 157.75,-514.6 157.75,-514.6 157.75,-475 157.75,-475 157.75,-469 163.75,-463 169.75,-463 169.75,-463 294.1,-463 294.1,-463 300.1,-463 306.1,-469 306.1,-475 306.1,-475 306.1,-514.6 306.1,-514.6 306.1,-520.6 300.1,-526.6 294.1,-526.6\"/>\n<text text-anchor=\"start\" x=\"168.55\" y=\"-503.5\" font-family=\"Helvetica,sans-Serif\" font-weight=\"bold\" font-size=\"14.00\">raw_passengers_df</text>\n<text text-anchor=\"start\" x=\"197.8\" y=\"-475.5\" font-family=\"Helvetica,sans-Serif\" font-style=\"italic\" font-size=\"14.00\">DataFrame</text>\n</g>\n<!-- raw_passengers_df&#45;&gt;passengers_df_raw -->\n<g id=\"edge10\" class=\"edge\">\n<title>raw_passengers_df&#45;&gt;passengers_df_raw</title>\n<path fill=\"none\" stroke=\"black\" d=\"M231.93,-462.62C231.93,-457.21 231.93,-451.5 231.93,-445.85\"/>\n<polygon fill=\"black\" stroke=\"black\" points=\"235.43,-445.95 231.93,-435.95 228.43,-445.95 235.43,-445.95\"/>\n</g>\n<!-- function -->\n<g id=\"node12\" class=\"node\">\n<title>function</title>\n<path fill=\"#b4d8e4\" stroke=\"black\" d=\"M458.35,-513.1C458.35,-513.1 413.5,-513.1 413.5,-513.1 407.5,-513.1 401.5,-507.1 401.5,-501.1 401.5,-501.1 401.5,-488.5 401.5,-488.5 401.5,-482.5 407.5,-476.5 413.5,-476.5 413.5,-476.5 458.35,-476.5 458.35,-476.5 464.35,-476.5 470.35,-482.5 470.35,-488.5 470.35,-488.5 470.35,-501.1 470.35,-501.1 470.35,-507.1 464.35,-513.1 458.35,-513.1\"/>\n<text text-anchor=\"middle\" x=\"435.93\" y=\"-489\" font-family=\"Helvetica,sans-Serif\" font-size=\"14.00\">function</text>\n</g>\n<!-- output -->\n<g id=\"node13\" class=\"node\">\n<title>output</title>\n<path fill=\"#ffc857\" stroke=\"black\" d=\"M371.48,-513.1C371.48,-513.1 336.38,-513.1 336.38,-513.1 330.38,-513.1 324.38,-507.1 324.38,-501.1 324.38,-501.1 324.38,-488.5 324.38,-488.5 324.38,-482.5 330.38,-476.5 336.38,-476.5 336.38,-476.5 371.48,-476.5 371.48,-476.5 377.48,-476.5 383.48,-482.5 383.48,-488.5 383.48,-488.5 383.48,-501.1 383.48,-501.1 383.48,-507.1 377.48,-513.1 371.48,-513.1\"/>\n<text text-anchor=\"middle\" x=\"353.93\" y=\"-489\" font-family=\"Helvetica,sans-Serif\" font-size=\"14.00\">output</text>\n</g>\n</g>\n</svg>\n",
      "text/plain": "<graphviz.graphs.Digraph at 0x14539ca00>"
     },
     "execution_count": 13,
     "metadata": {},
     "output_type": "execute_result"
    }
   ],
   "source": [
    "\n",
    "config = {\"loader\": \"openml\"}\n",
    "driver_1 = (\n",
    "        driver.Builder()\n",
    "        .with_modules(data_loader)\n",
    "        .with_config(config)\n",
    "        .with_adapter(base.DefaultAdapter())\n",
    "        .build()# .execute() will return a dictionary\n",
    "    )\n",
    "outputs = [\"pclass\", \"sibsp\", \"age\", \"name\", \"parch\", data_loader.target]\n",
    "# Using .execute()\n",
    "result_dict = driver_1.execute(outputs)\n",
    "# we got a dictionary back\n",
    "print(\"dict result:\\n\", result_dict.keys())\n",
    "print(result_dict[\"age\"].head().to_string())\n",
    "\n",
    "# note: this is what execution looks like for both\n",
    "driver_1.visualize_execution(outputs, orient=\"TB\")"
   ]
  },
  {
   "cell_type": "code",
   "execution_count": 14,
   "metadata": {
    "collapsed": false,
    "ExecuteTime": {
     "end_time": "2024-02-09T06:52:50.877707Z",
     "start_time": "2024-02-09T06:52:50.485956Z"
    }
   },
   "outputs": [
    {
     "name": "stdout",
     "output_type": "stream",
     "text": [
      "df result: \n",
      "    pclass  sibsp      age                                             name  parch target\n",
      "0       1      0  29.0000                    Allen, Miss. Elisabeth Walton      0      1\n",
      "1       1      1   0.9167                   Allison, Master. Hudson Trevor      2      1\n",
      "2       1      1   2.0000                     Allison, Miss. Helen Loraine      2      0\n",
      "3       1      1  30.0000             Allison, Mr. Hudson Joshua Creighton      2      0\n",
      "4       1      1  25.0000  Allison, Mrs. Hudson J C (Bessie Waldo Daniels)      2      0\n"
     ]
    },
    {
     "data": {
      "image/svg+xml": "<?xml version=\"1.0\" encoding=\"UTF-8\" standalone=\"no\"?>\n<!DOCTYPE svg PUBLIC \"-//W3C//DTD SVG 1.1//EN\"\n \"http://www.w3.org/Graphics/SVG/1.1/DTD/svg11.dtd\">\n<!-- Generated by graphviz version 9.0.0 (20230911.1827)\n -->\n<!-- Pages: 1 -->\n<svg width=\"494pt\" height=\"560pt\"\n viewBox=\"0.00 0.00 493.93 560.10\" xmlns=\"http://www.w3.org/2000/svg\" xmlns:xlink=\"http://www.w3.org/1999/xlink\">\n<g id=\"graph0\" class=\"graph\" transform=\"scale(1 1) rotate(0) translate(4 556.1)\">\n<polygon fill=\"white\" stroke=\"none\" points=\"-4,4 -4,-556.1 489.93,-556.1 489.93,4 -4,4\"/>\n<g id=\"clust1\" class=\"cluster\">\n<title>cluster__legend</title>\n<polygon fill=\"none\" stroke=\"black\" points=\"315.93,-468.5 315.93,-544.1 477.93,-544.1 477.93,-468.5 315.93,-468.5\"/>\n<text text-anchor=\"middle\" x=\"396.93\" y=\"-526.8\" font-family=\"Helvetica,sans-Serif\" font-size=\"14.00\">Legend</text>\n</g>\n<!-- age -->\n<g id=\"node1\" class=\"node\">\n<title>age</title>\n<path fill=\"#ffc857\" stroke=\"black\" d=\"M47.85,-156.2C47.85,-156.2 12,-156.2 12,-156.2 6,-156.2 0,-150.2 0,-144.2 0,-144.2 0,-104.6 0,-104.6 0,-98.6 6,-92.6 12,-92.6 12,-92.6 47.85,-92.6 47.85,-92.6 53.85,-92.6 59.85,-98.6 59.85,-104.6 59.85,-104.6 59.85,-144.2 59.85,-144.2 59.85,-150.2 53.85,-156.2 47.85,-156.2\"/>\n<text text-anchor=\"start\" x=\"18.3\" y=\"-133.1\" font-family=\"Helvetica,sans-Serif\" font-weight=\"bold\" font-size=\"14.00\">age</text>\n<text text-anchor=\"start\" x=\"10.8\" y=\"-105.1\" font-family=\"Helvetica,sans-Serif\" font-style=\"italic\" font-size=\"14.00\">Series</text>\n</g>\n<!-- passengers_df -->\n<g id=\"node2\" class=\"node\">\n<title>passengers_df</title>\n<path fill=\"#b4d8e4\" stroke=\"black\" d=\"M278.35,-248.8C278.35,-248.8 185.5,-248.8 185.5,-248.8 179.5,-248.8 173.5,-242.8 173.5,-236.8 173.5,-236.8 173.5,-197.2 173.5,-197.2 173.5,-191.2 179.5,-185.2 185.5,-185.2 185.5,-185.2 278.35,-185.2 278.35,-185.2 284.35,-185.2 290.35,-191.2 290.35,-197.2 290.35,-197.2 290.35,-236.8 290.35,-236.8 290.35,-242.8 284.35,-248.8 278.35,-248.8\"/>\n<text text-anchor=\"start\" x=\"184.3\" y=\"-225.7\" font-family=\"Helvetica,sans-Serif\" font-weight=\"bold\" font-size=\"14.00\">passengers_df</text>\n<text text-anchor=\"start\" x=\"197.8\" y=\"-197.7\" font-family=\"Helvetica,sans-Serif\" font-style=\"italic\" font-size=\"14.00\">DataFrame</text>\n</g>\n<!-- passengers_df&#45;&gt;age -->\n<g id=\"edge1\" class=\"edge\">\n<title>passengers_df&#45;&gt;age</title>\n<path fill=\"none\" stroke=\"black\" d=\"M173.01,-199.38C143.62,-189.96 107.79,-176.78 69.67,-156.02\"/>\n<polygon fill=\"black\" stroke=\"black\" points=\"71.69,-153.14 61.25,-151.32 68.28,-159.25 71.69,-153.14\"/>\n</g>\n<!-- parch -->\n<g id=\"node4\" class=\"node\">\n<title>parch</title>\n<path fill=\"#ffc857\" stroke=\"black\" d=\"M125.85,-156.2C125.85,-156.2 90,-156.2 90,-156.2 84,-156.2 78,-150.2 78,-144.2 78,-144.2 78,-104.6 78,-104.6 78,-98.6 84,-92.6 90,-92.6 90,-92.6 125.85,-92.6 125.85,-92.6 131.85,-92.6 137.85,-98.6 137.85,-104.6 137.85,-104.6 137.85,-144.2 137.85,-144.2 137.85,-150.2 131.85,-156.2 125.85,-156.2\"/>\n<text text-anchor=\"start\" x=\"89.55\" y=\"-133.1\" font-family=\"Helvetica,sans-Serif\" font-weight=\"bold\" font-size=\"14.00\">parch</text>\n<text text-anchor=\"start\" x=\"88.8\" y=\"-105.1\" font-family=\"Helvetica,sans-Serif\" font-style=\"italic\" font-size=\"14.00\">Series</text>\n</g>\n<!-- passengers_df&#45;&gt;parch -->\n<g id=\"edge5\" class=\"edge\">\n<title>passengers_df&#45;&gt;parch</title>\n<path fill=\"none\" stroke=\"black\" d=\"M186.6,-184.8C175.59,-177.07 163.79,-168.65 147.18,-156.29\"/>\n<polygon fill=\"black\" stroke=\"black\" points=\"149.35,-153.54 139.24,-150.35 145.15,-159.14 149.35,-153.54\"/>\n</g>\n<!-- pclass -->\n<g id=\"node5\" class=\"node\">\n<title>pclass</title>\n<path fill=\"#ffc857\" stroke=\"black\" d=\"M207.72,-156.2C207.72,-156.2 168.13,-156.2 168.13,-156.2 162.13,-156.2 156.13,-150.2 156.13,-144.2 156.13,-144.2 156.13,-104.6 156.13,-104.6 156.13,-98.6 162.13,-92.6 168.13,-92.6 168.13,-92.6 207.72,-92.6 207.72,-92.6 213.72,-92.6 219.72,-98.6 219.72,-104.6 219.72,-104.6 219.72,-144.2 219.72,-144.2 219.72,-150.2 213.72,-156.2 207.72,-156.2\"/>\n<text text-anchor=\"start\" x=\"166.93\" y=\"-133.1\" font-family=\"Helvetica,sans-Serif\" font-weight=\"bold\" font-size=\"14.00\">pclass</text>\n<text text-anchor=\"start\" x=\"168.8\" y=\"-105.1\" font-family=\"Helvetica,sans-Serif\" font-style=\"italic\" font-size=\"14.00\">Series</text>\n</g>\n<!-- passengers_df&#45;&gt;pclass -->\n<g id=\"edge6\" class=\"edge\">\n<title>passengers_df&#45;&gt;pclass</title>\n<path fill=\"none\" stroke=\"black\" d=\"M216.78,-184.82C213.95,-178.98 210.94,-172.8 207.99,-166.71\"/>\n<polygon fill=\"black\" stroke=\"black\" points=\"211.27,-165.46 203.76,-158 204.98,-168.52 211.27,-165.46\"/>\n</g>\n<!-- survived -->\n<g id=\"node6\" class=\"node\">\n<title>survived</title>\n<path fill=\"#b4d8e4\" stroke=\"black\" d=\"M302.48,-156.2C302.48,-156.2 249.38,-156.2 249.38,-156.2 243.38,-156.2 237.38,-150.2 237.38,-144.2 237.38,-144.2 237.38,-104.6 237.38,-104.6 237.38,-98.6 243.38,-92.6 249.38,-92.6 249.38,-92.6 302.48,-92.6 302.48,-92.6 308.48,-92.6 314.48,-98.6 314.48,-104.6 314.48,-104.6 314.48,-144.2 314.48,-144.2 314.48,-150.2 308.48,-156.2 302.48,-156.2\"/>\n<text text-anchor=\"start\" x=\"248.18\" y=\"-133.1\" font-family=\"Helvetica,sans-Serif\" font-weight=\"bold\" font-size=\"14.00\">survived</text>\n<text text-anchor=\"start\" x=\"256.8\" y=\"-105.1\" font-family=\"Helvetica,sans-Serif\" font-style=\"italic\" font-size=\"14.00\">Series</text>\n</g>\n<!-- passengers_df&#45;&gt;survived -->\n<g id=\"edge7\" class=\"edge\">\n<title>passengers_df&#45;&gt;survived</title>\n<path fill=\"none\" stroke=\"black\" d=\"M247.07,-184.82C249.9,-178.98 252.91,-172.8 255.86,-166.71\"/>\n<polygon fill=\"black\" stroke=\"black\" points=\"258.87,-168.52 260.09,-158 252.58,-165.46 258.87,-168.52\"/>\n</g>\n<!-- name -->\n<g id=\"node7\" class=\"node\">\n<title>name</title>\n<path fill=\"#ffc857\" stroke=\"black\" d=\"M379.85,-156.2C379.85,-156.2 344,-156.2 344,-156.2 338,-156.2 332,-150.2 332,-144.2 332,-144.2 332,-104.6 332,-104.6 332,-98.6 338,-92.6 344,-92.6 344,-92.6 379.85,-92.6 379.85,-92.6 385.85,-92.6 391.85,-98.6 391.85,-104.6 391.85,-104.6 391.85,-144.2 391.85,-144.2 391.85,-150.2 385.85,-156.2 379.85,-156.2\"/>\n<text text-anchor=\"start\" x=\"343.93\" y=\"-133.1\" font-family=\"Helvetica,sans-Serif\" font-weight=\"bold\" font-size=\"14.00\">name</text>\n<text text-anchor=\"start\" x=\"342.8\" y=\"-105.1\" font-family=\"Helvetica,sans-Serif\" font-style=\"italic\" font-size=\"14.00\">Series</text>\n</g>\n<!-- passengers_df&#45;&gt;name -->\n<g id=\"edge8\" class=\"edge\">\n<title>passengers_df&#45;&gt;name</title>\n<path fill=\"none\" stroke=\"black\" d=\"M281.75,-184.97C293.55,-177.31 306.12,-168.9 322.77,-156.87\"/>\n<polygon fill=\"black\" stroke=\"black\" points=\"324.63,-159.85 330.64,-151.13 320.5,-154.19 324.63,-159.85\"/>\n</g>\n<!-- sibsp -->\n<g id=\"node8\" class=\"node\">\n<title>sibsp</title>\n<path fill=\"#ffc857\" stroke=\"black\" d=\"M457.85,-156.2C457.85,-156.2 422,-156.2 422,-156.2 416,-156.2 410,-150.2 410,-144.2 410,-144.2 410,-104.6 410,-104.6 410,-98.6 416,-92.6 422,-92.6 422,-92.6 457.85,-92.6 457.85,-92.6 463.85,-92.6 469.85,-98.6 469.85,-104.6 469.85,-104.6 469.85,-144.2 469.85,-144.2 469.85,-150.2 463.85,-156.2 457.85,-156.2\"/>\n<text text-anchor=\"start\" x=\"422.3\" y=\"-133.1\" font-family=\"Helvetica,sans-Serif\" font-weight=\"bold\" font-size=\"14.00\">sibsp</text>\n<text text-anchor=\"start\" x=\"420.8\" y=\"-105.1\" font-family=\"Helvetica,sans-Serif\" font-style=\"italic\" font-size=\"14.00\">Series</text>\n</g>\n<!-- passengers_df&#45;&gt;sibsp -->\n<g id=\"edge9\" class=\"edge\">\n<title>passengers_df&#45;&gt;sibsp</title>\n<path fill=\"none\" stroke=\"black\" d=\"M290.66,-200.42C321.58,-191.05 359.83,-177.62 399.97,-156.11\"/>\n<polygon fill=\"black\" stroke=\"black\" points=\"401.54,-159.24 408.61,-151.35 398.16,-153.11 401.54,-159.24\"/>\n</g>\n<!-- passengers_df_pandera_schema_validator -->\n<g id=\"node3\" class=\"node\">\n<title>passengers_df_pandera_schema_validator</title>\n<path fill=\"#b4d8e4\" stroke=\"black\" d=\"M458.48,-341.4C458.48,-341.4 183.38,-341.4 183.38,-341.4 177.38,-341.4 171.38,-335.4 171.38,-329.4 171.38,-329.4 171.38,-289.8 171.38,-289.8 171.38,-283.8 177.38,-277.8 183.38,-277.8 183.38,-277.8 458.48,-277.8 458.48,-277.8 464.48,-277.8 470.48,-283.8 470.48,-289.8 470.48,-289.8 470.48,-329.4 470.48,-329.4 470.48,-335.4 464.48,-341.4 458.48,-341.4\"/>\n<text text-anchor=\"start\" x=\"182.18\" y=\"-318.3\" font-family=\"Helvetica,sans-Serif\" font-weight=\"bold\" font-size=\"14.00\">passengers_df_pandera_schema_validator</text>\n<text text-anchor=\"start\" x=\"272.18\" y=\"-290.3\" font-family=\"Helvetica,sans-Serif\" font-style=\"italic\" font-size=\"14.00\">ValidationResult</text>\n</g>\n<!-- passengers_df_pandera_schema_validator&#45;&gt;passengers_df -->\n<g id=\"edge3\" class=\"edge\">\n<title>passengers_df_pandera_schema_validator&#45;&gt;passengers_df</title>\n<path fill=\"none\" stroke=\"black\" d=\"M290.3,-277.42C283.86,-270.87 277,-263.89 270.32,-257.09\"/>\n<polygon fill=\"black\" stroke=\"black\" points=\"273.18,-255 263.67,-250.32 268.18,-259.9 273.18,-255\"/>\n</g>\n<!-- target -->\n<g id=\"node10\" class=\"node\">\n<title>target</title>\n<path fill=\"#ffc857\" stroke=\"black\" d=\"M293.85,-63.6C293.85,-63.6 258,-63.6 258,-63.6 252,-63.6 246,-57.6 246,-51.6 246,-51.6 246,-12 246,-12 246,-6 252,0 258,0 258,0 293.85,0 293.85,0 299.85,0 305.85,-6 305.85,-12 305.85,-12 305.85,-51.6 305.85,-51.6 305.85,-57.6 299.85,-63.6 293.85,-63.6\"/>\n<text text-anchor=\"start\" x=\"257.18\" y=\"-40.5\" font-family=\"Helvetica,sans-Serif\" font-weight=\"bold\" font-size=\"14.00\">target</text>\n<text text-anchor=\"start\" x=\"256.8\" y=\"-12.5\" font-family=\"Helvetica,sans-Serif\" font-style=\"italic\" font-size=\"14.00\">Series</text>\n</g>\n<!-- survived&#45;&gt;target -->\n<g id=\"edge11\" class=\"edge\">\n<title>survived&#45;&gt;target</title>\n<path fill=\"none\" stroke=\"black\" d=\"M275.93,-92.22C275.93,-86.81 275.93,-81.1 275.93,-75.45\"/>\n<polygon fill=\"black\" stroke=\"black\" points=\"279.43,-75.55 275.93,-65.55 272.43,-75.55 279.43,-75.55\"/>\n</g>\n<!-- passengers_df_raw -->\n<g id=\"node9\" class=\"node\">\n<title>passengers_df_raw</title>\n<path fill=\"#b4d8e4\" stroke=\"black\" d=\"M294.1,-434C294.1,-434 169.75,-434 169.75,-434 163.75,-434 157.75,-428 157.75,-422 157.75,-422 157.75,-382.4 157.75,-382.4 157.75,-376.4 163.75,-370.4 169.75,-370.4 169.75,-370.4 294.1,-370.4 294.1,-370.4 300.1,-370.4 306.1,-376.4 306.1,-382.4 306.1,-382.4 306.1,-422 306.1,-422 306.1,-428 300.1,-434 294.1,-434\"/>\n<text text-anchor=\"start\" x=\"168.55\" y=\"-410.9\" font-family=\"Helvetica,sans-Serif\" font-weight=\"bold\" font-size=\"14.00\">passengers_df_raw</text>\n<text text-anchor=\"start\" x=\"197.8\" y=\"-382.9\" font-family=\"Helvetica,sans-Serif\" font-style=\"italic\" font-size=\"14.00\">DataFrame</text>\n</g>\n<!-- passengers_df_raw&#45;&gt;passengers_df -->\n<g id=\"edge2\" class=\"edge\">\n<title>passengers_df_raw&#45;&gt;passengers_df</title>\n<path fill=\"none\" stroke=\"black\" d=\"M183.95,-370.12C175.03,-361.93 166.94,-352.29 161.93,-341.4 150.09,-315.73 150.09,-303.47 161.93,-277.8 165.37,-270.32 170.27,-263.42 175.9,-257.18\"/>\n<polygon fill=\"black\" stroke=\"black\" points=\"178.32,-259.71 182.89,-250.16 173.35,-254.78 178.32,-259.71\"/>\n</g>\n<!-- passengers_df_raw&#45;&gt;passengers_df_pandera_schema_validator -->\n<g id=\"edge4\" class=\"edge\">\n<title>passengers_df_raw&#45;&gt;passengers_df_pandera_schema_validator</title>\n<path fill=\"none\" stroke=\"black\" d=\"M262.55,-370.02C268.99,-363.47 275.85,-356.49 282.53,-349.69\"/>\n<polygon fill=\"black\" stroke=\"black\" points=\"284.67,-352.5 289.18,-342.92 279.67,-347.6 284.67,-352.5\"/>\n</g>\n<!-- raw_passengers_df -->\n<g id=\"node11\" class=\"node\">\n<title>raw_passengers_df</title>\n<path fill=\"#b4d8e4\" stroke=\"black\" d=\"M294.1,-526.6C294.1,-526.6 169.75,-526.6 169.75,-526.6 163.75,-526.6 157.75,-520.6 157.75,-514.6 157.75,-514.6 157.75,-475 157.75,-475 157.75,-469 163.75,-463 169.75,-463 169.75,-463 294.1,-463 294.1,-463 300.1,-463 306.1,-469 306.1,-475 306.1,-475 306.1,-514.6 306.1,-514.6 306.1,-520.6 300.1,-526.6 294.1,-526.6\"/>\n<text text-anchor=\"start\" x=\"168.55\" y=\"-503.5\" font-family=\"Helvetica,sans-Serif\" font-weight=\"bold\" font-size=\"14.00\">raw_passengers_df</text>\n<text text-anchor=\"start\" x=\"197.8\" y=\"-475.5\" font-family=\"Helvetica,sans-Serif\" font-style=\"italic\" font-size=\"14.00\">DataFrame</text>\n</g>\n<!-- raw_passengers_df&#45;&gt;passengers_df_raw -->\n<g id=\"edge10\" class=\"edge\">\n<title>raw_passengers_df&#45;&gt;passengers_df_raw</title>\n<path fill=\"none\" stroke=\"black\" d=\"M231.93,-462.62C231.93,-457.21 231.93,-451.5 231.93,-445.85\"/>\n<polygon fill=\"black\" stroke=\"black\" points=\"235.43,-445.95 231.93,-435.95 228.43,-445.95 235.43,-445.95\"/>\n</g>\n<!-- function -->\n<g id=\"node12\" class=\"node\">\n<title>function</title>\n<path fill=\"#b4d8e4\" stroke=\"black\" d=\"M458.35,-513.1C458.35,-513.1 413.5,-513.1 413.5,-513.1 407.5,-513.1 401.5,-507.1 401.5,-501.1 401.5,-501.1 401.5,-488.5 401.5,-488.5 401.5,-482.5 407.5,-476.5 413.5,-476.5 413.5,-476.5 458.35,-476.5 458.35,-476.5 464.35,-476.5 470.35,-482.5 470.35,-488.5 470.35,-488.5 470.35,-501.1 470.35,-501.1 470.35,-507.1 464.35,-513.1 458.35,-513.1\"/>\n<text text-anchor=\"middle\" x=\"435.93\" y=\"-489\" font-family=\"Helvetica,sans-Serif\" font-size=\"14.00\">function</text>\n</g>\n<!-- output -->\n<g id=\"node13\" class=\"node\">\n<title>output</title>\n<path fill=\"#ffc857\" stroke=\"black\" d=\"M371.48,-513.1C371.48,-513.1 336.38,-513.1 336.38,-513.1 330.38,-513.1 324.38,-507.1 324.38,-501.1 324.38,-501.1 324.38,-488.5 324.38,-488.5 324.38,-482.5 330.38,-476.5 336.38,-476.5 336.38,-476.5 371.48,-476.5 371.48,-476.5 377.48,-476.5 383.48,-482.5 383.48,-488.5 383.48,-488.5 383.48,-501.1 383.48,-501.1 383.48,-507.1 377.48,-513.1 371.48,-513.1\"/>\n<text text-anchor=\"middle\" x=\"353.93\" y=\"-489\" font-family=\"Helvetica,sans-Serif\" font-size=\"14.00\">output</text>\n</g>\n</g>\n</svg>\n",
      "text/plain": "<graphviz.graphs.Digraph at 0x14539ddb0>"
     },
     "execution_count": 14,
     "metadata": {},
     "output_type": "execute_result"
    }
   ],
   "source": [
    "driver_2 = (\n",
    "        driver.Builder()\n",
    "        .with_modules(data_loader)\n",
    "        .with_config(config)\n",
    "        .with_adapter(base.SimplePythonDataFrameGraphAdapter())\n",
    "        .build()# .execute() will return dataframe\n",
    "    )\n",
    "# can use functions or string names:\n",
    "outputs = [\"pclass\", \"sibsp\", \"age\", \"name\", \"parch\", data_loader.target]\n",
    "\n",
    "# we got a dataframe back -- uses index to stitch it all together.\n",
    "result_df = driver_2.execute(outputs)\n",
    "print(\"df result: \\n\", result_df.head().to_string())\n",
    "\n",
    "# note: this is what execution looks like for both\n",
    "driver_2.visualize_execution(outputs, orient=\"TB\")"
   ]
  },
  {
   "cell_type": "code",
   "execution_count": 15,
   "metadata": {
    "collapsed": false,
    "ExecuteTime": {
     "end_time": "2024-02-09T06:52:52.315291Z",
     "start_time": "2024-02-09T06:52:51.936836Z"
    }
   },
   "outputs": [
    {
     "name": "stdout",
     "output_type": "stream",
     "text": [
      "{}\n",
      "dict_keys(['pclass', 'sibsp', 'age', 'name', 'parch', 'target'])\n"
     ]
    },
    {
     "data": {
      "image/svg+xml": "<?xml version=\"1.0\" encoding=\"UTF-8\" standalone=\"no\"?>\n<!DOCTYPE svg PUBLIC \"-//W3C//DTD SVG 1.1//EN\"\n \"http://www.w3.org/Graphics/SVG/1.1/DTD/svg11.dtd\">\n<!-- Generated by graphviz version 9.0.0 (20230911.1827)\n -->\n<!-- Pages: 1 -->\n<svg width=\"494pt\" height=\"560pt\"\n viewBox=\"0.00 0.00 493.93 560.10\" xmlns=\"http://www.w3.org/2000/svg\" xmlns:xlink=\"http://www.w3.org/1999/xlink\">\n<g id=\"graph0\" class=\"graph\" transform=\"scale(1 1) rotate(0) translate(4 556.1)\">\n<polygon fill=\"white\" stroke=\"none\" points=\"-4,4 -4,-556.1 489.93,-556.1 489.93,4 -4,4\"/>\n<g id=\"clust1\" class=\"cluster\">\n<title>cluster__legend</title>\n<polygon fill=\"none\" stroke=\"black\" points=\"315.93,-468.5 315.93,-544.1 477.93,-544.1 477.93,-468.5 315.93,-468.5\"/>\n<text text-anchor=\"middle\" x=\"396.93\" y=\"-526.8\" font-family=\"Helvetica,sans-Serif\" font-size=\"14.00\">Legend</text>\n</g>\n<!-- age -->\n<g id=\"node1\" class=\"node\">\n<title>age</title>\n<path fill=\"#ffc857\" stroke=\"black\" d=\"M47.85,-156.2C47.85,-156.2 12,-156.2 12,-156.2 6,-156.2 0,-150.2 0,-144.2 0,-144.2 0,-104.6 0,-104.6 0,-98.6 6,-92.6 12,-92.6 12,-92.6 47.85,-92.6 47.85,-92.6 53.85,-92.6 59.85,-98.6 59.85,-104.6 59.85,-104.6 59.85,-144.2 59.85,-144.2 59.85,-150.2 53.85,-156.2 47.85,-156.2\"/>\n<text text-anchor=\"start\" x=\"18.3\" y=\"-133.1\" font-family=\"Helvetica,sans-Serif\" font-weight=\"bold\" font-size=\"14.00\">age</text>\n<text text-anchor=\"start\" x=\"10.8\" y=\"-105.1\" font-family=\"Helvetica,sans-Serif\" font-style=\"italic\" font-size=\"14.00\">Series</text>\n</g>\n<!-- passengers_df -->\n<g id=\"node2\" class=\"node\">\n<title>passengers_df</title>\n<path fill=\"#b4d8e4\" stroke=\"black\" d=\"M278.35,-248.8C278.35,-248.8 185.5,-248.8 185.5,-248.8 179.5,-248.8 173.5,-242.8 173.5,-236.8 173.5,-236.8 173.5,-197.2 173.5,-197.2 173.5,-191.2 179.5,-185.2 185.5,-185.2 185.5,-185.2 278.35,-185.2 278.35,-185.2 284.35,-185.2 290.35,-191.2 290.35,-197.2 290.35,-197.2 290.35,-236.8 290.35,-236.8 290.35,-242.8 284.35,-248.8 278.35,-248.8\"/>\n<text text-anchor=\"start\" x=\"184.3\" y=\"-225.7\" font-family=\"Helvetica,sans-Serif\" font-weight=\"bold\" font-size=\"14.00\">passengers_df</text>\n<text text-anchor=\"start\" x=\"197.8\" y=\"-197.7\" font-family=\"Helvetica,sans-Serif\" font-style=\"italic\" font-size=\"14.00\">DataFrame</text>\n</g>\n<!-- passengers_df&#45;&gt;age -->\n<g id=\"edge1\" class=\"edge\">\n<title>passengers_df&#45;&gt;age</title>\n<path fill=\"none\" stroke=\"black\" d=\"M173.01,-199.38C143.62,-189.96 107.79,-176.78 69.67,-156.02\"/>\n<polygon fill=\"black\" stroke=\"black\" points=\"71.69,-153.14 61.25,-151.32 68.28,-159.25 71.69,-153.14\"/>\n</g>\n<!-- parch -->\n<g id=\"node4\" class=\"node\">\n<title>parch</title>\n<path fill=\"#ffc857\" stroke=\"black\" d=\"M125.85,-156.2C125.85,-156.2 90,-156.2 90,-156.2 84,-156.2 78,-150.2 78,-144.2 78,-144.2 78,-104.6 78,-104.6 78,-98.6 84,-92.6 90,-92.6 90,-92.6 125.85,-92.6 125.85,-92.6 131.85,-92.6 137.85,-98.6 137.85,-104.6 137.85,-104.6 137.85,-144.2 137.85,-144.2 137.85,-150.2 131.85,-156.2 125.85,-156.2\"/>\n<text text-anchor=\"start\" x=\"89.55\" y=\"-133.1\" font-family=\"Helvetica,sans-Serif\" font-weight=\"bold\" font-size=\"14.00\">parch</text>\n<text text-anchor=\"start\" x=\"88.8\" y=\"-105.1\" font-family=\"Helvetica,sans-Serif\" font-style=\"italic\" font-size=\"14.00\">Series</text>\n</g>\n<!-- passengers_df&#45;&gt;parch -->\n<g id=\"edge5\" class=\"edge\">\n<title>passengers_df&#45;&gt;parch</title>\n<path fill=\"none\" stroke=\"black\" d=\"M186.6,-184.8C175.59,-177.07 163.79,-168.65 147.18,-156.29\"/>\n<polygon fill=\"black\" stroke=\"black\" points=\"149.35,-153.54 139.24,-150.35 145.15,-159.14 149.35,-153.54\"/>\n</g>\n<!-- pclass -->\n<g id=\"node5\" class=\"node\">\n<title>pclass</title>\n<path fill=\"#ffc857\" stroke=\"black\" d=\"M207.72,-156.2C207.72,-156.2 168.13,-156.2 168.13,-156.2 162.13,-156.2 156.13,-150.2 156.13,-144.2 156.13,-144.2 156.13,-104.6 156.13,-104.6 156.13,-98.6 162.13,-92.6 168.13,-92.6 168.13,-92.6 207.72,-92.6 207.72,-92.6 213.72,-92.6 219.72,-98.6 219.72,-104.6 219.72,-104.6 219.72,-144.2 219.72,-144.2 219.72,-150.2 213.72,-156.2 207.72,-156.2\"/>\n<text text-anchor=\"start\" x=\"166.93\" y=\"-133.1\" font-family=\"Helvetica,sans-Serif\" font-weight=\"bold\" font-size=\"14.00\">pclass</text>\n<text text-anchor=\"start\" x=\"168.8\" y=\"-105.1\" font-family=\"Helvetica,sans-Serif\" font-style=\"italic\" font-size=\"14.00\">Series</text>\n</g>\n<!-- passengers_df&#45;&gt;pclass -->\n<g id=\"edge6\" class=\"edge\">\n<title>passengers_df&#45;&gt;pclass</title>\n<path fill=\"none\" stroke=\"black\" d=\"M216.78,-184.82C213.95,-178.98 210.94,-172.8 207.99,-166.71\"/>\n<polygon fill=\"black\" stroke=\"black\" points=\"211.27,-165.46 203.76,-158 204.98,-168.52 211.27,-165.46\"/>\n</g>\n<!-- survived -->\n<g id=\"node6\" class=\"node\">\n<title>survived</title>\n<path fill=\"#b4d8e4\" stroke=\"black\" d=\"M302.48,-156.2C302.48,-156.2 249.38,-156.2 249.38,-156.2 243.38,-156.2 237.38,-150.2 237.38,-144.2 237.38,-144.2 237.38,-104.6 237.38,-104.6 237.38,-98.6 243.38,-92.6 249.38,-92.6 249.38,-92.6 302.48,-92.6 302.48,-92.6 308.48,-92.6 314.48,-98.6 314.48,-104.6 314.48,-104.6 314.48,-144.2 314.48,-144.2 314.48,-150.2 308.48,-156.2 302.48,-156.2\"/>\n<text text-anchor=\"start\" x=\"248.18\" y=\"-133.1\" font-family=\"Helvetica,sans-Serif\" font-weight=\"bold\" font-size=\"14.00\">survived</text>\n<text text-anchor=\"start\" x=\"256.8\" y=\"-105.1\" font-family=\"Helvetica,sans-Serif\" font-style=\"italic\" font-size=\"14.00\">Series</text>\n</g>\n<!-- passengers_df&#45;&gt;survived -->\n<g id=\"edge7\" class=\"edge\">\n<title>passengers_df&#45;&gt;survived</title>\n<path fill=\"none\" stroke=\"black\" d=\"M247.07,-184.82C249.9,-178.98 252.91,-172.8 255.86,-166.71\"/>\n<polygon fill=\"black\" stroke=\"black\" points=\"258.87,-168.52 260.09,-158 252.58,-165.46 258.87,-168.52\"/>\n</g>\n<!-- name -->\n<g id=\"node7\" class=\"node\">\n<title>name</title>\n<path fill=\"#ffc857\" stroke=\"black\" d=\"M379.85,-156.2C379.85,-156.2 344,-156.2 344,-156.2 338,-156.2 332,-150.2 332,-144.2 332,-144.2 332,-104.6 332,-104.6 332,-98.6 338,-92.6 344,-92.6 344,-92.6 379.85,-92.6 379.85,-92.6 385.85,-92.6 391.85,-98.6 391.85,-104.6 391.85,-104.6 391.85,-144.2 391.85,-144.2 391.85,-150.2 385.85,-156.2 379.85,-156.2\"/>\n<text text-anchor=\"start\" x=\"343.93\" y=\"-133.1\" font-family=\"Helvetica,sans-Serif\" font-weight=\"bold\" font-size=\"14.00\">name</text>\n<text text-anchor=\"start\" x=\"342.8\" y=\"-105.1\" font-family=\"Helvetica,sans-Serif\" font-style=\"italic\" font-size=\"14.00\">Series</text>\n</g>\n<!-- passengers_df&#45;&gt;name -->\n<g id=\"edge8\" class=\"edge\">\n<title>passengers_df&#45;&gt;name</title>\n<path fill=\"none\" stroke=\"black\" d=\"M281.75,-184.97C293.55,-177.31 306.12,-168.9 322.77,-156.87\"/>\n<polygon fill=\"black\" stroke=\"black\" points=\"324.63,-159.85 330.64,-151.13 320.5,-154.19 324.63,-159.85\"/>\n</g>\n<!-- sibsp -->\n<g id=\"node8\" class=\"node\">\n<title>sibsp</title>\n<path fill=\"#ffc857\" stroke=\"black\" d=\"M457.85,-156.2C457.85,-156.2 422,-156.2 422,-156.2 416,-156.2 410,-150.2 410,-144.2 410,-144.2 410,-104.6 410,-104.6 410,-98.6 416,-92.6 422,-92.6 422,-92.6 457.85,-92.6 457.85,-92.6 463.85,-92.6 469.85,-98.6 469.85,-104.6 469.85,-104.6 469.85,-144.2 469.85,-144.2 469.85,-150.2 463.85,-156.2 457.85,-156.2\"/>\n<text text-anchor=\"start\" x=\"422.3\" y=\"-133.1\" font-family=\"Helvetica,sans-Serif\" font-weight=\"bold\" font-size=\"14.00\">sibsp</text>\n<text text-anchor=\"start\" x=\"420.8\" y=\"-105.1\" font-family=\"Helvetica,sans-Serif\" font-style=\"italic\" font-size=\"14.00\">Series</text>\n</g>\n<!-- passengers_df&#45;&gt;sibsp -->\n<g id=\"edge9\" class=\"edge\">\n<title>passengers_df&#45;&gt;sibsp</title>\n<path fill=\"none\" stroke=\"black\" d=\"M290.66,-200.42C321.58,-191.05 359.83,-177.62 399.97,-156.11\"/>\n<polygon fill=\"black\" stroke=\"black\" points=\"401.54,-159.24 408.61,-151.35 398.16,-153.11 401.54,-159.24\"/>\n</g>\n<!-- passengers_df_pandera_schema_validator -->\n<g id=\"node3\" class=\"node\">\n<title>passengers_df_pandera_schema_validator</title>\n<path fill=\"#b4d8e4\" stroke=\"black\" d=\"M458.48,-341.4C458.48,-341.4 183.38,-341.4 183.38,-341.4 177.38,-341.4 171.38,-335.4 171.38,-329.4 171.38,-329.4 171.38,-289.8 171.38,-289.8 171.38,-283.8 177.38,-277.8 183.38,-277.8 183.38,-277.8 458.48,-277.8 458.48,-277.8 464.48,-277.8 470.48,-283.8 470.48,-289.8 470.48,-289.8 470.48,-329.4 470.48,-329.4 470.48,-335.4 464.48,-341.4 458.48,-341.4\"/>\n<text text-anchor=\"start\" x=\"182.18\" y=\"-318.3\" font-family=\"Helvetica,sans-Serif\" font-weight=\"bold\" font-size=\"14.00\">passengers_df_pandera_schema_validator</text>\n<text text-anchor=\"start\" x=\"272.18\" y=\"-290.3\" font-family=\"Helvetica,sans-Serif\" font-style=\"italic\" font-size=\"14.00\">ValidationResult</text>\n</g>\n<!-- passengers_df_pandera_schema_validator&#45;&gt;passengers_df -->\n<g id=\"edge3\" class=\"edge\">\n<title>passengers_df_pandera_schema_validator&#45;&gt;passengers_df</title>\n<path fill=\"none\" stroke=\"black\" d=\"M290.3,-277.42C283.86,-270.87 277,-263.89 270.32,-257.09\"/>\n<polygon fill=\"black\" stroke=\"black\" points=\"273.18,-255 263.67,-250.32 268.18,-259.9 273.18,-255\"/>\n</g>\n<!-- target -->\n<g id=\"node10\" class=\"node\">\n<title>target</title>\n<path fill=\"#ffc857\" stroke=\"black\" d=\"M293.85,-63.6C293.85,-63.6 258,-63.6 258,-63.6 252,-63.6 246,-57.6 246,-51.6 246,-51.6 246,-12 246,-12 246,-6 252,0 258,0 258,0 293.85,0 293.85,0 299.85,0 305.85,-6 305.85,-12 305.85,-12 305.85,-51.6 305.85,-51.6 305.85,-57.6 299.85,-63.6 293.85,-63.6\"/>\n<text text-anchor=\"start\" x=\"257.18\" y=\"-40.5\" font-family=\"Helvetica,sans-Serif\" font-weight=\"bold\" font-size=\"14.00\">target</text>\n<text text-anchor=\"start\" x=\"256.8\" y=\"-12.5\" font-family=\"Helvetica,sans-Serif\" font-style=\"italic\" font-size=\"14.00\">Series</text>\n</g>\n<!-- survived&#45;&gt;target -->\n<g id=\"edge11\" class=\"edge\">\n<title>survived&#45;&gt;target</title>\n<path fill=\"none\" stroke=\"black\" d=\"M275.93,-92.22C275.93,-86.81 275.93,-81.1 275.93,-75.45\"/>\n<polygon fill=\"black\" stroke=\"black\" points=\"279.43,-75.55 275.93,-65.55 272.43,-75.55 279.43,-75.55\"/>\n</g>\n<!-- passengers_df_raw -->\n<g id=\"node9\" class=\"node\">\n<title>passengers_df_raw</title>\n<path fill=\"#b4d8e4\" stroke=\"black\" d=\"M294.1,-434C294.1,-434 169.75,-434 169.75,-434 163.75,-434 157.75,-428 157.75,-422 157.75,-422 157.75,-382.4 157.75,-382.4 157.75,-376.4 163.75,-370.4 169.75,-370.4 169.75,-370.4 294.1,-370.4 294.1,-370.4 300.1,-370.4 306.1,-376.4 306.1,-382.4 306.1,-382.4 306.1,-422 306.1,-422 306.1,-428 300.1,-434 294.1,-434\"/>\n<text text-anchor=\"start\" x=\"168.55\" y=\"-410.9\" font-family=\"Helvetica,sans-Serif\" font-weight=\"bold\" font-size=\"14.00\">passengers_df_raw</text>\n<text text-anchor=\"start\" x=\"197.8\" y=\"-382.9\" font-family=\"Helvetica,sans-Serif\" font-style=\"italic\" font-size=\"14.00\">DataFrame</text>\n</g>\n<!-- passengers_df_raw&#45;&gt;passengers_df -->\n<g id=\"edge2\" class=\"edge\">\n<title>passengers_df_raw&#45;&gt;passengers_df</title>\n<path fill=\"none\" stroke=\"black\" d=\"M183.95,-370.12C175.03,-361.93 166.94,-352.29 161.93,-341.4 150.09,-315.73 150.09,-303.47 161.93,-277.8 165.37,-270.32 170.27,-263.42 175.9,-257.18\"/>\n<polygon fill=\"black\" stroke=\"black\" points=\"178.32,-259.71 182.89,-250.16 173.35,-254.78 178.32,-259.71\"/>\n</g>\n<!-- passengers_df_raw&#45;&gt;passengers_df_pandera_schema_validator -->\n<g id=\"edge4\" class=\"edge\">\n<title>passengers_df_raw&#45;&gt;passengers_df_pandera_schema_validator</title>\n<path fill=\"none\" stroke=\"black\" d=\"M262.55,-370.02C268.99,-363.47 275.85,-356.49 282.53,-349.69\"/>\n<polygon fill=\"black\" stroke=\"black\" points=\"284.67,-352.5 289.18,-342.92 279.67,-347.6 284.67,-352.5\"/>\n</g>\n<!-- raw_passengers_df -->\n<g id=\"node11\" class=\"node\">\n<title>raw_passengers_df</title>\n<path fill=\"#b4d8e4\" stroke=\"black\" d=\"M294.1,-526.6C294.1,-526.6 169.75,-526.6 169.75,-526.6 163.75,-526.6 157.75,-520.6 157.75,-514.6 157.75,-514.6 157.75,-475 157.75,-475 157.75,-469 163.75,-463 169.75,-463 169.75,-463 294.1,-463 294.1,-463 300.1,-463 306.1,-469 306.1,-475 306.1,-475 306.1,-514.6 306.1,-514.6 306.1,-520.6 300.1,-526.6 294.1,-526.6\"/>\n<text text-anchor=\"start\" x=\"168.55\" y=\"-503.5\" font-family=\"Helvetica,sans-Serif\" font-weight=\"bold\" font-size=\"14.00\">raw_passengers_df</text>\n<text text-anchor=\"start\" x=\"197.8\" y=\"-475.5\" font-family=\"Helvetica,sans-Serif\" font-style=\"italic\" font-size=\"14.00\">DataFrame</text>\n</g>\n<!-- raw_passengers_df&#45;&gt;passengers_df_raw -->\n<g id=\"edge10\" class=\"edge\">\n<title>raw_passengers_df&#45;&gt;passengers_df_raw</title>\n<path fill=\"none\" stroke=\"black\" d=\"M231.93,-462.62C231.93,-457.21 231.93,-451.5 231.93,-445.85\"/>\n<polygon fill=\"black\" stroke=\"black\" points=\"235.43,-445.95 231.93,-435.95 228.43,-445.95 235.43,-445.95\"/>\n</g>\n<!-- function -->\n<g id=\"node12\" class=\"node\">\n<title>function</title>\n<path fill=\"#b4d8e4\" stroke=\"black\" d=\"M458.35,-513.1C458.35,-513.1 413.5,-513.1 413.5,-513.1 407.5,-513.1 401.5,-507.1 401.5,-501.1 401.5,-501.1 401.5,-488.5 401.5,-488.5 401.5,-482.5 407.5,-476.5 413.5,-476.5 413.5,-476.5 458.35,-476.5 458.35,-476.5 464.35,-476.5 470.35,-482.5 470.35,-488.5 470.35,-488.5 470.35,-501.1 470.35,-501.1 470.35,-507.1 464.35,-513.1 458.35,-513.1\"/>\n<text text-anchor=\"middle\" x=\"435.93\" y=\"-489\" font-family=\"Helvetica,sans-Serif\" font-size=\"14.00\">function</text>\n</g>\n<!-- output -->\n<g id=\"node13\" class=\"node\">\n<title>output</title>\n<path fill=\"#ffc857\" stroke=\"black\" d=\"M371.48,-513.1C371.48,-513.1 336.38,-513.1 336.38,-513.1 330.38,-513.1 324.38,-507.1 324.38,-501.1 324.38,-501.1 324.38,-488.5 324.38,-488.5 324.38,-482.5 330.38,-476.5 336.38,-476.5 336.38,-476.5 371.48,-476.5 371.48,-476.5 377.48,-476.5 383.48,-482.5 383.48,-488.5 383.48,-488.5 383.48,-501.1 383.48,-501.1 383.48,-507.1 377.48,-513.1 371.48,-513.1\"/>\n<text text-anchor=\"middle\" x=\"353.93\" y=\"-489\" font-family=\"Helvetica,sans-Serif\" font-size=\"14.00\">output</text>\n</g>\n</g>\n</svg>\n",
      "text/plain": "<graphviz.graphs.Digraph at 0x1454650c0>"
     },
     "execution_count": 15,
     "metadata": {},
     "output_type": "execute_result"
    }
   ],
   "source": [
    "# Using .materialize() -- basic; no materializers\n",
    "\n",
    "# how to get the same as .execute() with a dictionary adapter:\n",
    "metadata, dict_outputs = driver_2.materialize(additional_vars=outputs)\n",
    "print(metadata)\n",
    "print(dict_outputs.keys())\n",
    "driver_2.visualize_materialization(additional_vars=outputs, orient=\"TB\")"
   ]
  },
  {
   "cell_type": "code",
   "execution_count": 16,
   "metadata": {
    "collapsed": false,
    "ExecuteTime": {
     "end_time": "2024-02-09T06:52:53.595192Z",
     "start_time": "2024-02-09T06:52:53.213220Z"
    }
   },
   "outputs": [
    {
     "name": "stdout",
     "output_type": "stream",
     "text": [
      "dict_keys(['output_df'])\n",
      "dict_keys(['pclass', 'sibsp', 'age', 'name', 'parch', 'target'])\n"
     ]
    },
    {
     "data": {
      "image/svg+xml": "<?xml version=\"1.0\" encoding=\"UTF-8\" standalone=\"no\"?>\n<!DOCTYPE svg PUBLIC \"-//W3C//DTD SVG 1.1//EN\"\n \"http://www.w3.org/Graphics/SVG/1.1/DTD/svg11.dtd\">\n<!-- Generated by graphviz version 9.0.0 (20230911.1827)\n -->\n<!-- Pages: 1 -->\n<svg width=\"604pt\" height=\"771pt\"\n viewBox=\"0.00 0.00 603.92 771.06\" xmlns=\"http://www.w3.org/2000/svg\" xmlns:xlink=\"http://www.w3.org/1999/xlink\">\n<g id=\"graph0\" class=\"graph\" transform=\"scale(1 1) rotate(0) translate(4 767.06)\">\n<polygon fill=\"white\" stroke=\"none\" points=\"-4,4 -4,-767.06 599.92,-767.06 599.92,4 -4,4\"/>\n<g id=\"clust1\" class=\"cluster\">\n<title>cluster__legend</title>\n<polygon fill=\"none\" stroke=\"black\" points=\"315.93,-675.64 315.93,-755.06 587.92,-755.06 587.92,-675.64 315.93,-675.64\"/>\n<text text-anchor=\"middle\" x=\"451.93\" y=\"-737.76\" font-family=\"Helvetica,sans-Serif\" font-size=\"14.00\">Legend</text>\n</g>\n<!-- age -->\n<g id=\"node1\" class=\"node\">\n<title>age</title>\n<path fill=\"#ffc857\" stroke=\"black\" d=\"M47.85,-365.25C47.85,-365.25 12,-365.25 12,-365.25 6,-365.25 0,-359.25 0,-353.25 0,-353.25 0,-313.65 0,-313.65 0,-307.65 6,-301.65 12,-301.65 12,-301.65 47.85,-301.65 47.85,-301.65 53.85,-301.65 59.85,-307.65 59.85,-313.65 59.85,-313.65 59.85,-353.25 59.85,-353.25 59.85,-359.25 53.85,-365.25 47.85,-365.25\"/>\n<text text-anchor=\"start\" x=\"18.3\" y=\"-342.15\" font-family=\"Helvetica,sans-Serif\" font-weight=\"bold\" font-size=\"14.00\">age</text>\n<text text-anchor=\"start\" x=\"10.8\" y=\"-314.15\" font-family=\"Helvetica,sans-Serif\" font-style=\"italic\" font-size=\"14.00\">Series</text>\n</g>\n<!-- output_df_build_result -->\n<g id=\"node6\" class=\"node\">\n<title>output_df_build_result</title>\n<path fill=\"#b4d8e4\" stroke=\"black\" d=\"M347.85,-180.05C347.85,-180.05 204,-180.05 204,-180.05 198,-180.05 192,-174.05 192,-168.05 192,-168.05 192,-128.45 192,-128.45 192,-122.45 198,-116.45 204,-116.45 204,-116.45 347.85,-116.45 347.85,-116.45 353.85,-116.45 359.85,-122.45 359.85,-128.45 359.85,-128.45 359.85,-168.05 359.85,-168.05 359.85,-174.05 353.85,-180.05 347.85,-180.05\"/>\n<text text-anchor=\"start\" x=\"202.8\" y=\"-156.95\" font-family=\"Helvetica,sans-Serif\" font-weight=\"bold\" font-size=\"14.00\">output_df_build_result</text>\n<text text-anchor=\"start\" x=\"241.8\" y=\"-128.95\" font-family=\"Helvetica,sans-Serif\" font-style=\"italic\" font-size=\"14.00\">DataFrame</text>\n</g>\n<!-- age&#45;&gt;output_df_build_result -->\n<g id=\"edge9\" class=\"edge\">\n<title>age&#45;&gt;output_df_build_result</title>\n<path fill=\"none\" stroke=\"black\" d=\"M147.93,-239.85C164.48,-219.08 187.01,-200.98 208.55,-186.54\"/>\n<polygon fill=\"black\" stroke=\"black\" points=\"210.29,-189.58 216.76,-181.19 206.47,-183.72 210.29,-189.58\"/>\n<path fill=\"none\" stroke=\"black\" d=\"M60.11,-308.51C63.08,-306.18 66.06,-303.87 68.93,-301.65 103.76,-274.71 120.47,-276.28 147.93,-241.85\"/>\n</g>\n<!-- passengers_df -->\n<g id=\"node2\" class=\"node\">\n<title>passengers_df</title>\n<path fill=\"#b4d8e4\" stroke=\"black\" d=\"M278.35,-457.85C278.35,-457.85 185.5,-457.85 185.5,-457.85 179.5,-457.85 173.5,-451.85 173.5,-445.85 173.5,-445.85 173.5,-406.25 173.5,-406.25 173.5,-400.25 179.5,-394.25 185.5,-394.25 185.5,-394.25 278.35,-394.25 278.35,-394.25 284.35,-394.25 290.35,-400.25 290.35,-406.25 290.35,-406.25 290.35,-445.85 290.35,-445.85 290.35,-451.85 284.35,-457.85 278.35,-457.85\"/>\n<text text-anchor=\"start\" x=\"184.3\" y=\"-434.75\" font-family=\"Helvetica,sans-Serif\" font-weight=\"bold\" font-size=\"14.00\">passengers_df</text>\n<text text-anchor=\"start\" x=\"197.8\" y=\"-406.75\" font-family=\"Helvetica,sans-Serif\" font-style=\"italic\" font-size=\"14.00\">DataFrame</text>\n</g>\n<!-- passengers_df&#45;&gt;age -->\n<g id=\"edge1\" class=\"edge\">\n<title>passengers_df&#45;&gt;age</title>\n<path fill=\"none\" stroke=\"black\" d=\"M173.01,-408.43C143.62,-399.01 107.79,-385.83 69.67,-365.07\"/>\n<polygon fill=\"black\" stroke=\"black\" points=\"71.69,-362.19 61.25,-360.37 68.28,-368.3 71.69,-362.19\"/>\n</g>\n<!-- parch -->\n<g id=\"node4\" class=\"node\">\n<title>parch</title>\n<path fill=\"#ffc857\" stroke=\"black\" d=\"M125.85,-365.25C125.85,-365.25 90,-365.25 90,-365.25 84,-365.25 78,-359.25 78,-353.25 78,-353.25 78,-313.65 78,-313.65 78,-307.65 84,-301.65 90,-301.65 90,-301.65 125.85,-301.65 125.85,-301.65 131.85,-301.65 137.85,-307.65 137.85,-313.65 137.85,-313.65 137.85,-353.25 137.85,-353.25 137.85,-359.25 131.85,-365.25 125.85,-365.25\"/>\n<text text-anchor=\"start\" x=\"89.55\" y=\"-342.15\" font-family=\"Helvetica,sans-Serif\" font-weight=\"bold\" font-size=\"14.00\">parch</text>\n<text text-anchor=\"start\" x=\"88.8\" y=\"-314.15\" font-family=\"Helvetica,sans-Serif\" font-style=\"italic\" font-size=\"14.00\">Series</text>\n</g>\n<!-- passengers_df&#45;&gt;parch -->\n<g id=\"edge5\" class=\"edge\">\n<title>passengers_df&#45;&gt;parch</title>\n<path fill=\"none\" stroke=\"black\" d=\"M186.6,-393.85C175.59,-386.12 163.79,-377.7 147.18,-365.34\"/>\n<polygon fill=\"black\" stroke=\"black\" points=\"149.35,-362.59 139.24,-359.4 145.15,-368.19 149.35,-362.59\"/>\n</g>\n<!-- pclass -->\n<g id=\"node5\" class=\"node\">\n<title>pclass</title>\n<path fill=\"#ffc857\" stroke=\"black\" d=\"M207.72,-365.25C207.72,-365.25 168.13,-365.25 168.13,-365.25 162.13,-365.25 156.13,-359.25 156.13,-353.25 156.13,-353.25 156.13,-313.65 156.13,-313.65 156.13,-307.65 162.13,-301.65 168.13,-301.65 168.13,-301.65 207.72,-301.65 207.72,-301.65 213.72,-301.65 219.72,-307.65 219.72,-313.65 219.72,-313.65 219.72,-353.25 219.72,-353.25 219.72,-359.25 213.72,-365.25 207.72,-365.25\"/>\n<text text-anchor=\"start\" x=\"166.93\" y=\"-342.15\" font-family=\"Helvetica,sans-Serif\" font-weight=\"bold\" font-size=\"14.00\">pclass</text>\n<text text-anchor=\"start\" x=\"168.8\" y=\"-314.15\" font-family=\"Helvetica,sans-Serif\" font-style=\"italic\" font-size=\"14.00\">Series</text>\n</g>\n<!-- passengers_df&#45;&gt;pclass -->\n<g id=\"edge6\" class=\"edge\">\n<title>passengers_df&#45;&gt;pclass</title>\n<path fill=\"none\" stroke=\"black\" d=\"M216.78,-393.87C213.95,-388.03 210.94,-381.85 207.99,-375.76\"/>\n<polygon fill=\"black\" stroke=\"black\" points=\"211.27,-374.51 203.76,-367.05 204.98,-377.57 211.27,-374.51\"/>\n</g>\n<!-- survived -->\n<g id=\"node8\" class=\"node\">\n<title>survived</title>\n<path fill=\"#b4d8e4\" stroke=\"black\" d=\"M302.48,-365.25C302.48,-365.25 249.38,-365.25 249.38,-365.25 243.38,-365.25 237.38,-359.25 237.38,-353.25 237.38,-353.25 237.38,-313.65 237.38,-313.65 237.38,-307.65 243.38,-301.65 249.38,-301.65 249.38,-301.65 302.48,-301.65 302.48,-301.65 308.48,-301.65 314.48,-307.65 314.48,-313.65 314.48,-313.65 314.48,-353.25 314.48,-353.25 314.48,-359.25 308.48,-365.25 302.48,-365.25\"/>\n<text text-anchor=\"start\" x=\"248.18\" y=\"-342.15\" font-family=\"Helvetica,sans-Serif\" font-weight=\"bold\" font-size=\"14.00\">survived</text>\n<text text-anchor=\"start\" x=\"256.8\" y=\"-314.15\" font-family=\"Helvetica,sans-Serif\" font-style=\"italic\" font-size=\"14.00\">Series</text>\n</g>\n<!-- passengers_df&#45;&gt;survived -->\n<g id=\"edge14\" class=\"edge\">\n<title>passengers_df&#45;&gt;survived</title>\n<path fill=\"none\" stroke=\"black\" d=\"M247.07,-393.87C249.9,-388.03 252.91,-381.85 255.86,-375.76\"/>\n<polygon fill=\"black\" stroke=\"black\" points=\"258.87,-377.57 260.09,-367.05 252.58,-374.51 258.87,-377.57\"/>\n</g>\n<!-- name -->\n<g id=\"node9\" class=\"node\">\n<title>name</title>\n<path fill=\"#ffc857\" stroke=\"black\" d=\"M379.85,-365.25C379.85,-365.25 344,-365.25 344,-365.25 338,-365.25 332,-359.25 332,-353.25 332,-353.25 332,-313.65 332,-313.65 332,-307.65 338,-301.65 344,-301.65 344,-301.65 379.85,-301.65 379.85,-301.65 385.85,-301.65 391.85,-307.65 391.85,-313.65 391.85,-313.65 391.85,-353.25 391.85,-353.25 391.85,-359.25 385.85,-365.25 379.85,-365.25\"/>\n<text text-anchor=\"start\" x=\"343.93\" y=\"-342.15\" font-family=\"Helvetica,sans-Serif\" font-weight=\"bold\" font-size=\"14.00\">name</text>\n<text text-anchor=\"start\" x=\"342.8\" y=\"-314.15\" font-family=\"Helvetica,sans-Serif\" font-style=\"italic\" font-size=\"14.00\">Series</text>\n</g>\n<!-- passengers_df&#45;&gt;name -->\n<g id=\"edge15\" class=\"edge\">\n<title>passengers_df&#45;&gt;name</title>\n<path fill=\"none\" stroke=\"black\" d=\"M281.75,-394.02C293.55,-386.36 306.12,-377.95 322.77,-365.92\"/>\n<polygon fill=\"black\" stroke=\"black\" points=\"324.63,-368.9 330.64,-360.18 320.5,-363.24 324.63,-368.9\"/>\n</g>\n<!-- sibsp -->\n<g id=\"node10\" class=\"node\">\n<title>sibsp</title>\n<path fill=\"#ffc857\" stroke=\"black\" d=\"M457.85,-365.25C457.85,-365.25 422,-365.25 422,-365.25 416,-365.25 410,-359.25 410,-353.25 410,-353.25 410,-313.65 410,-313.65 410,-307.65 416,-301.65 422,-301.65 422,-301.65 457.85,-301.65 457.85,-301.65 463.85,-301.65 469.85,-307.65 469.85,-313.65 469.85,-313.65 469.85,-353.25 469.85,-353.25 469.85,-359.25 463.85,-365.25 457.85,-365.25\"/>\n<text text-anchor=\"start\" x=\"422.3\" y=\"-342.15\" font-family=\"Helvetica,sans-Serif\" font-weight=\"bold\" font-size=\"14.00\">sibsp</text>\n<text text-anchor=\"start\" x=\"420.8\" y=\"-314.15\" font-family=\"Helvetica,sans-Serif\" font-style=\"italic\" font-size=\"14.00\">Series</text>\n</g>\n<!-- passengers_df&#45;&gt;sibsp -->\n<g id=\"edge16\" class=\"edge\">\n<title>passengers_df&#45;&gt;sibsp</title>\n<path fill=\"none\" stroke=\"black\" d=\"M290.66,-409.47C321.58,-400.1 359.83,-386.67 399.97,-365.16\"/>\n<polygon fill=\"black\" stroke=\"black\" points=\"401.54,-368.29 408.61,-360.4 398.16,-362.16 401.54,-368.29\"/>\n</g>\n<!-- passengers_df_pandera_schema_validator -->\n<g id=\"node3\" class=\"node\">\n<title>passengers_df_pandera_schema_validator</title>\n<path fill=\"#b4d8e4\" stroke=\"black\" d=\"M458.48,-550.45C458.48,-550.45 183.38,-550.45 183.38,-550.45 177.38,-550.45 171.38,-544.45 171.38,-538.45 171.38,-538.45 171.38,-498.85 171.38,-498.85 171.38,-492.85 177.38,-486.85 183.38,-486.85 183.38,-486.85 458.48,-486.85 458.48,-486.85 464.48,-486.85 470.48,-492.85 470.48,-498.85 470.48,-498.85 470.48,-538.45 470.48,-538.45 470.48,-544.45 464.48,-550.45 458.48,-550.45\"/>\n<text text-anchor=\"start\" x=\"182.18\" y=\"-527.35\" font-family=\"Helvetica,sans-Serif\" font-weight=\"bold\" font-size=\"14.00\">passengers_df_pandera_schema_validator</text>\n<text text-anchor=\"start\" x=\"272.18\" y=\"-499.35\" font-family=\"Helvetica,sans-Serif\" font-style=\"italic\" font-size=\"14.00\">ValidationResult</text>\n</g>\n<!-- passengers_df_pandera_schema_validator&#45;&gt;passengers_df -->\n<g id=\"edge3\" class=\"edge\">\n<title>passengers_df_pandera_schema_validator&#45;&gt;passengers_df</title>\n<path fill=\"none\" stroke=\"black\" d=\"M290.3,-486.47C283.86,-479.92 277,-472.94 270.32,-466.14\"/>\n<polygon fill=\"black\" stroke=\"black\" points=\"273.18,-464.05 263.67,-459.37 268.18,-468.95 273.18,-464.05\"/>\n</g>\n<!-- parch&#45;&gt;output_df_build_result -->\n<g id=\"edge11\" class=\"edge\">\n<title>parch&#45;&gt;output_df_build_result</title>\n<path fill=\"none\" stroke=\"black\" d=\"M117.18,-301.34C123.74,-282.77 133.88,-259.46 147.93,-241.85\"/>\n</g>\n<!-- pclass&#45;&gt;output_df_build_result -->\n<g id=\"edge7\" class=\"edge\">\n<title>pclass&#45;&gt;output_df_build_result</title>\n<path fill=\"none\" stroke=\"black\" d=\"M158.58,-301.34C144.69,-282.77 133.88,-259.46 147.93,-241.85\"/>\n</g>\n<!-- output_df -->\n<g id=\"node7\" class=\"node\">\n<title>output_df</title>\n<path fill=\"#ffc857\" stroke=\"black\" d=\"M336.6,-79.5C336.6,-83.89 309.4,-87.45 275.93,-87.45 242.45,-87.45 215.25,-83.89 215.25,-79.5 215.25,-79.5 215.25,-7.95 215.25,-7.95 215.25,-3.56 242.45,0 275.93,0 309.4,0 336.6,-3.56 336.6,-7.95 336.6,-7.95 336.6,-79.5 336.6,-79.5\"/>\n<path fill=\"none\" stroke=\"black\" d=\"M336.6,-79.5C336.6,-75.11 309.4,-71.55 275.93,-71.55 242.45,-71.55 215.25,-75.11 215.25,-79.5\"/>\n<text text-anchor=\"start\" x=\"244.8\" y=\"-52.42\" font-family=\"Helvetica,sans-Serif\" font-weight=\"bold\" font-size=\"14.00\">output_df</text>\n<text text-anchor=\"start\" x=\"226.05\" y=\"-24.42\" font-family=\"Helvetica,sans-Serif\" font-style=\"italic\" font-size=\"14.00\">InMemoryResult</text>\n</g>\n<!-- output_df_build_result&#45;&gt;output_df -->\n<g id=\"edge13\" class=\"edge\">\n<title>output_df_build_result&#45;&gt;output_df</title>\n<path fill=\"none\" stroke=\"black\" d=\"M275.93,-116.21C275.93,-110.75 275.93,-104.93 275.93,-99.05\"/>\n<polygon fill=\"black\" stroke=\"black\" points=\"279.43,-99.28 275.93,-89.28 272.43,-99.28 279.43,-99.28\"/>\n</g>\n<!-- target -->\n<g id=\"node12\" class=\"node\">\n<title>target</title>\n<path fill=\"#ffc857\" stroke=\"black\" d=\"M293.85,-272.65C293.85,-272.65 258,-272.65 258,-272.65 252,-272.65 246,-266.65 246,-260.65 246,-260.65 246,-221.05 246,-221.05 246,-215.05 252,-209.05 258,-209.05 258,-209.05 293.85,-209.05 293.85,-209.05 299.85,-209.05 305.85,-215.05 305.85,-221.05 305.85,-221.05 305.85,-260.65 305.85,-260.65 305.85,-266.65 299.85,-272.65 293.85,-272.65\"/>\n<text text-anchor=\"start\" x=\"257.18\" y=\"-249.55\" font-family=\"Helvetica,sans-Serif\" font-weight=\"bold\" font-size=\"14.00\">target</text>\n<text text-anchor=\"start\" x=\"256.8\" y=\"-221.55\" font-family=\"Helvetica,sans-Serif\" font-style=\"italic\" font-size=\"14.00\">Series</text>\n</g>\n<!-- survived&#45;&gt;target -->\n<g id=\"edge18\" class=\"edge\">\n<title>survived&#45;&gt;target</title>\n<path fill=\"none\" stroke=\"black\" d=\"M275.93,-301.27C275.93,-295.86 275.93,-290.15 275.93,-284.5\"/>\n<polygon fill=\"black\" stroke=\"black\" points=\"279.43,-284.6 275.93,-274.6 272.43,-284.6 279.43,-284.6\"/>\n</g>\n<!-- name&#45;&gt;output_df_build_result -->\n<g id=\"edge10\" class=\"edge\">\n<title>name&#45;&gt;output_df_build_result</title>\n<path fill=\"none\" stroke=\"black\" d=\"M389.11,-301.42C401.19,-283.72 410.71,-261.27 400.93,-241.85\"/>\n<path fill=\"none\" stroke=\"black\" d=\"M400.93,-239.85C390,-218.15 371.13,-200.46 351.33,-186.66\"/>\n<polygon fill=\"black\" stroke=\"black\" points=\"353.41,-183.84 343.14,-181.23 349.54,-189.67 353.41,-183.84\"/>\n</g>\n<!-- sibsp&#45;&gt;output_df_build_result -->\n<g id=\"edge8\" class=\"edge\">\n<title>sibsp&#45;&gt;output_df_build_result</title>\n<path fill=\"none\" stroke=\"black\" d=\"M427.65,-301.42C420.38,-283.72 410.71,-261.27 400.93,-241.85\"/>\n</g>\n<!-- passengers_df_raw -->\n<g id=\"node11\" class=\"node\">\n<title>passengers_df_raw</title>\n<path fill=\"#b4d8e4\" stroke=\"black\" d=\"M294.1,-643.05C294.1,-643.05 169.75,-643.05 169.75,-643.05 163.75,-643.05 157.75,-637.05 157.75,-631.05 157.75,-631.05 157.75,-591.45 157.75,-591.45 157.75,-585.45 163.75,-579.45 169.75,-579.45 169.75,-579.45 294.1,-579.45 294.1,-579.45 300.1,-579.45 306.1,-585.45 306.1,-591.45 306.1,-591.45 306.1,-631.05 306.1,-631.05 306.1,-637.05 300.1,-643.05 294.1,-643.05\"/>\n<text text-anchor=\"start\" x=\"168.55\" y=\"-619.95\" font-family=\"Helvetica,sans-Serif\" font-weight=\"bold\" font-size=\"14.00\">passengers_df_raw</text>\n<text text-anchor=\"start\" x=\"197.8\" y=\"-591.95\" font-family=\"Helvetica,sans-Serif\" font-style=\"italic\" font-size=\"14.00\">DataFrame</text>\n</g>\n<!-- passengers_df_raw&#45;&gt;passengers_df -->\n<g id=\"edge2\" class=\"edge\">\n<title>passengers_df_raw&#45;&gt;passengers_df</title>\n<path fill=\"none\" stroke=\"black\" d=\"M183.95,-579.17C175.03,-570.98 166.94,-561.34 161.93,-550.45 150.09,-524.78 150.09,-512.52 161.93,-486.85 165.37,-479.37 170.27,-472.47 175.9,-466.23\"/>\n<polygon fill=\"black\" stroke=\"black\" points=\"178.32,-468.76 182.89,-459.21 173.35,-463.83 178.32,-468.76\"/>\n</g>\n<!-- passengers_df_raw&#45;&gt;passengers_df_pandera_schema_validator -->\n<g id=\"edge4\" class=\"edge\">\n<title>passengers_df_raw&#45;&gt;passengers_df_pandera_schema_validator</title>\n<path fill=\"none\" stroke=\"black\" d=\"M262.55,-579.07C268.99,-572.52 275.85,-565.54 282.53,-558.74\"/>\n<polygon fill=\"black\" stroke=\"black\" points=\"284.67,-561.55 289.18,-551.97 279.67,-556.65 284.67,-561.55\"/>\n</g>\n<!-- target&#45;&gt;output_df_build_result -->\n<g id=\"edge12\" class=\"edge\">\n<title>target&#45;&gt;output_df_build_result</title>\n<path fill=\"none\" stroke=\"black\" d=\"M275.93,-208.67C275.93,-203.26 275.93,-197.55 275.93,-191.9\"/>\n<polygon fill=\"black\" stroke=\"black\" points=\"279.43,-192 275.93,-182 272.43,-192 279.43,-192\"/>\n</g>\n<!-- raw_passengers_df -->\n<g id=\"node13\" class=\"node\">\n<title>raw_passengers_df</title>\n<path fill=\"#b4d8e4\" stroke=\"black\" d=\"M294.1,-735.65C294.1,-735.65 169.75,-735.65 169.75,-735.65 163.75,-735.65 157.75,-729.65 157.75,-723.65 157.75,-723.65 157.75,-684.05 157.75,-684.05 157.75,-678.05 163.75,-672.05 169.75,-672.05 169.75,-672.05 294.1,-672.05 294.1,-672.05 300.1,-672.05 306.1,-678.05 306.1,-684.05 306.1,-684.05 306.1,-723.65 306.1,-723.65 306.1,-729.65 300.1,-735.65 294.1,-735.65\"/>\n<text text-anchor=\"start\" x=\"168.55\" y=\"-712.55\" font-family=\"Helvetica,sans-Serif\" font-weight=\"bold\" font-size=\"14.00\">raw_passengers_df</text>\n<text text-anchor=\"start\" x=\"197.8\" y=\"-684.55\" font-family=\"Helvetica,sans-Serif\" font-style=\"italic\" font-size=\"14.00\">DataFrame</text>\n</g>\n<!-- raw_passengers_df&#45;&gt;passengers_df_raw -->\n<g id=\"edge17\" class=\"edge\">\n<title>raw_passengers_df&#45;&gt;passengers_df_raw</title>\n<path fill=\"none\" stroke=\"black\" d=\"M231.93,-671.67C231.93,-666.26 231.93,-660.55 231.93,-654.9\"/>\n<polygon fill=\"black\" stroke=\"black\" points=\"235.43,-655 231.93,-645 228.43,-655 235.43,-655\"/>\n</g>\n<!-- function -->\n<g id=\"node14\" class=\"node\">\n<title>function</title>\n<path fill=\"#b4d8e4\" stroke=\"black\" d=\"M568.35,-722.15C568.35,-722.15 523.5,-722.15 523.5,-722.15 517.5,-722.15 511.5,-716.15 511.5,-710.15 511.5,-710.15 511.5,-697.55 511.5,-697.55 511.5,-691.55 517.5,-685.55 523.5,-685.55 523.5,-685.55 568.35,-685.55 568.35,-685.55 574.35,-685.55 580.35,-691.55 580.35,-697.55 580.35,-697.55 580.35,-710.15 580.35,-710.15 580.35,-716.15 574.35,-722.15 568.35,-722.15\"/>\n<text text-anchor=\"middle\" x=\"545.92\" y=\"-698.05\" font-family=\"Helvetica,sans-Serif\" font-size=\"14.00\">function</text>\n</g>\n<!-- output -->\n<g id=\"node15\" class=\"node\">\n<title>output</title>\n<path fill=\"#ffc857\" stroke=\"black\" d=\"M481.48,-722.15C481.48,-722.15 446.38,-722.15 446.38,-722.15 440.38,-722.15 434.38,-716.15 434.38,-710.15 434.38,-710.15 434.38,-697.55 434.38,-697.55 434.38,-691.55 440.38,-685.55 446.38,-685.55 446.38,-685.55 481.48,-685.55 481.48,-685.55 487.48,-685.55 493.48,-691.55 493.48,-697.55 493.48,-697.55 493.48,-710.15 493.48,-710.15 493.48,-716.15 487.48,-722.15 481.48,-722.15\"/>\n<text text-anchor=\"middle\" x=\"463.93\" y=\"-698.05\" font-family=\"Helvetica,sans-Serif\" font-size=\"14.00\">output</text>\n</g>\n<!-- materializer -->\n<g id=\"node16\" class=\"node\">\n<title>materializer</title>\n<path fill=\"none\" stroke=\"black\" d=\"M415.98,-720.39C415.98,-722.42 395.33,-724.06 369.93,-724.06 344.52,-724.06 323.88,-722.42 323.88,-720.39 323.88,-720.39 323.88,-687.31 323.88,-687.31 323.88,-685.28 344.52,-683.64 369.93,-683.64 395.33,-683.64 415.98,-685.28 415.98,-687.31 415.98,-687.31 415.98,-720.39 415.98,-720.39\"/>\n<path fill=\"none\" stroke=\"black\" d=\"M415.98,-720.39C415.98,-718.36 395.33,-716.71 369.93,-716.71 344.52,-716.71 323.88,-718.36 323.88,-720.39\"/>\n<text text-anchor=\"middle\" x=\"369.93\" y=\"-698.05\" font-family=\"Helvetica,sans-Serif\" font-size=\"14.00\">materializer</text>\n</g>\n</g>\n</svg>\n",
      "text/plain": "<graphviz.graphs.Digraph at 0x145467d90>"
     },
     "execution_count": 16,
     "metadata": {},
     "output_type": "execute_result"
    }
   ],
   "source": [
    "# Using .materialize() -- basic; emulate getting a dataframe in memory & a dictionary...\n",
    "from hamilton.io.materialization import to\n",
    "\n",
    "materializers = [\n",
    "    to.memory(\n",
    "     id=\"output_df\",\n",
    "     dependencies=outputs,\n",
    "     combine=base.PandasDataFrameResult()\n",
    "    )\n",
    "]\n",
    "# get the dictionary & the dataframe back at the same time!\n",
    "metadata, dict_outputs = driver_2.materialize(\n",
    "       *materializers, additional_vars=outputs)\n",
    "print(metadata.keys())\n",
    "print(dict_outputs.keys())\n",
    "driver_2.visualize_materialization(*materializers, additional_vars=outputs, orient=\"TB\")"
   ]
  },
  {
   "cell_type": "code",
   "execution_count": 17,
   "metadata": {
    "collapsed": false,
    "ExecuteTime": {
     "end_time": "2024-02-09T06:52:54.953112Z",
     "start_time": "2024-02-09T06:52:54.483757Z"
    }
   },
   "outputs": [
    {
     "name": "stdout",
     "output_type": "stream",
     "text": [
      "{'output_df':       pclass  sibsp      age                                             name  \\\n",
      "0          1      0  29.0000                    Allen, Miss. Elisabeth Walton   \n",
      "1          1      1   0.9167                   Allison, Master. Hudson Trevor   \n",
      "2          1      1   2.0000                     Allison, Miss. Helen Loraine   \n",
      "3          1      1  30.0000             Allison, Mr. Hudson Joshua Creighton   \n",
      "4          1      1  25.0000  Allison, Mrs. Hudson J C (Bessie Waldo Daniels)   \n",
      "...      ...    ...      ...                                              ...   \n",
      "1304       3      1  14.5000                             Zabour, Miss. Hileni   \n",
      "1305       3      1      NaN                            Zabour, Miss. Thamine   \n",
      "1306       3      0  26.5000                        Zakarian, Mr. Mapriededer   \n",
      "1307       3      0  27.0000                              Zakarian, Mr. Ortin   \n",
      "1308       3      0  29.0000                               Zimmerman, Mr. Leo   \n",
      "\n",
      "      parch target  \n",
      "0         0      1  \n",
      "1         2      1  \n",
      "2         2      0  \n",
      "3         2      0  \n",
      "4         2      0  \n",
      "...     ...    ...  \n",
      "1304      0      0  \n",
      "1305      0      0  \n",
      "1306      0      0  \n",
      "1307      0      0  \n",
      "1308      0      0  \n",
      "\n",
      "[1307 rows x 6 columns], 'parquet_output': {'file_metadata': {'size': 40665, 'path': 'temp_feature_output.parquet', 'last_modified': 1707461574.6197667, 'timestamp': 1707490374.620627}, 'dataframe_metadata': {'rows': 1307, 'columns': 6, 'column_names': ['pclass', 'sibsp', 'age', 'name', 'parch', 'target'], 'datatypes': ['int64', 'int64', 'float64', 'object', 'int64', 'category']}}}\n",
      "dict_keys(['pclass', 'sibsp', 'age', 'name', 'parch', 'target'])\n"
     ]
    },
    {
     "data": {
      "image/svg+xml": "<?xml version=\"1.0\" encoding=\"UTF-8\" standalone=\"no\"?>\n<!DOCTYPE svg PUBLIC \"-//W3C//DTD SVG 1.1//EN\"\n \"http://www.w3.org/Graphics/SVG/1.1/DTD/svg11.dtd\">\n<!-- Generated by graphviz version 9.0.0 (20230911.1827)\n -->\n<!-- Pages: 1 -->\n<svg width=\"895pt\" height=\"771pt\"\n viewBox=\"0.00 0.00 894.67 771.06\" xmlns=\"http://www.w3.org/2000/svg\" xmlns:xlink=\"http://www.w3.org/1999/xlink\">\n<g id=\"graph0\" class=\"graph\" transform=\"scale(1 1) rotate(0) translate(4 767.06)\">\n<polygon fill=\"white\" stroke=\"none\" points=\"-4,4 -4,-767.06 890.67,-767.06 890.67,4 -4,4\"/>\n<g id=\"clust1\" class=\"cluster\">\n<title>cluster__legend</title>\n<polygon fill=\"none\" stroke=\"black\" points=\"534.67,-675.64 534.67,-755.06 878.67,-755.06 878.67,-675.64 534.67,-675.64\"/>\n<text text-anchor=\"middle\" x=\"706.67\" y=\"-737.76\" font-family=\"Helvetica,sans-Serif\" font-size=\"14.00\">Legend</text>\n</g>\n<!-- parquet_output_build_result -->\n<g id=\"node1\" class=\"node\">\n<title>parquet_output_build_result</title>\n<path fill=\"#b4d8e4\" stroke=\"black\" d=\"M405.97,-180.05C405.97,-180.05 225.37,-180.05 225.37,-180.05 219.37,-180.05 213.37,-174.05 213.37,-168.05 213.37,-168.05 213.37,-128.45 213.37,-128.45 213.37,-122.45 219.37,-116.45 225.37,-116.45 225.37,-116.45 405.97,-116.45 405.97,-116.45 411.97,-116.45 417.97,-122.45 417.97,-128.45 417.97,-128.45 417.97,-168.05 417.97,-168.05 417.97,-174.05 411.97,-180.05 405.97,-180.05\"/>\n<text text-anchor=\"start\" x=\"224.17\" y=\"-156.95\" font-family=\"Helvetica,sans-Serif\" font-weight=\"bold\" font-size=\"14.00\">parquet_output_build_result</text>\n<text text-anchor=\"start\" x=\"281.55\" y=\"-128.95\" font-family=\"Helvetica,sans-Serif\" font-style=\"italic\" font-size=\"14.00\">DataFrame</text>\n</g>\n<!-- parquet_output -->\n<g id=\"node10\" class=\"node\">\n<title>parquet_output</title>\n<path fill=\"#ffc857\" stroke=\"black\" d=\"M281.97,-79.5C281.97,-83.89 248.22,-87.45 206.67,-87.45 165.13,-87.45 131.37,-83.89 131.37,-79.5 131.37,-79.5 131.37,-7.95 131.37,-7.95 131.37,-3.56 165.13,0 206.67,0 248.22,0 281.97,-3.56 281.97,-7.95 281.97,-7.95 281.97,-79.5 281.97,-79.5\"/>\n<path fill=\"none\" stroke=\"black\" d=\"M281.97,-79.5C281.97,-75.11 248.22,-71.55 206.67,-71.55 165.13,-71.55 131.37,-75.11 131.37,-79.5\"/>\n<text text-anchor=\"start\" x=\"157.17\" y=\"-52.42\" font-family=\"Helvetica,sans-Serif\" font-weight=\"bold\" font-size=\"14.00\">parquet_output</text>\n<text text-anchor=\"start\" x=\"142.17\" y=\"-24.42\" font-family=\"Helvetica,sans-Serif\" font-style=\"italic\" font-size=\"14.00\">PandasParquetWriter</text>\n</g>\n<!-- parquet_output_build_result&#45;&gt;parquet_output -->\n<g id=\"edge21\" class=\"edge\">\n<title>parquet_output_build_result&#45;&gt;parquet_output</title>\n<path fill=\"none\" stroke=\"black\" d=\"M282.68,-116.21C275.59,-109.55 267.93,-102.34 260.28,-95.15\"/>\n<polygon fill=\"black\" stroke=\"black\" points=\"262.82,-92.73 253.13,-88.42 258.02,-97.82 262.82,-92.73\"/>\n</g>\n<!-- passengers_df -->\n<g id=\"node2\" class=\"node\">\n<title>passengers_df</title>\n<path fill=\"#b4d8e4\" stroke=\"black\" d=\"M497.1,-457.85C497.1,-457.85 404.25,-457.85 404.25,-457.85 398.25,-457.85 392.25,-451.85 392.25,-445.85 392.25,-445.85 392.25,-406.25 392.25,-406.25 392.25,-400.25 398.25,-394.25 404.25,-394.25 404.25,-394.25 497.1,-394.25 497.1,-394.25 503.1,-394.25 509.1,-400.25 509.1,-406.25 509.1,-406.25 509.1,-445.85 509.1,-445.85 509.1,-451.85 503.1,-457.85 497.1,-457.85\"/>\n<text text-anchor=\"start\" x=\"403.05\" y=\"-434.75\" font-family=\"Helvetica,sans-Serif\" font-weight=\"bold\" font-size=\"14.00\">passengers_df</text>\n<text text-anchor=\"start\" x=\"416.55\" y=\"-406.75\" font-family=\"Helvetica,sans-Serif\" font-style=\"italic\" font-size=\"14.00\">DataFrame</text>\n</g>\n<!-- pclass -->\n<g id=\"node3\" class=\"node\">\n<title>pclass</title>\n<path fill=\"#ffc857\" stroke=\"black\" d=\"M240.47,-272.65C240.47,-272.65 200.87,-272.65 200.87,-272.65 194.87,-272.65 188.87,-266.65 188.87,-260.65 188.87,-260.65 188.87,-221.05 188.87,-221.05 188.87,-215.05 194.87,-209.05 200.87,-209.05 200.87,-209.05 240.47,-209.05 240.47,-209.05 246.47,-209.05 252.47,-215.05 252.47,-221.05 252.47,-221.05 252.47,-260.65 252.47,-260.65 252.47,-266.65 246.47,-272.65 240.47,-272.65\"/>\n<text text-anchor=\"start\" x=\"199.67\" y=\"-249.55\" font-family=\"Helvetica,sans-Serif\" font-weight=\"bold\" font-size=\"14.00\">pclass</text>\n<text text-anchor=\"start\" x=\"201.55\" y=\"-221.55\" font-family=\"Helvetica,sans-Serif\" font-style=\"italic\" font-size=\"14.00\">Series</text>\n</g>\n<!-- passengers_df&#45;&gt;pclass -->\n<g id=\"edge9\" class=\"edge\">\n<title>passengers_df&#45;&gt;pclass</title>\n<path fill=\"none\" stroke=\"black\" d=\"M439.72,-393.89C433.46,-376.35 425.35,-354.1 417.67,-334.45\"/>\n<path fill=\"none\" stroke=\"black\" d=\"M417.67,-332.45C391.88,-266.39 332.33,-304.75 262.68,-272.32\"/>\n<polygon fill=\"black\" stroke=\"black\" points=\"264.64,-269.38 254.14,-267.94 261.45,-275.62 264.64,-269.38\"/>\n</g>\n<!-- survived -->\n<g id=\"node5\" class=\"node\">\n<title>survived</title>\n<path fill=\"#b4d8e4\" stroke=\"black\" d=\"M575.22,-365.25C575.22,-365.25 522.12,-365.25 522.12,-365.25 516.12,-365.25 510.12,-359.25 510.12,-353.25 510.12,-353.25 510.12,-313.65 510.12,-313.65 510.12,-307.65 516.12,-301.65 522.12,-301.65 522.12,-301.65 575.22,-301.65 575.22,-301.65 581.22,-301.65 587.22,-307.65 587.22,-313.65 587.22,-313.65 587.22,-353.25 587.22,-353.25 587.22,-359.25 581.22,-365.25 575.22,-365.25\"/>\n<text text-anchor=\"start\" x=\"520.92\" y=\"-342.15\" font-family=\"Helvetica,sans-Serif\" font-weight=\"bold\" font-size=\"14.00\">survived</text>\n<text text-anchor=\"start\" x=\"529.55\" y=\"-314.15\" font-family=\"Helvetica,sans-Serif\" font-style=\"italic\" font-size=\"14.00\">Series</text>\n</g>\n<!-- passengers_df&#45;&gt;survived -->\n<g id=\"edge16\" class=\"edge\">\n<title>passengers_df&#45;&gt;survived</title>\n<path fill=\"none\" stroke=\"black\" d=\"M484.4,-393.87C491.64,-387.18 499.37,-380.03 506.87,-373.1\"/>\n<polygon fill=\"black\" stroke=\"black\" points=\"508.81,-376.07 513.78,-366.71 504.06,-370.93 508.81,-376.07\"/>\n</g>\n<!-- sibsp -->\n<g id=\"node6\" class=\"node\">\n<title>sibsp</title>\n<path fill=\"#ffc857\" stroke=\"black\" d=\"M318.6,-272.65C318.6,-272.65 282.75,-272.65 282.75,-272.65 276.75,-272.65 270.75,-266.65 270.75,-260.65 270.75,-260.65 270.75,-221.05 270.75,-221.05 270.75,-215.05 276.75,-209.05 282.75,-209.05 282.75,-209.05 318.6,-209.05 318.6,-209.05 324.6,-209.05 330.6,-215.05 330.6,-221.05 330.6,-221.05 330.6,-260.65 330.6,-260.65 330.6,-266.65 324.6,-272.65 318.6,-272.65\"/>\n<text text-anchor=\"start\" x=\"283.05\" y=\"-249.55\" font-family=\"Helvetica,sans-Serif\" font-weight=\"bold\" font-size=\"14.00\">sibsp</text>\n<text text-anchor=\"start\" x=\"281.55\" y=\"-221.55\" font-family=\"Helvetica,sans-Serif\" font-style=\"italic\" font-size=\"14.00\">Series</text>\n</g>\n<!-- passengers_df&#45;&gt;sibsp -->\n<g id=\"edge17\" class=\"edge\">\n<title>passengers_df&#45;&gt;sibsp</title>\n<path fill=\"none\" stroke=\"black\" d=\"M417.67,-332.45C402.9,-294.62 377.98,-298.63 339.77,-272.3\"/>\n<polygon fill=\"black\" stroke=\"black\" points=\"342.23,-269.76 332.1,-266.67 338.09,-275.4 342.23,-269.76\"/>\n</g>\n<!-- age -->\n<g id=\"node8\" class=\"node\">\n<title>age</title>\n<path fill=\"#ffc857\" stroke=\"black\" d=\"M396.6,-272.65C396.6,-272.65 360.75,-272.65 360.75,-272.65 354.75,-272.65 348.75,-266.65 348.75,-260.65 348.75,-260.65 348.75,-221.05 348.75,-221.05 348.75,-215.05 354.75,-209.05 360.75,-209.05 360.75,-209.05 396.6,-209.05 396.6,-209.05 402.6,-209.05 408.6,-215.05 408.6,-221.05 408.6,-221.05 408.6,-260.65 408.6,-260.65 408.6,-266.65 402.6,-272.65 396.6,-272.65\"/>\n<text text-anchor=\"start\" x=\"367.05\" y=\"-249.55\" font-family=\"Helvetica,sans-Serif\" font-weight=\"bold\" font-size=\"14.00\">age</text>\n<text text-anchor=\"start\" x=\"359.55\" y=\"-221.55\" font-family=\"Helvetica,sans-Serif\" font-style=\"italic\" font-size=\"14.00\">Series</text>\n</g>\n<!-- passengers_df&#45;&gt;age -->\n<g id=\"edge19\" class=\"edge\">\n<title>passengers_df&#45;&gt;age</title>\n<path fill=\"none\" stroke=\"black\" d=\"M417.67,-332.45C411.35,-316.25 403.9,-298.64 397.22,-283.3\"/>\n<polygon fill=\"black\" stroke=\"black\" points=\"400.57,-282.22 393.35,-274.46 394.16,-285.03 400.57,-282.22\"/>\n</g>\n<!-- parch -->\n<g id=\"node11\" class=\"node\">\n<title>parch</title>\n<path fill=\"#ffc857\" stroke=\"black\" d=\"M474.6,-272.65C474.6,-272.65 438.75,-272.65 438.75,-272.65 432.75,-272.65 426.75,-266.65 426.75,-260.65 426.75,-260.65 426.75,-221.05 426.75,-221.05 426.75,-215.05 432.75,-209.05 438.75,-209.05 438.75,-209.05 474.6,-209.05 474.6,-209.05 480.6,-209.05 486.6,-215.05 486.6,-221.05 486.6,-221.05 486.6,-260.65 486.6,-260.65 486.6,-266.65 480.6,-272.65 474.6,-272.65\"/>\n<text text-anchor=\"start\" x=\"438.3\" y=\"-249.55\" font-family=\"Helvetica,sans-Serif\" font-weight=\"bold\" font-size=\"14.00\">parch</text>\n<text text-anchor=\"start\" x=\"437.55\" y=\"-221.55\" font-family=\"Helvetica,sans-Serif\" font-style=\"italic\" font-size=\"14.00\">Series</text>\n</g>\n<!-- passengers_df&#45;&gt;parch -->\n<g id=\"edge23\" class=\"edge\">\n<title>passengers_df&#45;&gt;parch</title>\n<path fill=\"none\" stroke=\"black\" d=\"M417.67,-332.45C411.29,-316.09 416.27,-298.3 424.55,-282.86\"/>\n<polygon fill=\"black\" stroke=\"black\" points=\"427.49,-284.76 429.6,-274.38 421.47,-281.18 427.49,-284.76\"/>\n</g>\n<!-- name -->\n<g id=\"node13\" class=\"node\">\n<title>name</title>\n<path fill=\"#ffc857\" stroke=\"black\" d=\"M552.6,-272.65C552.6,-272.65 516.75,-272.65 516.75,-272.65 510.75,-272.65 504.75,-266.65 504.75,-260.65 504.75,-260.65 504.75,-221.05 504.75,-221.05 504.75,-215.05 510.75,-209.05 516.75,-209.05 516.75,-209.05 552.6,-209.05 552.6,-209.05 558.6,-209.05 564.6,-215.05 564.6,-221.05 564.6,-221.05 564.6,-260.65 564.6,-260.65 564.6,-266.65 558.6,-272.65 552.6,-272.65\"/>\n<text text-anchor=\"start\" x=\"516.67\" y=\"-249.55\" font-family=\"Helvetica,sans-Serif\" font-weight=\"bold\" font-size=\"14.00\">name</text>\n<text text-anchor=\"start\" x=\"515.55\" y=\"-221.55\" font-family=\"Helvetica,sans-Serif\" font-style=\"italic\" font-size=\"14.00\">Series</text>\n</g>\n<!-- passengers_df&#45;&gt;name -->\n<g id=\"edge25\" class=\"edge\">\n<title>passengers_df&#45;&gt;name</title>\n<path fill=\"none\" stroke=\"black\" d=\"M417.67,-332.45C402.9,-294.62 453.22,-298.63 495.14,-272.3\"/>\n<polygon fill=\"black\" stroke=\"black\" points=\"497.04,-275.24 503.23,-266.64 493.03,-269.5 497.04,-275.24\"/>\n</g>\n<!-- pclass&#45;&gt;parquet_output_build_result -->\n<g id=\"edge1\" class=\"edge\">\n<title>pclass&#45;&gt;parquet_output_build_result</title>\n<path fill=\"none\" stroke=\"black\" d=\"M252.84,-209.18C259.95,-202.39 267.58,-195.11 274.99,-188.05\"/>\n<polygon fill=\"black\" stroke=\"black\" points=\"276.98,-190.99 281.8,-181.55 272.15,-185.92 276.98,-190.99\"/>\n</g>\n<!-- output_df_build_result -->\n<g id=\"node4\" class=\"node\">\n<title>output_df_build_result</title>\n<path fill=\"#b4d8e4\" stroke=\"black\" d=\"M591.6,-180.05C591.6,-180.05 447.75,-180.05 447.75,-180.05 441.75,-180.05 435.75,-174.05 435.75,-168.05 435.75,-168.05 435.75,-128.45 435.75,-128.45 435.75,-122.45 441.75,-116.45 447.75,-116.45 447.75,-116.45 591.6,-116.45 591.6,-116.45 597.6,-116.45 603.6,-122.45 603.6,-128.45 603.6,-128.45 603.6,-168.05 603.6,-168.05 603.6,-174.05 597.6,-180.05 591.6,-180.05\"/>\n<text text-anchor=\"start\" x=\"446.55\" y=\"-156.95\" font-family=\"Helvetica,sans-Serif\" font-weight=\"bold\" font-size=\"14.00\">output_df_build_result</text>\n<text text-anchor=\"start\" x=\"485.55\" y=\"-128.95\" font-family=\"Helvetica,sans-Serif\" font-style=\"italic\" font-size=\"14.00\">DataFrame</text>\n</g>\n<!-- pclass&#45;&gt;output_df_build_result -->\n<g id=\"edge10\" class=\"edge\">\n<title>pclass&#45;&gt;output_df_build_result</title>\n<path fill=\"none\" stroke=\"black\" d=\"M252.96,-213.53C255.81,-211.85 258.73,-210.32 261.67,-209.05 326.79,-180.82 352.08,-196.59 424.41,-180.38\"/>\n<polygon fill=\"black\" stroke=\"black\" points=\"425.05,-183.82 433.96,-178.1 423.42,-177.01 425.05,-183.82\"/>\n</g>\n<!-- output_df -->\n<g id=\"node12\" class=\"node\">\n<title>output_df</title>\n<path fill=\"#ffc857\" stroke=\"black\" d=\"M580.35,-79.5C580.35,-83.89 553.15,-87.45 519.67,-87.45 486.2,-87.45 459,-83.89 459,-79.5 459,-79.5 459,-7.95 459,-7.95 459,-3.56 486.2,0 519.67,0 553.15,0 580.35,-3.56 580.35,-7.95 580.35,-7.95 580.35,-79.5 580.35,-79.5\"/>\n<path fill=\"none\" stroke=\"black\" d=\"M580.35,-79.5C580.35,-75.11 553.15,-71.55 519.67,-71.55 486.2,-71.55 459,-75.11 459,-79.5\"/>\n<text text-anchor=\"start\" x=\"488.55\" y=\"-52.42\" font-family=\"Helvetica,sans-Serif\" font-weight=\"bold\" font-size=\"14.00\">output_df</text>\n<text text-anchor=\"start\" x=\"469.8\" y=\"-24.42\" font-family=\"Helvetica,sans-Serif\" font-style=\"italic\" font-size=\"14.00\">InMemoryResult</text>\n</g>\n<!-- output_df_build_result&#45;&gt;output_df -->\n<g id=\"edge24\" class=\"edge\">\n<title>output_df_build_result&#45;&gt;output_df</title>\n<path fill=\"none\" stroke=\"black\" d=\"M519.67,-116.21C519.67,-110.75 519.67,-104.93 519.67,-99.05\"/>\n<polygon fill=\"black\" stroke=\"black\" points=\"523.18,-99.28 519.68,-89.28 516.18,-99.28 523.18,-99.28\"/>\n</g>\n<!-- target -->\n<g id=\"node14\" class=\"node\">\n<title>target</title>\n<path fill=\"#ffc857\" stroke=\"black\" d=\"M630.6,-272.65C630.6,-272.65 594.75,-272.65 594.75,-272.65 588.75,-272.65 582.75,-266.65 582.75,-260.65 582.75,-260.65 582.75,-221.05 582.75,-221.05 582.75,-215.05 588.75,-209.05 594.75,-209.05 594.75,-209.05 630.6,-209.05 630.6,-209.05 636.6,-209.05 642.6,-215.05 642.6,-221.05 642.6,-221.05 642.6,-260.65 642.6,-260.65 642.6,-266.65 636.6,-272.65 630.6,-272.65\"/>\n<text text-anchor=\"start\" x=\"593.92\" y=\"-249.55\" font-family=\"Helvetica,sans-Serif\" font-weight=\"bold\" font-size=\"14.00\">target</text>\n<text text-anchor=\"start\" x=\"593.55\" y=\"-221.55\" font-family=\"Helvetica,sans-Serif\" font-style=\"italic\" font-size=\"14.00\">Series</text>\n</g>\n<!-- survived&#45;&gt;target -->\n<g id=\"edge26\" class=\"edge\">\n<title>survived&#45;&gt;target</title>\n<path fill=\"none\" stroke=\"black\" d=\"M570.7,-301.27C575.02,-295.15 579.62,-288.65 584.12,-282.27\"/>\n<polygon fill=\"black\" stroke=\"black\" points=\"586.82,-284.51 589.74,-274.32 581.11,-280.47 586.82,-284.51\"/>\n</g>\n<!-- sibsp&#45;&gt;parquet_output_build_result -->\n<g id=\"edge2\" class=\"edge\">\n<title>sibsp&#45;&gt;parquet_output_build_result</title>\n<path fill=\"none\" stroke=\"black\" d=\"M305.84,-208.67C306.76,-203.12 307.73,-197.25 308.69,-191.45\"/>\n<polygon fill=\"black\" stroke=\"black\" points=\"312.08,-192.42 310.26,-181.98 305.17,-191.27 312.08,-192.42\"/>\n</g>\n<!-- sibsp&#45;&gt;output_df_build_result -->\n<g id=\"edge11\" class=\"edge\">\n<title>sibsp&#45;&gt;output_df_build_result</title>\n<path fill=\"none\" stroke=\"black\" d=\"M331.07,-214.27C333.9,-212.38 336.79,-210.61 339.67,-209.05 340.23,-208.75 381.54,-195.02 424.45,-180.79\"/>\n<polygon fill=\"black\" stroke=\"black\" points=\"425.54,-184.12 433.93,-177.65 423.33,-177.48 425.54,-184.12\"/>\n</g>\n<!-- passengers_df_raw -->\n<g id=\"node7\" class=\"node\">\n<title>passengers_df_raw</title>\n<path fill=\"#b4d8e4\" stroke=\"black\" d=\"M512.85,-643.05C512.85,-643.05 388.5,-643.05 388.5,-643.05 382.5,-643.05 376.5,-637.05 376.5,-631.05 376.5,-631.05 376.5,-591.45 376.5,-591.45 376.5,-585.45 382.5,-579.45 388.5,-579.45 388.5,-579.45 512.85,-579.45 512.85,-579.45 518.85,-579.45 524.85,-585.45 524.85,-591.45 524.85,-591.45 524.85,-631.05 524.85,-631.05 524.85,-637.05 518.85,-643.05 512.85,-643.05\"/>\n<text text-anchor=\"start\" x=\"387.3\" y=\"-619.95\" font-family=\"Helvetica,sans-Serif\" font-weight=\"bold\" font-size=\"14.00\">passengers_df_raw</text>\n<text text-anchor=\"start\" x=\"416.55\" y=\"-591.95\" font-family=\"Helvetica,sans-Serif\" font-style=\"italic\" font-size=\"14.00\">DataFrame</text>\n</g>\n<!-- passengers_df_raw&#45;&gt;passengers_df -->\n<g id=\"edge7\" class=\"edge\">\n<title>passengers_df_raw&#45;&gt;passengers_df</title>\n<path fill=\"none\" stroke=\"black\" d=\"M402.7,-579.17C393.78,-570.98 385.69,-561.34 380.67,-550.45 368.84,-524.78 368.84,-512.52 380.67,-486.85 384.12,-479.37 389.02,-472.47 394.65,-466.23\"/>\n<polygon fill=\"black\" stroke=\"black\" points=\"397.07,-468.76 401.64,-459.21 392.1,-463.83 397.07,-468.76\"/>\n</g>\n<!-- passengers_df_pandera_schema_validator -->\n<g id=\"node9\" class=\"node\">\n<title>passengers_df_pandera_schema_validator</title>\n<path fill=\"#b4d8e4\" stroke=\"black\" d=\"M677.22,-550.45C677.22,-550.45 402.12,-550.45 402.12,-550.45 396.12,-550.45 390.12,-544.45 390.12,-538.45 390.12,-538.45 390.12,-498.85 390.12,-498.85 390.12,-492.85 396.12,-486.85 402.12,-486.85 402.12,-486.85 677.22,-486.85 677.22,-486.85 683.22,-486.85 689.22,-492.85 689.22,-498.85 689.22,-498.85 689.22,-538.45 689.22,-538.45 689.22,-544.45 683.22,-550.45 677.22,-550.45\"/>\n<text text-anchor=\"start\" x=\"400.92\" y=\"-527.35\" font-family=\"Helvetica,sans-Serif\" font-weight=\"bold\" font-size=\"14.00\">passengers_df_pandera_schema_validator</text>\n<text text-anchor=\"start\" x=\"490.92\" y=\"-499.35\" font-family=\"Helvetica,sans-Serif\" font-style=\"italic\" font-size=\"14.00\">ValidationResult</text>\n</g>\n<!-- passengers_df_raw&#45;&gt;passengers_df_pandera_schema_validator -->\n<g id=\"edge20\" class=\"edge\">\n<title>passengers_df_raw&#45;&gt;passengers_df_pandera_schema_validator</title>\n<path fill=\"none\" stroke=\"black\" d=\"M481.3,-579.07C487.74,-572.52 494.6,-565.54 501.28,-558.74\"/>\n<polygon fill=\"black\" stroke=\"black\" points=\"503.42,-561.55 507.93,-551.97 498.42,-556.65 503.42,-561.55\"/>\n</g>\n<!-- age&#45;&gt;parquet_output_build_result -->\n<g id=\"edge3\" class=\"edge\">\n<title>age&#45;&gt;parquet_output_build_result</title>\n<path fill=\"none\" stroke=\"black\" d=\"M356.99,-208.67C352.74,-202.55 348.21,-196.05 343.78,-189.67\"/>\n<polygon fill=\"black\" stroke=\"black\" points=\"346.84,-187.94 338.26,-181.73 341.1,-191.94 346.84,-187.94\"/>\n</g>\n<!-- age&#45;&gt;output_df_build_result -->\n<g id=\"edge12\" class=\"edge\">\n<title>age&#45;&gt;output_df_build_result</title>\n<path fill=\"none\" stroke=\"black\" d=\"M409.03,-215.23C411.91,-213.09 414.83,-211 417.67,-209.05 429.04,-201.28 441.46,-193.48 453.59,-186.2\"/>\n<polygon fill=\"black\" stroke=\"black\" points=\"455.11,-189.36 461.93,-181.25 451.54,-183.34 455.11,-189.36\"/>\n</g>\n<!-- passengers_df_pandera_schema_validator&#45;&gt;passengers_df -->\n<g id=\"edge8\" class=\"edge\">\n<title>passengers_df_pandera_schema_validator&#45;&gt;passengers_df</title>\n<path fill=\"none\" stroke=\"black\" d=\"M509.05,-486.47C502.61,-479.92 495.75,-472.94 489.07,-466.14\"/>\n<polygon fill=\"black\" stroke=\"black\" points=\"491.93,-464.05 482.42,-459.37 486.93,-468.95 491.93,-464.05\"/>\n</g>\n<!-- parch&#45;&gt;parquet_output_build_result -->\n<g id=\"edge5\" class=\"edge\">\n<title>parch&#45;&gt;parquet_output_build_result</title>\n<path fill=\"none\" stroke=\"black\" d=\"M426.32,-215.23C423.44,-213.09 420.52,-211 417.67,-209.05 406.31,-201.28 393.89,-193.48 381.76,-186.2\"/>\n<polygon fill=\"black\" stroke=\"black\" points=\"383.81,-183.34 373.42,-181.25 380.24,-189.36 383.81,-183.34\"/>\n</g>\n<!-- parch&#45;&gt;output_df_build_result -->\n<g id=\"edge14\" class=\"edge\">\n<title>parch&#45;&gt;output_df_build_result</title>\n<path fill=\"none\" stroke=\"black\" d=\"M478.36,-208.67C482.61,-202.55 487.14,-196.05 491.57,-189.67\"/>\n<polygon fill=\"black\" stroke=\"black\" points=\"494.25,-191.94 497.09,-181.73 488.51,-187.94 494.25,-191.94\"/>\n</g>\n<!-- name&#45;&gt;parquet_output_build_result -->\n<g id=\"edge4\" class=\"edge\">\n<title>name&#45;&gt;parquet_output_build_result</title>\n<path fill=\"none\" stroke=\"black\" d=\"M504.28,-214.27C501.45,-212.38 498.56,-210.61 495.67,-209.05 482.76,-202.09 457.03,-192.72 428.96,-183.48\"/>\n<polygon fill=\"black\" stroke=\"black\" points=\"430.14,-180.18 419.55,-180.41 427.98,-186.84 430.14,-180.18\"/>\n</g>\n<!-- name&#45;&gt;output_df_build_result -->\n<g id=\"edge13\" class=\"edge\">\n<title>name&#45;&gt;output_df_build_result</title>\n<path fill=\"none\" stroke=\"black\" d=\"M529.51,-208.67C528.59,-203.12 527.62,-197.25 526.66,-191.45\"/>\n<polygon fill=\"black\" stroke=\"black\" points=\"530.18,-191.27 525.09,-181.98 523.27,-192.42 530.18,-191.27\"/>\n</g>\n<!-- target&#45;&gt;parquet_output_build_result -->\n<g id=\"edge6\" class=\"edge\">\n<title>target&#45;&gt;parquet_output_build_result</title>\n<path fill=\"none\" stroke=\"black\" d=\"M582.48,-213.87C579.61,-212.06 576.65,-210.42 573.67,-209.05 516.38,-182.66 493.87,-194.03 429.56,-180.55\"/>\n<polygon fill=\"black\" stroke=\"black\" points=\"430.41,-177.15 419.89,-178.38 428.88,-183.98 430.41,-177.15\"/>\n</g>\n<!-- target&#45;&gt;output_df_build_result -->\n<g id=\"edge15\" class=\"edge\">\n<title>target&#45;&gt;output_df_build_result</title>\n<path fill=\"none\" stroke=\"black\" d=\"M582.48,-210.43C575.24,-203.38 567.39,-195.73 559.77,-188.31\"/>\n<polygon fill=\"black\" stroke=\"black\" points=\"562.33,-185.92 552.72,-181.44 557.44,-190.93 562.33,-185.92\"/>\n</g>\n<!-- raw_passengers_df -->\n<g id=\"node15\" class=\"node\">\n<title>raw_passengers_df</title>\n<path fill=\"#b4d8e4\" stroke=\"black\" d=\"M512.85,-735.65C512.85,-735.65 388.5,-735.65 388.5,-735.65 382.5,-735.65 376.5,-729.65 376.5,-723.65 376.5,-723.65 376.5,-684.05 376.5,-684.05 376.5,-678.05 382.5,-672.05 388.5,-672.05 388.5,-672.05 512.85,-672.05 512.85,-672.05 518.85,-672.05 524.85,-678.05 524.85,-684.05 524.85,-684.05 524.85,-723.65 524.85,-723.65 524.85,-729.65 518.85,-735.65 512.85,-735.65\"/>\n<text text-anchor=\"start\" x=\"387.3\" y=\"-712.55\" font-family=\"Helvetica,sans-Serif\" font-weight=\"bold\" font-size=\"14.00\">raw_passengers_df</text>\n<text text-anchor=\"start\" x=\"416.55\" y=\"-684.55\" font-family=\"Helvetica,sans-Serif\" font-style=\"italic\" font-size=\"14.00\">DataFrame</text>\n</g>\n<!-- raw_passengers_df&#45;&gt;passengers_df_raw -->\n<g id=\"edge18\" class=\"edge\">\n<title>raw_passengers_df&#45;&gt;passengers_df_raw</title>\n<path fill=\"none\" stroke=\"black\" d=\"M450.67,-671.67C450.67,-666.26 450.67,-660.55 450.67,-654.9\"/>\n<polygon fill=\"black\" stroke=\"black\" points=\"454.18,-655 450.68,-645 447.18,-655 454.18,-655\"/>\n</g>\n<!-- _parquet_output_inputs -->\n<g id=\"node16\" class=\"node\">\n<title>_parquet_output_inputs</title>\n<polygon fill=\"none\" stroke=\"black\" stroke-dasharray=\"5,2\" points=\"195.35,-170.55 0,-170.55 0,-125.95 195.35,-125.95 195.35,-170.55\"/>\n<text text-anchor=\"start\" x=\"14.8\" y=\"-142.45\" font-family=\"Helvetica,sans-Serif\" font-size=\"14.00\">parquet_output_path</text>\n<text text-anchor=\"start\" x=\"145.3\" y=\"-142.45\" font-family=\"Helvetica,sans-Serif\" font-size=\"14.00\">Union</text>\n</g>\n<!-- _parquet_output_inputs&#45;&gt;parquet_output -->\n<g id=\"edge22\" class=\"edge\">\n<title>_parquet_output_inputs&#45;&gt;parquet_output</title>\n<path fill=\"none\" stroke=\"black\" d=\"M120.79,-125.51C130.35,-116.52 141.85,-105.7 153.29,-94.94\"/>\n<polygon fill=\"black\" stroke=\"black\" points=\"155.59,-97.58 160.48,-88.18 150.8,-92.48 155.59,-97.58\"/>\n</g>\n<!-- input -->\n<g id=\"node17\" class=\"node\">\n<title>input</title>\n<polygon fill=\"none\" stroke=\"black\" stroke-dasharray=\"5,2\" points=\"870.67,-722.15 816.67,-722.15 816.67,-685.55 870.67,-685.55 870.67,-722.15\"/>\n<text text-anchor=\"middle\" x=\"843.67\" y=\"-698.05\" font-family=\"Helvetica,sans-Serif\" font-size=\"14.00\">input</text>\n</g>\n<!-- function -->\n<g id=\"node18\" class=\"node\">\n<title>function</title>\n<path fill=\"#b4d8e4\" stroke=\"black\" d=\"M787.1,-722.15C787.1,-722.15 742.25,-722.15 742.25,-722.15 736.25,-722.15 730.25,-716.15 730.25,-710.15 730.25,-710.15 730.25,-697.55 730.25,-697.55 730.25,-691.55 736.25,-685.55 742.25,-685.55 742.25,-685.55 787.1,-685.55 787.1,-685.55 793.1,-685.55 799.1,-691.55 799.1,-697.55 799.1,-697.55 799.1,-710.15 799.1,-710.15 799.1,-716.15 793.1,-722.15 787.1,-722.15\"/>\n<text text-anchor=\"middle\" x=\"764.67\" y=\"-698.05\" font-family=\"Helvetica,sans-Serif\" font-size=\"14.00\">function</text>\n</g>\n<!-- output -->\n<g id=\"node19\" class=\"node\">\n<title>output</title>\n<path fill=\"#ffc857\" stroke=\"black\" d=\"M700.22,-722.15C700.22,-722.15 665.12,-722.15 665.12,-722.15 659.12,-722.15 653.12,-716.15 653.12,-710.15 653.12,-710.15 653.12,-697.55 653.12,-697.55 653.12,-691.55 659.12,-685.55 665.12,-685.55 665.12,-685.55 700.22,-685.55 700.22,-685.55 706.22,-685.55 712.22,-691.55 712.22,-697.55 712.22,-697.55 712.22,-710.15 712.22,-710.15 712.22,-716.15 706.22,-722.15 700.22,-722.15\"/>\n<text text-anchor=\"middle\" x=\"682.67\" y=\"-698.05\" font-family=\"Helvetica,sans-Serif\" font-size=\"14.00\">output</text>\n</g>\n<!-- materializer -->\n<g id=\"node20\" class=\"node\">\n<title>materializer</title>\n<path fill=\"none\" stroke=\"black\" d=\"M634.72,-720.39C634.72,-722.42 614.08,-724.06 588.67,-724.06 563.27,-724.06 542.62,-722.42 542.62,-720.39 542.62,-720.39 542.62,-687.31 542.62,-687.31 542.62,-685.28 563.27,-683.64 588.67,-683.64 614.08,-683.64 634.72,-685.28 634.72,-687.31 634.72,-687.31 634.72,-720.39 634.72,-720.39\"/>\n<path fill=\"none\" stroke=\"black\" d=\"M634.72,-720.39C634.72,-718.36 614.08,-716.71 588.67,-716.71 563.27,-716.71 542.62,-718.36 542.62,-720.39\"/>\n<text text-anchor=\"middle\" x=\"588.67\" y=\"-698.05\" font-family=\"Helvetica,sans-Serif\" font-size=\"14.00\">materializer</text>\n</g>\n</g>\n</svg>\n",
      "text/plain": "<graphviz.graphs.Digraph at 0x14552abc0>"
     },
     "execution_count": 17,
     "metadata": {},
     "output_type": "execute_result"
    }
   ],
   "source": [
    "# .materializer but actually save the result -- we can just add to the materializer list!\n",
    "\n",
    "materializers = [\n",
    "    to.memory(\n",
    "     id=\"output_df\",\n",
    "     dependencies=outputs,\n",
    "     combine=base.PandasDataFrameResult()\n",
    "    ),\n",
    "    to.parquet(\n",
    "        id=\"parquet_output\",\n",
    "        path=source(\"parquet_output_path\"),\n",
    "        dependencies=outputs,\n",
    "        combine=base.PandasDataFrameResult()\n",
    "    )\n",
    "]\n",
    "# get the dictionary & the dataframe back at the same time!\n",
    "metadata, dict_outputs = driver_2.materialize(\n",
    "      *materializers,\n",
    "    additional_vars=outputs,\n",
    "    inputs={\"parquet_output_path\": \"temp_feature_output.parquet\"})\n",
    "print(metadata)\n",
    "print(dict_outputs.keys())\n",
    "driver_2.visualize_materialization(\n",
    "    *materializers,\n",
    "    additional_vars=outputs,\n",
    "    inputs={\"parquet_output_path\": \"temp_feature_output.parquet\"}, orient=\"TB\")"
   ]
  },
  {
   "cell_type": "markdown",
   "metadata": {},
   "source": [
    "# Add DAGWorks\n",
    "To get a lot more introspection, etc. We just need to switch out the driver."
   ]
  },
  {
   "cell_type": "code",
   "execution_count": 20,
   "metadata": {
    "ExecuteTime": {
     "end_time": "2024-02-09T06:53:59.670699Z",
     "start_time": "2024-02-09T06:53:56.265179Z"
    }
   },
   "outputs": [
    {
     "name": "stderr",
     "output_type": "stream",
     "text": [
      "\n",
      "Capturing execution run. Results can be found at https://app.dagworks.io/dashboard/project/81/runs/28545\n",
      "\n",
      "\n",
      "Captured execution run. Results can be found at https://app.dagworks.io/dashboard/project/81/runs/28545\n",
      "\n"
     ]
    },
    {
     "name": "stdout",
     "output_type": "stream",
     "text": [
      "{'output_df':       pclass  sibsp      age                                             name  \\\n",
      "0          1      0  29.0000                    Allen, Miss. Elisabeth Walton   \n",
      "1          1      1   0.9167                   Allison, Master. Hudson Trevor   \n",
      "2          1      1   2.0000                     Allison, Miss. Helen Loraine   \n",
      "3          1      1  30.0000             Allison, Mr. Hudson Joshua Creighton   \n",
      "4          1      1  25.0000  Allison, Mrs. Hudson J C (Bessie Waldo Daniels)   \n",
      "...      ...    ...      ...                                              ...   \n",
      "1304       3      1  14.5000                             Zabour, Miss. Hileni   \n",
      "1305       3      1      NaN                            Zabour, Miss. Thamine   \n",
      "1306       3      0  26.5000                        Zakarian, Mr. Mapriededer   \n",
      "1307       3      0  27.0000                              Zakarian, Mr. Ortin   \n",
      "1308       3      0  29.0000                               Zimmerman, Mr. Leo   \n",
      "\n",
      "      parch target  \n",
      "0         0      1  \n",
      "1         2      1  \n",
      "2         2      0  \n",
      "3         2      0  \n",
      "4         2      0  \n",
      "...     ...    ...  \n",
      "1304      0      0  \n",
      "1305      0      0  \n",
      "1306      0      0  \n",
      "1307      0      0  \n",
      "1308      0      0  \n",
      "\n",
      "[1307 rows x 6 columns], 'parquet_output': {'file_metadata': {'size': 40665, 'path': 'temp_feature_output.parquet', 'last_modified': 1707461639.396952, 'timestamp': 1707490439.39717}, 'dataframe_metadata': {'rows': 1307, 'columns': 6, 'column_names': ['pclass', 'sibsp', 'age', 'name', 'parch', 'target'], 'datatypes': ['int64', 'int64', 'float64', 'object', 'int64', 'category']}}}\n",
      "dict_keys(['pclass', 'sibsp', 'age', 'name', 'parch', 'target'])\n"
     ]
    }
   ],
   "source": [
    "\n",
    "from dagworks import adapters\n",
    "dw_tracker = adapters.DAGWorksTracker(\n",
    "   project_id=DAGWORKS_PROJECT_ID,\n",
    "   api_key=DAGWORKS_API_KEY,\n",
    "   username=DAGWORKS_PROJECT_EMAIL,\n",
    "   dag_name=\"titanic-data-loading-v2\",\n",
    "   tags={\"env\": \"local\", \"where\": \"notebook\"}\n",
    ")\n",
    "\n",
    "dw_dr = (\n",
    "    driver.Builder()\n",
    "    .with_config(config)\n",
    "    .with_modules(data_loader)\n",
    "    .with_adapters(dw_tracker)\n",
    "    .build()\n",
    ")\n",
    "\n",
    "# .materializer but actually save the result -- we can just add to the materializer list!\n",
    "\n",
    "materializers = [\n",
    "    to.memory(\n",
    "     id=\"output_df\",\n",
    "     dependencies=outputs,\n",
    "     combine=base.PandasDataFrameResult()\n",
    "    ),\n",
    "    to.parquet(\n",
    "        id=\"parquet_output\",\n",
    "        path=source(\"parquet_output_path\"),\n",
    "        dependencies=outputs,\n",
    "        combine=base.PandasDataFrameResult()\n",
    "    )\n",
    "]\n",
    "# get the dictionary & the dataframe back at the same time!\n",
    "metadata, dict_outputs = dw_dr.materialize(\n",
    "      *materializers,\n",
    "    additional_vars=outputs,\n",
    "    inputs={\"parquet_output_path\": \"temp_feature_output.parquet\"})\n",
    "print(metadata)\n",
    "print(dict_outputs.keys())\n",
    "# Go see it in the UI -- see the URL in the output."
   ]
  },
  {
   "cell_type": "markdown",
   "metadata": {
    "collapsed": false
   },
   "source": [
    "# Now let's transform the data\n",
    "How should we think about extending what we've done? Simple. Just add nodes & edges!\n",
    "\n",
    "Reminder: the contract you need to fulfill is that functions that depend on what was loaded, just need to declare a parameter with the corresponding name & type.\n",
    "\n",
    "With this in mind, we can create an independent module, that isn't coupled to this initial dataset, other than being coupled via \"naming\" of the outputs mapping to inputs. So that's what we'll do below.\n",
    "\n",
    "The task of the code below is to create a dataset for training, after transforming the data."
   ]
  },
  {
   "cell_type": "code",
   "execution_count": 21,
   "metadata": {
    "collapsed": false,
    "ExecuteTime": {
     "end_time": "2024-02-09T06:55:04.210114Z",
     "start_time": "2024-02-09T06:55:04.187207Z"
    }
   },
   "outputs": [
    {
     "name": "stdout",
     "output_type": "stream",
     "text": [
      "Overwriting features.py\n"
     ]
    }
   ],
   "source": [
    "%%writefile features.py\n",
    "\"\"\"\n",
    "This is a module that contains our feature transforms.\n",
    "\"\"\"\n",
    "import pickle\n",
    "from typing import Set\n",
    "\n",
    "import pandas as pd\n",
    "\n",
    "# from sklearn.preprocessing import OneHotEncoder\n",
    "from sklearn import impute  # import KNNImputer\n",
    "from sklearn import preprocessing\n",
    "\n",
    "from hamilton.function_modifiers import check_output, config\n",
    "\n",
    "\n",
    "def rare_titles() -> Set[str]:\n",
    "    \"\"\"Rare titles we've curated\"\"\"\n",
    "    return {\n",
    "        \"Capt\",\n",
    "        \"Col\",\n",
    "        \"Don\",\n",
    "        \"Dona\",\n",
    "        \"Dr\",\n",
    "        \"Jonkheer\",\n",
    "        \"Lady\",\n",
    "        \"Major\",\n",
    "        \"Mlle\",\n",
    "        \"Mme\",\n",
    "        \"Ms\",\n",
    "        \"Rev\",\n",
    "        \"Sir\",\n",
    "        \"the Countess\",\n",
    "    }\n",
    "\n",
    "\n",
    "@check_output(data_type=int)\n",
    "def family_size(parch: pd.Series, sibsp: pd.Series) -> pd.Series:\n",
    "    return parch + sibsp\n",
    "\n",
    "\n",
    "def normalized_name(name: pd.Series) -> pd.Series:\n",
    "    \"\"\"I believe this actually gets the honorific, not the name.\"\"\"\n",
    "    return name.apply(lambda x: x.split(\",\")[1].split(\".\")[0].strip())\n",
    "\n",
    "\n",
    "def title(normalized_name: pd.Series, rare_titles: Set[str]) -> pd.Series:\n",
    "    return normalized_name.apply(lambda n: \"rare\" if n in rare_titles else n)\n",
    "\n",
    "\n",
    "def is_alone(family_size: pd.Series) -> pd.Series:\n",
    "    return (family_size == 1).astype(int)\n",
    "\n",
    "\n",
    "def one_hot_encoder() -> preprocessing.OneHotEncoder:\n",
    "    return preprocessing.OneHotEncoder(handle_unknown=\"ignore\", sparse=False)\n",
    "\n",
    "\n",
    "@config.when(model_to_use=\"create_new\")\n",
    "def fit_categorical_encoder__create_new(\n",
    "    one_hot_encoder: preprocessing.OneHotEncoder,\n",
    "    embarked: pd.Series,\n",
    "    sex: pd.Series,\n",
    "    pclass: pd.Series,\n",
    "    title: pd.Series,\n",
    "    is_alone: pd.Series,\n",
    ") -> preprocessing.OneHotEncoder:\n",
    "    cat_df = pd.concat([embarked, sex, pclass, title, is_alone], axis=1)\n",
    "    cat_df.columns = cat_df.columns.astype(str)\n",
    "    one_hot_encoder.fit(cat_df)\n",
    "    return one_hot_encoder\n",
    "\n",
    "\n",
    "@config.when(model_to_use=\"use_existing\")\n",
    "def fit_categorical_encoder__use_existing(\n",
    "    categorical_encoder_path: str,\n",
    ") -> preprocessing.OneHotEncoder:\n",
    "    with open(categorical_encoder_path, \"rb\") as f:\n",
    "        return pickle.load(f)\n",
    "\n",
    "\n",
    "def categorical_df(\n",
    "    fit_categorical_encoder: preprocessing.OneHotEncoder,\n",
    "    embarked: pd.Series,\n",
    "    sex: pd.Series,\n",
    "    pclass: pd.Series,\n",
    "    title: pd.Series,\n",
    "    is_alone: pd.Series,\n",
    ") -> pd.DataFrame:\n",
    "    \"\"\"This creates the dataframe of categorical features.\n",
    "\n",
    "    The number of \"features\" output depends on the number of categories.\n",
    "\n",
    "    :param fit_categorical_encoder:\n",
    "    :param embarked:\n",
    "    :param sex:\n",
    "    :param pclass:\n",
    "    :param title:\n",
    "    :param is_alone:\n",
    "    :return:\n",
    "    \"\"\"\n",
    "    cat_df = pd.concat([embarked, sex, pclass, title, is_alone], axis=1)\n",
    "    cat_df.columns = cat_df.columns.astype(str)\n",
    "    cat_df = fit_categorical_encoder.transform(cat_df)\n",
    "    df = pd.DataFrame(cat_df)\n",
    "    df.index = embarked.index\n",
    "    df.columns = [f\"categorical_{c}\" for c in df.columns]\n",
    "    return df\n",
    "\n",
    "\n",
    "def knn_imputer(n_neighbors: int = 5) -> impute.KNNImputer:\n",
    "    return impute.KNNImputer(n_neighbors=n_neighbors)\n",
    "\n",
    "\n",
    "@config.when(model_to_use=\"create_new\")\n",
    "def fit_knn_imputer__create_new(\n",
    "    knn_imputer: impute.KNNImputer,\n",
    "    age: pd.Series,\n",
    "    fare: pd.Series,\n",
    "    family_size: pd.Series,\n",
    ") -> impute.KNNImputer:\n",
    "    num_df = pd.concat([age, fare, family_size], axis=1)\n",
    "    num_df.columns = num_df.columns.astype(str)\n",
    "    knn_imputer.fit(num_df)\n",
    "    return knn_imputer\n",
    "\n",
    "\n",
    "@config.when(model_to_use=\"use_existing\")\n",
    "def fit_knn_imputer__use_existing(knn_imputer_path: str) -> impute.KNNImputer:\n",
    "    with open(knn_imputer_path, \"rb\") as f:\n",
    "        return pickle.load(f)\n",
    "\n",
    "\n",
    "def knn_imputed_df(\n",
    "    fit_knn_imputer: impute.KNNImputer,\n",
    "    age: pd.Series,\n",
    "    fare: pd.Series,\n",
    "    family_size: pd.Series,\n",
    ") -> pd.DataFrame:\n",
    "    \"\"\"This creates the dataframe of KNN imputed numeric features.\n",
    "\n",
    "    :param fit_knn_imputer:\n",
    "    :param age:\n",
    "    :param fare:\n",
    "    :param family_size:\n",
    "    :return:\n",
    "    \"\"\"\n",
    "    num_df = pd.concat([age, fare, family_size], axis=1)\n",
    "    num_df.columns = num_df.columns.astype(str)\n",
    "    imputed_df = fit_knn_imputer.transform(num_df)\n",
    "    df = pd.DataFrame(imputed_df)\n",
    "    df.index = age.index\n",
    "    df.columns = [f\"knn_imputed_{c}\" for c in df.columns]\n",
    "    return df\n",
    "\n",
    "\n",
    "def robust_scaler() -> preprocessing.RobustScaler:\n",
    "    return preprocessing.RobustScaler()\n",
    "\n",
    "\n",
    "@config.when(model_to_use=\"create_new\")\n",
    "def fit_scaler__create_new(\n",
    "    robust_scaler: preprocessing.RobustScaler, knn_imputed_df: pd.DataFrame\n",
    ") -> preprocessing.RobustScaler:\n",
    "    robust_scaler.fit(knn_imputed_df)\n",
    "    return robust_scaler\n",
    "\n",
    "\n",
    "@config.when(model_to_use=\"use_existing\")\n",
    "def fit_scaler__use_existing(scaler_path: str) -> preprocessing.RobustScaler:\n",
    "    with open(scaler_path, \"rb\") as f:\n",
    "        return pickle.load(f)\n",
    "\n",
    "\n",
    "def scaled_numeric_df(\n",
    "    fit_scaler: preprocessing.RobustScaler, knn_imputed_df: pd.DataFrame\n",
    ") -> pd.DataFrame:\n",
    "    \"\"\"This creates the dataframe of scaled numeric features.\n",
    "\n",
    "    :param fit_scaler:\n",
    "    :param knn_imputed_df:\n",
    "    :return:\n",
    "    \"\"\"\n",
    "    num_df = fit_scaler.transform(knn_imputed_df)\n",
    "    df = pd.DataFrame(num_df)\n",
    "    df.index = knn_imputed_df.index\n",
    "    df.columns = [f\"scaled_numeric_{c}\" for c in df.columns]\n",
    "    return df\n",
    "\n",
    "\n",
    "def data_set(\n",
    "    scaled_numeric_df: pd.DataFrame, categorical_df: pd.DataFrame, target: pd.Series\n",
    ") -> pd.DataFrame:\n",
    "    \"\"\"This function creates our dataset.\n",
    "\n",
    "    Following what was in the code, this is how the features are stuck together.\n",
    "\n",
    "    :param scaled_numeric_df:\n",
    "    :param categorical_df:\n",
    "    :param target:\n",
    "    :return:\n",
    "    \"\"\"\n",
    "    return pd.concat([scaled_numeric_df, categorical_df, target], axis=1)\n",
    "\n",
    "\n",
    "def inference_set(scaled_numeric_df: pd.DataFrame, categorical_df: pd.DataFrame) -> pd.DataFrame:\n",
    "    \"\"\"This function creates an inference set.\n",
    "\n",
    "    :param scaled_numeric_df:\n",
    "    :param categorical_df:\n",
    "    :return:\n",
    "    \"\"\"\n",
    "    return pd.concat([scaled_numeric_df, categorical_df], axis=1)\n"
   ]
  },
  {
   "cell_type": "code",
   "execution_count": 22,
   "metadata": {
    "collapsed": false,
    "ExecuteTime": {
     "end_time": "2024-02-09T06:55:06.730542Z",
     "start_time": "2024-02-09T06:55:06.706991Z"
    }
   },
   "outputs": [],
   "source": [
    "# import for reloading features.py\n",
    "%aimport features"
   ]
  },
  {
   "cell_type": "markdown",
   "metadata": {
    "collapsed": false
   },
   "source": [
    "# Let's independently see the features module!\n",
    "We can independently run this module very easily."
   ]
  },
  {
   "cell_type": "code",
   "execution_count": 23,
   "metadata": {
    "collapsed": false,
    "ExecuteTime": {
     "end_time": "2024-02-09T06:55:10.820538Z",
     "start_time": "2024-02-09T06:55:10.456149Z"
    }
   },
   "outputs": [
    {
     "data": {
      "image/svg+xml": "<?xml version=\"1.0\" encoding=\"UTF-8\" standalone=\"no\"?>\n<!DOCTYPE svg PUBLIC \"-//W3C//DTD SVG 1.1//EN\"\n \"http://www.w3.org/Graphics/SVG/1.1/DTD/svg11.dtd\">\n<!-- Generated by graphviz version 9.0.0 (20230911.1827)\n -->\n<!-- Pages: 1 -->\n<svg width=\"1508pt\" height=\"562pt\"\n viewBox=\"0.00 0.00 1507.80 561.80\" xmlns=\"http://www.w3.org/2000/svg\" xmlns:xlink=\"http://www.w3.org/1999/xlink\">\n<g id=\"graph0\" class=\"graph\" transform=\"scale(1 1) rotate(0) translate(4 557.8)\">\n<polygon fill=\"white\" stroke=\"none\" points=\"-4,4 -4,-557.8 1503.8,-557.8 1503.8,4 -4,4\"/>\n<g id=\"clust1\" class=\"cluster\">\n<title>cluster__legend</title>\n<polygon fill=\"none\" stroke=\"black\" points=\"11.33,-361.8 11.33,-545.8 96.17,-545.8 96.17,-361.8 11.33,-361.8\"/>\n<text text-anchor=\"middle\" x=\"53.75\" y=\"-528.5\" font-family=\"Helvetica,sans-Serif\" font-size=\"14.00\">Legend</text>\n</g>\n<!-- family_size -->\n<g id=\"node1\" class=\"node\">\n<title>family_size</title>\n<path fill=\"#b4d8e4\" stroke=\"black\" d=\"M638.3,-282.6C638.3,-282.6 567.95,-282.6 567.95,-282.6 561.95,-282.6 555.95,-276.6 555.95,-270.6 555.95,-270.6 555.95,-231 555.95,-231 555.95,-225 561.95,-219 567.95,-219 567.95,-219 638.3,-219 638.3,-219 644.3,-219 650.3,-225 650.3,-231 650.3,-231 650.3,-270.6 650.3,-270.6 650.3,-276.6 644.3,-282.6 638.3,-282.6\"/>\n<text text-anchor=\"start\" x=\"566.75\" y=\"-259.5\" font-family=\"Helvetica,sans-Serif\" font-weight=\"bold\" font-size=\"14.00\">family_size</text>\n<text text-anchor=\"start\" x=\"584\" y=\"-231.5\" font-family=\"Helvetica,sans-Serif\" font-style=\"italic\" font-size=\"14.00\">Series</text>\n</g>\n<!-- fit_knn_imputer -->\n<g id=\"node5\" class=\"node\">\n<title>fit_knn_imputer</title>\n<path fill=\"#b4d8e4\" stroke=\"black\" d=\"M804.65,-199.6C804.65,-199.6 705.05,-199.6 705.05,-199.6 699.05,-199.6 693.05,-193.6 693.05,-187.6 693.05,-187.6 693.05,-148 693.05,-148 693.05,-142 699.05,-136 705.05,-136 705.05,-136 804.65,-136 804.65,-136 810.65,-136 816.65,-142 816.65,-148 816.65,-148 816.65,-187.6 816.65,-187.6 816.65,-193.6 810.65,-199.6 804.65,-199.6\"/>\n<text text-anchor=\"start\" x=\"703.85\" y=\"-176.5\" font-family=\"Helvetica,sans-Serif\" font-weight=\"bold\" font-size=\"14.00\">fit_knn_imputer</text>\n<text text-anchor=\"start\" x=\"717.35\" y=\"-148.5\" font-family=\"Helvetica,sans-Serif\" font-style=\"italic\" font-size=\"14.00\">KNNImputer</text>\n</g>\n<!-- family_size&#45;&gt;fit_knn_imputer -->\n<g id=\"edge6\" class=\"edge\">\n<title>family_size&#45;&gt;fit_knn_imputer</title>\n<path fill=\"none\" stroke=\"black\" d=\"M650.68,-224.99C661.81,-218.82 673.92,-212.11 685.81,-205.52\"/>\n<polygon fill=\"black\" stroke=\"black\" points=\"687.33,-208.68 694.38,-200.77 683.94,-202.55 687.33,-208.68\"/>\n</g>\n<!-- is_alone -->\n<g id=\"node6\" class=\"node\">\n<title>is_alone</title>\n<path fill=\"#b4d8e4\" stroke=\"black\" d=\"M945.25,-495.6C945.25,-495.6 893.65,-495.6 893.65,-495.6 887.65,-495.6 881.65,-489.6 881.65,-483.6 881.65,-483.6 881.65,-444 881.65,-444 881.65,-438 887.65,-432 893.65,-432 893.65,-432 945.25,-432 945.25,-432 951.25,-432 957.25,-438 957.25,-444 957.25,-444 957.25,-483.6 957.25,-483.6 957.25,-489.6 951.25,-495.6 945.25,-495.6\"/>\n<text text-anchor=\"start\" x=\"892.45\" y=\"-472.5\" font-family=\"Helvetica,sans-Serif\" font-weight=\"bold\" font-size=\"14.00\">is_alone</text>\n<text text-anchor=\"start\" x=\"900.32\" y=\"-444.5\" font-family=\"Helvetica,sans-Serif\" font-style=\"italic\" font-size=\"14.00\">Series</text>\n</g>\n<!-- family_size&#45;&gt;is_alone -->\n<g id=\"edge8\" class=\"edge\">\n<title>family_size&#45;&gt;is_alone</title>\n<path fill=\"none\" stroke=\"black\" d=\"M625.39,-282.8C640.23,-302.79 661.74,-327.54 686.3,-342.8 740,-376.18 771.88,-344.14 823.4,-380.8 841.88,-393.95 835.97,-407.16 852.4,-422.8 858.25,-428.37 864.97,-433.57 871.83,-438.28\"/>\n<polygon fill=\"black\" stroke=\"black\" points=\"869.66,-441.04 879.95,-443.55 873.47,-435.17 869.66,-441.04\"/>\n</g>\n<!-- knn_imputed_df -->\n<g id=\"node15\" class=\"node\">\n<title>knn_imputed_df</title>\n<path fill=\"#b4d8e4\" stroke=\"black\" d=\"M970.75,-145.6C970.75,-145.6 868.15,-145.6 868.15,-145.6 862.15,-145.6 856.15,-139.6 856.15,-133.6 856.15,-133.6 856.15,-94 856.15,-94 856.15,-88 862.15,-82 868.15,-82 868.15,-82 970.75,-82 970.75,-82 976.75,-82 982.75,-88 982.75,-94 982.75,-94 982.75,-133.6 982.75,-133.6 982.75,-139.6 976.75,-145.6 970.75,-145.6\"/>\n<text text-anchor=\"start\" x=\"866.95\" y=\"-122.5\" font-family=\"Helvetica,sans-Serif\" font-weight=\"bold\" font-size=\"14.00\">knn_imputed_df</text>\n<text text-anchor=\"start\" x=\"885.32\" y=\"-94.5\" font-family=\"Helvetica,sans-Serif\" font-style=\"italic\" font-size=\"14.00\">DataFrame</text>\n</g>\n<!-- family_size&#45;&gt;knn_imputed_df -->\n<g id=\"edge28\" class=\"edge\">\n<title>family_size&#45;&gt;knn_imputed_df</title>\n<path fill=\"none\" stroke=\"black\" d=\"M650.64,-253.01C698.43,-252.92 772.8,-245.98 823.4,-208.8 845.35,-192.67 833.75,-174.66 852.4,-154.8 852.76,-154.42 853.12,-154.04 853.49,-153.66\"/>\n<polygon fill=\"black\" stroke=\"black\" points=\"855.62,-156.46 860.6,-147.1 850.87,-151.31 855.62,-156.46\"/>\n</g>\n<!-- one_hot_encoder -->\n<g id=\"node2\" class=\"node\">\n<title>one_hot_encoder</title>\n<path fill=\"#b4d8e4\" stroke=\"black\" d=\"M974.5,-331.6C974.5,-331.6 864.4,-331.6 864.4,-331.6 858.4,-331.6 852.4,-325.6 852.4,-319.6 852.4,-319.6 852.4,-280 852.4,-280 852.4,-274 858.4,-268 864.4,-268 864.4,-268 974.5,-268 974.5,-268 980.5,-268 986.5,-274 986.5,-280 986.5,-280 986.5,-319.6 986.5,-319.6 986.5,-325.6 980.5,-331.6 974.5,-331.6\"/>\n<text text-anchor=\"start\" x=\"863.2\" y=\"-308.5\" font-family=\"Helvetica,sans-Serif\" font-weight=\"bold\" font-size=\"14.00\">one_hot_encoder</text>\n<text text-anchor=\"start\" x=\"870.7\" y=\"-280.5\" font-family=\"Helvetica,sans-Serif\" font-style=\"italic\" font-size=\"14.00\">OneHotEncoder</text>\n</g>\n<!-- fit_categorical_encoder -->\n<g id=\"node8\" class=\"node\">\n<title>fit_categorical_encoder</title>\n<path fill=\"#b4d8e4\" stroke=\"black\" d=\"M1176.6,-342.6C1176.6,-342.6 1027.5,-342.6 1027.5,-342.6 1021.5,-342.6 1015.5,-336.6 1015.5,-330.6 1015.5,-330.6 1015.5,-291 1015.5,-291 1015.5,-285 1021.5,-279 1027.5,-279 1027.5,-279 1176.6,-279 1176.6,-279 1182.6,-279 1188.6,-285 1188.6,-291 1188.6,-291 1188.6,-330.6 1188.6,-330.6 1188.6,-336.6 1182.6,-342.6 1176.6,-342.6\"/>\n<text text-anchor=\"start\" x=\"1026.3\" y=\"-319.5\" font-family=\"Helvetica,sans-Serif\" font-weight=\"bold\" font-size=\"14.00\">fit_categorical_encoder</text>\n<text text-anchor=\"start\" x=\"1053.3\" y=\"-291.5\" font-family=\"Helvetica,sans-Serif\" font-style=\"italic\" font-size=\"14.00\">OneHotEncoder</text>\n</g>\n<!-- one_hot_encoder&#45;&gt;fit_categorical_encoder -->\n<g id=\"edge11\" class=\"edge\">\n<title>one_hot_encoder&#45;&gt;fit_categorical_encoder</title>\n<path fill=\"none\" stroke=\"black\" d=\"M986.93,-303.85C992.51,-304.19 998.21,-304.54 1003.96,-304.89\"/>\n<polygon fill=\"black\" stroke=\"black\" points=\"1003.32,-308.35 1013.52,-305.47 1003.75,-301.37 1003.32,-308.35\"/>\n</g>\n<!-- inference_set -->\n<g id=\"node3\" class=\"node\">\n<title>inference_set</title>\n<path fill=\"#b4d8e4\" stroke=\"black\" d=\"M1487.8,-254.6C1487.8,-254.6 1403.2,-254.6 1403.2,-254.6 1397.2,-254.6 1391.2,-248.6 1391.2,-242.6 1391.2,-242.6 1391.2,-203 1391.2,-203 1391.2,-197 1397.2,-191 1403.2,-191 1403.2,-191 1487.8,-191 1487.8,-191 1493.8,-191 1499.8,-197 1499.8,-203 1499.8,-203 1499.8,-242.6 1499.8,-242.6 1499.8,-248.6 1493.8,-254.6 1487.8,-254.6\"/>\n<text text-anchor=\"start\" x=\"1402\" y=\"-231.5\" font-family=\"Helvetica,sans-Serif\" font-weight=\"bold\" font-size=\"14.00\">inference_set</text>\n<text text-anchor=\"start\" x=\"1411.38\" y=\"-203.5\" font-family=\"Helvetica,sans-Serif\" font-style=\"italic\" font-size=\"14.00\">DataFrame</text>\n</g>\n<!-- model_to_use -->\n<g id=\"node4\" class=\"node\">\n<title>model_to_use</title>\n<polygon fill=\"none\" stroke=\"black\" points=\"101.5,-351.8 0,-351.8 0,-301.8 107.5,-301.8 107.5,-345.8 101.5,-351.8\"/>\n<polyline fill=\"none\" stroke=\"black\" points=\"101.5,-351.8 101.5,-345.8\"/>\n<polyline fill=\"none\" stroke=\"black\" points=\"107.5,-345.8 101.5,-345.8\"/>\n<text text-anchor=\"start\" x=\"8\" y=\"-335.5\" font-family=\"Helvetica,sans-Serif\" font-weight=\"bold\" font-size=\"14.00\">model_to_use</text>\n<text text-anchor=\"start\" x=\"42.12\" y=\"-307.5\" font-family=\"Helvetica,sans-Serif\" font-style=\"italic\" font-size=\"14.00\">Any</text>\n</g>\n<!-- fit_knn_imputer&#45;&gt;knn_imputed_df -->\n<g id=\"edge27\" class=\"edge\">\n<title>fit_knn_imputer&#45;&gt;knn_imputed_df</title>\n<path fill=\"none\" stroke=\"black\" d=\"M816.86,-147.54C825.99,-144.51 835.49,-141.35 844.85,-138.24\"/>\n<polygon fill=\"black\" stroke=\"black\" points=\"845.92,-141.58 854.31,-135.1 843.71,-134.93 845.92,-141.58\"/>\n</g>\n<!-- is_alone&#45;&gt;fit_categorical_encoder -->\n<g id=\"edge13\" class=\"edge\">\n<title>is_alone&#45;&gt;fit_categorical_encoder</title>\n<path fill=\"none\" stroke=\"black\" d=\"M957.75,-442.62C967.4,-436.61 977.58,-429.79 986.5,-422.8 1014.26,-401.04 1042.62,-373.36 1064.18,-350.96\"/>\n<polygon fill=\"black\" stroke=\"black\" points=\"1066.68,-353.41 1071.05,-343.75 1061.62,-348.58 1066.68,-353.41\"/>\n</g>\n<!-- categorical_df -->\n<g id=\"node11\" class=\"node\">\n<title>categorical_df</title>\n<path fill=\"#b4d8e4\" stroke=\"black\" d=\"M1334.45,-254.6C1334.45,-254.6 1245.35,-254.6 1245.35,-254.6 1239.35,-254.6 1233.35,-248.6 1233.35,-242.6 1233.35,-242.6 1233.35,-203 1233.35,-203 1233.35,-197 1239.35,-191 1245.35,-191 1245.35,-191 1334.45,-191 1334.45,-191 1340.45,-191 1346.45,-197 1346.45,-203 1346.45,-203 1346.45,-242.6 1346.45,-242.6 1346.45,-248.6 1340.45,-254.6 1334.45,-254.6\"/>\n<text text-anchor=\"start\" x=\"1244.15\" y=\"-231.5\" font-family=\"Helvetica,sans-Serif\" font-weight=\"bold\" font-size=\"14.00\">categorical_df</text>\n<text text-anchor=\"start\" x=\"1255.78\" y=\"-203.5\" font-family=\"Helvetica,sans-Serif\" font-style=\"italic\" font-size=\"14.00\">DataFrame</text>\n</g>\n<!-- is_alone&#45;&gt;categorical_df -->\n<g id=\"edge22\" class=\"edge\">\n<title>is_alone&#45;&gt;categorical_df</title>\n<path fill=\"none\" stroke=\"black\" d=\"M957.67,-459.45C995.09,-454.14 1053.84,-443.23 1101.05,-422.8\"/>\n</g>\n<!-- title -->\n<g id=\"node7\" class=\"node\">\n<title>title</title>\n<path fill=\"#b4d8e4\" stroke=\"black\" d=\"M937.37,-413.6C937.37,-413.6 901.52,-413.6 901.52,-413.6 895.52,-413.6 889.52,-407.6 889.52,-401.6 889.52,-401.6 889.52,-362 889.52,-362 889.52,-356 895.52,-350 901.52,-350 901.52,-350 937.37,-350 937.37,-350 943.37,-350 949.37,-356 949.37,-362 949.37,-362 949.37,-401.6 949.37,-401.6 949.37,-407.6 943.37,-413.6 937.37,-413.6\"/>\n<text text-anchor=\"start\" x=\"907.45\" y=\"-390.5\" font-family=\"Helvetica,sans-Serif\" font-weight=\"bold\" font-size=\"14.00\">title</text>\n<text text-anchor=\"start\" x=\"900.32\" y=\"-362.5\" font-family=\"Helvetica,sans-Serif\" font-style=\"italic\" font-size=\"14.00\">Series</text>\n</g>\n<!-- title&#45;&gt;fit_categorical_encoder -->\n<g id=\"edge12\" class=\"edge\">\n<title>title&#45;&gt;fit_categorical_encoder</title>\n<path fill=\"none\" stroke=\"black\" d=\"M949.87,-370.23C966.1,-363.85 987.25,-355.54 1008.56,-347.16\"/>\n<polygon fill=\"black\" stroke=\"black\" points=\"1009.58,-350.52 1017.61,-343.6 1007.02,-344.01 1009.58,-350.52\"/>\n</g>\n<!-- title&#45;&gt;categorical_df -->\n<g id=\"edge21\" class=\"edge\">\n<title>title&#45;&gt;categorical_df</title>\n<path fill=\"none\" stroke=\"black\" d=\"M1103.05,-422.8C1176.92,-390.84 1234.56,-313.29 1265,-264.68\"/>\n<polygon fill=\"black\" stroke=\"black\" points=\"1267.86,-266.72 1270.11,-256.37 1261.89,-263.06 1267.86,-266.72\"/>\n<path fill=\"none\" stroke=\"black\" d=\"M949.63,-399.24C986.22,-418.7 1050.3,-444.76 1101.05,-422.8\"/>\n</g>\n<!-- fit_categorical_encoder&#45;&gt;categorical_df -->\n<g id=\"edge20\" class=\"edge\">\n<title>fit_categorical_encoder&#45;&gt;categorical_df</title>\n<path fill=\"none\" stroke=\"black\" d=\"M1171.2,-278.53C1188.01,-270.57 1206,-262.06 1222.72,-254.14\"/>\n<polygon fill=\"black\" stroke=\"black\" points=\"1224.03,-257.39 1231.57,-249.94 1221.04,-251.06 1224.03,-257.39\"/>\n</g>\n<!-- scaled_numeric_df -->\n<g id=\"node9\" class=\"node\">\n<title>scaled_numeric_df</title>\n<path fill=\"#b4d8e4\" stroke=\"black\" d=\"M1350.2,-172.6C1350.2,-172.6 1229.6,-172.6 1229.6,-172.6 1223.6,-172.6 1217.6,-166.6 1217.6,-160.6 1217.6,-160.6 1217.6,-121 1217.6,-121 1217.6,-115 1223.6,-109 1229.6,-109 1229.6,-109 1350.2,-109 1350.2,-109 1356.2,-109 1362.2,-115 1362.2,-121 1362.2,-121 1362.2,-160.6 1362.2,-160.6 1362.2,-166.6 1356.2,-172.6 1350.2,-172.6\"/>\n<text text-anchor=\"start\" x=\"1228.4\" y=\"-149.5\" font-family=\"Helvetica,sans-Serif\" font-weight=\"bold\" font-size=\"14.00\">scaled_numeric_df</text>\n<text text-anchor=\"start\" x=\"1255.78\" y=\"-121.5\" font-family=\"Helvetica,sans-Serif\" font-style=\"italic\" font-size=\"14.00\">DataFrame</text>\n</g>\n<!-- scaled_numeric_df&#45;&gt;inference_set -->\n<g id=\"edge3\" class=\"edge\">\n<title>scaled_numeric_df&#45;&gt;inference_set</title>\n<path fill=\"none\" stroke=\"black\" d=\"M1351.17,-172.97C1360.9,-178.17 1371,-183.56 1380.81,-188.8\"/>\n<polygon fill=\"black\" stroke=\"black\" points=\"1379.09,-191.85 1389.56,-193.47 1382.39,-185.67 1379.09,-191.85\"/>\n</g>\n<!-- data_set -->\n<g id=\"node10\" class=\"node\">\n<title>data_set</title>\n<path fill=\"#b4d8e4\" stroke=\"black\" d=\"M1478.42,-172.6C1478.42,-172.6 1412.58,-172.6 1412.58,-172.6 1406.58,-172.6 1400.58,-166.6 1400.58,-160.6 1400.58,-160.6 1400.58,-121 1400.58,-121 1400.58,-115 1406.58,-109 1412.58,-109 1412.58,-109 1478.42,-109 1478.42,-109 1484.42,-109 1490.42,-115 1490.42,-121 1490.42,-121 1490.42,-160.6 1490.42,-160.6 1490.42,-166.6 1484.42,-172.6 1478.42,-172.6\"/>\n<text text-anchor=\"start\" x=\"1418.12\" y=\"-149.5\" font-family=\"Helvetica,sans-Serif\" font-weight=\"bold\" font-size=\"14.00\">data_set</text>\n<text text-anchor=\"start\" x=\"1411.38\" y=\"-121.5\" font-family=\"Helvetica,sans-Serif\" font-style=\"italic\" font-size=\"14.00\">DataFrame</text>\n</g>\n<!-- scaled_numeric_df&#45;&gt;data_set -->\n<g id=\"edge17\" class=\"edge\">\n<title>scaled_numeric_df&#45;&gt;data_set</title>\n<path fill=\"none\" stroke=\"black\" d=\"M1362.3,-140.8C1371.24,-140.8 1380.28,-140.8 1388.93,-140.8\"/>\n<polygon fill=\"black\" stroke=\"black\" points=\"1388.93,-144.3 1398.93,-140.8 1388.93,-137.3 1388.93,-144.3\"/>\n</g>\n<!-- categorical_df&#45;&gt;inference_set -->\n<g id=\"edge4\" class=\"edge\">\n<title>categorical_df&#45;&gt;inference_set</title>\n<path fill=\"none\" stroke=\"black\" d=\"M1346.79,-222.8C1357.42,-222.8 1368.63,-222.8 1379.52,-222.8\"/>\n<polygon fill=\"black\" stroke=\"black\" points=\"1379.19,-226.3 1389.19,-222.8 1379.19,-219.3 1379.19,-226.3\"/>\n</g>\n<!-- categorical_df&#45;&gt;data_set -->\n<g id=\"edge18\" class=\"edge\">\n<title>categorical_df&#45;&gt;data_set</title>\n<path fill=\"none\" stroke=\"black\" d=\"M1346.79,-192.96C1361.01,-185.37 1376.26,-177.23 1390.39,-169.69\"/>\n<polygon fill=\"black\" stroke=\"black\" points=\"1391.94,-172.83 1399.11,-165.03 1388.64,-166.65 1391.94,-172.83\"/>\n</g>\n<!-- family_size_data_type_validator -->\n<g id=\"node12\" class=\"node\">\n<title>family_size_data_type_validator</title>\n<path fill=\"#b4d8e4\" stroke=\"black\" d=\"M507.95,-312.6C507.95,-312.6 303.35,-312.6 303.35,-312.6 297.35,-312.6 291.35,-306.6 291.35,-300.6 291.35,-300.6 291.35,-261 291.35,-261 291.35,-255 297.35,-249 303.35,-249 303.35,-249 507.95,-249 507.95,-249 513.95,-249 519.95,-255 519.95,-261 519.95,-261 519.95,-300.6 519.95,-300.6 519.95,-306.6 513.95,-312.6 507.95,-312.6\"/>\n<text text-anchor=\"start\" x=\"302.15\" y=\"-289.5\" font-family=\"Helvetica,sans-Serif\" font-weight=\"bold\" font-size=\"14.00\">family_size_data_type_validator</text>\n<text text-anchor=\"start\" x=\"356.9\" y=\"-261.5\" font-family=\"Helvetica,sans-Serif\" font-style=\"italic\" font-size=\"14.00\">ValidationResult</text>\n</g>\n<!-- family_size_data_type_validator&#45;&gt;family_size -->\n<g id=\"edge2\" class=\"edge\">\n<title>family_size_data_type_validator&#45;&gt;family_size</title>\n<path fill=\"none\" stroke=\"black\" d=\"M520.36,-263.35C528.61,-262.08 536.71,-260.84 544.41,-259.66\"/>\n<polygon fill=\"black\" stroke=\"black\" points=\"544.9,-263.12 554.26,-258.15 543.84,-256.2 544.9,-263.12\"/>\n</g>\n<!-- knn_imputer -->\n<g id=\"node13\" class=\"node\">\n<title>knn_imputer</title>\n<path fill=\"#b4d8e4\" stroke=\"black\" d=\"M642.8,-116.6C642.8,-116.6 563.45,-116.6 563.45,-116.6 557.45,-116.6 551.45,-110.6 551.45,-104.6 551.45,-104.6 551.45,-65 551.45,-65 551.45,-59 557.45,-53 563.45,-53 563.45,-53 642.8,-53 642.8,-53 648.8,-53 654.8,-59 654.8,-65 654.8,-65 654.8,-104.6 654.8,-104.6 654.8,-110.6 648.8,-116.6 642.8,-116.6\"/>\n<text text-anchor=\"start\" x=\"562.25\" y=\"-93.5\" font-family=\"Helvetica,sans-Serif\" font-weight=\"bold\" font-size=\"14.00\">knn_imputer</text>\n<text text-anchor=\"start\" x=\"565.62\" y=\"-65.5\" font-family=\"Helvetica,sans-Serif\" font-style=\"italic\" font-size=\"14.00\">KNNImputer</text>\n</g>\n<!-- knn_imputer&#45;&gt;fit_knn_imputer -->\n<g id=\"edge5\" class=\"edge\">\n<title>knn_imputer&#45;&gt;fit_knn_imputer</title>\n<path fill=\"none\" stroke=\"black\" d=\"M655.23,-113.13C665.12,-118.61 675.62,-124.43 685.95,-130.16\"/>\n<polygon fill=\"black\" stroke=\"black\" points=\"684,-133.08 694.44,-134.87 687.39,-126.96 684,-133.08\"/>\n</g>\n<!-- normalized_name -->\n<g id=\"node14\" class=\"node\">\n<title>normalized_name</title>\n<path fill=\"#b4d8e4\" stroke=\"black\" d=\"M811.4,-453.6C811.4,-453.6 698.3,-453.6 698.3,-453.6 692.3,-453.6 686.3,-447.6 686.3,-441.6 686.3,-441.6 686.3,-402 686.3,-402 686.3,-396 692.3,-390 698.3,-390 698.3,-390 811.4,-390 811.4,-390 817.4,-390 823.4,-396 823.4,-402 823.4,-402 823.4,-441.6 823.4,-441.6 823.4,-447.6 817.4,-453.6 811.4,-453.6\"/>\n<text text-anchor=\"start\" x=\"697.1\" y=\"-430.5\" font-family=\"Helvetica,sans-Serif\" font-weight=\"bold\" font-size=\"14.00\">normalized_name</text>\n<text text-anchor=\"start\" x=\"735.72\" y=\"-402.5\" font-family=\"Helvetica,sans-Serif\" font-style=\"italic\" font-size=\"14.00\">Series</text>\n</g>\n<!-- normalized_name&#45;&gt;title -->\n<g id=\"edge9\" class=\"edge\">\n<title>normalized_name&#45;&gt;title</title>\n<path fill=\"none\" stroke=\"black\" d=\"M823.86,-405.07C842.39,-400.51 861.86,-395.72 878.29,-391.68\"/>\n<polygon fill=\"black\" stroke=\"black\" points=\"878.78,-395.16 887.66,-389.37 877.11,-388.37 878.78,-395.16\"/>\n</g>\n<!-- knn_imputed_df&#45;&gt;scaled_numeric_df -->\n<g id=\"edge16\" class=\"edge\">\n<title>knn_imputed_df&#45;&gt;scaled_numeric_df</title>\n<path fill=\"none\" stroke=\"black\" d=\"M983.07,-119.2C993.88,-120.1 1005.02,-120.99 1015.5,-121.8 1079.39,-126.71 1151.72,-131.71 1205.93,-135.35\"/>\n<polygon fill=\"black\" stroke=\"black\" points=\"1205.49,-138.83 1215.7,-136 1205.96,-131.84 1205.49,-138.83\"/>\n</g>\n<!-- fit_scaler -->\n<g id=\"node16\" class=\"node\">\n<title>fit_scaler</title>\n<path fill=\"#b4d8e4\" stroke=\"black\" d=\"M1141.35,-112.6C1141.35,-112.6 1062.75,-112.6 1062.75,-112.6 1056.75,-112.6 1050.75,-106.6 1050.75,-100.6 1050.75,-100.6 1050.75,-61 1050.75,-61 1050.75,-55 1056.75,-49 1062.75,-49 1062.75,-49 1141.35,-49 1141.35,-49 1147.35,-49 1153.35,-55 1153.35,-61 1153.35,-61 1153.35,-100.6 1153.35,-100.6 1153.35,-106.6 1147.35,-112.6 1141.35,-112.6\"/>\n<text text-anchor=\"start\" x=\"1072.42\" y=\"-89.5\" font-family=\"Helvetica,sans-Serif\" font-weight=\"bold\" font-size=\"14.00\">fit_scaler</text>\n<text text-anchor=\"start\" x=\"1061.55\" y=\"-61.5\" font-family=\"Helvetica,sans-Serif\" font-style=\"italic\" font-size=\"14.00\">RobustScaler</text>\n</g>\n<!-- knn_imputed_df&#45;&gt;fit_scaler -->\n<g id=\"edge31\" class=\"edge\">\n<title>knn_imputed_df&#45;&gt;fit_scaler</title>\n<path fill=\"none\" stroke=\"black\" d=\"M983.11,-102.35C1001.25,-99.04 1021.03,-95.42 1039.12,-92.12\"/>\n<polygon fill=\"black\" stroke=\"black\" points=\"1039.74,-95.56 1048.95,-90.32 1038.48,-88.68 1039.74,-95.56\"/>\n</g>\n<!-- fit_scaler&#45;&gt;scaled_numeric_df -->\n<g id=\"edge15\" class=\"edge\">\n<title>fit_scaler&#45;&gt;scaled_numeric_df</title>\n<path fill=\"none\" stroke=\"black\" d=\"M1153.83,-97.2C1170.11,-102.45 1188.57,-108.41 1206.5,-114.2\"/>\n<polygon fill=\"black\" stroke=\"black\" points=\"1205.25,-117.47 1215.84,-117.21 1207.4,-110.81 1205.25,-117.47\"/>\n</g>\n<!-- robust_scaler -->\n<g id=\"node17\" class=\"node\">\n<title>robust_scaler</title>\n<path fill=\"#b4d8e4\" stroke=\"black\" d=\"M962.5,-63.6C962.5,-63.6 876.4,-63.6 876.4,-63.6 870.4,-63.6 864.4,-57.6 864.4,-51.6 864.4,-51.6 864.4,-12 864.4,-12 864.4,-6 870.4,0 876.4,0 876.4,0 962.5,0 962.5,0 968.5,0 974.5,-6 974.5,-12 974.5,-12 974.5,-51.6 974.5,-51.6 974.5,-57.6 968.5,-63.6 962.5,-63.6\"/>\n<text text-anchor=\"start\" x=\"875.2\" y=\"-40.5\" font-family=\"Helvetica,sans-Serif\" font-weight=\"bold\" font-size=\"14.00\">robust_scaler</text>\n<text text-anchor=\"start\" x=\"878.95\" y=\"-12.5\" font-family=\"Helvetica,sans-Serif\" font-style=\"italic\" font-size=\"14.00\">RobustScaler</text>\n</g>\n<!-- robust_scaler&#45;&gt;fit_scaler -->\n<g id=\"edge30\" class=\"edge\">\n<title>robust_scaler&#45;&gt;fit_scaler</title>\n<path fill=\"none\" stroke=\"black\" d=\"M974.64,-46.5C994.98,-52.02 1018.25,-58.34 1039.24,-64.03\"/>\n<polygon fill=\"black\" stroke=\"black\" points=\"1038.27,-67.39 1048.84,-66.63 1040.11,-60.64 1038.27,-67.39\"/>\n</g>\n<!-- rare_titles -->\n<g id=\"node18\" class=\"node\">\n<title>rare_titles</title>\n<path fill=\"#b4d8e4\" stroke=\"black\" d=\"M785.9,-333.6C785.9,-333.6 723.8,-333.6 723.8,-333.6 717.8,-333.6 711.8,-327.6 711.8,-321.6 711.8,-321.6 711.8,-282 711.8,-282 711.8,-276 717.8,-270 723.8,-270 723.8,-270 785.9,-270 785.9,-270 791.9,-270 797.9,-276 797.9,-282 797.9,-282 797.9,-321.6 797.9,-321.6 797.9,-327.6 791.9,-333.6 785.9,-333.6\"/>\n<text text-anchor=\"start\" x=\"722.6\" y=\"-310.5\" font-family=\"Helvetica,sans-Serif\" font-weight=\"bold\" font-size=\"14.00\">rare_titles</text>\n<text text-anchor=\"start\" x=\"744.72\" y=\"-282.5\" font-family=\"Helvetica,sans-Serif\" font-style=\"italic\" font-size=\"14.00\">Set</text>\n</g>\n<!-- rare_titles&#45;&gt;title -->\n<g id=\"edge10\" class=\"edge\">\n<title>rare_titles&#45;&gt;title</title>\n<path fill=\"none\" stroke=\"black\" d=\"M798.15,-322.61C823.18,-334.92 854.67,-350.42 879.16,-362.47\"/>\n<polygon fill=\"black\" stroke=\"black\" points=\"877.3,-365.46 887.82,-366.73 880.4,-359.18 877.3,-365.46\"/>\n</g>\n<!-- family_size_raw -->\n<g id=\"node19\" class=\"node\">\n<title>family_size_raw</title>\n<path fill=\"#b4d8e4\" stroke=\"black\" d=\"M250.35,-282.6C250.35,-282.6 148.5,-282.6 148.5,-282.6 142.5,-282.6 136.5,-276.6 136.5,-270.6 136.5,-270.6 136.5,-231 136.5,-231 136.5,-225 142.5,-219 148.5,-219 148.5,-219 250.35,-219 250.35,-219 256.35,-219 262.35,-225 262.35,-231 262.35,-231 262.35,-270.6 262.35,-270.6 262.35,-276.6 256.35,-282.6 250.35,-282.6\"/>\n<text text-anchor=\"start\" x=\"147.3\" y=\"-259.5\" font-family=\"Helvetica,sans-Serif\" font-weight=\"bold\" font-size=\"14.00\">family_size_raw</text>\n<text text-anchor=\"start\" x=\"180.3\" y=\"-231.5\" font-family=\"Helvetica,sans-Serif\" font-style=\"italic\" font-size=\"14.00\">Series</text>\n</g>\n<!-- family_size_raw&#45;&gt;family_size -->\n<g id=\"edge1\" class=\"edge\">\n<title>family_size_raw&#45;&gt;family_size</title>\n<path fill=\"none\" stroke=\"black\" d=\"M262.45,-242.29C272.11,-241.25 281.99,-240.36 291.35,-239.8 392.77,-233.69 418.57,-233.05 519.95,-239.8 527.86,-240.33 536.16,-241.14 544.33,-242.08\"/>\n<polygon fill=\"black\" stroke=\"black\" points=\"543.88,-245.55 554.23,-243.31 544.74,-238.6 543.88,-245.55\"/>\n</g>\n<!-- family_size_raw&#45;&gt;family_size_data_type_validator -->\n<g id=\"edge24\" class=\"edge\">\n<title>family_size_raw&#45;&gt;family_size_data_type_validator</title>\n<path fill=\"none\" stroke=\"black\" d=\"M262.81,-259.96C268.31,-260.77 274,-261.61 279.79,-262.46\"/>\n<polygon fill=\"black\" stroke=\"black\" points=\"279.13,-265.9 289.53,-263.89 280.15,-258.97 279.13,-265.9\"/>\n</g>\n<!-- _fit_knn_imputer_inputs -->\n<g id=\"node20\" class=\"node\">\n<title>_fit_knn_imputer_inputs</title>\n<polygon fill=\"none\" stroke=\"black\" stroke-dasharray=\"5,2\" points=\"651.42,-200.6 554.82,-200.6 554.82,-135 651.42,-135 651.42,-200.6\"/>\n<text text-anchor=\"start\" x=\"569.87\" y=\"-172.5\" font-family=\"Helvetica,sans-Serif\" font-size=\"14.00\">age</text>\n<text text-anchor=\"start\" x=\"598.5\" y=\"-172.5\" font-family=\"Helvetica,sans-Serif\" font-size=\"14.00\">Series</text>\n<text text-anchor=\"start\" x=\"569.5\" y=\"-151.5\" font-family=\"Helvetica,sans-Serif\" font-size=\"14.00\">fare</text>\n<text text-anchor=\"start\" x=\"598.5\" y=\"-151.5\" font-family=\"Helvetica,sans-Serif\" font-size=\"14.00\">Series</text>\n</g>\n<!-- _fit_knn_imputer_inputs&#45;&gt;fit_knn_imputer -->\n<g id=\"edge7\" class=\"edge\">\n<title>_fit_knn_imputer_inputs&#45;&gt;fit_knn_imputer</title>\n<path fill=\"none\" stroke=\"black\" d=\"M651.91,-167.8C661.3,-167.8 671.35,-167.8 681.34,-167.8\"/>\n<polygon fill=\"black\" stroke=\"black\" points=\"681.04,-171.3 691.04,-167.8 681.04,-164.3 681.04,-171.3\"/>\n</g>\n<!-- _fit_categorical_encoder_inputs -->\n<g id=\"node21\" class=\"node\">\n<title>_fit_categorical_encoder_inputs</title>\n<polygon fill=\"none\" stroke=\"black\" stroke-dasharray=\"5,2\" points=\"986.25,-250.1 852.65,-250.1 852.65,-163.5 986.25,-163.5 986.25,-250.1\"/>\n<text text-anchor=\"start\" x=\"867.07\" y=\"-222\" font-family=\"Helvetica,sans-Serif\" font-size=\"14.00\">embarked</text>\n<text text-anchor=\"start\" x=\"933.32\" y=\"-222\" font-family=\"Helvetica,sans-Serif\" font-size=\"14.00\">Series</text>\n<text text-anchor=\"start\" x=\"878.32\" y=\"-201\" font-family=\"Helvetica,sans-Serif\" font-size=\"14.00\">pclass</text>\n<text text-anchor=\"start\" x=\"933.32\" y=\"-201\" font-family=\"Helvetica,sans-Serif\" font-size=\"14.00\">Series</text>\n<text text-anchor=\"start\" x=\"886.95\" y=\"-180\" font-family=\"Helvetica,sans-Serif\" font-size=\"14.00\">sex</text>\n<text text-anchor=\"start\" x=\"933.32\" y=\"-180\" font-family=\"Helvetica,sans-Serif\" font-size=\"14.00\">Series</text>\n</g>\n<!-- _fit_categorical_encoder_inputs&#45;&gt;fit_categorical_encoder -->\n<g id=\"edge14\" class=\"edge\">\n<title>_fit_categorical_encoder_inputs&#45;&gt;fit_categorical_encoder</title>\n<path fill=\"none\" stroke=\"black\" d=\"M983.86,-250.57C994.28,-257.25 1005.08,-263.89 1015.5,-269.8 1017.65,-271.02 1019.85,-272.24 1022.07,-273.45\"/>\n<polygon fill=\"black\" stroke=\"black\" points=\"1020.17,-276.41 1030.64,-278.01 1023.46,-270.23 1020.17,-276.41\"/>\n</g>\n<!-- _data_set_inputs -->\n<g id=\"node22\" class=\"node\">\n<title>_data_set_inputs</title>\n<polygon fill=\"none\" stroke=\"black\" stroke-dasharray=\"5,2\" points=\"1344.08,-91.1 1235.73,-91.1 1235.73,-46.5 1344.08,-46.5 1344.08,-91.1\"/>\n<text text-anchor=\"start\" x=\"1250.53\" y=\"-63\" font-family=\"Helvetica,sans-Serif\" font-size=\"14.00\">target</text>\n<text text-anchor=\"start\" x=\"1291.03\" y=\"-63\" font-family=\"Helvetica,sans-Serif\" font-size=\"14.00\">Series</text>\n</g>\n<!-- _data_set_inputs&#45;&gt;data_set -->\n<g id=\"edge19\" class=\"edge\">\n<title>_data_set_inputs&#45;&gt;data_set</title>\n<path fill=\"none\" stroke=\"black\" d=\"M1343.99,-91.52C1350.15,-94.26 1356.33,-97.06 1362.2,-99.8 1371.24,-104.01 1380.77,-108.61 1390.01,-113.16\"/>\n<polygon fill=\"black\" stroke=\"black\" points=\"1388.41,-116.27 1398.93,-117.57 1391.52,-110 1388.41,-116.27\"/>\n</g>\n<!-- _categorical_df_inputs -->\n<g id=\"node23\" class=\"node\">\n<title>_categorical_df_inputs</title>\n<polygon fill=\"none\" stroke=\"black\" stroke-dasharray=\"5,2\" points=\"1168.85,-261.1 1035.25,-261.1 1035.25,-174.5 1168.85,-174.5 1168.85,-261.1\"/>\n<text text-anchor=\"start\" x=\"1049.67\" y=\"-233\" font-family=\"Helvetica,sans-Serif\" font-size=\"14.00\">embarked</text>\n<text text-anchor=\"start\" x=\"1115.92\" y=\"-233\" font-family=\"Helvetica,sans-Serif\" font-size=\"14.00\">Series</text>\n<text text-anchor=\"start\" x=\"1060.92\" y=\"-212\" font-family=\"Helvetica,sans-Serif\" font-size=\"14.00\">pclass</text>\n<text text-anchor=\"start\" x=\"1115.92\" y=\"-212\" font-family=\"Helvetica,sans-Serif\" font-size=\"14.00\">Series</text>\n<text text-anchor=\"start\" x=\"1069.55\" y=\"-191\" font-family=\"Helvetica,sans-Serif\" font-size=\"14.00\">sex</text>\n<text text-anchor=\"start\" x=\"1115.92\" y=\"-191\" font-family=\"Helvetica,sans-Serif\" font-size=\"14.00\">Series</text>\n</g>\n<!-- _categorical_df_inputs&#45;&gt;categorical_df -->\n<g id=\"edge23\" class=\"edge\">\n<title>_categorical_df_inputs&#45;&gt;categorical_df</title>\n<path fill=\"none\" stroke=\"black\" d=\"M1169.1,-219.58C1186.21,-220.04 1204.66,-220.53 1221.83,-221\"/>\n<polygon fill=\"black\" stroke=\"black\" points=\"1221.3,-224.48 1231.39,-221.25 1221.49,-217.49 1221.3,-224.48\"/>\n</g>\n<!-- _knn_imputer_inputs -->\n<g id=\"node24\" class=\"node\">\n<title>_knn_imputer_inputs</title>\n<polygon fill=\"none\" stroke=\"black\" stroke-dasharray=\"5,2\" points=\"467.7,-107.1 343.6,-107.1 343.6,-62.5 467.7,-62.5 467.7,-107.1\"/>\n<text text-anchor=\"start\" x=\"358.4\" y=\"-79\" font-family=\"Helvetica,sans-Serif\" font-size=\"14.00\">n_neighbors</text>\n<text text-anchor=\"start\" x=\"438.65\" y=\"-79\" font-family=\"Helvetica,sans-Serif\" font-size=\"14.00\">int</text>\n</g>\n<!-- _knn_imputer_inputs&#45;&gt;knn_imputer -->\n<g id=\"edge25\" class=\"edge\">\n<title>_knn_imputer_inputs&#45;&gt;knn_imputer</title>\n<path fill=\"none\" stroke=\"black\" d=\"M467.96,-84.8C490.86,-84.8 516.86,-84.8 539.84,-84.8\"/>\n<polygon fill=\"black\" stroke=\"black\" points=\"539.68,-88.3 549.68,-84.8 539.68,-81.3 539.68,-88.3\"/>\n</g>\n<!-- _normalized_name_inputs -->\n<g id=\"node25\" class=\"node\">\n<title>_normalized_name_inputs</title>\n<polygon fill=\"none\" stroke=\"black\" stroke-dasharray=\"5,2\" points=\"657.3,-444.1 548.95,-444.1 548.95,-399.5 657.3,-399.5 657.3,-444.1\"/>\n<text text-anchor=\"start\" x=\"563.75\" y=\"-416\" font-family=\"Helvetica,sans-Serif\" font-size=\"14.00\">name</text>\n<text text-anchor=\"start\" x=\"604.25\" y=\"-416\" font-family=\"Helvetica,sans-Serif\" font-size=\"14.00\">Series</text>\n</g>\n<!-- _normalized_name_inputs&#45;&gt;normalized_name -->\n<g id=\"edge26\" class=\"edge\">\n<title>_normalized_name_inputs&#45;&gt;normalized_name</title>\n<path fill=\"none\" stroke=\"black\" d=\"M657.76,-421.8C663.33,-421.8 669.07,-421.8 674.85,-421.8\"/>\n<polygon fill=\"black\" stroke=\"black\" points=\"674.45,-425.3 684.45,-421.8 674.45,-418.3 674.45,-425.3\"/>\n</g>\n<!-- _knn_imputed_df_inputs -->\n<g id=\"node26\" class=\"node\">\n<title>_knn_imputed_df_inputs</title>\n<polygon fill=\"none\" stroke=\"black\" stroke-dasharray=\"5,2\" points=\"803.15,-117.6 706.55,-117.6 706.55,-52 803.15,-52 803.15,-117.6\"/>\n<text text-anchor=\"start\" x=\"721.6\" y=\"-89.5\" font-family=\"Helvetica,sans-Serif\" font-size=\"14.00\">age</text>\n<text text-anchor=\"start\" x=\"750.22\" y=\"-89.5\" font-family=\"Helvetica,sans-Serif\" font-size=\"14.00\">Series</text>\n<text text-anchor=\"start\" x=\"721.22\" y=\"-68.5\" font-family=\"Helvetica,sans-Serif\" font-size=\"14.00\">fare</text>\n<text text-anchor=\"start\" x=\"750.22\" y=\"-68.5\" font-family=\"Helvetica,sans-Serif\" font-size=\"14.00\">Series</text>\n</g>\n<!-- _knn_imputed_df_inputs&#45;&gt;knn_imputed_df -->\n<g id=\"edge29\" class=\"edge\">\n<title>_knn_imputed_df_inputs&#45;&gt;knn_imputed_df</title>\n<path fill=\"none\" stroke=\"black\" d=\"M803.32,-93.27C816.26,-95.57 830.6,-98.13 844.63,-100.63\"/>\n<polygon fill=\"black\" stroke=\"black\" points=\"843.85,-104.05 854.3,-102.36 845.07,-97.16 843.85,-104.05\"/>\n</g>\n<!-- _family_size_raw_inputs -->\n<g id=\"node27\" class=\"node\">\n<title>_family_size_raw_inputs</title>\n<polygon fill=\"none\" stroke=\"black\" stroke-dasharray=\"5,2\" points=\"107.05,-283.6 0.45,-283.6 0.45,-218 107.05,-218 107.05,-283.6\"/>\n<text text-anchor=\"start\" x=\"14.88\" y=\"-255.5\" font-family=\"Helvetica,sans-Serif\" font-size=\"14.00\">parch</text>\n<text text-anchor=\"start\" x=\"54.12\" y=\"-255.5\" font-family=\"Helvetica,sans-Serif\" font-size=\"14.00\">Series</text>\n<text text-anchor=\"start\" x=\"16\" y=\"-234.5\" font-family=\"Helvetica,sans-Serif\" font-size=\"14.00\">sibsp</text>\n<text text-anchor=\"start\" x=\"54.12\" y=\"-234.5\" font-family=\"Helvetica,sans-Serif\" font-size=\"14.00\">Series</text>\n</g>\n<!-- _family_size_raw_inputs&#45;&gt;family_size_raw -->\n<g id=\"edge32\" class=\"edge\">\n<title>_family_size_raw_inputs&#45;&gt;family_size_raw</title>\n<path fill=\"none\" stroke=\"black\" d=\"M107.43,-250.8C113.09,-250.8 118.93,-250.8 124.78,-250.8\"/>\n<polygon fill=\"black\" stroke=\"black\" points=\"124.49,-254.3 134.49,-250.8 124.49,-247.3 124.49,-254.3\"/>\n</g>\n<!-- config -->\n<g id=\"node28\" class=\"node\">\n<title>config</title>\n<polygon fill=\"none\" stroke=\"black\" points=\"74.75,-514.8 26.75,-514.8 26.75,-478.8 80.75,-478.8 80.75,-508.8 74.75,-514.8\"/>\n<polyline fill=\"none\" stroke=\"black\" points=\"74.75,-514.8 74.75,-508.8\"/>\n<polyline fill=\"none\" stroke=\"black\" points=\"80.75,-508.8 74.75,-508.8\"/>\n<text text-anchor=\"middle\" x=\"53.75\" y=\"-491\" font-family=\"Helvetica,sans-Serif\" font-size=\"14.00\">config</text>\n</g>\n<!-- input -->\n<g id=\"node29\" class=\"node\">\n<title>input</title>\n<polygon fill=\"none\" stroke=\"black\" stroke-dasharray=\"5,2\" points=\"80.75,-461.1 26.75,-461.1 26.75,-424.5 80.75,-424.5 80.75,-461.1\"/>\n<text text-anchor=\"middle\" x=\"53.75\" y=\"-437\" font-family=\"Helvetica,sans-Serif\" font-size=\"14.00\">input</text>\n</g>\n<!-- function -->\n<g id=\"node30\" class=\"node\">\n<title>function</title>\n<path fill=\"#b4d8e4\" stroke=\"black\" d=\"M76.17,-406.1C76.17,-406.1 31.33,-406.1 31.33,-406.1 25.33,-406.1 19.33,-400.1 19.33,-394.1 19.33,-394.1 19.33,-381.5 19.33,-381.5 19.33,-375.5 25.33,-369.5 31.33,-369.5 31.33,-369.5 76.17,-369.5 76.17,-369.5 82.17,-369.5 88.17,-375.5 88.17,-381.5 88.17,-381.5 88.17,-394.1 88.17,-394.1 88.17,-400.1 82.17,-406.1 76.17,-406.1\"/>\n<text text-anchor=\"middle\" x=\"53.75\" y=\"-382\" font-family=\"Helvetica,sans-Serif\" font-size=\"14.00\">function</text>\n</g>\n</g>\n</svg>\n",
      "text/plain": "<graphviz.graphs.Digraph at 0x1468a5c60>"
     },
     "execution_count": 23,
     "metadata": {},
     "output_type": "execute_result"
    }
   ],
   "source": [
    "config = {\"model_to_use\": \"create_new\"}\n",
    "dr = (\n",
    "        driver.Builder()\n",
    "        .with_modules(features)\n",
    "        .with_config(config)\n",
    "        .build()\n",
    "    )\n",
    "dr.display_all_functions(orient=\"LR\")"
   ]
  },
  {
   "cell_type": "markdown",
   "metadata": {
    "collapsed": false
   },
   "source": [
    "# Let's connect data loading with features\n",
    "Just to show composability -- we can now create a larger dataflow, by including more modules!"
   ]
  },
  {
   "cell_type": "code",
   "execution_count": 24,
   "metadata": {
    "collapsed": false,
    "ExecuteTime": {
     "end_time": "2024-02-09T06:55:13.907722Z",
     "start_time": "2024-02-09T06:55:13.428970Z"
    }
   },
   "outputs": [
    {
     "data": {
      "image/svg+xml": "<?xml version=\"1.0\" encoding=\"UTF-8\" standalone=\"no\"?>\n<!DOCTYPE svg PUBLIC \"-//W3C//DTD SVG 1.1//EN\"\n \"http://www.w3.org/Graphics/SVG/1.1/DTD/svg11.dtd\">\n<!-- Generated by graphviz version 9.0.0 (20230911.1827)\n -->\n<!-- Pages: 1 -->\n<svg width=\"2311pt\" height=\"734pt\"\n viewBox=\"0.00 0.00 2310.80 733.80\" xmlns=\"http://www.w3.org/2000/svg\" xmlns:xlink=\"http://www.w3.org/1999/xlink\">\n<g id=\"graph0\" class=\"graph\" transform=\"scale(1 1) rotate(0) translate(4 729.8)\">\n<polygon fill=\"white\" stroke=\"none\" points=\"-4,4 -4,-729.8 2306.8,-729.8 2306.8,4 -4,4\"/>\n<g id=\"clust1\" class=\"cluster\">\n<title>cluster__legend</title>\n<polygon fill=\"none\" stroke=\"black\" points=\"31.75,-430 31.75,-614 116.6,-614 116.6,-430 31.75,-430\"/>\n<text text-anchor=\"middle\" x=\"74.18\" y=\"-596.7\" font-family=\"Helvetica,sans-Serif\" font-size=\"14.00\">Legend</text>\n</g>\n<!-- family_size -->\n<g id=\"node1\" class=\"node\">\n<title>family_size</title>\n<path fill=\"#b4d8e4\" stroke=\"black\" d=\"M1450.92,-337.8C1450.92,-337.8 1380.57,-337.8 1380.57,-337.8 1374.57,-337.8 1368.57,-331.8 1368.57,-325.8 1368.57,-325.8 1368.57,-286.2 1368.57,-286.2 1368.57,-280.2 1374.57,-274.2 1380.57,-274.2 1380.57,-274.2 1450.92,-274.2 1450.92,-274.2 1456.92,-274.2 1462.92,-280.2 1462.92,-286.2 1462.92,-286.2 1462.92,-325.8 1462.92,-325.8 1462.92,-331.8 1456.92,-337.8 1450.92,-337.8\"/>\n<text text-anchor=\"start\" x=\"1379.37\" y=\"-314.7\" font-family=\"Helvetica,sans-Serif\" font-weight=\"bold\" font-size=\"14.00\">family_size</text>\n<text text-anchor=\"start\" x=\"1396.62\" y=\"-286.7\" font-family=\"Helvetica,sans-Serif\" font-style=\"italic\" font-size=\"14.00\">Series</text>\n</g>\n<!-- fit_knn_imputer -->\n<g id=\"node7\" class=\"node\">\n<title>fit_knn_imputer</title>\n<path fill=\"#b4d8e4\" stroke=\"black\" d=\"M1630.15,-184.8C1630.15,-184.8 1530.55,-184.8 1530.55,-184.8 1524.55,-184.8 1518.55,-178.8 1518.55,-172.8 1518.55,-172.8 1518.55,-133.2 1518.55,-133.2 1518.55,-127.2 1524.55,-121.2 1530.55,-121.2 1530.55,-121.2 1630.15,-121.2 1630.15,-121.2 1636.15,-121.2 1642.15,-127.2 1642.15,-133.2 1642.15,-133.2 1642.15,-172.8 1642.15,-172.8 1642.15,-178.8 1636.15,-184.8 1630.15,-184.8\"/>\n<text text-anchor=\"start\" x=\"1529.35\" y=\"-161.7\" font-family=\"Helvetica,sans-Serif\" font-weight=\"bold\" font-size=\"14.00\">fit_knn_imputer</text>\n<text text-anchor=\"start\" x=\"1542.85\" y=\"-133.7\" font-family=\"Helvetica,sans-Serif\" font-style=\"italic\" font-size=\"14.00\">KNNImputer</text>\n</g>\n<!-- family_size&#45;&gt;fit_knn_imputer -->\n<g id=\"edge11\" class=\"edge\">\n<title>family_size&#45;&gt;fit_knn_imputer</title>\n<path fill=\"none\" stroke=\"black\" d=\"M1463.24,-282.43C1470.82,-277.33 1478.19,-271.49 1484.3,-265 1503.24,-244.88 1496.1,-231.63 1513.3,-210 1517.99,-204.11 1523.35,-198.35 1528.94,-192.91\"/>\n<polygon fill=\"black\" stroke=\"black\" points=\"1531.21,-195.57 1536.14,-186.2 1526.44,-190.45 1531.21,-195.57\"/>\n</g>\n<!-- is_alone -->\n<g id=\"node8\" class=\"node\">\n<title>is_alone</title>\n<path fill=\"#b4d8e4\" stroke=\"black\" d=\"M1606.15,-315.8C1606.15,-315.8 1554.55,-315.8 1554.55,-315.8 1548.55,-315.8 1542.55,-309.8 1542.55,-303.8 1542.55,-303.8 1542.55,-264.2 1542.55,-264.2 1542.55,-258.2 1548.55,-252.2 1554.55,-252.2 1554.55,-252.2 1606.15,-252.2 1606.15,-252.2 1612.15,-252.2 1618.15,-258.2 1618.15,-264.2 1618.15,-264.2 1618.15,-303.8 1618.15,-303.8 1618.15,-309.8 1612.15,-315.8 1606.15,-315.8\"/>\n<text text-anchor=\"start\" x=\"1553.35\" y=\"-292.7\" font-family=\"Helvetica,sans-Serif\" font-weight=\"bold\" font-size=\"14.00\">is_alone</text>\n<text text-anchor=\"start\" x=\"1561.22\" y=\"-264.7\" font-family=\"Helvetica,sans-Serif\" font-style=\"italic\" font-size=\"14.00\">Series</text>\n</g>\n<!-- family_size&#45;&gt;is_alone -->\n<g id=\"edge12\" class=\"edge\">\n<title>family_size&#45;&gt;is_alone</title>\n<path fill=\"none\" stroke=\"black\" d=\"M1463.34,-299.7C1484.58,-296.82 1509.71,-293.42 1531.14,-290.52\"/>\n<polygon fill=\"black\" stroke=\"black\" points=\"1531.36,-294.03 1540.8,-289.22 1530.42,-287.09 1531.36,-294.03\"/>\n</g>\n<!-- knn_imputed_df -->\n<g id=\"node24\" class=\"node\">\n<title>knn_imputed_df</title>\n<path fill=\"#b4d8e4\" stroke=\"black\" d=\"M1814.25,-184.8C1814.25,-184.8 1711.65,-184.8 1711.65,-184.8 1705.65,-184.8 1699.65,-178.8 1699.65,-172.8 1699.65,-172.8 1699.65,-133.2 1699.65,-133.2 1699.65,-127.2 1705.65,-121.2 1711.65,-121.2 1711.65,-121.2 1814.25,-121.2 1814.25,-121.2 1820.25,-121.2 1826.25,-127.2 1826.25,-133.2 1826.25,-133.2 1826.25,-172.8 1826.25,-172.8 1826.25,-178.8 1820.25,-184.8 1814.25,-184.8\"/>\n<text text-anchor=\"start\" x=\"1710.45\" y=\"-161.7\" font-family=\"Helvetica,sans-Serif\" font-weight=\"bold\" font-size=\"14.00\">knn_imputed_df</text>\n<text text-anchor=\"start\" x=\"1728.82\" y=\"-133.7\" font-family=\"Helvetica,sans-Serif\" font-style=\"italic\" font-size=\"14.00\">DataFrame</text>\n</g>\n<!-- family_size&#45;&gt;knn_imputed_df -->\n<g id=\"edge44\" class=\"edge\">\n<title>family_size&#45;&gt;knn_imputed_df</title>\n<path fill=\"none\" stroke=\"black\" d=\"M1463.3,-278.62C1470.41,-274.18 1477.61,-269.55 1484.3,-265 1497.68,-255.9 1498.84,-250.25 1513.3,-243 1540.61,-229.31 1550.24,-233.24 1579.35,-224\"/>\n</g>\n<!-- passengers_df -->\n<g id=\"node2\" class=\"node\">\n<title>passengers_df</title>\n<path fill=\"#b4d8e4\" stroke=\"black\" d=\"M787.65,-283.8C787.65,-283.8 694.8,-283.8 694.8,-283.8 688.8,-283.8 682.8,-277.8 682.8,-271.8 682.8,-271.8 682.8,-232.2 682.8,-232.2 682.8,-226.2 688.8,-220.2 694.8,-220.2 694.8,-220.2 787.65,-220.2 787.65,-220.2 793.65,-220.2 799.65,-226.2 799.65,-232.2 799.65,-232.2 799.65,-271.8 799.65,-271.8 799.65,-277.8 793.65,-283.8 787.65,-283.8\"/>\n<text text-anchor=\"start\" x=\"693.6\" y=\"-260.7\" font-family=\"Helvetica,sans-Serif\" font-weight=\"bold\" font-size=\"14.00\">passengers_df</text>\n<text text-anchor=\"start\" x=\"707.1\" y=\"-232.7\" font-family=\"Helvetica,sans-Serif\" font-style=\"italic\" font-size=\"14.00\">DataFrame</text>\n</g>\n<!-- sex -->\n<g id=\"node6\" class=\"node\">\n<title>sex</title>\n<path fill=\"#b4d8e4\" stroke=\"black\" d=\"M1598.27,-725.8C1598.27,-725.8 1562.42,-725.8 1562.42,-725.8 1556.42,-725.8 1550.42,-719.8 1550.42,-713.8 1550.42,-713.8 1550.42,-674.2 1550.42,-674.2 1550.42,-668.2 1556.42,-662.2 1562.42,-662.2 1562.42,-662.2 1598.27,-662.2 1598.27,-662.2 1604.27,-662.2 1610.27,-668.2 1610.27,-674.2 1610.27,-674.2 1610.27,-713.8 1610.27,-713.8 1610.27,-719.8 1604.27,-725.8 1598.27,-725.8\"/>\n<text text-anchor=\"start\" x=\"1569.1\" y=\"-702.7\" font-family=\"Helvetica,sans-Serif\" font-weight=\"bold\" font-size=\"14.00\">sex</text>\n<text text-anchor=\"start\" x=\"1561.22\" y=\"-674.7\" font-family=\"Helvetica,sans-Serif\" font-style=\"italic\" font-size=\"14.00\">Series</text>\n</g>\n<!-- passengers_df&#45;&gt;sex -->\n<g id=\"edge7\" class=\"edge\">\n<title>passengers_df&#45;&gt;sex</title>\n<path fill=\"none\" stroke=\"black\" d=\"M998.67,-569C1041.78,-579.35 1047.21,-597.04 1089.6,-610 1251.74,-659.58 1453.6,-682.54 1538.61,-690.53\"/>\n<polygon fill=\"black\" stroke=\"black\" points=\"1538.26,-694.02 1548.54,-691.45 1538.9,-687.05 1538.26,-694.02\"/>\n</g>\n<!-- survived -->\n<g id=\"node10\" class=\"node\">\n<title>survived</title>\n<path fill=\"#b4d8e4\" stroke=\"black\" d=\"M893.75,-130.8C893.75,-130.8 840.65,-130.8 840.65,-130.8 834.65,-130.8 828.65,-124.8 828.65,-118.8 828.65,-118.8 828.65,-79.2 828.65,-79.2 828.65,-73.2 834.65,-67.2 840.65,-67.2 840.65,-67.2 893.75,-67.2 893.75,-67.2 899.75,-67.2 905.75,-73.2 905.75,-79.2 905.75,-79.2 905.75,-118.8 905.75,-118.8 905.75,-124.8 899.75,-130.8 893.75,-130.8\"/>\n<text text-anchor=\"start\" x=\"839.45\" y=\"-107.7\" font-family=\"Helvetica,sans-Serif\" font-weight=\"bold\" font-size=\"14.00\">survived</text>\n<text text-anchor=\"start\" x=\"848.07\" y=\"-79.7\" font-family=\"Helvetica,sans-Serif\" font-style=\"italic\" font-size=\"14.00\">Series</text>\n</g>\n<!-- passengers_df&#45;&gt;survived -->\n<g id=\"edge15\" class=\"edge\">\n<title>passengers_df&#45;&gt;survived</title>\n<path fill=\"none\" stroke=\"black\" d=\"M768.21,-219.93C787,-196.75 812.52,-165.24 832.82,-140.2\"/>\n<polygon fill=\"black\" stroke=\"black\" points=\"835.5,-142.44 839.08,-132.47 830.06,-138.04 835.5,-142.44\"/>\n</g>\n<!-- age -->\n<g id=\"node13\" class=\"node\">\n<title>age</title>\n<path fill=\"#b4d8e4\" stroke=\"black\" d=\"M1433.67,-91.8C1433.67,-91.8 1397.82,-91.8 1397.82,-91.8 1391.82,-91.8 1385.82,-85.8 1385.82,-79.8 1385.82,-79.8 1385.82,-40.2 1385.82,-40.2 1385.82,-34.2 1391.82,-28.2 1397.82,-28.2 1397.82,-28.2 1433.67,-28.2 1433.67,-28.2 1439.67,-28.2 1445.67,-34.2 1445.67,-40.2 1445.67,-40.2 1445.67,-79.8 1445.67,-79.8 1445.67,-85.8 1439.67,-91.8 1433.67,-91.8\"/>\n<text text-anchor=\"start\" x=\"1404.12\" y=\"-68.7\" font-family=\"Helvetica,sans-Serif\" font-weight=\"bold\" font-size=\"14.00\">age</text>\n<text text-anchor=\"start\" x=\"1396.62\" y=\"-40.7\" font-family=\"Helvetica,sans-Serif\" font-style=\"italic\" font-size=\"14.00\">Series</text>\n</g>\n<!-- passengers_df&#45;&gt;age -->\n<g id=\"edge23\" class=\"edge\">\n<title>passengers_df&#45;&gt;age</title>\n<path fill=\"none\" stroke=\"black\" d=\"M799.78,-221.51C809.23,-217.44 819.07,-213.73 828.65,-211 900.92,-190.39 922.01,-200.57 996.67,-192\"/>\n<path fill=\"none\" stroke=\"black\" d=\"M998.67,-192C1052.07,-183.16 1040.67,-134.13 1089.6,-111 1184.47,-66.14 1310.58,-59.4 1374.26,-59.17\"/>\n<polygon fill=\"black\" stroke=\"black\" points=\"1374.25,-62.67 1384.26,-59.19 1374.27,-55.67 1374.25,-62.67\"/>\n</g>\n<!-- embarked -->\n<g id=\"node20\" class=\"node\">\n<title>embarked</title>\n<path fill=\"#b4d8e4\" stroke=\"black\" d=\"M1611.4,-479.8C1611.4,-479.8 1549.3,-479.8 1549.3,-479.8 1543.3,-479.8 1537.3,-473.8 1537.3,-467.8 1537.3,-467.8 1537.3,-428.2 1537.3,-428.2 1537.3,-422.2 1543.3,-416.2 1549.3,-416.2 1549.3,-416.2 1611.4,-416.2 1611.4,-416.2 1617.4,-416.2 1623.4,-422.2 1623.4,-428.2 1623.4,-428.2 1623.4,-467.8 1623.4,-467.8 1623.4,-473.8 1617.4,-479.8 1611.4,-479.8\"/>\n<text text-anchor=\"start\" x=\"1548.1\" y=\"-456.7\" font-family=\"Helvetica,sans-Serif\" font-weight=\"bold\" font-size=\"14.00\">embarked</text>\n<text text-anchor=\"start\" x=\"1561.22\" y=\"-428.7\" font-family=\"Helvetica,sans-Serif\" font-style=\"italic\" font-size=\"14.00\">Series</text>\n</g>\n<!-- passengers_df&#45;&gt;embarked -->\n<g id=\"edge38\" class=\"edge\">\n<title>passengers_df&#45;&gt;embarked</title>\n<path fill=\"none\" stroke=\"black\" d=\"M1416.75,-448C1452.34,-439.54 1493.56,-439.64 1525.6,-441.81\"/>\n<polygon fill=\"black\" stroke=\"black\" points=\"1525.2,-445.29 1535.44,-442.57 1525.74,-438.31 1525.2,-445.29\"/>\n</g>\n<!-- pclass -->\n<g id=\"node25\" class=\"node\">\n<title>pclass</title>\n<path fill=\"#b4d8e4\" stroke=\"black\" d=\"M1600.15,-397.8C1600.15,-397.8 1560.55,-397.8 1560.55,-397.8 1554.55,-397.8 1548.55,-391.8 1548.55,-385.8 1548.55,-385.8 1548.55,-346.2 1548.55,-346.2 1548.55,-340.2 1554.55,-334.2 1560.55,-334.2 1560.55,-334.2 1600.15,-334.2 1600.15,-334.2 1606.15,-334.2 1612.15,-340.2 1612.15,-346.2 1612.15,-346.2 1612.15,-385.8 1612.15,-385.8 1612.15,-391.8 1606.15,-397.8 1600.15,-397.8\"/>\n<text text-anchor=\"start\" x=\"1559.35\" y=\"-374.7\" font-family=\"Helvetica,sans-Serif\" font-weight=\"bold\" font-size=\"14.00\">pclass</text>\n<text text-anchor=\"start\" x=\"1561.22\" y=\"-346.7\" font-family=\"Helvetica,sans-Serif\" font-style=\"italic\" font-size=\"14.00\">Series</text>\n</g>\n<!-- passengers_df&#45;&gt;pclass -->\n<g id=\"edge45\" class=\"edge\">\n<title>passengers_df&#45;&gt;pclass</title>\n<path fill=\"none\" stroke=\"black\" d=\"M750.92,-284.1C775.16,-365.61 851.38,-573.81 996.67,-569\"/>\n<path fill=\"none\" stroke=\"black\" d=\"M998.67,-569C1042,-578.38 1047.7,-542.47 1089.6,-528 1230.27,-479.43 1268.05,-473.05 1414.75,-448\"/>\n<path fill=\"none\" stroke=\"black\" d=\"M1416.75,-448C1441.37,-442.15 1498.77,-411.55 1538.33,-389.45\"/>\n<polygon fill=\"black\" stroke=\"black\" points=\"1539.9,-392.58 1546.91,-384.63 1536.47,-386.48 1539.9,-392.58\"/>\n</g>\n<!-- sibsp -->\n<g id=\"node28\" class=\"node\">\n<title>sibsp</title>\n<path fill=\"#b4d8e4\" stroke=\"black\" d=\"M885.12,-283.8C885.12,-283.8 849.27,-283.8 849.27,-283.8 843.27,-283.8 837.27,-277.8 837.27,-271.8 837.27,-271.8 837.27,-232.2 837.27,-232.2 837.27,-226.2 843.27,-220.2 849.27,-220.2 849.27,-220.2 885.12,-220.2 885.12,-220.2 891.12,-220.2 897.12,-226.2 897.12,-232.2 897.12,-232.2 897.12,-271.8 897.12,-271.8 897.12,-277.8 891.12,-283.8 885.12,-283.8\"/>\n<text text-anchor=\"start\" x=\"849.57\" y=\"-260.7\" font-family=\"Helvetica,sans-Serif\" font-weight=\"bold\" font-size=\"14.00\">sibsp</text>\n<text text-anchor=\"start\" x=\"848.07\" y=\"-232.7\" font-family=\"Helvetica,sans-Serif\" font-style=\"italic\" font-size=\"14.00\">Series</text>\n</g>\n<!-- passengers_df&#45;&gt;sibsp -->\n<g id=\"edge48\" class=\"edge\">\n<title>passengers_df&#45;&gt;sibsp</title>\n<path fill=\"none\" stroke=\"black\" d=\"M799.86,-252C808.62,-252 817.51,-252 825.8,-252\"/>\n<polygon fill=\"black\" stroke=\"black\" points=\"825.55,-255.5 835.55,-252 825.55,-248.5 825.55,-255.5\"/>\n</g>\n<!-- parch -->\n<g id=\"node31\" class=\"node\">\n<title>parch</title>\n<path fill=\"#b4d8e4\" stroke=\"black\" d=\"M885.12,-365.8C885.12,-365.8 849.27,-365.8 849.27,-365.8 843.27,-365.8 837.27,-359.8 837.27,-353.8 837.27,-353.8 837.27,-314.2 837.27,-314.2 837.27,-308.2 843.27,-302.2 849.27,-302.2 849.27,-302.2 885.12,-302.2 885.12,-302.2 891.12,-302.2 897.12,-308.2 897.12,-314.2 897.12,-314.2 897.12,-353.8 897.12,-353.8 897.12,-359.8 891.12,-365.8 885.12,-365.8\"/>\n<text text-anchor=\"start\" x=\"848.82\" y=\"-342.7\" font-family=\"Helvetica,sans-Serif\" font-weight=\"bold\" font-size=\"14.00\">parch</text>\n<text text-anchor=\"start\" x=\"848.07\" y=\"-314.7\" font-family=\"Helvetica,sans-Serif\" font-style=\"italic\" font-size=\"14.00\">Series</text>\n</g>\n<!-- passengers_df&#45;&gt;parch -->\n<g id=\"edge51\" class=\"edge\">\n<title>passengers_df&#45;&gt;parch</title>\n<path fill=\"none\" stroke=\"black\" d=\"M790.87,-284.17C803.06,-292.24 815.97,-300.78 827.6,-308.47\"/>\n<polygon fill=\"black\" stroke=\"black\" points=\"825.48,-311.26 835.75,-313.86 829.34,-305.43 825.48,-311.26\"/>\n</g>\n<!-- fare -->\n<g id=\"node33\" class=\"node\">\n<title>fare</title>\n<path fill=\"#b4d8e4\" stroke=\"black\" d=\"M1433.67,-255.8C1433.67,-255.8 1397.82,-255.8 1397.82,-255.8 1391.82,-255.8 1385.82,-249.8 1385.82,-243.8 1385.82,-243.8 1385.82,-204.2 1385.82,-204.2 1385.82,-198.2 1391.82,-192.2 1397.82,-192.2 1397.82,-192.2 1433.67,-192.2 1433.67,-192.2 1439.67,-192.2 1445.67,-198.2 1445.67,-204.2 1445.67,-204.2 1445.67,-243.8 1445.67,-243.8 1445.67,-249.8 1439.67,-255.8 1433.67,-255.8\"/>\n<text text-anchor=\"start\" x=\"1403.37\" y=\"-232.7\" font-family=\"Helvetica,sans-Serif\" font-weight=\"bold\" font-size=\"14.00\">fare</text>\n<text text-anchor=\"start\" x=\"1396.62\" y=\"-204.7\" font-family=\"Helvetica,sans-Serif\" font-style=\"italic\" font-size=\"14.00\">Series</text>\n</g>\n<!-- passengers_df&#45;&gt;fare -->\n<g id=\"edge52\" class=\"edge\">\n<title>passengers_df&#45;&gt;fare</title>\n<path fill=\"none\" stroke=\"black\" d=\"M998.67,-192C1135.93,-175.6 1299.7,-201.42 1374.23,-215.64\"/>\n<polygon fill=\"black\" stroke=\"black\" points=\"1373.44,-219.05 1383.92,-217.52 1374.78,-212.18 1373.44,-219.05\"/>\n</g>\n<!-- name -->\n<g id=\"node34\" class=\"node\">\n<title>name</title>\n<path fill=\"#b4d8e4\" stroke=\"black\" d=\"M1221.82,-600.8C1221.82,-600.8 1185.97,-600.8 1185.97,-600.8 1179.97,-600.8 1173.97,-594.8 1173.97,-588.8 1173.97,-588.8 1173.97,-549.2 1173.97,-549.2 1173.97,-543.2 1179.97,-537.2 1185.97,-537.2 1185.97,-537.2 1221.82,-537.2 1221.82,-537.2 1227.82,-537.2 1233.82,-543.2 1233.82,-549.2 1233.82,-549.2 1233.82,-588.8 1233.82,-588.8 1233.82,-594.8 1227.82,-600.8 1221.82,-600.8\"/>\n<text text-anchor=\"start\" x=\"1185.9\" y=\"-577.7\" font-family=\"Helvetica,sans-Serif\" font-weight=\"bold\" font-size=\"14.00\">name</text>\n<text text-anchor=\"start\" x=\"1184.77\" y=\"-549.7\" font-family=\"Helvetica,sans-Serif\" font-style=\"italic\" font-size=\"14.00\">Series</text>\n</g>\n<!-- passengers_df&#45;&gt;name -->\n<g id=\"edge53\" class=\"edge\">\n<title>passengers_df&#45;&gt;name</title>\n<path fill=\"none\" stroke=\"black\" d=\"M998.67,-569C1055.44,-567.12 1121.13,-567.59 1162.35,-568.21\"/>\n<polygon fill=\"black\" stroke=\"black\" points=\"1162.24,-571.71 1172.29,-568.37 1162.35,-564.71 1162.24,-571.71\"/>\n</g>\n<!-- one_hot_encoder -->\n<g id=\"node3\" class=\"node\">\n<title>one_hot_encoder</title>\n<path fill=\"#b4d8e4\" stroke=\"black\" d=\"M1635.4,-561.8C1635.4,-561.8 1525.3,-561.8 1525.3,-561.8 1519.3,-561.8 1513.3,-555.8 1513.3,-549.8 1513.3,-549.8 1513.3,-510.2 1513.3,-510.2 1513.3,-504.2 1519.3,-498.2 1525.3,-498.2 1525.3,-498.2 1635.4,-498.2 1635.4,-498.2 1641.4,-498.2 1647.4,-504.2 1647.4,-510.2 1647.4,-510.2 1647.4,-549.8 1647.4,-549.8 1647.4,-555.8 1641.4,-561.8 1635.4,-561.8\"/>\n<text text-anchor=\"start\" x=\"1524.1\" y=\"-538.7\" font-family=\"Helvetica,sans-Serif\" font-weight=\"bold\" font-size=\"14.00\">one_hot_encoder</text>\n<text text-anchor=\"start\" x=\"1531.6\" y=\"-510.7\" font-family=\"Helvetica,sans-Serif\" font-style=\"italic\" font-size=\"14.00\">OneHotEncoder</text>\n</g>\n<!-- fit_categorical_encoder -->\n<g id=\"node12\" class=\"node\">\n<title>fit_categorical_encoder</title>\n<path fill=\"#b4d8e4\" stroke=\"black\" d=\"M1837.5,-479.8C1837.5,-479.8 1688.4,-479.8 1688.4,-479.8 1682.4,-479.8 1676.4,-473.8 1676.4,-467.8 1676.4,-467.8 1676.4,-428.2 1676.4,-428.2 1676.4,-422.2 1682.4,-416.2 1688.4,-416.2 1688.4,-416.2 1837.5,-416.2 1837.5,-416.2 1843.5,-416.2 1849.5,-422.2 1849.5,-428.2 1849.5,-428.2 1849.5,-467.8 1849.5,-467.8 1849.5,-473.8 1843.5,-479.8 1837.5,-479.8\"/>\n<text text-anchor=\"start\" x=\"1687.2\" y=\"-456.7\" font-family=\"Helvetica,sans-Serif\" font-weight=\"bold\" font-size=\"14.00\">fit_categorical_encoder</text>\n<text text-anchor=\"start\" x=\"1714.2\" y=\"-428.7\" font-family=\"Helvetica,sans-Serif\" font-style=\"italic\" font-size=\"14.00\">OneHotEncoder</text>\n</g>\n<!-- one_hot_encoder&#45;&gt;fit_categorical_encoder -->\n<g id=\"edge17\" class=\"edge\">\n<title>one_hot_encoder&#45;&gt;fit_categorical_encoder</title>\n<path fill=\"none\" stroke=\"black\" d=\"M1647.83,-499.82C1658.5,-494.97 1669.65,-489.91 1680.62,-484.93\"/>\n<polygon fill=\"black\" stroke=\"black\" points=\"1682.02,-488.13 1689.68,-480.81 1679.13,-481.76 1682.02,-488.13\"/>\n</g>\n<!-- inference_set -->\n<g id=\"node4\" class=\"node\">\n<title>inference_set</title>\n<path fill=\"#b4d8e4\" stroke=\"black\" d=\"M2290.8,-285.8C2290.8,-285.8 2206.2,-285.8 2206.2,-285.8 2200.2,-285.8 2194.2,-279.8 2194.2,-273.8 2194.2,-273.8 2194.2,-234.2 2194.2,-234.2 2194.2,-228.2 2200.2,-222.2 2206.2,-222.2 2206.2,-222.2 2290.8,-222.2 2290.8,-222.2 2296.8,-222.2 2302.8,-228.2 2302.8,-234.2 2302.8,-234.2 2302.8,-273.8 2302.8,-273.8 2302.8,-279.8 2296.8,-285.8 2290.8,-285.8\"/>\n<text text-anchor=\"start\" x=\"2205\" y=\"-262.7\" font-family=\"Helvetica,sans-Serif\" font-weight=\"bold\" font-size=\"14.00\">inference_set</text>\n<text text-anchor=\"start\" x=\"2214.37\" y=\"-234.7\" font-family=\"Helvetica,sans-Serif\" font-style=\"italic\" font-size=\"14.00\">DataFrame</text>\n</g>\n<!-- model_to_use -->\n<g id=\"node5\" class=\"node\">\n<title>model_to_use</title>\n<polygon fill=\"none\" stroke=\"black\" points=\"121.93,-352 20.43,-352 20.43,-302 127.93,-302 127.93,-346 121.93,-352\"/>\n<polyline fill=\"none\" stroke=\"black\" points=\"121.93,-352 121.93,-346\"/>\n<polyline fill=\"none\" stroke=\"black\" points=\"127.93,-346 121.93,-346\"/>\n<text text-anchor=\"start\" x=\"28.43\" y=\"-335.7\" font-family=\"Helvetica,sans-Serif\" font-weight=\"bold\" font-size=\"14.00\">model_to_use</text>\n<text text-anchor=\"start\" x=\"62.55\" y=\"-307.7\" font-family=\"Helvetica,sans-Serif\" font-style=\"italic\" font-size=\"14.00\">Any</text>\n</g>\n<!-- sex&#45;&gt;fit_categorical_encoder -->\n<g id=\"edge19\" class=\"edge\">\n<title>sex&#45;&gt;fit_categorical_encoder</title>\n<path fill=\"none\" stroke=\"black\" d=\"M1610.62,-680.05C1623.01,-673.15 1636.96,-663.93 1647.4,-653 1693.31,-604.93 1727.21,-534.93 1745.77,-490.43\"/>\n<polygon fill=\"black\" stroke=\"black\" points=\"1748.93,-491.96 1749.48,-481.38 1742.45,-489.31 1748.93,-491.96\"/>\n</g>\n<!-- categorical_df -->\n<g id=\"node17\" class=\"node\">\n<title>categorical_df</title>\n<path fill=\"#b4d8e4\" stroke=\"black\" d=\"M1979.6,-449.8C1979.6,-449.8 1890.5,-449.8 1890.5,-449.8 1884.5,-449.8 1878.5,-443.8 1878.5,-437.8 1878.5,-437.8 1878.5,-398.2 1878.5,-398.2 1878.5,-392.2 1884.5,-386.2 1890.5,-386.2 1890.5,-386.2 1979.6,-386.2 1979.6,-386.2 1985.6,-386.2 1991.6,-392.2 1991.6,-398.2 1991.6,-398.2 1991.6,-437.8 1991.6,-437.8 1991.6,-443.8 1985.6,-449.8 1979.6,-449.8\"/>\n<text text-anchor=\"start\" x=\"1889.3\" y=\"-426.7\" font-family=\"Helvetica,sans-Serif\" font-weight=\"bold\" font-size=\"14.00\">categorical_df</text>\n<text text-anchor=\"start\" x=\"1900.92\" y=\"-398.7\" font-family=\"Helvetica,sans-Serif\" font-style=\"italic\" font-size=\"14.00\">DataFrame</text>\n</g>\n<!-- sex&#45;&gt;categorical_df -->\n<g id=\"edge32\" class=\"edge\">\n<title>sex&#45;&gt;categorical_df</title>\n<path fill=\"none\" stroke=\"black\" d=\"M1610.67,-691.77C1647.68,-687.98 1712.49,-678.09 1761.95,-653\"/>\n</g>\n<!-- fit_knn_imputer&#45;&gt;knn_imputed_df -->\n<g id=\"edge41\" class=\"edge\">\n<title>fit_knn_imputer&#45;&gt;knn_imputed_df</title>\n<path fill=\"none\" stroke=\"black\" d=\"M1642.49,-153C1657.09,-153 1672.82,-153 1687.93,-153\"/>\n<polygon fill=\"black\" stroke=\"black\" points=\"1687.82,-156.5 1697.82,-153 1687.82,-149.5 1687.82,-156.5\"/>\n</g>\n<!-- is_alone&#45;&gt;fit_categorical_encoder -->\n<g id=\"edge22\" class=\"edge\">\n<title>is_alone&#45;&gt;fit_categorical_encoder</title>\n<path fill=\"none\" stroke=\"black\" d=\"M1618.61,-301.79C1628.91,-308.03 1639.44,-315.82 1647.4,-325 1668.4,-349.2 1655.8,-366.46 1676.4,-391 1681.89,-397.53 1688.31,-403.62 1695.13,-409.19\"/>\n<polygon fill=\"black\" stroke=\"black\" points=\"1692.67,-411.71 1702.73,-415.04 1696.94,-406.17 1692.67,-411.71\"/>\n</g>\n<!-- is_alone&#45;&gt;categorical_df -->\n<g id=\"edge35\" class=\"edge\">\n<title>is_alone&#45;&gt;categorical_df</title>\n<path fill=\"none\" stroke=\"black\" d=\"M1763.95,-377C1798.49,-382.12 1836.31,-390.9 1867.49,-399.03\"/>\n<polygon fill=\"black\" stroke=\"black\" points=\"1866.21,-402.31 1876.77,-401.49 1868,-395.55 1866.21,-402.31\"/>\n<path fill=\"none\" stroke=\"black\" d=\"M1618.38,-306.72C1661.97,-332.81 1732.21,-372.6 1761.95,-377\"/>\n</g>\n<!-- title -->\n<g id=\"node9\" class=\"node\">\n<title>title</title>\n<path fill=\"#b4d8e4\" stroke=\"black\" d=\"M1598.27,-643.8C1598.27,-643.8 1562.42,-643.8 1562.42,-643.8 1556.42,-643.8 1550.42,-637.8 1550.42,-631.8 1550.42,-631.8 1550.42,-592.2 1550.42,-592.2 1550.42,-586.2 1556.42,-580.2 1562.42,-580.2 1562.42,-580.2 1598.27,-580.2 1598.27,-580.2 1604.27,-580.2 1610.27,-586.2 1610.27,-592.2 1610.27,-592.2 1610.27,-631.8 1610.27,-631.8 1610.27,-637.8 1604.27,-643.8 1598.27,-643.8\"/>\n<text text-anchor=\"start\" x=\"1568.35\" y=\"-620.7\" font-family=\"Helvetica,sans-Serif\" font-weight=\"bold\" font-size=\"14.00\">title</text>\n<text text-anchor=\"start\" x=\"1561.22\" y=\"-592.7\" font-family=\"Helvetica,sans-Serif\" font-style=\"italic\" font-size=\"14.00\">Series</text>\n</g>\n<!-- title&#45;&gt;fit_categorical_encoder -->\n<g id=\"edge21\" class=\"edge\">\n<title>title&#45;&gt;fit_categorical_encoder</title>\n<path fill=\"none\" stroke=\"black\" d=\"M1610.76,-596.02C1622.63,-589 1636.14,-580.26 1647.4,-571 1677.34,-546.38 1707.05,-514.19 1728.71,-488.92\"/>\n<polygon fill=\"black\" stroke=\"black\" points=\"1731.25,-491.34 1735.04,-481.45 1725.91,-486.81 1731.25,-491.34\"/>\n</g>\n<!-- title&#45;&gt;categorical_df -->\n<g id=\"edge34\" class=\"edge\">\n<title>title&#45;&gt;categorical_df</title>\n<path fill=\"none\" stroke=\"black\" d=\"M1763.95,-653C1843.07,-612.87 1893.84,-516.71 1917.82,-460.62\"/>\n<polygon fill=\"black\" stroke=\"black\" points=\"1920.92,-462.27 1921.54,-451.69 1914.46,-459.58 1920.92,-462.27\"/>\n<path fill=\"none\" stroke=\"black\" d=\"M1610.67,-630.25C1647.68,-650.75 1712.49,-678.09 1761.95,-653\"/>\n</g>\n<!-- target -->\n<g id=\"node21\" class=\"node\">\n<title>target</title>\n<path fill=\"#b4d8e4\" stroke=\"black\" d=\"M1015.6,-97.8C1015.6,-97.8 979.75,-97.8 979.75,-97.8 973.75,-97.8 967.75,-91.8 967.75,-85.8 967.75,-85.8 967.75,-46.2 967.75,-46.2 967.75,-40.2 973.75,-34.2 979.75,-34.2 979.75,-34.2 1015.6,-34.2 1015.6,-34.2 1021.6,-34.2 1027.6,-40.2 1027.6,-46.2 1027.6,-46.2 1027.6,-85.8 1027.6,-85.8 1027.6,-91.8 1021.6,-97.8 1015.6,-97.8\"/>\n<text text-anchor=\"start\" x=\"978.92\" y=\"-74.7\" font-family=\"Helvetica,sans-Serif\" font-weight=\"bold\" font-size=\"14.00\">target</text>\n<text text-anchor=\"start\" x=\"978.55\" y=\"-46.7\" font-family=\"Helvetica,sans-Serif\" font-style=\"italic\" font-size=\"14.00\">Series</text>\n</g>\n<!-- survived&#45;&gt;target -->\n<g id=\"edge39\" class=\"edge\">\n<title>survived&#45;&gt;target</title>\n<path fill=\"none\" stroke=\"black\" d=\"M906.05,-89.28C922.05,-85.17 940.69,-80.38 956.89,-76.22\"/>\n<polygon fill=\"black\" stroke=\"black\" points=\"957.37,-79.71 966.19,-73.83 955.63,-72.93 957.37,-79.71\"/>\n</g>\n<!-- passengers_df_raw -->\n<g id=\"node11\" class=\"node\">\n<title>passengers_df_raw</title>\n<path fill=\"#b4d8e4\" stroke=\"black\" d=\"M313.7,-283.8C313.7,-283.8 189.35,-283.8 189.35,-283.8 183.35,-283.8 177.35,-277.8 177.35,-271.8 177.35,-271.8 177.35,-232.2 177.35,-232.2 177.35,-226.2 183.35,-220.2 189.35,-220.2 189.35,-220.2 313.7,-220.2 313.7,-220.2 319.7,-220.2 325.7,-226.2 325.7,-232.2 325.7,-232.2 325.7,-271.8 325.7,-271.8 325.7,-277.8 319.7,-283.8 313.7,-283.8\"/>\n<text text-anchor=\"start\" x=\"188.15\" y=\"-260.7\" font-family=\"Helvetica,sans-Serif\" font-weight=\"bold\" font-size=\"14.00\">passengers_df_raw</text>\n<text text-anchor=\"start\" x=\"217.4\" y=\"-232.7\" font-family=\"Helvetica,sans-Serif\" font-style=\"italic\" font-size=\"14.00\">DataFrame</text>\n</g>\n<!-- passengers_df_raw&#45;&gt;passengers_df -->\n<g id=\"edge3\" class=\"edge\">\n<title>passengers_df_raw&#45;&gt;passengers_df</title>\n<path fill=\"none\" stroke=\"black\" d=\"M326.12,-260.88C335.72,-261.75 345.44,-262.5 354.7,-263 487.44,-270.12 521.13,-271.41 653.8,-263 659.5,-262.64 665.41,-262.14 671.32,-261.56\"/>\n<polygon fill=\"black\" stroke=\"black\" points=\"671.6,-265.05 681.17,-260.52 670.86,-258.09 671.6,-265.05\"/>\n</g>\n<!-- passengers_df_pandera_schema_validator -->\n<g id=\"node16\" class=\"node\">\n<title>passengers_df_pandera_schema_validator</title>\n<path fill=\"#b4d8e4\" stroke=\"black\" d=\"M641.8,-253.8C641.8,-253.8 366.7,-253.8 366.7,-253.8 360.7,-253.8 354.7,-247.8 354.7,-241.8 354.7,-241.8 354.7,-202.2 354.7,-202.2 354.7,-196.2 360.7,-190.2 366.7,-190.2 366.7,-190.2 641.8,-190.2 641.8,-190.2 647.8,-190.2 653.8,-196.2 653.8,-202.2 653.8,-202.2 653.8,-241.8 653.8,-241.8 653.8,-247.8 647.8,-253.8 641.8,-253.8\"/>\n<text text-anchor=\"start\" x=\"365.5\" y=\"-230.7\" font-family=\"Helvetica,sans-Serif\" font-weight=\"bold\" font-size=\"14.00\">passengers_df_pandera_schema_validator</text>\n<text text-anchor=\"start\" x=\"455.5\" y=\"-202.7\" font-family=\"Helvetica,sans-Serif\" font-style=\"italic\" font-size=\"14.00\">ValidationResult</text>\n</g>\n<!-- passengers_df_raw&#45;&gt;passengers_df_pandera_schema_validator -->\n<g id=\"edge29\" class=\"edge\">\n<title>passengers_df_raw&#45;&gt;passengers_df_pandera_schema_validator</title>\n<path fill=\"none\" stroke=\"black\" d=\"M326.06,-243.2C331.6,-242.54 337.32,-241.85 343.14,-241.16\"/>\n<polygon fill=\"black\" stroke=\"black\" points=\"343.43,-244.65 352.94,-239.98 342.6,-237.7 343.43,-244.65\"/>\n</g>\n<!-- fit_categorical_encoder&#45;&gt;categorical_df -->\n<g id=\"edge30\" class=\"edge\">\n<title>fit_categorical_encoder&#45;&gt;categorical_df</title>\n<path fill=\"none\" stroke=\"black\" d=\"M1850,-432.82C1855.67,-431.82 1861.34,-430.82 1866.9,-429.84\"/>\n<polygon fill=\"black\" stroke=\"black\" points=\"1867.41,-433.31 1876.65,-428.12 1866.19,-426.41 1867.41,-433.31\"/>\n</g>\n<!-- age&#45;&gt;fit_knn_imputer -->\n<g id=\"edge9\" class=\"edge\">\n<title>age&#45;&gt;fit_knn_imputer</title>\n<path fill=\"none\" stroke=\"black\" d=\"M1445.82,-76.63C1464.52,-87.32 1489.62,-101.68 1513.01,-115.06\"/>\n<polygon fill=\"black\" stroke=\"black\" points=\"1511.17,-118.04 1521.59,-119.96 1514.65,-111.96 1511.17,-118.04\"/>\n</g>\n<!-- age&#45;&gt;knn_imputed_df -->\n<g id=\"edge42\" class=\"edge\">\n<title>age&#45;&gt;knn_imputed_df</title>\n<path fill=\"none\" stroke=\"black\" d=\"M1446.17,-65.44C1490.29,-73.86 1576.05,-91.27 1647.4,-112 1660.84,-115.91 1675.01,-120.54 1688.61,-125.26\"/>\n<polygon fill=\"black\" stroke=\"black\" points=\"1687.36,-128.53 1697.95,-128.55 1689.68,-121.92 1687.36,-128.53\"/>\n</g>\n<!-- scaled_numeric_df -->\n<g id=\"node14\" class=\"node\">\n<title>scaled_numeric_df</title>\n<path fill=\"#b4d8e4\" stroke=\"black\" d=\"M2153.2,-214.8C2153.2,-214.8 2032.6,-214.8 2032.6,-214.8 2026.6,-214.8 2020.6,-208.8 2020.6,-202.8 2020.6,-202.8 2020.6,-163.2 2020.6,-163.2 2020.6,-157.2 2026.6,-151.2 2032.6,-151.2 2032.6,-151.2 2153.2,-151.2 2153.2,-151.2 2159.2,-151.2 2165.2,-157.2 2165.2,-163.2 2165.2,-163.2 2165.2,-202.8 2165.2,-202.8 2165.2,-208.8 2159.2,-214.8 2153.2,-214.8\"/>\n<text text-anchor=\"start\" x=\"2031.4\" y=\"-191.7\" font-family=\"Helvetica,sans-Serif\" font-weight=\"bold\" font-size=\"14.00\">scaled_numeric_df</text>\n<text text-anchor=\"start\" x=\"2058.77\" y=\"-163.7\" font-family=\"Helvetica,sans-Serif\" font-style=\"italic\" font-size=\"14.00\">DataFrame</text>\n</g>\n<!-- scaled_numeric_df&#45;&gt;inference_set -->\n<g id=\"edge5\" class=\"edge\">\n<title>scaled_numeric_df&#45;&gt;inference_set</title>\n<path fill=\"none\" stroke=\"black\" d=\"M2163.51,-215.18C2170.18,-218.26 2176.92,-221.37 2183.53,-224.43\"/>\n<polygon fill=\"black\" stroke=\"black\" points=\"2181.86,-227.51 2192.4,-228.53 2184.8,-221.16 2181.86,-227.51\"/>\n</g>\n<!-- data_set -->\n<g id=\"node15\" class=\"node\">\n<title>data_set</title>\n<path fill=\"#b4d8e4\" stroke=\"black\" d=\"M2281.42,-203.8C2281.42,-203.8 2215.57,-203.8 2215.57,-203.8 2209.57,-203.8 2203.57,-197.8 2203.57,-191.8 2203.57,-191.8 2203.57,-152.2 2203.57,-152.2 2203.57,-146.2 2209.57,-140.2 2215.57,-140.2 2215.57,-140.2 2281.42,-140.2 2281.42,-140.2 2287.42,-140.2 2293.42,-146.2 2293.42,-152.2 2293.42,-152.2 2293.42,-191.8 2293.42,-191.8 2293.42,-197.8 2287.42,-203.8 2281.42,-203.8\"/>\n<text text-anchor=\"start\" x=\"2221.12\" y=\"-180.7\" font-family=\"Helvetica,sans-Serif\" font-weight=\"bold\" font-size=\"14.00\">data_set</text>\n<text text-anchor=\"start\" x=\"2214.37\" y=\"-152.7\" font-family=\"Helvetica,sans-Serif\" font-style=\"italic\" font-size=\"14.00\">DataFrame</text>\n</g>\n<!-- scaled_numeric_df&#45;&gt;data_set -->\n<g id=\"edge26\" class=\"edge\">\n<title>scaled_numeric_df&#45;&gt;data_set</title>\n<path fill=\"none\" stroke=\"black\" d=\"M2165.3,-177.89C2174.35,-177.24 2183.49,-176.58 2192.23,-175.96\"/>\n<polygon fill=\"black\" stroke=\"black\" points=\"2192.21,-179.47 2201.93,-175.26 2191.71,-172.49 2192.21,-179.47\"/>\n</g>\n<!-- passengers_df_pandera_schema_validator&#45;&gt;passengers_df -->\n<g id=\"edge4\" class=\"edge\">\n<title>passengers_df_pandera_schema_validator&#45;&gt;passengers_df</title>\n<path fill=\"none\" stroke=\"black\" d=\"M654.06,-241C659.9,-241.75 665.63,-242.48 671.19,-243.19\"/>\n<polygon fill=\"black\" stroke=\"black\" points=\"670.46,-246.62 680.82,-244.42 671.34,-239.68 670.46,-246.62\"/>\n</g>\n<!-- categorical_df&#45;&gt;inference_set -->\n<g id=\"edge6\" class=\"edge\">\n<title>categorical_df&#45;&gt;inference_set</title>\n<path fill=\"none\" stroke=\"black\" d=\"M2093.9,-254C2120.19,-238.56 2153.63,-236.91 2182.59,-239.81\"/>\n<polygon fill=\"black\" stroke=\"black\" points=\"2182.01,-243.27 2192.36,-241.01 2182.86,-236.32 2182.01,-243.27\"/>\n</g>\n<!-- categorical_df&#45;&gt;data_set -->\n<g id=\"edge27\" class=\"edge\">\n<title>categorical_df&#45;&gt;data_set</title>\n<path fill=\"none\" stroke=\"black\" d=\"M2093.9,-254C2123.54,-236.59 2134.72,-239.9 2165.2,-224 2174.65,-219.07 2184.44,-213.41 2193.83,-207.68\"/>\n<polygon fill=\"black\" stroke=\"black\" points=\"2195.51,-210.76 2202.16,-202.51 2191.82,-204.81 2195.51,-210.76\"/>\n<path fill=\"none\" stroke=\"black\" d=\"M1957.74,-386.03C1984.78,-348.68 2034.49,-287.72 2091.9,-254\"/>\n</g>\n<!-- family_size_data_type_validator -->\n<g id=\"node18\" class=\"node\">\n<title>family_size_data_type_validator</title>\n<path fill=\"#b4d8e4\" stroke=\"black\" d=\"M1306.2,-364.8C1306.2,-364.8 1101.6,-364.8 1101.6,-364.8 1095.6,-364.8 1089.6,-358.8 1089.6,-352.8 1089.6,-352.8 1089.6,-313.2 1089.6,-313.2 1089.6,-307.2 1095.6,-301.2 1101.6,-301.2 1101.6,-301.2 1306.2,-301.2 1306.2,-301.2 1312.2,-301.2 1318.2,-307.2 1318.2,-313.2 1318.2,-313.2 1318.2,-352.8 1318.2,-352.8 1318.2,-358.8 1312.2,-364.8 1306.2,-364.8\"/>\n<text text-anchor=\"start\" x=\"1100.4\" y=\"-341.7\" font-family=\"Helvetica,sans-Serif\" font-weight=\"bold\" font-size=\"14.00\">family_size_data_type_validator</text>\n<text text-anchor=\"start\" x=\"1155.15\" y=\"-313.7\" font-family=\"Helvetica,sans-Serif\" font-style=\"italic\" font-size=\"14.00\">ValidationResult</text>\n</g>\n<!-- family_size_data_type_validator&#45;&gt;family_size -->\n<g id=\"edge2\" class=\"edge\">\n<title>family_size_data_type_validator&#45;&gt;family_size</title>\n<path fill=\"none\" stroke=\"black\" d=\"M1318.42,-318.39C1331.74,-316.68 1344.88,-314.99 1356.96,-313.44\"/>\n<polygon fill=\"black\" stroke=\"black\" points=\"1357.22,-316.93 1366.69,-312.18 1356.32,-309.99 1357.22,-316.93\"/>\n</g>\n<!-- knn_imputer -->\n<g id=\"node19\" class=\"node\">\n<title>knn_imputer</title>\n<path fill=\"#b4d8e4\" stroke=\"black\" d=\"M1455.42,-173.8C1455.42,-173.8 1376.07,-173.8 1376.07,-173.8 1370.07,-173.8 1364.07,-167.8 1364.07,-161.8 1364.07,-161.8 1364.07,-122.2 1364.07,-122.2 1364.07,-116.2 1370.07,-110.2 1376.07,-110.2 1376.07,-110.2 1455.42,-110.2 1455.42,-110.2 1461.42,-110.2 1467.42,-116.2 1467.42,-122.2 1467.42,-122.2 1467.42,-161.8 1467.42,-161.8 1467.42,-167.8 1461.42,-173.8 1455.42,-173.8\"/>\n<text text-anchor=\"start\" x=\"1374.87\" y=\"-150.7\" font-family=\"Helvetica,sans-Serif\" font-weight=\"bold\" font-size=\"14.00\">knn_imputer</text>\n<text text-anchor=\"start\" x=\"1378.25\" y=\"-122.7\" font-family=\"Helvetica,sans-Serif\" font-style=\"italic\" font-size=\"14.00\">KNNImputer</text>\n</g>\n<!-- knn_imputer&#45;&gt;fit_knn_imputer -->\n<g id=\"edge8\" class=\"edge\">\n<title>knn_imputer&#45;&gt;fit_knn_imputer</title>\n<path fill=\"none\" stroke=\"black\" d=\"M1467.75,-145.45C1480.14,-146.29 1493.63,-147.2 1506.8,-148.09\"/>\n<polygon fill=\"black\" stroke=\"black\" points=\"1506.54,-151.58 1516.76,-148.77 1507.01,-144.6 1506.54,-151.58\"/>\n</g>\n<!-- embarked&#45;&gt;fit_categorical_encoder -->\n<g id=\"edge18\" class=\"edge\">\n<title>embarked&#45;&gt;fit_categorical_encoder</title>\n<path fill=\"none\" stroke=\"black\" d=\"M1623.69,-448C1636.24,-448 1650.52,-448 1665.04,-448\"/>\n<polygon fill=\"black\" stroke=\"black\" points=\"1664.64,-451.5 1674.64,-448 1664.64,-444.5 1664.64,-451.5\"/>\n</g>\n<!-- embarked&#45;&gt;categorical_df -->\n<g id=\"edge31\" class=\"edge\">\n<title>embarked&#45;&gt;categorical_df</title>\n<path fill=\"none\" stroke=\"black\" d=\"M1623.57,-425.72C1667.78,-403.41 1734.54,-372.94 1761.95,-377\"/>\n</g>\n<!-- target&#45;&gt;data_set -->\n<g id=\"edge28\" class=\"edge\">\n<title>target&#45;&gt;data_set</title>\n<path fill=\"none\" stroke=\"black\" d=\"M1027.93,-58.1C1095.51,-40.59 1267.92,0 1414.75,0 1414.75,0 1414.75,0 1936.05,0 2045.04,0 2151.74,-81.71 2207.53,-132.49\"/>\n<polygon fill=\"black\" stroke=\"black\" points=\"2204.89,-134.81 2214.61,-139.02 2209.64,-129.67 2204.89,-134.81\"/>\n</g>\n<!-- raw_passengers_df -->\n<g id=\"node22\" class=\"node\">\n<title>raw_passengers_df</title>\n<path fill=\"#b4d8e4\" stroke=\"black\" d=\"M136.35,-283.8C136.35,-283.8 12,-283.8 12,-283.8 6,-283.8 0,-277.8 0,-271.8 0,-271.8 0,-232.2 0,-232.2 0,-226.2 6,-220.2 12,-220.2 12,-220.2 136.35,-220.2 136.35,-220.2 142.35,-220.2 148.35,-226.2 148.35,-232.2 148.35,-232.2 148.35,-271.8 148.35,-271.8 148.35,-277.8 142.35,-283.8 136.35,-283.8\"/>\n<text text-anchor=\"start\" x=\"10.8\" y=\"-260.7\" font-family=\"Helvetica,sans-Serif\" font-weight=\"bold\" font-size=\"14.00\">raw_passengers_df</text>\n<text text-anchor=\"start\" x=\"40.05\" y=\"-232.7\" font-family=\"Helvetica,sans-Serif\" font-style=\"italic\" font-size=\"14.00\">DataFrame</text>\n</g>\n<!-- raw_passengers_df&#45;&gt;passengers_df_raw -->\n<g id=\"edge16\" class=\"edge\">\n<title>raw_passengers_df&#45;&gt;passengers_df_raw</title>\n<path fill=\"none\" stroke=\"black\" d=\"M148.78,-252C154.34,-252 159.98,-252 165.61,-252\"/>\n<polygon fill=\"black\" stroke=\"black\" points=\"165.6,-255.5 175.6,-252 165.6,-248.5 165.6,-255.5\"/>\n</g>\n<!-- normalized_name -->\n<g id=\"node23\" class=\"node\">\n<title>normalized_name</title>\n<path fill=\"#b4d8e4\" stroke=\"black\" d=\"M1472.3,-621.8C1472.3,-621.8 1359.2,-621.8 1359.2,-621.8 1353.2,-621.8 1347.2,-615.8 1347.2,-609.8 1347.2,-609.8 1347.2,-570.2 1347.2,-570.2 1347.2,-564.2 1353.2,-558.2 1359.2,-558.2 1359.2,-558.2 1472.3,-558.2 1472.3,-558.2 1478.3,-558.2 1484.3,-564.2 1484.3,-570.2 1484.3,-570.2 1484.3,-609.8 1484.3,-609.8 1484.3,-615.8 1478.3,-621.8 1472.3,-621.8\"/>\n<text text-anchor=\"start\" x=\"1358\" y=\"-598.7\" font-family=\"Helvetica,sans-Serif\" font-weight=\"bold\" font-size=\"14.00\">normalized_name</text>\n<text text-anchor=\"start\" x=\"1396.62\" y=\"-570.7\" font-family=\"Helvetica,sans-Serif\" font-style=\"italic\" font-size=\"14.00\">Series</text>\n</g>\n<!-- normalized_name&#45;&gt;title -->\n<g id=\"edge13\" class=\"edge\">\n<title>normalized_name&#45;&gt;title</title>\n<path fill=\"none\" stroke=\"black\" d=\"M1484.76,-599.2C1503.11,-601.68 1522.39,-604.29 1538.72,-606.5\"/>\n<polygon fill=\"black\" stroke=\"black\" points=\"1538.15,-609.96 1548.53,-607.83 1539.09,-603.02 1538.15,-609.96\"/>\n</g>\n<!-- knn_imputed_df&#45;&gt;scaled_numeric_df -->\n<g id=\"edge25\" class=\"edge\">\n<title>knn_imputed_df&#45;&gt;scaled_numeric_df</title>\n<path fill=\"none\" stroke=\"black\" d=\"M1826.31,-157.77C1872.08,-161.37 1935.74,-166.61 1991.6,-172 1997.23,-172.54 2003.04,-173.13 2008.89,-173.73\"/>\n<polygon fill=\"black\" stroke=\"black\" points=\"2008.34,-177.19 2018.64,-174.75 2009.06,-170.23 2008.34,-177.19\"/>\n</g>\n<!-- fit_scaler -->\n<g id=\"node26\" class=\"node\">\n<title>fit_scaler</title>\n<path fill=\"#b4d8e4\" stroke=\"black\" d=\"M1974.35,-244.8C1974.35,-244.8 1895.75,-244.8 1895.75,-244.8 1889.75,-244.8 1883.75,-238.8 1883.75,-232.8 1883.75,-232.8 1883.75,-193.2 1883.75,-193.2 1883.75,-187.2 1889.75,-181.2 1895.75,-181.2 1895.75,-181.2 1974.35,-181.2 1974.35,-181.2 1980.35,-181.2 1986.35,-187.2 1986.35,-193.2 1986.35,-193.2 1986.35,-232.8 1986.35,-232.8 1986.35,-238.8 1980.35,-244.8 1974.35,-244.8\"/>\n<text text-anchor=\"start\" x=\"1905.42\" y=\"-221.7\" font-family=\"Helvetica,sans-Serif\" font-weight=\"bold\" font-size=\"14.00\">fit_scaler</text>\n<text text-anchor=\"start\" x=\"1894.55\" y=\"-193.7\" font-family=\"Helvetica,sans-Serif\" font-style=\"italic\" font-size=\"14.00\">RobustScaler</text>\n</g>\n<!-- knn_imputed_df&#45;&gt;fit_scaler -->\n<g id=\"edge47\" class=\"edge\">\n<title>knn_imputed_df&#45;&gt;fit_scaler</title>\n<path fill=\"none\" stroke=\"black\" d=\"M1826.32,-175C1841.43,-180.33 1857.57,-186.02 1872.63,-191.34\"/>\n<polygon fill=\"black\" stroke=\"black\" points=\"1871.36,-194.6 1881.95,-194.62 1873.68,-188 1871.36,-194.6\"/>\n</g>\n<!-- pclass&#45;&gt;fit_categorical_encoder -->\n<g id=\"edge20\" class=\"edge\">\n<title>pclass&#45;&gt;fit_categorical_encoder</title>\n<path fill=\"none\" stroke=\"black\" d=\"M1612.4,-380.1C1631.28,-388.67 1656.36,-400.06 1680.57,-411.05\"/>\n<polygon fill=\"black\" stroke=\"black\" points=\"1678.94,-414.15 1689.49,-415.1 1681.83,-407.78 1678.94,-414.15\"/>\n</g>\n<!-- pclass&#45;&gt;categorical_df -->\n<g id=\"edge33\" class=\"edge\">\n<title>pclass&#45;&gt;categorical_df</title>\n<path fill=\"none\" stroke=\"black\" d=\"M1612.52,-366.27C1648.65,-366.96 1709.9,-369.29 1761.95,-377\"/>\n</g>\n<!-- fit_scaler&#45;&gt;scaled_numeric_df -->\n<g id=\"edge24\" class=\"edge\">\n<title>fit_scaler&#45;&gt;scaled_numeric_df</title>\n<path fill=\"none\" stroke=\"black\" d=\"M1986.65,-203.26C1993.88,-201.87 2001.46,-200.41 2009.11,-198.94\"/>\n<polygon fill=\"black\" stroke=\"black\" points=\"2009.68,-202.39 2018.84,-197.06 2008.36,-195.52 2009.68,-202.39\"/>\n</g>\n<!-- robust_scaler -->\n<g id=\"node27\" class=\"node\">\n<title>robust_scaler</title>\n<path fill=\"#b4d8e4\" stroke=\"black\" d=\"M1806,-266.8C1806,-266.8 1719.9,-266.8 1719.9,-266.8 1713.9,-266.8 1707.9,-260.8 1707.9,-254.8 1707.9,-254.8 1707.9,-215.2 1707.9,-215.2 1707.9,-209.2 1713.9,-203.2 1719.9,-203.2 1719.9,-203.2 1806,-203.2 1806,-203.2 1812,-203.2 1818,-209.2 1818,-215.2 1818,-215.2 1818,-254.8 1818,-254.8 1818,-260.8 1812,-266.8 1806,-266.8\"/>\n<text text-anchor=\"start\" x=\"1718.7\" y=\"-243.7\" font-family=\"Helvetica,sans-Serif\" font-weight=\"bold\" font-size=\"14.00\">robust_scaler</text>\n<text text-anchor=\"start\" x=\"1722.45\" y=\"-215.7\" font-family=\"Helvetica,sans-Serif\" font-style=\"italic\" font-size=\"14.00\">RobustScaler</text>\n</g>\n<!-- robust_scaler&#45;&gt;fit_scaler -->\n<g id=\"edge46\" class=\"edge\">\n<title>robust_scaler&#45;&gt;fit_scaler</title>\n<path fill=\"none\" stroke=\"black\" d=\"M1818.24,-227.98C1835.39,-225.76 1854.46,-223.29 1872.1,-221.01\"/>\n<polygon fill=\"black\" stroke=\"black\" points=\"1872.48,-224.49 1881.95,-219.74 1871.59,-217.55 1872.48,-224.49\"/>\n</g>\n<!-- family_size_raw -->\n<g id=\"node30\" class=\"node\">\n<title>family_size_raw</title>\n<path fill=\"#b4d8e4\" stroke=\"black\" d=\"M1048.6,-337.8C1048.6,-337.8 946.75,-337.8 946.75,-337.8 940.75,-337.8 934.75,-331.8 934.75,-325.8 934.75,-325.8 934.75,-286.2 934.75,-286.2 934.75,-280.2 940.75,-274.2 946.75,-274.2 946.75,-274.2 1048.6,-274.2 1048.6,-274.2 1054.6,-274.2 1060.6,-280.2 1060.6,-286.2 1060.6,-286.2 1060.6,-325.8 1060.6,-325.8 1060.6,-331.8 1054.6,-337.8 1048.6,-337.8\"/>\n<text text-anchor=\"start\" x=\"945.55\" y=\"-314.7\" font-family=\"Helvetica,sans-Serif\" font-weight=\"bold\" font-size=\"14.00\">family_size_raw</text>\n<text text-anchor=\"start\" x=\"978.55\" y=\"-286.7\" font-family=\"Helvetica,sans-Serif\" font-style=\"italic\" font-size=\"14.00\">Series</text>\n</g>\n<!-- sibsp&#45;&gt;family_size_raw -->\n<g id=\"edge50\" class=\"edge\">\n<title>sibsp&#45;&gt;family_size_raw</title>\n<path fill=\"none\" stroke=\"black\" d=\"M897.35,-264.25C905.37,-267.62 914.43,-271.43 923.75,-275.35\"/>\n<polygon fill=\"black\" stroke=\"black\" points=\"922.36,-278.56 932.93,-279.21 925.07,-272.11 922.36,-278.56\"/>\n</g>\n<!-- rare_titles -->\n<g id=\"node29\" class=\"node\">\n<title>rare_titles</title>\n<path fill=\"#b4d8e4\" stroke=\"black\" d=\"M1446.8,-539.8C1446.8,-539.8 1384.7,-539.8 1384.7,-539.8 1378.7,-539.8 1372.7,-533.8 1372.7,-527.8 1372.7,-527.8 1372.7,-488.2 1372.7,-488.2 1372.7,-482.2 1378.7,-476.2 1384.7,-476.2 1384.7,-476.2 1446.8,-476.2 1446.8,-476.2 1452.8,-476.2 1458.8,-482.2 1458.8,-488.2 1458.8,-488.2 1458.8,-527.8 1458.8,-527.8 1458.8,-533.8 1452.8,-539.8 1446.8,-539.8\"/>\n<text text-anchor=\"start\" x=\"1383.5\" y=\"-516.7\" font-family=\"Helvetica,sans-Serif\" font-weight=\"bold\" font-size=\"14.00\">rare_titles</text>\n<text text-anchor=\"start\" x=\"1405.62\" y=\"-488.7\" font-family=\"Helvetica,sans-Serif\" font-style=\"italic\" font-size=\"14.00\">Set</text>\n</g>\n<!-- rare_titles&#45;&gt;title -->\n<g id=\"edge14\" class=\"edge\">\n<title>rare_titles&#45;&gt;title</title>\n<path fill=\"none\" stroke=\"black\" d=\"M1458.98,-532.71C1467.46,-537.93 1476.25,-543.52 1484.3,-549 1497.68,-558.1 1499.97,-561.84 1513.3,-571 1521.96,-576.95 1531.46,-583.08 1540.49,-588.72\"/>\n<polygon fill=\"black\" stroke=\"black\" points=\"1538.4,-591.54 1548.75,-593.82 1542.08,-585.59 1538.4,-591.54\"/>\n</g>\n<!-- family_size_raw&#45;&gt;family_size -->\n<g id=\"edge1\" class=\"edge\">\n<title>family_size_raw&#45;&gt;family_size</title>\n<path fill=\"none\" stroke=\"black\" d=\"M1060.65,-295.17C1070.31,-293.85 1080.2,-292.72 1089.6,-292 1190.9,-284.25 1216.86,-284.69 1318.2,-292 1330.87,-292.91 1344.41,-294.49 1357.22,-296.27\"/>\n<polygon fill=\"black\" stroke=\"black\" points=\"1356.35,-299.68 1366.75,-297.66 1357.35,-292.76 1356.35,-299.68\"/>\n</g>\n<!-- family_size_raw&#45;&gt;family_size_data_type_validator -->\n<g id=\"edge36\" class=\"edge\">\n<title>family_size_raw&#45;&gt;family_size_data_type_validator</title>\n<path fill=\"none\" stroke=\"black\" d=\"M1061.06,-314.25C1066.56,-314.98 1072.25,-315.73 1078.04,-316.49\"/>\n<polygon fill=\"black\" stroke=\"black\" points=\"1077.4,-319.94 1087.78,-317.78 1078.32,-313 1077.4,-319.94\"/>\n</g>\n<!-- parch&#45;&gt;family_size_raw -->\n<g id=\"edge49\" class=\"edge\">\n<title>parch&#45;&gt;family_size_raw</title>\n<path fill=\"none\" stroke=\"black\" d=\"M897.35,-327.65C905.2,-325.94 914.04,-324.01 923.15,-322.02\"/>\n<polygon fill=\"black\" stroke=\"black\" points=\"923.82,-325.46 932.85,-319.91 922.33,-318.62 923.82,-325.46\"/>\n</g>\n<!-- loader -->\n<g id=\"node32\" class=\"node\">\n<title>loader</title>\n<polygon fill=\"none\" stroke=\"black\" points=\"96.43,-420 45.93,-420 45.93,-370 102.43,-370 102.43,-414 96.43,-420\"/>\n<polyline fill=\"none\" stroke=\"black\" points=\"96.43,-420 96.43,-414\"/>\n<polyline fill=\"none\" stroke=\"black\" points=\"102.43,-414 96.43,-414\"/>\n<text text-anchor=\"start\" x=\"53.93\" y=\"-403.7\" font-family=\"Helvetica,sans-Serif\" font-weight=\"bold\" font-size=\"14.00\">loader</text>\n<text text-anchor=\"start\" x=\"62.55\" y=\"-375.7\" font-family=\"Helvetica,sans-Serif\" font-style=\"italic\" font-size=\"14.00\">Any</text>\n</g>\n<!-- fare&#45;&gt;fit_knn_imputer -->\n<g id=\"edge10\" class=\"edge\">\n<title>fare&#45;&gt;fit_knn_imputer</title>\n<path fill=\"none\" stroke=\"black\" d=\"M1445.82,-211.31C1463.17,-203.73 1486.02,-193.75 1507.9,-184.2\"/>\n<polygon fill=\"black\" stroke=\"black\" points=\"1509.05,-187.51 1516.82,-180.31 1506.25,-181.1 1509.05,-187.51\"/>\n</g>\n<!-- fare&#45;&gt;knn_imputed_df -->\n<g id=\"edge43\" class=\"edge\">\n<title>fare&#45;&gt;knn_imputed_df</title>\n<path fill=\"none\" stroke=\"black\" d=\"M1581.35,-224C1617.28,-212.59 1656.3,-197.59 1688.85,-184.32\"/>\n<polygon fill=\"black\" stroke=\"black\" points=\"1689.86,-187.69 1697.78,-180.65 1687.2,-181.22 1689.86,-187.69\"/>\n<path fill=\"none\" stroke=\"black\" d=\"M1446.05,-229.22C1479.25,-233.95 1534.55,-238.23 1579.35,-224\"/>\n</g>\n<!-- name&#45;&gt;normalized_name -->\n<g id=\"edge40\" class=\"edge\">\n<title>name&#45;&gt;normalized_name</title>\n<path fill=\"none\" stroke=\"black\" d=\"M1234.08,-571.92C1260.3,-574.54 1300.03,-578.52 1335.56,-582.08\"/>\n<polygon fill=\"black\" stroke=\"black\" points=\"1335.12,-585.55 1345.42,-583.06 1335.82,-578.58 1335.12,-585.55\"/>\n</g>\n<!-- _knn_imputer_inputs -->\n<g id=\"node35\" class=\"node\">\n<title>_knn_imputer_inputs</title>\n<polygon fill=\"none\" stroke=\"black\" stroke-dasharray=\"5,2\" points=\"1265.95,-164.3 1141.85,-164.3 1141.85,-119.7 1265.95,-119.7 1265.95,-164.3\"/>\n<text text-anchor=\"start\" x=\"1156.65\" y=\"-136.2\" font-family=\"Helvetica,sans-Serif\" font-size=\"14.00\">n_neighbors</text>\n<text text-anchor=\"start\" x=\"1236.9\" y=\"-136.2\" font-family=\"Helvetica,sans-Serif\" font-size=\"14.00\">int</text>\n</g>\n<!-- _knn_imputer_inputs&#45;&gt;knn_imputer -->\n<g id=\"edge37\" class=\"edge\">\n<title>_knn_imputer_inputs&#45;&gt;knn_imputer</title>\n<path fill=\"none\" stroke=\"black\" d=\"M1266.44,-142C1293.53,-142 1325.31,-142 1352.48,-142\"/>\n<polygon fill=\"black\" stroke=\"black\" points=\"1352.3,-145.5 1362.3,-142 1352.3,-138.5 1352.3,-145.5\"/>\n</g>\n<!-- config -->\n<g id=\"node36\" class=\"node\">\n<title>config</title>\n<polygon fill=\"none\" stroke=\"black\" points=\"95.18,-583 47.18,-583 47.18,-547 101.18,-547 101.18,-577 95.18,-583\"/>\n<polyline fill=\"none\" stroke=\"black\" points=\"95.18,-583 95.18,-577\"/>\n<polyline fill=\"none\" stroke=\"black\" points=\"101.18,-577 95.18,-577\"/>\n<text text-anchor=\"middle\" x=\"74.18\" y=\"-559.2\" font-family=\"Helvetica,sans-Serif\" font-size=\"14.00\">config</text>\n</g>\n<!-- input -->\n<g id=\"node37\" class=\"node\">\n<title>input</title>\n<polygon fill=\"none\" stroke=\"black\" stroke-dasharray=\"5,2\" points=\"101.18,-529.3 47.18,-529.3 47.18,-492.7 101.18,-492.7 101.18,-529.3\"/>\n<text text-anchor=\"middle\" x=\"74.18\" y=\"-505.2\" font-family=\"Helvetica,sans-Serif\" font-size=\"14.00\">input</text>\n</g>\n<!-- function -->\n<g id=\"node38\" class=\"node\">\n<title>function</title>\n<path fill=\"#b4d8e4\" stroke=\"black\" d=\"M96.6,-474.3C96.6,-474.3 51.75,-474.3 51.75,-474.3 45.75,-474.3 39.75,-468.3 39.75,-462.3 39.75,-462.3 39.75,-449.7 39.75,-449.7 39.75,-443.7 45.75,-437.7 51.75,-437.7 51.75,-437.7 96.6,-437.7 96.6,-437.7 102.6,-437.7 108.6,-443.7 108.6,-449.7 108.6,-449.7 108.6,-462.3 108.6,-462.3 108.6,-468.3 102.6,-474.3 96.6,-474.3\"/>\n<text text-anchor=\"middle\" x=\"74.18\" y=\"-450.2\" font-family=\"Helvetica,sans-Serif\" font-size=\"14.00\">function</text>\n</g>\n</g>\n</svg>\n",
      "text/plain": "<graphviz.graphs.Digraph at 0x1468a6bc0>"
     },
     "execution_count": 24,
     "metadata": {},
     "output_type": "execute_result"
    }
   ],
   "source": [
    "config = {\"model_to_use\": \"create_new\", \"loader\":\"openml\"}\n",
    "dr = (\n",
    "        driver.Builder()\n",
    "        .with_modules(data_loader, features)\n",
    "        .with_config(config)\n",
    "        .build()\n",
    "    )\n",
    "dr.display_all_functions(orient=\"LR\")"
   ]
  },
  {
   "cell_type": "markdown",
   "metadata": {
    "collapsed": false
   },
   "source": [
    "# Let's actually run it"
   ]
  },
  {
   "cell_type": "code",
   "execution_count": 25,
   "metadata": {
    "ExecuteTime": {
     "end_time": "2024-02-09T06:55:16.288873Z",
     "start_time": "2024-02-09T06:55:16.115962Z"
    }
   },
   "outputs": [
    {
     "name": "stdout",
     "output_type": "stream",
     "text": [
      "{'data_set_parquet': {'file_metadata': {'size': 31109, 'path': 'data_set.parquet', 'last_modified': 1707461716.2416358, 'timestamp': 1707490516.241878}, 'dataframe_metadata': {'rows': 1307, 'columns': 19, 'column_names': ['scaled_numeric_0', 'scaled_numeric_1', 'scaled_numeric_2', 'categorical_0', 'categorical_1', 'categorical_2', 'categorical_3', 'categorical_4', 'categorical_5', 'categorical_6', 'categorical_7', 'categorical_8', 'categorical_9', 'categorical_10', 'categorical_11', 'categorical_12', 'categorical_13', 'categorical_14', 'target'], 'datatypes': ['float64', 'float64', 'float64', 'float64', 'float64', 'float64', 'float64', 'float64', 'float64', 'float64', 'float64', 'float64', 'float64', 'float64', 'float64', 'float64', 'float64', 'float64', 'category']}}, 'inference_set_parquet': {'file_metadata': {'size': 30226, 'path': 'inference_set.parquet', 'last_modified': 1707461716.2467563, 'timestamp': 1707490516.246898}, 'dataframe_metadata': {'rows': 1307, 'columns': 18, 'column_names': ['scaled_numeric_0', 'scaled_numeric_1', 'scaled_numeric_2', 'categorical_0', 'categorical_1', 'categorical_2', 'categorical_3', 'categorical_4', 'categorical_5', 'categorical_6', 'categorical_7', 'categorical_8', 'categorical_9', 'categorical_10', 'categorical_11', 'categorical_12', 'categorical_13', 'categorical_14'], 'datatypes': ['float64', 'float64', 'float64', 'float64', 'float64', 'float64', 'float64', 'float64', 'float64', 'float64', 'float64', 'float64', 'float64', 'float64', 'float64', 'float64', 'float64', 'float64']}}}\n",
      "dict_keys(['inference_set', 'data_set'])\n",
      "   scaled_numeric_0  scaled_numeric_1  scaled_numeric_2  categorical_0  categorical_1  categorical_2  categorical_3  categorical_4  categorical_5  categorical_6  categorical_7  categorical_8  categorical_9  categorical_10  categorical_11  categorical_12  categorical_13  categorical_14\n",
      "0          0.000000          8.421302               0.0            0.0            0.0            1.0            1.0            0.0            1.0            0.0            0.0            0.0            1.0             0.0             0.0             0.0             1.0             0.0\n",
      "1         -1.702018          5.864007               3.0            0.0            0.0            1.0            0.0            1.0            1.0            0.0            0.0            1.0            0.0             0.0             0.0             0.0             1.0             0.0\n",
      "2         -1.636364          5.864007               3.0            0.0            0.0            1.0            1.0            0.0            1.0            0.0            0.0            0.0            1.0             0.0             0.0             0.0             1.0             0.0\n",
      "3          0.060606          5.864007               3.0            0.0            0.0            1.0            0.0            1.0            1.0            0.0            0.0            0.0            0.0             1.0             0.0             0.0             1.0             0.0\n",
      "4         -0.242424          5.864007               3.0            0.0            0.0            1.0            1.0            0.0            1.0            0.0            0.0            0.0            0.0             0.0             1.0             0.0             1.0             0.0\n",
      "   scaled_numeric_0  scaled_numeric_1  scaled_numeric_2  categorical_0  categorical_1  categorical_2  categorical_3  categorical_4  categorical_5  categorical_6  categorical_7  categorical_8  categorical_9  categorical_10  categorical_11  categorical_12  categorical_13  categorical_14 target\n",
      "0          0.000000          8.421302               0.0            0.0            0.0            1.0            1.0            0.0            1.0            0.0            0.0            0.0            1.0             0.0             0.0             0.0             1.0             0.0      1\n",
      "1         -1.702018          5.864007               3.0            0.0            0.0            1.0            0.0            1.0            1.0            0.0            0.0            1.0            0.0             0.0             0.0             0.0             1.0             0.0      1\n",
      "2         -1.636364          5.864007               3.0            0.0            0.0            1.0            1.0            0.0            1.0            0.0            0.0            0.0            1.0             0.0             0.0             0.0             1.0             0.0      0\n",
      "3          0.060606          5.864007               3.0            0.0            0.0            1.0            0.0            1.0            1.0            0.0            0.0            0.0            0.0             1.0             0.0             0.0             1.0             0.0      0\n",
      "4         -0.242424          5.864007               3.0            0.0            0.0            1.0            1.0            0.0            1.0            0.0            0.0            0.0            0.0             0.0             1.0             0.0             1.0             0.0      0\n"
     ]
    },
    {
     "name": "stderr",
     "output_type": "stream",
     "text": [
      "/Users/stefankrawczyk/.pyenv/versions/3.10.4/envs/hamilton-tutorials-py310/lib/python3.10/site-packages/sklearn/preprocessing/_encoders.py:972: FutureWarning: `sparse` was renamed to `sparse_output` in version 1.2 and will be removed in 1.4. `sparse_output` is ignored unless you leave `sparse` to its default value.\n",
      "  warnings.warn(\n"
     ]
    }
   ],
   "source": [
    "outputs = [features.inference_set, features.data_set]\n",
    "materializers = [\n",
    "    # to.memory(\n",
    "    #  id=\"feature_df\",\n",
    "    #  dependencies=outputs,\n",
    "    #  combine=base.PandasDataFrameResult()\n",
    "    # ),\n",
    "    to.parquet(\n",
    "        id=\"data_set_parquet\",\n",
    "        path=source(\"data_set_parquet_output_path\"),\n",
    "        dependencies=[features.data_set],\n",
    "        combine=base.PandasDataFrameResult()\n",
    "    ),\n",
    "    to.parquet(\n",
    "        id=\"inference_set_parquet\",\n",
    "        path=source(\"inference_set_parquet_output_path\"),\n",
    "        dependencies=[features.inference_set],\n",
    "        combine=base.PandasDataFrameResult()\n",
    "    )\n",
    "]\n",
    "# just get the data sets without materializing anything.\n",
    "metadata, dict_outputs = dr.materialize(\n",
    "      *materializers,\n",
    "    additional_vars=outputs, \n",
    "    inputs={\"data_set_parquet_output_path\": \"data_set.parquet\", \"inference_set_parquet_output_path\": \"inference_set.parquet\"}\n",
    ")\n",
    "print(metadata)\n",
    "print(dict_outputs.keys())\n",
    "print(dict_outputs[\"inference_set\"].head().to_string())\n",
    "print(dict_outputs[\"data_set\"].head().to_string())"
   ]
  },
  {
   "cell_type": "markdown",
   "metadata": {},
   "source": [
    "# Add the connection to  DAGWorks"
   ]
  },
  {
   "cell_type": "code",
   "execution_count": 26,
   "metadata": {
    "ExecuteTime": {
     "end_time": "2024-02-09T06:55:27.052900Z",
     "start_time": "2024-02-09T06:55:19.493016Z"
    }
   },
   "outputs": [
    {
     "name": "stderr",
     "output_type": "stream",
     "text": [
      "\n",
      "Capturing execution run. Results can be found at https://app.dagworks.io/dashboard/project/81/runs/28546\n",
      "\n",
      "/Users/stefankrawczyk/.pyenv/versions/3.10.4/envs/hamilton-tutorials-py310/lib/python3.10/site-packages/sklearn/preprocessing/_encoders.py:972: FutureWarning: `sparse` was renamed to `sparse_output` in version 1.2 and will be removed in 1.4. `sparse_output` is ignored unless you leave `sparse` to its default value.\n",
      "  warnings.warn(\n",
      "\n",
      "Captured execution run. Results can be found at https://app.dagworks.io/dashboard/project/81/runs/28546\n",
      "\n"
     ]
    },
    {
     "name": "stdout",
     "output_type": "stream",
     "text": [
      "{'training_set_df':       scaled_numeric_0  scaled_numeric_1  scaled_numeric_2  categorical_0  \\\n",
      "0             0.000000          8.421302               0.0            0.0   \n",
      "1            -1.702018          5.864007               3.0            0.0   \n",
      "2            -1.636364          5.864007               3.0            0.0   \n",
      "3             0.060606          5.864007               3.0            0.0   \n",
      "4            -0.242424          5.864007               3.0            0.0   \n",
      "...                ...               ...               ...            ...   \n",
      "1304         -0.878788          0.000000               1.0            1.0   \n",
      "1305         -0.503030          0.000000               1.0            1.0   \n",
      "1306         -0.151515         -0.309215               0.0            1.0   \n",
      "1307         -0.121212         -0.309215               0.0            1.0   \n",
      "1308          0.000000         -0.281413               0.0            0.0   \n",
      "\n",
      "      categorical_1  categorical_2  categorical_3  categorical_4  \\\n",
      "0               0.0            1.0            1.0            0.0   \n",
      "1               0.0            1.0            0.0            1.0   \n",
      "2               0.0            1.0            1.0            0.0   \n",
      "3               0.0            1.0            0.0            1.0   \n",
      "4               0.0            1.0            1.0            0.0   \n",
      "...             ...            ...            ...            ...   \n",
      "1304            0.0            0.0            1.0            0.0   \n",
      "1305            0.0            0.0            1.0            0.0   \n",
      "1306            0.0            0.0            0.0            1.0   \n",
      "1307            0.0            0.0            0.0            1.0   \n",
      "1308            0.0            1.0            0.0            1.0   \n",
      "\n",
      "      categorical_5  categorical_6  categorical_7  categorical_8  \\\n",
      "0               1.0            0.0            0.0            0.0   \n",
      "1               1.0            0.0            0.0            1.0   \n",
      "2               1.0            0.0            0.0            0.0   \n",
      "3               1.0            0.0            0.0            0.0   \n",
      "4               1.0            0.0            0.0            0.0   \n",
      "...             ...            ...            ...            ...   \n",
      "1304            0.0            0.0            1.0            0.0   \n",
      "1305            0.0            0.0            1.0            0.0   \n",
      "1306            0.0            0.0            1.0            0.0   \n",
      "1307            0.0            0.0            1.0            0.0   \n",
      "1308            0.0            0.0            1.0            0.0   \n",
      "\n",
      "      categorical_9  categorical_10  categorical_11  categorical_12  \\\n",
      "0               1.0             0.0             0.0             0.0   \n",
      "1               0.0             0.0             0.0             0.0   \n",
      "2               1.0             0.0             0.0             0.0   \n",
      "3               0.0             1.0             0.0             0.0   \n",
      "4               0.0             0.0             1.0             0.0   \n",
      "...             ...             ...             ...             ...   \n",
      "1304            1.0             0.0             0.0             0.0   \n",
      "1305            1.0             0.0             0.0             0.0   \n",
      "1306            0.0             1.0             0.0             0.0   \n",
      "1307            0.0             1.0             0.0             0.0   \n",
      "1308            0.0             1.0             0.0             0.0   \n",
      "\n",
      "      categorical_13  categorical_14 target  \n",
      "0                1.0             0.0      1  \n",
      "1                1.0             0.0      1  \n",
      "2                1.0             0.0      0  \n",
      "3                1.0             0.0      0  \n",
      "4                1.0             0.0      0  \n",
      "...              ...             ...    ...  \n",
      "1304             0.0             1.0      0  \n",
      "1305             0.0             1.0      0  \n",
      "1306             1.0             0.0      0  \n",
      "1307             1.0             0.0      0  \n",
      "1308             1.0             0.0      0  \n",
      "\n",
      "[1307 rows x 19 columns], 'test_set_df':       scaled_numeric_0  scaled_numeric_1  scaled_numeric_2  categorical_0  \\\n",
      "0             0.000000          8.421302               0.0            0.0   \n",
      "1            -1.702018          5.864007               3.0            0.0   \n",
      "2            -1.636364          5.864007               3.0            0.0   \n",
      "3             0.060606          5.864007               3.0            0.0   \n",
      "4            -0.242424          5.864007               3.0            0.0   \n",
      "...                ...               ...               ...            ...   \n",
      "1304         -0.878788          0.000000               1.0            1.0   \n",
      "1305         -0.503030          0.000000               1.0            1.0   \n",
      "1306         -0.151515         -0.309215               0.0            1.0   \n",
      "1307         -0.121212         -0.309215               0.0            1.0   \n",
      "1308          0.000000         -0.281413               0.0            0.0   \n",
      "\n",
      "      categorical_1  categorical_2  categorical_3  categorical_4  \\\n",
      "0               0.0            1.0            1.0            0.0   \n",
      "1               0.0            1.0            0.0            1.0   \n",
      "2               0.0            1.0            1.0            0.0   \n",
      "3               0.0            1.0            0.0            1.0   \n",
      "4               0.0            1.0            1.0            0.0   \n",
      "...             ...            ...            ...            ...   \n",
      "1304            0.0            0.0            1.0            0.0   \n",
      "1305            0.0            0.0            1.0            0.0   \n",
      "1306            0.0            0.0            0.0            1.0   \n",
      "1307            0.0            0.0            0.0            1.0   \n",
      "1308            0.0            1.0            0.0            1.0   \n",
      "\n",
      "      categorical_5  categorical_6  categorical_7  categorical_8  \\\n",
      "0               1.0            0.0            0.0            0.0   \n",
      "1               1.0            0.0            0.0            1.0   \n",
      "2               1.0            0.0            0.0            0.0   \n",
      "3               1.0            0.0            0.0            0.0   \n",
      "4               1.0            0.0            0.0            0.0   \n",
      "...             ...            ...            ...            ...   \n",
      "1304            0.0            0.0            1.0            0.0   \n",
      "1305            0.0            0.0            1.0            0.0   \n",
      "1306            0.0            0.0            1.0            0.0   \n",
      "1307            0.0            0.0            1.0            0.0   \n",
      "1308            0.0            0.0            1.0            0.0   \n",
      "\n",
      "      categorical_9  categorical_10  categorical_11  categorical_12  \\\n",
      "0               1.0             0.0             0.0             0.0   \n",
      "1               0.0             0.0             0.0             0.0   \n",
      "2               1.0             0.0             0.0             0.0   \n",
      "3               0.0             1.0             0.0             0.0   \n",
      "4               0.0             0.0             1.0             0.0   \n",
      "...             ...             ...             ...             ...   \n",
      "1304            1.0             0.0             0.0             0.0   \n",
      "1305            1.0             0.0             0.0             0.0   \n",
      "1306            0.0             1.0             0.0             0.0   \n",
      "1307            0.0             1.0             0.0             0.0   \n",
      "1308            0.0             1.0             0.0             0.0   \n",
      "\n",
      "      categorical_13  categorical_14  \n",
      "0                1.0             0.0  \n",
      "1                1.0             0.0  \n",
      "2                1.0             0.0  \n",
      "3                1.0             0.0  \n",
      "4                1.0             0.0  \n",
      "...              ...             ...  \n",
      "1304             0.0             1.0  \n",
      "1305             0.0             1.0  \n",
      "1306             1.0             0.0  \n",
      "1307             1.0             0.0  \n",
      "1308             1.0             0.0  \n",
      "\n",
      "[1307 rows x 18 columns], 'data_set_parquet': {'file_metadata': {'size': 31109, 'path': 'data_set.parquet', 'last_modified': 1707461726.4771929, 'timestamp': 1707490526.477363}, 'dataframe_metadata': {'rows': 1307, 'columns': 19, 'column_names': ['scaled_numeric_0', 'scaled_numeric_1', 'scaled_numeric_2', 'categorical_0', 'categorical_1', 'categorical_2', 'categorical_3', 'categorical_4', 'categorical_5', 'categorical_6', 'categorical_7', 'categorical_8', 'categorical_9', 'categorical_10', 'categorical_11', 'categorical_12', 'categorical_13', 'categorical_14', 'target'], 'datatypes': ['float64', 'float64', 'float64', 'float64', 'float64', 'float64', 'float64', 'float64', 'float64', 'float64', 'float64', 'float64', 'float64', 'float64', 'float64', 'float64', 'float64', 'float64', 'category']}}, 'inference_set_parquet': {'file_metadata': {'size': 30226, 'path': 'inference_set.parquet', 'last_modified': 1707461726.7578769, 'timestamp': 1707490526.758139}, 'dataframe_metadata': {'rows': 1307, 'columns': 18, 'column_names': ['scaled_numeric_0', 'scaled_numeric_1', 'scaled_numeric_2', 'categorical_0', 'categorical_1', 'categorical_2', 'categorical_3', 'categorical_4', 'categorical_5', 'categorical_6', 'categorical_7', 'categorical_8', 'categorical_9', 'categorical_10', 'categorical_11', 'categorical_12', 'categorical_13', 'categorical_14'], 'datatypes': ['float64', 'float64', 'float64', 'float64', 'float64', 'float64', 'float64', 'float64', 'float64', 'float64', 'float64', 'float64', 'float64', 'float64', 'float64', 'float64', 'float64', 'float64']}}}\n",
      "dict_keys(['inference_set', 'data_set'])\n",
      "   scaled_numeric_0  scaled_numeric_1  scaled_numeric_2  categorical_0  categorical_1  categorical_2  categorical_3  categorical_4  categorical_5  categorical_6  categorical_7  categorical_8  categorical_9  categorical_10  categorical_11  categorical_12  categorical_13  categorical_14\n",
      "0          0.000000          8.421302               0.0            0.0            0.0            1.0            1.0            0.0            1.0            0.0            0.0            0.0            1.0             0.0             0.0             0.0             1.0             0.0\n",
      "1         -1.702018          5.864007               3.0            0.0            0.0            1.0            0.0            1.0            1.0            0.0            0.0            1.0            0.0             0.0             0.0             0.0             1.0             0.0\n",
      "2         -1.636364          5.864007               3.0            0.0            0.0            1.0            1.0            0.0            1.0            0.0            0.0            0.0            1.0             0.0             0.0             0.0             1.0             0.0\n",
      "3          0.060606          5.864007               3.0            0.0            0.0            1.0            0.0            1.0            1.0            0.0            0.0            0.0            0.0             1.0             0.0             0.0             1.0             0.0\n",
      "4         -0.242424          5.864007               3.0            0.0            0.0            1.0            1.0            0.0            1.0            0.0            0.0            0.0            0.0             0.0             1.0             0.0             1.0             0.0\n",
      "   scaled_numeric_0  scaled_numeric_1  scaled_numeric_2  categorical_0  categorical_1  categorical_2  categorical_3  categorical_4  categorical_5  categorical_6  categorical_7  categorical_8  categorical_9  categorical_10  categorical_11  categorical_12  categorical_13  categorical_14 target\n",
      "0          0.000000          8.421302               0.0            0.0            0.0            1.0            1.0            0.0            1.0            0.0            0.0            0.0            1.0             0.0             0.0             0.0             1.0             0.0      1\n",
      "1         -1.702018          5.864007               3.0            0.0            0.0            1.0            0.0            1.0            1.0            0.0            0.0            1.0            0.0             0.0             0.0             0.0             1.0             0.0      1\n",
      "2         -1.636364          5.864007               3.0            0.0            0.0            1.0            1.0            0.0            1.0            0.0            0.0            0.0            1.0             0.0             0.0             0.0             1.0             0.0      0\n",
      "3          0.060606          5.864007               3.0            0.0            0.0            1.0            0.0            1.0            1.0            0.0            0.0            0.0            0.0             1.0             0.0             0.0             1.0             0.0      0\n",
      "4         -0.242424          5.864007               3.0            0.0            0.0            1.0            1.0            0.0            1.0            0.0            0.0            0.0            0.0             0.0             1.0             0.0             1.0             0.0      0\n"
     ]
    }
   ],
   "source": [
    "from dagworks import adapters\n",
    "from hamilton import driver \n",
    "dw_dr = adapters.DAGWorksTracker(\n",
    "   project_id=DAGWORKS_PROJECT_ID,\n",
    "   api_key=DAGWORKS_API_KEY,\n",
    "   username=DAGWORKS_PROJECT_EMAIL,\n",
    "   dag_name=\"titanic-data-loading-features-v2\",\n",
    "   tags={\"env\": \"local\", \"where\": \"notebook\"}\n",
    ")\n",
    "dw_dr = (\n",
    "        driver.Builder()\n",
    "        .with_config(config)\n",
    "        .with_modules(data_loader, features)\n",
    "        .with_adapters(dw_tracker)\n",
    "        .build()\n",
    "    )\n",
    "materializers = [\n",
    "    to.memory(\n",
    "     id=\"training_set_df\",\n",
    "     dependencies=[features.data_set],\n",
    "     combine=base.PandasDataFrameResult()\n",
    "    ),\n",
    "    to.memory(\n",
    "     id=\"test_set_df\",\n",
    "     dependencies=[features.inference_set],\n",
    "     combine=base.PandasDataFrameResult()\n",
    "    ),\n",
    "    to.parquet(\n",
    "        id=\"data_set_parquet\",\n",
    "        path=source(\"data_set_parquet_output_path\"),\n",
    "        dependencies=[features.data_set],\n",
    "        combine=base.PandasDataFrameResult()\n",
    "    ),\n",
    "    to.parquet(\n",
    "        id=\"inference_set_parquet\",\n",
    "        path=source(\"inference_set_parquet_output_path\"),\n",
    "        dependencies=[features.inference_set],\n",
    "        combine=base.PandasDataFrameResult()\n",
    "    )\n",
    "]\n",
    "metadata, dict_outputs = dw_dr.materialize(\n",
    "    *materializers, \n",
    "    additional_vars=outputs, \n",
    "    inputs={\"data_set_parquet_output_path\": \"data_set.parquet\", \"inference_set_parquet_output_path\": \"inference_set.parquet\"}\n",
    ")\n",
    "print(metadata)\n",
    "print(dict_outputs.keys())\n",
    "print(dict_outputs[\"inference_set\"].head().to_string())\n",
    "print(dict_outputs[\"data_set\"].head().to_string())\n",
    "# dw_dr.execute(outputs)\n"
   ]
  },
  {
   "cell_type": "markdown",
   "metadata": {},
   "source": [
    "# Reusing features for multiple contexts\n",
    "Read [this blog post](https://blog.dagworks.io/p/feature-engineering-with-hamilton) for more context, but one\n",
    "of the nice things about Hamilton is that you can reuse your code for multiple context easily.\n",
    "\n",
    "E.g. you want to run code online in a web-service, so you want the same feature transforms to prevent any training-serving skew coming\n",
    "from the code itself. So you can't reuse the data loading portion, but you can reuse the feature transform logic!"
   ]
  },
  {
   "cell_type": "code",
   "execution_count": 27,
   "metadata": {
    "ExecuteTime": {
     "end_time": "2024-02-09T06:55:27.346301Z",
     "start_time": "2024-02-09T06:55:27.053731Z"
    }
   },
   "outputs": [
    {
     "data": {
      "image/svg+xml": "<?xml version=\"1.0\" encoding=\"UTF-8\" standalone=\"no\"?>\n<!DOCTYPE svg PUBLIC \"-//W3C//DTD SVG 1.1//EN\"\n \"http://www.w3.org/Graphics/SVG/1.1/DTD/svg11.dtd\">\n<!-- Generated by graphviz version 9.0.0 (20230911.1827)\n -->\n<!-- Pages: 1 -->\n<svg width=\"1303pt\" height=\"623pt\"\n viewBox=\"0.00 0.00 1302.70 622.60\" xmlns=\"http://www.w3.org/2000/svg\" xmlns:xlink=\"http://www.w3.org/1999/xlink\">\n<g id=\"graph0\" class=\"graph\" transform=\"scale(1 1) rotate(0) translate(4 618.6)\">\n<polygon fill=\"white\" stroke=\"none\" points=\"-4,4 -4,-618.6 1298.7,-618.6 1298.7,4 -4,4\"/>\n<!-- family_size -->\n<g id=\"node1\" class=\"node\">\n<title>family_size</title>\n<path fill=\"#b4d8e4\" stroke=\"black\" d=\"M713.65,-319.6C713.65,-319.6 643.3,-319.6 643.3,-319.6 637.3,-319.6 631.3,-313.6 631.3,-307.6 631.3,-307.6 631.3,-268 631.3,-268 631.3,-262 637.3,-256 643.3,-256 643.3,-256 713.65,-256 713.65,-256 719.65,-256 725.65,-262 725.65,-268 725.65,-268 725.65,-307.6 725.65,-307.6 725.65,-313.6 719.65,-319.6 713.65,-319.6\"/>\n<text text-anchor=\"start\" x=\"642.1\" y=\"-296.5\" font-family=\"Helvetica,sans-Serif\" font-weight=\"bold\" font-size=\"14.00\">family_size</text>\n<text text-anchor=\"start\" x=\"659.35\" y=\"-268.5\" font-family=\"Helvetica,sans-Serif\" font-style=\"italic\" font-size=\"14.00\">Series</text>\n</g>\n<!-- is_alone -->\n<g id=\"node6\" class=\"node\">\n<title>is_alone</title>\n<path fill=\"#b4d8e4\" stroke=\"black\" d=\"M922.75,-331.6C922.75,-331.6 871.15,-331.6 871.15,-331.6 865.15,-331.6 859.15,-325.6 859.15,-319.6 859.15,-319.6 859.15,-280 859.15,-280 859.15,-274 865.15,-268 871.15,-268 871.15,-268 922.75,-268 922.75,-268 928.75,-268 934.75,-274 934.75,-280 934.75,-280 934.75,-319.6 934.75,-319.6 934.75,-325.6 928.75,-331.6 922.75,-331.6\"/>\n<text text-anchor=\"start\" x=\"869.95\" y=\"-308.5\" font-family=\"Helvetica,sans-Serif\" font-weight=\"bold\" font-size=\"14.00\">is_alone</text>\n<text text-anchor=\"start\" x=\"877.82\" y=\"-280.5\" font-family=\"Helvetica,sans-Serif\" font-style=\"italic\" font-size=\"14.00\">Series</text>\n</g>\n<!-- family_size&#45;&gt;is_alone -->\n<g id=\"edge6\" class=\"edge\">\n<title>family_size&#45;&gt;is_alone</title>\n<path fill=\"none\" stroke=\"black\" d=\"M725.91,-290.37C761.79,-292.36 811.28,-295.11 847.62,-297.12\"/>\n<polygon fill=\"black\" stroke=\"black\" points=\"847.23,-300.6 857.41,-297.66 847.62,-293.62 847.23,-300.6\"/>\n</g>\n<!-- knn_imputed_df -->\n<g id=\"node15\" class=\"node\">\n<title>knn_imputed_df</title>\n<path fill=\"#b4d8e4\" stroke=\"black\" d=\"M948.25,-145.6C948.25,-145.6 845.65,-145.6 845.65,-145.6 839.65,-145.6 833.65,-139.6 833.65,-133.6 833.65,-133.6 833.65,-94 833.65,-94 833.65,-88 839.65,-82 845.65,-82 845.65,-82 948.25,-82 948.25,-82 954.25,-82 960.25,-88 960.25,-94 960.25,-94 960.25,-133.6 960.25,-133.6 960.25,-139.6 954.25,-145.6 948.25,-145.6\"/>\n<text text-anchor=\"start\" x=\"844.45\" y=\"-122.5\" font-family=\"Helvetica,sans-Serif\" font-weight=\"bold\" font-size=\"14.00\">knn_imputed_df</text>\n<text text-anchor=\"start\" x=\"862.82\" y=\"-94.5\" font-family=\"Helvetica,sans-Serif\" font-style=\"italic\" font-size=\"14.00\">DataFrame</text>\n</g>\n<!-- family_size&#45;&gt;knn_imputed_df -->\n<g id=\"edge23\" class=\"edge\">\n<title>family_size&#45;&gt;knn_imputed_df</title>\n<path fill=\"none\" stroke=\"black\" d=\"M725.94,-271.8C745.3,-263.14 766.65,-250.7 781.4,-233.8 806,-205.62 785.24,-182.47 810.4,-154.8 814.49,-150.31 819.17,-146.26 824.19,-142.62\"/>\n<polygon fill=\"black\" stroke=\"black\" points=\"825.83,-145.73 832.28,-137.33 822,-139.87 825.83,-145.73\"/>\n</g>\n<!-- one_hot_encoder -->\n<g id=\"node2\" class=\"node\">\n<title>one_hot_encoder</title>\n<path fill=\"#b4d8e4\" stroke=\"black\" d=\"M122.1,-402.6C122.1,-402.6 12,-402.6 12,-402.6 6,-402.6 0,-396.6 0,-390.6 0,-390.6 0,-351 0,-351 0,-345 6,-339 12,-339 12,-339 122.1,-339 122.1,-339 128.1,-339 134.1,-345 134.1,-351 134.1,-351 134.1,-390.6 134.1,-390.6 134.1,-396.6 128.1,-402.6 122.1,-402.6\"/>\n<text text-anchor=\"start\" x=\"10.8\" y=\"-379.5\" font-family=\"Helvetica,sans-Serif\" font-weight=\"bold\" font-size=\"14.00\">one_hot_encoder</text>\n<text text-anchor=\"start\" x=\"18.3\" y=\"-351.5\" font-family=\"Helvetica,sans-Serif\" font-style=\"italic\" font-size=\"14.00\">OneHotEncoder</text>\n</g>\n<!-- inference_set -->\n<g id=\"node3\" class=\"node\">\n<title>inference_set</title>\n<path fill=\"#b4d8e4\" stroke=\"black\" d=\"M1282.7,-197.6C1282.7,-197.6 1198.1,-197.6 1198.1,-197.6 1192.1,-197.6 1186.1,-191.6 1186.1,-185.6 1186.1,-185.6 1186.1,-146 1186.1,-146 1186.1,-140 1192.1,-134 1198.1,-134 1198.1,-134 1282.7,-134 1282.7,-134 1288.7,-134 1294.7,-140 1294.7,-146 1294.7,-146 1294.7,-185.6 1294.7,-185.6 1294.7,-191.6 1288.7,-197.6 1282.7,-197.6\"/>\n<text text-anchor=\"start\" x=\"1196.9\" y=\"-174.5\" font-family=\"Helvetica,sans-Serif\" font-weight=\"bold\" font-size=\"14.00\">inference_set</text>\n<text text-anchor=\"start\" x=\"1206.27\" y=\"-146.5\" font-family=\"Helvetica,sans-Serif\" font-style=\"italic\" font-size=\"14.00\">DataFrame</text>\n</g>\n<!-- model_to_use -->\n<g id=\"node4\" class=\"node\">\n<title>model_to_use</title>\n<polygon fill=\"none\" stroke=\"black\" points=\"114.8,-470.8 13.3,-470.8 13.3,-420.8 120.8,-420.8 120.8,-464.8 114.8,-470.8\"/>\n<polyline fill=\"none\" stroke=\"black\" points=\"114.8,-470.8 114.8,-464.8\"/>\n<polyline fill=\"none\" stroke=\"black\" points=\"120.8,-464.8 114.8,-464.8\"/>\n<text text-anchor=\"start\" x=\"21.3\" y=\"-454.5\" font-family=\"Helvetica,sans-Serif\" font-weight=\"bold\" font-size=\"14.00\">model_to_use</text>\n<text text-anchor=\"start\" x=\"55.42\" y=\"-426.5\" font-family=\"Helvetica,sans-Serif\" font-style=\"italic\" font-size=\"14.00\">Any</text>\n</g>\n<!-- fit_knn_imputer -->\n<g id=\"node5\" class=\"node\">\n<title>fit_knn_imputer</title>\n<path fill=\"#b4d8e4\" stroke=\"black\" d=\"M728.27,-140.6C728.27,-140.6 628.67,-140.6 628.67,-140.6 622.67,-140.6 616.67,-134.6 616.67,-128.6 616.67,-128.6 616.67,-89 616.67,-89 616.67,-83 622.67,-77 628.67,-77 628.67,-77 728.27,-77 728.27,-77 734.27,-77 740.27,-83 740.27,-89 740.27,-89 740.27,-128.6 740.27,-128.6 740.27,-134.6 734.27,-140.6 728.27,-140.6\"/>\n<text text-anchor=\"start\" x=\"627.47\" y=\"-117.5\" font-family=\"Helvetica,sans-Serif\" font-weight=\"bold\" font-size=\"14.00\">fit_knn_imputer</text>\n<text text-anchor=\"start\" x=\"640.97\" y=\"-89.5\" font-family=\"Helvetica,sans-Serif\" font-style=\"italic\" font-size=\"14.00\">KNNImputer</text>\n</g>\n<!-- fit_knn_imputer&#45;&gt;knn_imputed_df -->\n<g id=\"edge22\" class=\"edge\">\n<title>fit_knn_imputer&#45;&gt;knn_imputed_df</title>\n<path fill=\"none\" stroke=\"black\" d=\"M740.64,-110.21C766.02,-110.8 795.69,-111.48 822.26,-112.1\"/>\n<polygon fill=\"black\" stroke=\"black\" points=\"821.84,-115.59 831.92,-112.32 822,-108.59 821.84,-115.59\"/>\n</g>\n<!-- categorical_df -->\n<g id=\"node11\" class=\"node\">\n<title>categorical_df</title>\n<path fill=\"#b4d8e4\" stroke=\"black\" d=\"M1129.35,-284.6C1129.35,-284.6 1040.25,-284.6 1040.25,-284.6 1034.25,-284.6 1028.25,-278.6 1028.25,-272.6 1028.25,-272.6 1028.25,-233 1028.25,-233 1028.25,-227 1034.25,-221 1040.25,-221 1040.25,-221 1129.35,-221 1129.35,-221 1135.35,-221 1141.35,-227 1141.35,-233 1141.35,-233 1141.35,-272.6 1141.35,-272.6 1141.35,-278.6 1135.35,-284.6 1129.35,-284.6\"/>\n<text text-anchor=\"start\" x=\"1039.05\" y=\"-261.5\" font-family=\"Helvetica,sans-Serif\" font-weight=\"bold\" font-size=\"14.00\">categorical_df</text>\n<text text-anchor=\"start\" x=\"1050.67\" y=\"-233.5\" font-family=\"Helvetica,sans-Serif\" font-style=\"italic\" font-size=\"14.00\">DataFrame</text>\n</g>\n<!-- is_alone&#45;&gt;categorical_df -->\n<g id=\"edge17\" class=\"edge\">\n<title>is_alone&#45;&gt;categorical_df</title>\n<path fill=\"none\" stroke=\"black\" d=\"M935.11,-290.4C958.48,-284.49 989.32,-276.69 1016.84,-269.73\"/>\n<polygon fill=\"black\" stroke=\"black\" points=\"1017.7,-273.13 1026.54,-267.28 1015.99,-266.34 1017.7,-273.13\"/>\n</g>\n<!-- title -->\n<g id=\"node7\" class=\"node\">\n<title>title</title>\n<path fill=\"#b4d8e4\" stroke=\"black\" d=\"M914.87,-495.6C914.87,-495.6 879.02,-495.6 879.02,-495.6 873.02,-495.6 867.02,-489.6 867.02,-483.6 867.02,-483.6 867.02,-444 867.02,-444 867.02,-438 873.02,-432 879.02,-432 879.02,-432 914.87,-432 914.87,-432 920.87,-432 926.87,-438 926.87,-444 926.87,-444 926.87,-483.6 926.87,-483.6 926.87,-489.6 920.87,-495.6 914.87,-495.6\"/>\n<text text-anchor=\"start\" x=\"884.95\" y=\"-472.5\" font-family=\"Helvetica,sans-Serif\" font-weight=\"bold\" font-size=\"14.00\">title</text>\n<text text-anchor=\"start\" x=\"877.82\" y=\"-444.5\" font-family=\"Helvetica,sans-Serif\" font-style=\"italic\" font-size=\"14.00\">Series</text>\n</g>\n<!-- title&#45;&gt;categorical_df -->\n<g id=\"edge16\" class=\"edge\">\n<title>title&#45;&gt;categorical_df</title>\n<path fill=\"none\" stroke=\"black\" d=\"M927.11,-456.9C945.93,-450.95 969.44,-440.45 983.5,-422.8 1020.11,-376.83 977.64,-341.11 1012.5,-293.8 1014.62,-290.93 1017,-288.22 1019.58,-285.68\"/>\n<polygon fill=\"black\" stroke=\"black\" points=\"1021.41,-288.73 1026.68,-279.54 1016.83,-283.44 1021.41,-288.73\"/>\n</g>\n<!-- fit_categorical_encoder -->\n<g id=\"node8\" class=\"node\">\n<title>fit_categorical_encoder</title>\n<path fill=\"#b4d8e4\" stroke=\"black\" d=\"M971.5,-413.6C971.5,-413.6 822.4,-413.6 822.4,-413.6 816.4,-413.6 810.4,-407.6 810.4,-401.6 810.4,-401.6 810.4,-362 810.4,-362 810.4,-356 816.4,-350 822.4,-350 822.4,-350 971.5,-350 971.5,-350 977.5,-350 983.5,-356 983.5,-362 983.5,-362 983.5,-401.6 983.5,-401.6 983.5,-407.6 977.5,-413.6 971.5,-413.6\"/>\n<text text-anchor=\"start\" x=\"821.2\" y=\"-390.5\" font-family=\"Helvetica,sans-Serif\" font-weight=\"bold\" font-size=\"14.00\">fit_categorical_encoder</text>\n<text text-anchor=\"start\" x=\"848.2\" y=\"-362.5\" font-family=\"Helvetica,sans-Serif\" font-style=\"italic\" font-size=\"14.00\">OneHotEncoder</text>\n</g>\n<!-- fit_categorical_encoder&#45;&gt;categorical_df -->\n<g id=\"edge15\" class=\"edge\">\n<title>fit_categorical_encoder&#45;&gt;categorical_df</title>\n<path fill=\"none\" stroke=\"black\" d=\"M972.49,-349.5C976.37,-346.78 980.07,-343.88 983.5,-340.8 1001.75,-324.39 994.88,-310.89 1012.5,-293.8 1014.56,-291.8 1016.74,-289.86 1019.01,-287.99\"/>\n<polygon fill=\"black\" stroke=\"black\" points=\"1021.05,-290.83 1026.89,-281.99 1016.82,-285.26 1021.05,-290.83\"/>\n</g>\n<!-- scaled_numeric_df -->\n<g id=\"node9\" class=\"node\">\n<title>scaled_numeric_df</title>\n<path fill=\"#b4d8e4\" stroke=\"black\" d=\"M1145.1,-148.6C1145.1,-148.6 1024.5,-148.6 1024.5,-148.6 1018.5,-148.6 1012.5,-142.6 1012.5,-136.6 1012.5,-136.6 1012.5,-97 1012.5,-97 1012.5,-91 1018.5,-85 1024.5,-85 1024.5,-85 1145.1,-85 1145.1,-85 1151.1,-85 1157.1,-91 1157.1,-97 1157.1,-97 1157.1,-136.6 1157.1,-136.6 1157.1,-142.6 1151.1,-148.6 1145.1,-148.6\"/>\n<text text-anchor=\"start\" x=\"1023.3\" y=\"-125.5\" font-family=\"Helvetica,sans-Serif\" font-weight=\"bold\" font-size=\"14.00\">scaled_numeric_df</text>\n<text text-anchor=\"start\" x=\"1050.67\" y=\"-97.5\" font-family=\"Helvetica,sans-Serif\" font-style=\"italic\" font-size=\"14.00\">DataFrame</text>\n</g>\n<!-- scaled_numeric_df&#45;&gt;inference_set -->\n<g id=\"edge3\" class=\"edge\">\n<title>scaled_numeric_df&#45;&gt;inference_set</title>\n<path fill=\"none\" stroke=\"black\" d=\"M1157.2,-139.58C1163.03,-141.44 1168.89,-143.31 1174.67,-145.15\"/>\n<polygon fill=\"black\" stroke=\"black\" points=\"1173.58,-148.48 1184.18,-148.18 1175.71,-141.81 1173.58,-148.48\"/>\n</g>\n<!-- data_set -->\n<g id=\"node10\" class=\"node\">\n<title>data_set</title>\n<path fill=\"#b4d8e4\" stroke=\"black\" d=\"M1273.32,-284.6C1273.32,-284.6 1207.47,-284.6 1207.47,-284.6 1201.47,-284.6 1195.47,-278.6 1195.47,-272.6 1195.47,-272.6 1195.47,-233 1195.47,-233 1195.47,-227 1201.47,-221 1207.47,-221 1207.47,-221 1273.32,-221 1273.32,-221 1279.32,-221 1285.32,-227 1285.32,-233 1285.32,-233 1285.32,-272.6 1285.32,-272.6 1285.32,-278.6 1279.32,-284.6 1273.32,-284.6\"/>\n<text text-anchor=\"start\" x=\"1213.02\" y=\"-261.5\" font-family=\"Helvetica,sans-Serif\" font-weight=\"bold\" font-size=\"14.00\">data_set</text>\n<text text-anchor=\"start\" x=\"1206.27\" y=\"-233.5\" font-family=\"Helvetica,sans-Serif\" font-style=\"italic\" font-size=\"14.00\">DataFrame</text>\n</g>\n<!-- scaled_numeric_df&#45;&gt;data_set -->\n<g id=\"edge12\" class=\"edge\">\n<title>scaled_numeric_df&#45;&gt;data_set</title>\n<path fill=\"none\" stroke=\"black\" d=\"M1121.39,-149.04C1140.5,-166.27 1164.5,-187.79 1186.1,-206.8 1188.51,-208.92 1190.98,-211.09 1193.49,-213.27\"/>\n<polygon fill=\"black\" stroke=\"black\" points=\"1191.06,-215.8 1200.9,-219.73 1195.66,-210.52 1191.06,-215.8\"/>\n</g>\n<!-- categorical_df&#45;&gt;inference_set -->\n<g id=\"edge4\" class=\"edge\">\n<title>categorical_df&#45;&gt;inference_set</title>\n<path fill=\"none\" stroke=\"black\" d=\"M1141.69,-221.14C1152.77,-214.87 1164.47,-208.24 1175.79,-201.83\"/>\n<polygon fill=\"black\" stroke=\"black\" points=\"1177.31,-204.99 1184.29,-197.02 1173.86,-198.9 1177.31,-204.99\"/>\n</g>\n<!-- categorical_df&#45;&gt;data_set -->\n<g id=\"edge13\" class=\"edge\">\n<title>categorical_df&#45;&gt;data_set</title>\n<path fill=\"none\" stroke=\"black\" d=\"M1141.69,-252.8C1155.49,-252.8 1170.27,-252.8 1184.05,-252.8\"/>\n<polygon fill=\"black\" stroke=\"black\" points=\"1183.83,-256.3 1193.83,-252.8 1183.83,-249.3 1183.83,-256.3\"/>\n</g>\n<!-- family_size_data_type_validator -->\n<g id=\"node12\" class=\"node\">\n<title>family_size_data_type_validator</title>\n<path fill=\"#b4d8e4\" stroke=\"black\" d=\"M534.55,-289.6C534.55,-289.6 329.95,-289.6 329.95,-289.6 323.95,-289.6 317.95,-283.6 317.95,-277.6 317.95,-277.6 317.95,-238 317.95,-238 317.95,-232 323.95,-226 329.95,-226 329.95,-226 534.55,-226 534.55,-226 540.55,-226 546.55,-232 546.55,-238 546.55,-238 546.55,-277.6 546.55,-277.6 546.55,-283.6 540.55,-289.6 534.55,-289.6\"/>\n<text text-anchor=\"start\" x=\"328.75\" y=\"-266.5\" font-family=\"Helvetica,sans-Serif\" font-weight=\"bold\" font-size=\"14.00\">family_size_data_type_validator</text>\n<text text-anchor=\"start\" x=\"383.5\" y=\"-238.5\" font-family=\"Helvetica,sans-Serif\" font-style=\"italic\" font-size=\"14.00\">ValidationResult</text>\n</g>\n<!-- family_size_data_type_validator&#45;&gt;family_size -->\n<g id=\"edge2\" class=\"edge\">\n<title>family_size_data_type_validator&#45;&gt;family_size</title>\n<path fill=\"none\" stroke=\"black\" d=\"M546.78,-271.75C572.02,-274.85 597.75,-278.01 619.62,-280.69\"/>\n<polygon fill=\"black\" stroke=\"black\" points=\"619.17,-284.16 629.52,-281.91 620.02,-277.22 619.17,-284.16\"/>\n</g>\n<!-- knn_imputer -->\n<g id=\"node13\" class=\"node\">\n<title>knn_imputer</title>\n<path fill=\"#b4d8e4\" stroke=\"black\" d=\"M265.7,-542.6C265.7,-542.6 186.35,-542.6 186.35,-542.6 180.35,-542.6 174.35,-536.6 174.35,-530.6 174.35,-530.6 174.35,-491 174.35,-491 174.35,-485 180.35,-479 186.35,-479 186.35,-479 265.7,-479 265.7,-479 271.7,-479 277.7,-485 277.7,-491 277.7,-491 277.7,-530.6 277.7,-530.6 277.7,-536.6 271.7,-542.6 265.7,-542.6\"/>\n<text text-anchor=\"start\" x=\"185.15\" y=\"-519.5\" font-family=\"Helvetica,sans-Serif\" font-weight=\"bold\" font-size=\"14.00\">knn_imputer</text>\n<text text-anchor=\"start\" x=\"188.52\" y=\"-491.5\" font-family=\"Helvetica,sans-Serif\" font-style=\"italic\" font-size=\"14.00\">KNNImputer</text>\n</g>\n<!-- normalized_name -->\n<g id=\"node14\" class=\"node\">\n<title>normalized_name</title>\n<path fill=\"#b4d8e4\" stroke=\"black\" d=\"M735.02,-490.6C735.02,-490.6 621.92,-490.6 621.92,-490.6 615.92,-490.6 609.92,-484.6 609.92,-478.6 609.92,-478.6 609.92,-439 609.92,-439 609.92,-433 615.92,-427 621.92,-427 621.92,-427 735.02,-427 735.02,-427 741.02,-427 747.02,-433 747.02,-439 747.02,-439 747.02,-478.6 747.02,-478.6 747.02,-484.6 741.02,-490.6 735.02,-490.6\"/>\n<text text-anchor=\"start\" x=\"620.72\" y=\"-467.5\" font-family=\"Helvetica,sans-Serif\" font-weight=\"bold\" font-size=\"14.00\">normalized_name</text>\n<text text-anchor=\"start\" x=\"659.35\" y=\"-439.5\" font-family=\"Helvetica,sans-Serif\" font-style=\"italic\" font-size=\"14.00\">Series</text>\n</g>\n<!-- normalized_name&#45;&gt;title -->\n<g id=\"edge7\" class=\"edge\">\n<title>normalized_name&#45;&gt;title</title>\n<path fill=\"none\" stroke=\"black\" d=\"M747.38,-460.37C782.73,-461.18 824.79,-462.16 855.12,-462.86\"/>\n<polygon fill=\"black\" stroke=\"black\" points=\"854.94,-466.35 865.02,-463.09 855.1,-459.36 854.94,-466.35\"/>\n</g>\n<!-- knn_imputed_df&#45;&gt;scaled_numeric_df -->\n<g id=\"edge11\" class=\"edge\">\n<title>knn_imputed_df&#45;&gt;scaled_numeric_df</title>\n<path fill=\"none\" stroke=\"black\" d=\"M960.61,-114.81C973.54,-115.02 987.34,-115.24 1000.86,-115.46\"/>\n<polygon fill=\"black\" stroke=\"black\" points=\"1000.55,-118.96 1010.61,-115.62 1000.66,-111.96 1000.55,-118.96\"/>\n</g>\n<!-- fit_scaler -->\n<g id=\"node16\" class=\"node\">\n<title>fit_scaler</title>\n<path fill=\"#b4d8e4\" stroke=\"black\" d=\"M936.25,-63.6C936.25,-63.6 857.65,-63.6 857.65,-63.6 851.65,-63.6 845.65,-57.6 845.65,-51.6 845.65,-51.6 845.65,-12 845.65,-12 845.65,-6 851.65,0 857.65,0 857.65,0 936.25,0 936.25,0 942.25,0 948.25,-6 948.25,-12 948.25,-12 948.25,-51.6 948.25,-51.6 948.25,-57.6 942.25,-63.6 936.25,-63.6\"/>\n<text text-anchor=\"start\" x=\"867.32\" y=\"-40.5\" font-family=\"Helvetica,sans-Serif\" font-weight=\"bold\" font-size=\"14.00\">fit_scaler</text>\n<text text-anchor=\"start\" x=\"856.45\" y=\"-12.5\" font-family=\"Helvetica,sans-Serif\" font-style=\"italic\" font-size=\"14.00\">RobustScaler</text>\n</g>\n<!-- fit_scaler&#45;&gt;scaled_numeric_df -->\n<g id=\"edge10\" class=\"edge\">\n<title>fit_scaler&#45;&gt;scaled_numeric_df</title>\n<path fill=\"none\" stroke=\"black\" d=\"M948.73,-55.03C965.43,-62.66 984.43,-71.35 1002.8,-79.76\"/>\n<polygon fill=\"black\" stroke=\"black\" points=\"1001.3,-82.92 1011.85,-83.89 1004.21,-76.55 1001.3,-82.92\"/>\n</g>\n<!-- robust_scaler -->\n<g id=\"node17\" class=\"node\">\n<title>robust_scaler</title>\n<path fill=\"#b4d8e4\" stroke=\"black\" d=\"M110.1,-614.6C110.1,-614.6 24,-614.6 24,-614.6 18,-614.6 12,-608.6 12,-602.6 12,-602.6 12,-563 12,-563 12,-557 18,-551 24,-551 24,-551 110.1,-551 110.1,-551 116.1,-551 122.1,-557 122.1,-563 122.1,-563 122.1,-602.6 122.1,-602.6 122.1,-608.6 116.1,-614.6 110.1,-614.6\"/>\n<text text-anchor=\"start\" x=\"22.8\" y=\"-591.5\" font-family=\"Helvetica,sans-Serif\" font-weight=\"bold\" font-size=\"14.00\">robust_scaler</text>\n<text text-anchor=\"start\" x=\"26.55\" y=\"-563.5\" font-family=\"Helvetica,sans-Serif\" font-style=\"italic\" font-size=\"14.00\">RobustScaler</text>\n</g>\n<!-- rare_titles -->\n<g id=\"node18\" class=\"node\">\n<title>rare_titles</title>\n<path fill=\"#b4d8e4\" stroke=\"black\" d=\"M709.52,-572.6C709.52,-572.6 647.42,-572.6 647.42,-572.6 641.42,-572.6 635.42,-566.6 635.42,-560.6 635.42,-560.6 635.42,-521 635.42,-521 635.42,-515 641.42,-509 647.42,-509 647.42,-509 709.52,-509 709.52,-509 715.52,-509 721.52,-515 721.52,-521 721.52,-521 721.52,-560.6 721.52,-560.6 721.52,-566.6 715.52,-572.6 709.52,-572.6\"/>\n<text text-anchor=\"start\" x=\"646.22\" y=\"-549.5\" font-family=\"Helvetica,sans-Serif\" font-weight=\"bold\" font-size=\"14.00\">rare_titles</text>\n<text text-anchor=\"start\" x=\"668.35\" y=\"-521.5\" font-family=\"Helvetica,sans-Serif\" font-style=\"italic\" font-size=\"14.00\">Set</text>\n</g>\n<!-- rare_titles&#45;&gt;title -->\n<g id=\"edge8\" class=\"edge\">\n<title>rare_titles&#45;&gt;title</title>\n<path fill=\"none\" stroke=\"black\" d=\"M721.99,-525.68C760.87,-511.85 817.98,-491.53 856.03,-478\"/>\n<polygon fill=\"black\" stroke=\"black\" points=\"857.03,-481.36 865.28,-474.71 854.68,-474.76 857.03,-481.36\"/>\n</g>\n<!-- family_size_raw -->\n<g id=\"node19\" class=\"node\">\n<title>family_size_raw</title>\n<path fill=\"#b4d8e4\" stroke=\"black\" d=\"M276.95,-319.6C276.95,-319.6 175.1,-319.6 175.1,-319.6 169.1,-319.6 163.1,-313.6 163.1,-307.6 163.1,-307.6 163.1,-268 163.1,-268 163.1,-262 169.1,-256 175.1,-256 175.1,-256 276.95,-256 276.95,-256 282.95,-256 288.95,-262 288.95,-268 288.95,-268 288.95,-307.6 288.95,-307.6 288.95,-313.6 282.95,-319.6 276.95,-319.6\"/>\n<text text-anchor=\"start\" x=\"173.9\" y=\"-296.5\" font-family=\"Helvetica,sans-Serif\" font-weight=\"bold\" font-size=\"14.00\">family_size_raw</text>\n<text text-anchor=\"start\" x=\"206.9\" y=\"-268.5\" font-family=\"Helvetica,sans-Serif\" font-style=\"italic\" font-size=\"14.00\">Series</text>\n</g>\n<!-- family_size_raw&#45;&gt;family_size -->\n<g id=\"edge1\" class=\"edge\">\n<title>family_size_raw&#45;&gt;family_size</title>\n<path fill=\"none\" stroke=\"black\" d=\"M289.05,-296.31C298.71,-297.35 308.59,-298.24 317.95,-298.8 419.37,-304.91 445.04,-303.06 546.55,-298.8 570.53,-297.79 596.92,-295.76 619.68,-293.71\"/>\n<polygon fill=\"black\" stroke=\"black\" points=\"619.73,-297.22 629.37,-292.81 619.09,-290.25 619.73,-297.22\"/>\n</g>\n<!-- family_size_raw&#45;&gt;family_size_data_type_validator -->\n<g id=\"edge19\" class=\"edge\">\n<title>family_size_raw&#45;&gt;family_size_data_type_validator</title>\n<path fill=\"none\" stroke=\"black\" d=\"M289.41,-278.64C294.91,-277.83 300.6,-276.99 306.39,-276.14\"/>\n<polygon fill=\"black\" stroke=\"black\" points=\"306.75,-279.63 316.13,-274.71 305.73,-272.7 306.75,-279.63\"/>\n</g>\n<!-- _fit_knn_imputer_inputs -->\n<g id=\"node20\" class=\"node\">\n<title>_fit_knn_imputer_inputs</title>\n<polygon fill=\"none\" stroke=\"black\" stroke-dasharray=\"5,2\" points=\"511.92,-131.1 352.57,-131.1 352.57,-86.5 511.92,-86.5 511.92,-131.1\"/>\n<text text-anchor=\"start\" x=\"367.37\" y=\"-103\" font-family=\"Helvetica,sans-Serif\" font-size=\"14.00\">knn_imputer_path</text>\n<text text-anchor=\"start\" x=\"482.12\" y=\"-103\" font-family=\"Helvetica,sans-Serif\" font-size=\"14.00\">str</text>\n</g>\n<!-- _fit_knn_imputer_inputs&#45;&gt;fit_knn_imputer -->\n<g id=\"edge5\" class=\"edge\">\n<title>_fit_knn_imputer_inputs&#45;&gt;fit_knn_imputer</title>\n<path fill=\"none\" stroke=\"black\" d=\"M512.21,-108.8C541.98,-108.8 575.68,-108.8 604.85,-108.8\"/>\n<polygon fill=\"black\" stroke=\"black\" points=\"604.69,-112.3 614.69,-108.8 604.69,-105.3 604.69,-112.3\"/>\n</g>\n<!-- _fit_categorical_encoder_inputs -->\n<g id=\"node21\" class=\"node\">\n<title>_fit_categorical_encoder_inputs</title>\n<polygon fill=\"none\" stroke=\"black\" stroke-dasharray=\"5,2\" points=\"781.4,-404.1 575.55,-404.1 575.55,-359.5 781.4,-359.5 781.4,-404.1\"/>\n<text text-anchor=\"start\" x=\"590.35\" y=\"-376\" font-family=\"Helvetica,sans-Serif\" font-size=\"14.00\">categorical_encoder_path</text>\n<text text-anchor=\"start\" x=\"751.6\" y=\"-376\" font-family=\"Helvetica,sans-Serif\" font-size=\"14.00\">str</text>\n</g>\n<!-- _fit_categorical_encoder_inputs&#45;&gt;fit_categorical_encoder -->\n<g id=\"edge9\" class=\"edge\">\n<title>_fit_categorical_encoder_inputs&#45;&gt;fit_categorical_encoder</title>\n<path fill=\"none\" stroke=\"black\" d=\"M781.69,-381.8C787.35,-381.8 793.02,-381.8 798.66,-381.8\"/>\n<polygon fill=\"black\" stroke=\"black\" points=\"798.64,-385.3 808.64,-381.8 798.64,-378.3 798.64,-385.3\"/>\n</g>\n<!-- _data_set_inputs -->\n<g id=\"node22\" class=\"node\">\n<title>_data_set_inputs</title>\n<polygon fill=\"none\" stroke=\"black\" stroke-dasharray=\"5,2\" points=\"1138.97,-347.1 1030.62,-347.1 1030.62,-302.5 1138.97,-302.5 1138.97,-347.1\"/>\n<text text-anchor=\"start\" x=\"1045.42\" y=\"-319\" font-family=\"Helvetica,sans-Serif\" font-size=\"14.00\">target</text>\n<text text-anchor=\"start\" x=\"1085.92\" y=\"-319\" font-family=\"Helvetica,sans-Serif\" font-size=\"14.00\">Series</text>\n</g>\n<!-- _data_set_inputs&#45;&gt;data_set -->\n<g id=\"edge14\" class=\"edge\">\n<title>_data_set_inputs&#45;&gt;data_set</title>\n<path fill=\"none\" stroke=\"black\" d=\"M1138.89,-302.08C1145.05,-299.34 1151.23,-296.54 1157.1,-293.8 1166.14,-289.59 1175.67,-284.99 1184.91,-280.44\"/>\n<polygon fill=\"black\" stroke=\"black\" points=\"1186.42,-283.6 1193.83,-276.03 1183.31,-277.33 1186.42,-283.6\"/>\n</g>\n<!-- _categorical_df_inputs -->\n<g id=\"node23\" class=\"node\">\n<title>_categorical_df_inputs</title>\n<polygon fill=\"none\" stroke=\"black\" stroke-dasharray=\"5,2\" points=\"963.75,-250.1 830.15,-250.1 830.15,-163.5 963.75,-163.5 963.75,-250.1\"/>\n<text text-anchor=\"start\" x=\"844.57\" y=\"-222\" font-family=\"Helvetica,sans-Serif\" font-size=\"14.00\">embarked</text>\n<text text-anchor=\"start\" x=\"910.82\" y=\"-222\" font-family=\"Helvetica,sans-Serif\" font-size=\"14.00\">Series</text>\n<text text-anchor=\"start\" x=\"855.82\" y=\"-201\" font-family=\"Helvetica,sans-Serif\" font-size=\"14.00\">pclass</text>\n<text text-anchor=\"start\" x=\"910.82\" y=\"-201\" font-family=\"Helvetica,sans-Serif\" font-size=\"14.00\">Series</text>\n<text text-anchor=\"start\" x=\"864.45\" y=\"-180\" font-family=\"Helvetica,sans-Serif\" font-size=\"14.00\">sex</text>\n<text text-anchor=\"start\" x=\"910.82\" y=\"-180\" font-family=\"Helvetica,sans-Serif\" font-size=\"14.00\">Series</text>\n</g>\n<!-- _categorical_df_inputs&#45;&gt;categorical_df -->\n<g id=\"edge18\" class=\"edge\">\n<title>_categorical_df_inputs&#45;&gt;categorical_df</title>\n<path fill=\"none\" stroke=\"black\" d=\"M964,-223.15C981.11,-227.38 999.56,-231.95 1016.73,-236.2\"/>\n<polygon fill=\"black\" stroke=\"black\" points=\"1015.79,-239.57 1026.33,-238.58 1017.47,-232.78 1015.79,-239.57\"/>\n</g>\n<!-- _knn_imputer_inputs -->\n<g id=\"node24\" class=\"node\">\n<title>_knn_imputer_inputs</title>\n<polygon fill=\"none\" stroke=\"black\" stroke-dasharray=\"5,2\" points=\"129.1,-533.1 5,-533.1 5,-488.5 129.1,-488.5 129.1,-533.1\"/>\n<text text-anchor=\"start\" x=\"19.8\" y=\"-505\" font-family=\"Helvetica,sans-Serif\" font-size=\"14.00\">n_neighbors</text>\n<text text-anchor=\"start\" x=\"100.05\" y=\"-505\" font-family=\"Helvetica,sans-Serif\" font-size=\"14.00\">int</text>\n</g>\n<!-- _knn_imputer_inputs&#45;&gt;knn_imputer -->\n<g id=\"edge20\" class=\"edge\">\n<title>_knn_imputer_inputs&#45;&gt;knn_imputer</title>\n<path fill=\"none\" stroke=\"black\" d=\"M129.19,-510.8C140.18,-510.8 151.65,-510.8 162.67,-510.8\"/>\n<polygon fill=\"black\" stroke=\"black\" points=\"162.44,-514.3 172.44,-510.8 162.44,-507.3 162.44,-514.3\"/>\n</g>\n<!-- _normalized_name_inputs -->\n<g id=\"node25\" class=\"node\">\n<title>_normalized_name_inputs</title>\n<polygon fill=\"none\" stroke=\"black\" stroke-dasharray=\"5,2\" points=\"486.42,-481.1 378.07,-481.1 378.07,-436.5 486.42,-436.5 486.42,-481.1\"/>\n<text text-anchor=\"start\" x=\"392.87\" y=\"-453\" font-family=\"Helvetica,sans-Serif\" font-size=\"14.00\">name</text>\n<text text-anchor=\"start\" x=\"433.37\" y=\"-453\" font-family=\"Helvetica,sans-Serif\" font-size=\"14.00\">Series</text>\n</g>\n<!-- _normalized_name_inputs&#45;&gt;normalized_name -->\n<g id=\"edge21\" class=\"edge\">\n<title>_normalized_name_inputs&#45;&gt;normalized_name</title>\n<path fill=\"none\" stroke=\"black\" d=\"M486.85,-458.8C519.55,-458.8 561.95,-458.8 598.45,-458.8\"/>\n<polygon fill=\"black\" stroke=\"black\" points=\"598.06,-462.3 608.06,-458.8 598.06,-455.3 598.06,-462.3\"/>\n</g>\n<!-- _knn_imputed_df_inputs -->\n<g id=\"node26\" class=\"node\">\n<title>_knn_imputed_df_inputs</title>\n<polygon fill=\"none\" stroke=\"black\" stroke-dasharray=\"5,2\" points=\"726.77,-224.6 630.17,-224.6 630.17,-159 726.77,-159 726.77,-224.6\"/>\n<text text-anchor=\"start\" x=\"645.22\" y=\"-196.5\" font-family=\"Helvetica,sans-Serif\" font-size=\"14.00\">age</text>\n<text text-anchor=\"start\" x=\"673.85\" y=\"-196.5\" font-family=\"Helvetica,sans-Serif\" font-size=\"14.00\">Series</text>\n<text text-anchor=\"start\" x=\"644.85\" y=\"-175.5\" font-family=\"Helvetica,sans-Serif\" font-size=\"14.00\">fare</text>\n<text text-anchor=\"start\" x=\"673.85\" y=\"-175.5\" font-family=\"Helvetica,sans-Serif\" font-size=\"14.00\">Series</text>\n</g>\n<!-- _knn_imputed_df_inputs&#45;&gt;knn_imputed_df -->\n<g id=\"edge24\" class=\"edge\">\n<title>_knn_imputed_df_inputs&#45;&gt;knn_imputed_df</title>\n<path fill=\"none\" stroke=\"black\" d=\"M727.25,-174.59C755.33,-164.47 791.4,-151.47 822.97,-140.09\"/>\n<polygon fill=\"black\" stroke=\"black\" points=\"823.85,-143.5 832.07,-136.82 821.47,-136.91 823.85,-143.5\"/>\n</g>\n<!-- _fit_scaler_inputs -->\n<g id=\"node27\" class=\"node\">\n<title>_fit_scaler_inputs</title>\n<polygon fill=\"none\" stroke=\"black\" stroke-dasharray=\"5,2\" points=\"738.65,-54.1 618.3,-54.1 618.3,-9.5 738.65,-9.5 738.65,-54.1\"/>\n<text text-anchor=\"start\" x=\"633.1\" y=\"-26\" font-family=\"Helvetica,sans-Serif\" font-size=\"14.00\">scaler_path</text>\n<text text-anchor=\"start\" x=\"708.85\" y=\"-26\" font-family=\"Helvetica,sans-Serif\" font-size=\"14.00\">str</text>\n</g>\n<!-- _fit_scaler_inputs&#45;&gt;fit_scaler -->\n<g id=\"edge25\" class=\"edge\">\n<title>_fit_scaler_inputs&#45;&gt;fit_scaler</title>\n<path fill=\"none\" stroke=\"black\" d=\"M738.91,-31.8C768.55,-31.8 804.35,-31.8 834.29,-31.8\"/>\n<polygon fill=\"black\" stroke=\"black\" points=\"833.93,-35.3 843.93,-31.8 833.93,-28.3 833.93,-35.3\"/>\n</g>\n<!-- _family_size_raw_inputs -->\n<g id=\"node28\" class=\"node\">\n<title>_family_size_raw_inputs</title>\n<polygon fill=\"none\" stroke=\"black\" stroke-dasharray=\"5,2\" points=\"120.35,-320.6 13.75,-320.6 13.75,-255 120.35,-255 120.35,-320.6\"/>\n<text text-anchor=\"start\" x=\"28.17\" y=\"-292.5\" font-family=\"Helvetica,sans-Serif\" font-size=\"14.00\">parch</text>\n<text text-anchor=\"start\" x=\"67.42\" y=\"-292.5\" font-family=\"Helvetica,sans-Serif\" font-size=\"14.00\">Series</text>\n<text text-anchor=\"start\" x=\"29.3\" y=\"-271.5\" font-family=\"Helvetica,sans-Serif\" font-size=\"14.00\">sibsp</text>\n<text text-anchor=\"start\" x=\"67.42\" y=\"-271.5\" font-family=\"Helvetica,sans-Serif\" font-size=\"14.00\">Series</text>\n</g>\n<!-- _family_size_raw_inputs&#45;&gt;family_size_raw -->\n<g id=\"edge26\" class=\"edge\">\n<title>_family_size_raw_inputs&#45;&gt;family_size_raw</title>\n<path fill=\"none\" stroke=\"black\" d=\"M120.76,-287.8C130.53,-287.8 140.9,-287.8 151.17,-287.8\"/>\n<polygon fill=\"black\" stroke=\"black\" points=\"151.16,-291.3 161.16,-287.8 151.16,-284.3 151.16,-291.3\"/>\n</g>\n</g>\n</svg>\n",
      "text/plain": "<graphviz.graphs.Digraph at 0x146956e00>"
     },
     "execution_count": 27,
     "metadata": {},
     "output_type": "execute_result"
    }
   ],
   "source": [
    "config = {\"model_to_use\": \"use_existing\"}\n",
    "dr = (\n",
    "        driver.Builder()\n",
    "        .with_modules(features)\n",
    "        .with_config(config)\n",
    "        .build()\n",
    "    )\n",
    "\n",
    "dr.display_all_functions(orient=\"LR\", show_legend=False)\n",
    "# dr.execute([\"inference_set\"])  # will error and say what's required"
   ]
  },
  {
   "cell_type": "code",
   "execution_count": 28,
   "metadata": {
    "ExecuteTime": {
     "end_time": "2024-02-09T06:55:27.361977Z",
     "start_time": "2024-02-09T06:55:27.346659Z"
    }
   },
   "outputs": [
    {
     "data": {
      "text/plain": "[('embarked', pandas.core.series.Series),\n ('sex', pandas.core.series.Series),\n ('pclass', pandas.core.series.Series),\n ('target', pandas.core.series.Series),\n ('parch', pandas.core.series.Series),\n ('sibsp', pandas.core.series.Series),\n ('categorical_encoder_path', str),\n ('knn_imputer_path', str),\n ('scaler_path', str),\n ('age', pandas.core.series.Series),\n ('fare', pandas.core.series.Series),\n ('n_neighbors', int),\n ('name', pandas.core.series.Series),\n ('model_to_use', typing.Any)]"
     },
     "execution_count": 28,
     "metadata": {},
     "output_type": "execute_result"
    }
   ],
   "source": [
    "# what we need to provide:\n",
    "vars = dr.list_available_variables()\n",
    "[(var.name, var.type) for var in vars if var.is_external_input]"
   ]
  },
  {
   "cell_type": "markdown",
   "metadata": {},
   "source": [
    "So in our webservice, we just either:\n",
    "\n",
    "(a) need to provide the required inputs via the request.\n",
    "\n",
    "(b) or write a module that goes to to feature store to get them for Hamilton to execute.\n",
    "\n",
    "(c) some mixture of (a) & (b)."
   ]
  },
  {
   "cell_type": "markdown",
   "metadata": {},
   "source": [
    "# Ad hoc Utils\n",
    "If you really can't use modules, then you can create one ad-hoc!"
   ]
  },
  {
   "cell_type": "code",
   "execution_count": 29,
   "metadata": {
    "ExecuteTime": {
     "end_time": "2024-02-09T06:55:30.262609Z",
     "start_time": "2024-02-09T06:55:29.964221Z"
    }
   },
   "outputs": [
    {
     "data": {
      "image/svg+xml": "<?xml version=\"1.0\" encoding=\"UTF-8\" standalone=\"no\"?>\n<!DOCTYPE svg PUBLIC \"-//W3C//DTD SVG 1.1//EN\"\n \"http://www.w3.org/Graphics/SVG/1.1/DTD/svg11.dtd\">\n<!-- Generated by graphviz version 9.0.0 (20230911.1827)\n -->\n<!-- Pages: 1 -->\n<svg width=\"431pt\" height=\"328pt\"\n viewBox=\"0.00 0.00 430.55 328.30\" xmlns=\"http://www.w3.org/2000/svg\" xmlns:xlink=\"http://www.w3.org/1999/xlink\">\n<g id=\"graph0\" class=\"graph\" transform=\"scale(1 1) rotate(0) translate(4 324.3)\">\n<polygon fill=\"white\" stroke=\"none\" points=\"-4,4 -4,-324.3 426.55,-324.3 426.55,4 -4,4\"/>\n<g id=\"clust1\" class=\"cluster\">\n<title>cluster__legend</title>\n<polygon fill=\"none\" stroke=\"black\" points=\"12.88,-127.3 12.88,-312.3 97.73,-312.3 97.73,-127.3 12.88,-127.3\"/>\n<text text-anchor=\"middle\" x=\"55.3\" y=\"-295\" font-family=\"Helvetica,sans-Serif\" font-size=\"14.00\">Legend</text>\n</g>\n<!-- acquisition_cost -->\n<g id=\"node1\" class=\"node\">\n<title>acquisition_cost</title>\n<path fill=\"#ffc857\" stroke=\"black\" d=\"M410.55,-90.1C410.55,-90.1 306.45,-90.1 306.45,-90.1 300.45,-90.1 294.45,-84.1 294.45,-78.1 294.45,-78.1 294.45,-38.5 294.45,-38.5 294.45,-32.5 300.45,-26.5 306.45,-26.5 306.45,-26.5 410.55,-26.5 410.55,-26.5 416.55,-26.5 422.55,-32.5 422.55,-38.5 422.55,-38.5 422.55,-78.1 422.55,-78.1 422.55,-84.1 416.55,-90.1 410.55,-90.1\"/>\n<text text-anchor=\"start\" x=\"305.25\" y=\"-67\" font-family=\"Helvetica,sans-Serif\" font-weight=\"bold\" font-size=\"14.00\">acquisition_cost</text>\n<text text-anchor=\"start\" x=\"339.38\" y=\"-39\" font-family=\"Helvetica,sans-Serif\" font-style=\"italic\" font-size=\"14.00\">Series</text>\n</g>\n<!-- avg_3wk_spend -->\n<g id=\"node2\" class=\"node\">\n<title>avg_3wk_spend</title>\n<path fill=\"#ffc857\" stroke=\"black\" d=\"M253.45,-126.1C253.45,-126.1 151.6,-126.1 151.6,-126.1 145.6,-126.1 139.6,-120.1 139.6,-114.1 139.6,-114.1 139.6,-74.5 139.6,-74.5 139.6,-68.5 145.6,-62.5 151.6,-62.5 151.6,-62.5 253.45,-62.5 253.45,-62.5 259.45,-62.5 265.45,-68.5 265.45,-74.5 265.45,-74.5 265.45,-114.1 265.45,-114.1 265.45,-120.1 259.45,-126.1 253.45,-126.1\"/>\n<text text-anchor=\"start\" x=\"150.4\" y=\"-103\" font-family=\"Helvetica,sans-Serif\" font-weight=\"bold\" font-size=\"14.00\">avg_3wk_spend</text>\n<text text-anchor=\"start\" x=\"183.4\" y=\"-75\" font-family=\"Helvetica,sans-Serif\" font-style=\"italic\" font-size=\"14.00\">Series</text>\n</g>\n<!-- avg_3wk_spend&#45;&gt;acquisition_cost -->\n<g id=\"edge1\" class=\"edge\">\n<title>avg_3wk_spend&#45;&gt;acquisition_cost</title>\n<path fill=\"none\" stroke=\"black\" d=\"M265.71,-79.76C271.41,-78.43 277.21,-77.07 283,-75.72\"/>\n<polygon fill=\"black\" stroke=\"black\" points=\"283.67,-79.16 292.61,-73.47 282.07,-72.34 283.67,-79.16\"/>\n</g>\n<!-- _acquisition_cost_inputs -->\n<g id=\"node3\" class=\"node\">\n<title>_acquisition_cost_inputs</title>\n<polygon fill=\"none\" stroke=\"black\" stroke-dasharray=\"5,2\" points=\"262.7,-44.6 142.35,-44.6 142.35,0 262.7,0 262.7,-44.6\"/>\n<text text-anchor=\"start\" x=\"157.15\" y=\"-16.5\" font-family=\"Helvetica,sans-Serif\" font-size=\"14.00\">signups</text>\n<text text-anchor=\"start\" x=\"209.65\" y=\"-16.5\" font-family=\"Helvetica,sans-Serif\" font-size=\"14.00\">Series</text>\n</g>\n<!-- _acquisition_cost_inputs&#45;&gt;acquisition_cost -->\n<g id=\"edge2\" class=\"edge\">\n<title>_acquisition_cost_inputs&#45;&gt;acquisition_cost</title>\n<path fill=\"none\" stroke=\"black\" d=\"M263.06,-36.22C269.56,-37.74 276.24,-39.3 282.9,-40.86\"/>\n<polygon fill=\"black\" stroke=\"black\" points=\"282.04,-44.25 292.57,-43.12 283.63,-37.43 282.04,-44.25\"/>\n</g>\n<!-- _avg_3wk_spend_inputs -->\n<g id=\"node4\" class=\"node\">\n<title>_avg_3wk_spend_inputs</title>\n<polygon fill=\"none\" stroke=\"black\" stroke-dasharray=\"5,2\" points=\"110.6,-116.6 0,-116.6 0,-72 110.6,-72 110.6,-116.6\"/>\n<text text-anchor=\"start\" x=\"14.8\" y=\"-88.5\" font-family=\"Helvetica,sans-Serif\" font-size=\"14.00\">spend</text>\n<text text-anchor=\"start\" x=\"57.55\" y=\"-88.5\" font-family=\"Helvetica,sans-Serif\" font-size=\"14.00\">Series</text>\n</g>\n<!-- _avg_3wk_spend_inputs&#45;&gt;avg_3wk_spend -->\n<g id=\"edge3\" class=\"edge\">\n<title>_avg_3wk_spend_inputs&#45;&gt;avg_3wk_spend</title>\n<path fill=\"none\" stroke=\"black\" d=\"M110.79,-94.3C116.48,-94.3 122.33,-94.3 128.18,-94.3\"/>\n<polygon fill=\"black\" stroke=\"black\" points=\"127.89,-97.8 137.89,-94.3 127.89,-90.8 127.89,-97.8\"/>\n</g>\n<!-- input -->\n<g id=\"node5\" class=\"node\">\n<title>input</title>\n<polygon fill=\"none\" stroke=\"black\" stroke-dasharray=\"5,2\" points=\"82.3,-281.6 28.3,-281.6 28.3,-245 82.3,-245 82.3,-281.6\"/>\n<text text-anchor=\"middle\" x=\"55.3\" y=\"-257.5\" font-family=\"Helvetica,sans-Serif\" font-size=\"14.00\">input</text>\n</g>\n<!-- function -->\n<g id=\"node6\" class=\"node\">\n<title>function</title>\n<path fill=\"#b4d8e4\" stroke=\"black\" d=\"M77.73,-226.6C77.73,-226.6 32.88,-226.6 32.88,-226.6 26.88,-226.6 20.88,-220.6 20.88,-214.6 20.88,-214.6 20.88,-202 20.88,-202 20.88,-196 26.88,-190 32.88,-190 32.88,-190 77.73,-190 77.73,-190 83.72,-190 89.73,-196 89.73,-202 89.73,-202 89.73,-214.6 89.73,-214.6 89.73,-220.6 83.73,-226.6 77.73,-226.6\"/>\n<text text-anchor=\"middle\" x=\"55.3\" y=\"-202.5\" font-family=\"Helvetica,sans-Serif\" font-size=\"14.00\">function</text>\n</g>\n<!-- output -->\n<g id=\"node7\" class=\"node\">\n<title>output</title>\n<path fill=\"#ffc857\" stroke=\"black\" d=\"M72.85,-171.6C72.85,-171.6 37.75,-171.6 37.75,-171.6 31.75,-171.6 25.75,-165.6 25.75,-159.6 25.75,-159.6 25.75,-147 25.75,-147 25.75,-141 31.75,-135 37.75,-135 37.75,-135 72.85,-135 72.85,-135 78.85,-135 84.85,-141 84.85,-147 84.85,-147 84.85,-159.6 84.85,-159.6 84.85,-165.6 78.85,-171.6 72.85,-171.6\"/>\n<text text-anchor=\"middle\" x=\"55.3\" y=\"-147.5\" font-family=\"Helvetica,sans-Serif\" font-size=\"14.00\">output</text>\n</g>\n</g>\n</svg>\n",
      "text/plain": "<graphviz.graphs.Digraph at 0x146819ea0>"
     },
     "execution_count": 29,
     "metadata": {},
     "output_type": "execute_result"
    }
   ],
   "source": [
    "from hamilton import ad_hoc_utils\n",
    "\n",
    "def avg_3wk_spend(spend: pd.Series) -> pd.Series:\n",
    "    \"\"\"Rolling 3 week average spend.\"\"\"\n",
    "    return spend.rolling(3).mean()\n",
    "\n",
    "def acquisition_cost(avg_3wk_spend: pd.Series, signups: pd.Series) -> pd.Series:\n",
    "    \"\"\"The cost per signup in relation to a rolling average of spend.\"\"\"\n",
    "    return avg_3wk_spend / signups\n",
    "\n",
    "# Instantiate a common spine for your pipeline\n",
    "index = pd.date_range(\"2022-01-01\", periods=6, freq=\"w\")\n",
    "initial_columns = {  # load from actuals or wherever -- this is our initial data we use as input.\n",
    "    # Note: these do not have to be all series, they could be scalar inputs.\n",
    "    'signups': pd.Series([1, 10, 50, 100, 200, 400], index=index),\n",
    "    'spend': pd.Series([10, 10, 20, 40, 40, 50], index=index),\n",
    "}\n",
    "# we need to tell hamilton where to load function definitions from\n",
    "config = {} # we don't have any configuration or invariant data for this example.\n",
    "\n",
    "temp_module = ad_hoc_utils.create_temporary_module(\n",
    "     avg_3wk_spend, acquisition_cost)\n",
    "dr_ = driver.Driver(config, temp_module)  # can pass in multiple modules\n",
    "# we need to specify what we want in the final dataframe.\n",
    "output_columns = [\n",
    "    'spend',\n",
    "    'signups',\n",
    "    'avg_3wk_spend',\n",
    "    'acquisition_cost',\n",
    "]\n",
    "# let's create the dataframe!\n",
    "df = dr_.execute(output_columns, inputs=initial_columns)\n",
    "# `pip install sf-hamilton[visualization]` earlier you can also do\n",
    "dr_.visualize_execution(\n",
    "    final_vars=output_columns,\n",
    "    inputs=initial_columns\n",
    "    )"
   ]
  },
  {
   "cell_type": "code",
   "execution_count": 30,
   "metadata": {
    "ExecuteTime": {
     "end_time": "2024-02-09T06:55:31.685244Z",
     "start_time": "2024-02-09T06:55:31.407957Z"
    }
   },
   "outputs": [
    {
     "data": {
      "image/svg+xml": "<?xml version=\"1.0\" encoding=\"UTF-8\" standalone=\"no\"?>\n<!DOCTYPE svg PUBLIC \"-//W3C//DTD SVG 1.1//EN\"\n \"http://www.w3.org/Graphics/SVG/1.1/DTD/svg11.dtd\">\n<!-- Generated by graphviz version 9.0.0 (20230911.1827)\n -->\n<!-- Pages: 1 -->\n<svg width=\"797pt\" height=\"387pt\"\n viewBox=\"0.00 0.00 797.25 386.80\" xmlns=\"http://www.w3.org/2000/svg\" xmlns:xlink=\"http://www.w3.org/1999/xlink\">\n<g id=\"graph0\" class=\"graph\" transform=\"scale(1 1) rotate(0) translate(4 382.8)\">\n<polygon fill=\"white\" stroke=\"none\" points=\"-4,4 -4,-382.8 793.25,-382.8 793.25,4 -4,4\"/>\n<g id=\"clust1\" class=\"cluster\">\n<title>cluster__legend</title>\n<polygon fill=\"none\" stroke=\"black\" points=\"8,-126.8 8,-370.8 116.1,-370.8 116.1,-126.8 8,-126.8\"/>\n<text text-anchor=\"middle\" x=\"62.05\" y=\"-353.5\" font-family=\"Helvetica,sans-Serif\" font-size=\"14.00\">Legend</text>\n</g>\n<!-- acquisition_cost -->\n<g id=\"node1\" class=\"node\">\n<title>acquisition_cost</title>\n<path fill=\"#b4d8e4\" stroke=\"black\" d=\"M417.3,-185.6C417.3,-185.6 313.2,-185.6 313.2,-185.6 307.2,-185.6 301.2,-179.6 301.2,-173.6 301.2,-173.6 301.2,-134 301.2,-134 301.2,-128 307.2,-122 313.2,-122 313.2,-122 417.3,-122 417.3,-122 423.3,-122 429.3,-128 429.3,-134 429.3,-134 429.3,-173.6 429.3,-173.6 429.3,-179.6 423.3,-185.6 417.3,-185.6\"/>\n<text text-anchor=\"start\" x=\"312\" y=\"-162.5\" font-family=\"Helvetica,sans-Serif\" font-weight=\"bold\" font-size=\"14.00\">acquisition_cost</text>\n<text text-anchor=\"start\" x=\"346.12\" y=\"-134.5\" font-family=\"Helvetica,sans-Serif\" font-style=\"italic\" font-size=\"14.00\">Series</text>\n</g>\n<!-- example_df_build_result -->\n<g id=\"node2\" class=\"node\">\n<title>example_df_build_result</title>\n<path fill=\"#b4d8e4\" stroke=\"black\" d=\"M626.9,-125.6C626.9,-125.6 470.3,-125.6 470.3,-125.6 464.3,-125.6 458.3,-119.6 458.3,-113.6 458.3,-113.6 458.3,-74 458.3,-74 458.3,-68 464.3,-62 470.3,-62 470.3,-62 626.9,-62 626.9,-62 632.9,-62 638.9,-68 638.9,-74 638.9,-74 638.9,-113.6 638.9,-113.6 638.9,-119.6 632.9,-125.6 626.9,-125.6\"/>\n<text text-anchor=\"start\" x=\"469.1\" y=\"-102.5\" font-family=\"Helvetica,sans-Serif\" font-weight=\"bold\" font-size=\"14.00\">example_df_build_result</text>\n<text text-anchor=\"start\" x=\"514.48\" y=\"-74.5\" font-family=\"Helvetica,sans-Serif\" font-style=\"italic\" font-size=\"14.00\">DataFrame</text>\n</g>\n<!-- acquisition_cost&#45;&gt;example_df_build_result -->\n<g id=\"edge4\" class=\"edge\">\n<title>acquisition_cost&#45;&gt;example_df_build_result</title>\n<path fill=\"none\" stroke=\"black\" d=\"M429.68,-132.81C435.42,-130.91 441.33,-128.96 447.29,-126.99\"/>\n<polygon fill=\"black\" stroke=\"black\" points=\"448.23,-130.36 456.63,-123.9 446.03,-123.72 448.23,-130.36\"/>\n</g>\n<!-- example_df -->\n<g id=\"node4\" class=\"node\">\n<title>example_df</title>\n<path fill=\"#ffc857\" stroke=\"black\" d=\"M789.25,-129.57C789.25,-133.96 762.05,-137.52 728.58,-137.52 695.1,-137.52 667.9,-133.96 667.9,-129.57 667.9,-129.57 667.9,-58.03 667.9,-58.03 667.9,-53.64 695.1,-50.08 728.58,-50.08 762.05,-50.08 789.25,-53.64 789.25,-58.03 789.25,-58.03 789.25,-129.57 789.25,-129.57\"/>\n<path fill=\"none\" stroke=\"black\" d=\"M789.25,-129.57C789.25,-125.19 762.05,-121.62 728.58,-121.62 695.1,-121.62 667.9,-125.19 667.9,-129.57\"/>\n<text text-anchor=\"start\" x=\"691.08\" y=\"-102.5\" font-family=\"Helvetica,sans-Serif\" font-weight=\"bold\" font-size=\"14.00\">example_df</text>\n<text text-anchor=\"start\" x=\"678.7\" y=\"-74.5\" font-family=\"Helvetica,sans-Serif\" font-style=\"italic\" font-size=\"14.00\">InMemoryResult</text>\n</g>\n<!-- example_df_build_result&#45;&gt;example_df -->\n<g id=\"edge7\" class=\"edge\">\n<title>example_df_build_result&#45;&gt;example_df</title>\n<path fill=\"none\" stroke=\"black\" d=\"M639.37,-93.8C645.01,-93.8 650.65,-93.8 656.19,-93.8\"/>\n<polygon fill=\"black\" stroke=\"black\" points=\"655.9,-97.3 665.9,-93.8 655.9,-90.3 655.9,-97.3\"/>\n</g>\n<!-- avg_3wk_spend -->\n<g id=\"node3\" class=\"node\">\n<title>avg_3wk_spend</title>\n<path fill=\"#b4d8e4\" stroke=\"black\" d=\"M260.2,-125.6C260.2,-125.6 158.35,-125.6 158.35,-125.6 152.35,-125.6 146.35,-119.6 146.35,-113.6 146.35,-113.6 146.35,-74 146.35,-74 146.35,-68 152.35,-62 158.35,-62 158.35,-62 260.2,-62 260.2,-62 266.2,-62 272.2,-68 272.2,-74 272.2,-74 272.2,-113.6 272.2,-113.6 272.2,-119.6 266.2,-125.6 260.2,-125.6\"/>\n<text text-anchor=\"start\" x=\"157.15\" y=\"-102.5\" font-family=\"Helvetica,sans-Serif\" font-weight=\"bold\" font-size=\"14.00\">avg_3wk_spend</text>\n<text text-anchor=\"start\" x=\"190.15\" y=\"-74.5\" font-family=\"Helvetica,sans-Serif\" font-style=\"italic\" font-size=\"14.00\">Series</text>\n</g>\n<!-- avg_3wk_spend&#45;&gt;acquisition_cost -->\n<g id=\"edge1\" class=\"edge\">\n<title>avg_3wk_spend&#45;&gt;acquisition_cost</title>\n<path fill=\"none\" stroke=\"black\" d=\"M272.46,-118.03C278.3,-120.31 284.26,-122.63 290.2,-124.94\"/>\n<polygon fill=\"black\" stroke=\"black\" points=\"288.83,-128.17 299.42,-128.54 291.37,-121.65 288.83,-128.17\"/>\n</g>\n<!-- avg_3wk_spend&#45;&gt;example_df_build_result -->\n<g id=\"edge3\" class=\"edge\">\n<title>avg_3wk_spend&#45;&gt;example_df_build_result</title>\n<path fill=\"none\" stroke=\"black\" d=\"M272.54,-93.8C321.25,-93.8 389.97,-93.8 446.54,-93.8\"/>\n<polygon fill=\"black\" stroke=\"black\" points=\"446.53,-97.3 456.53,-93.8 446.53,-90.3 446.53,-97.3\"/>\n</g>\n<!-- _acquisition_cost_inputs -->\n<g id=\"node5\" class=\"node\">\n<title>_acquisition_cost_inputs</title>\n<polygon fill=\"none\" stroke=\"black\" stroke-dasharray=\"5,2\" points=\"269.45,-188.1 149.1,-188.1 149.1,-143.5 269.45,-143.5 269.45,-188.1\"/>\n<text text-anchor=\"start\" x=\"163.9\" y=\"-160\" font-family=\"Helvetica,sans-Serif\" font-size=\"14.00\">signups</text>\n<text text-anchor=\"start\" x=\"216.4\" y=\"-160\" font-family=\"Helvetica,sans-Serif\" font-size=\"14.00\">Series</text>\n</g>\n<!-- _acquisition_cost_inputs&#45;&gt;acquisition_cost -->\n<g id=\"edge2\" class=\"edge\">\n<title>_acquisition_cost_inputs&#45;&gt;acquisition_cost</title>\n<path fill=\"none\" stroke=\"black\" d=\"M269.81,-161.16C276.31,-160.65 282.99,-160.13 289.65,-159.61\"/>\n<polygon fill=\"black\" stroke=\"black\" points=\"289.59,-163.13 299.29,-158.86 289.05,-156.15 289.59,-163.13\"/>\n</g>\n<!-- _example_df_build_result_inputs -->\n<g id=\"node6\" class=\"node\">\n<title>_example_df_build_result_inputs</title>\n<polygon fill=\"none\" stroke=\"black\" stroke-dasharray=\"5,2\" points=\"425.05,-65.6 305.45,-65.6 305.45,0 425.05,0 425.05,-65.6\"/>\n<text text-anchor=\"start\" x=\"320\" y=\"-37.5\" font-family=\"Helvetica,sans-Serif\" font-size=\"14.00\">signups</text>\n<text text-anchor=\"start\" x=\"372.12\" y=\"-37.5\" font-family=\"Helvetica,sans-Serif\" font-size=\"14.00\">Series</text>\n<text text-anchor=\"start\" x=\"324.88\" y=\"-16.5\" font-family=\"Helvetica,sans-Serif\" font-size=\"14.00\">spend</text>\n<text text-anchor=\"start\" x=\"372.12\" y=\"-16.5\" font-family=\"Helvetica,sans-Serif\" font-size=\"14.00\">Series</text>\n</g>\n<!-- _example_df_build_result_inputs&#45;&gt;example_df_build_result -->\n<g id=\"edge5\" class=\"edge\">\n<title>_example_df_build_result_inputs&#45;&gt;example_df_build_result</title>\n<path fill=\"none\" stroke=\"black\" d=\"M425.38,-52.69C432.39,-55.05 439.7,-57.5 447.09,-59.99\"/>\n<polygon fill=\"black\" stroke=\"black\" points=\"445.92,-63.29 456.52,-63.16 448.16,-56.66 445.92,-63.29\"/>\n</g>\n<!-- _avg_3wk_spend_inputs -->\n<g id=\"node7\" class=\"node\">\n<title>_avg_3wk_spend_inputs</title>\n<polygon fill=\"none\" stroke=\"black\" stroke-dasharray=\"5,2\" points=\"117.35,-116.1 6.75,-116.1 6.75,-71.5 117.35,-71.5 117.35,-116.1\"/>\n<text text-anchor=\"start\" x=\"21.55\" y=\"-88\" font-family=\"Helvetica,sans-Serif\" font-size=\"14.00\">spend</text>\n<text text-anchor=\"start\" x=\"64.3\" y=\"-88\" font-family=\"Helvetica,sans-Serif\" font-size=\"14.00\">Series</text>\n</g>\n<!-- _avg_3wk_spend_inputs&#45;&gt;avg_3wk_spend -->\n<g id=\"edge6\" class=\"edge\">\n<title>_avg_3wk_spend_inputs&#45;&gt;avg_3wk_spend</title>\n<path fill=\"none\" stroke=\"black\" d=\"M117.54,-93.8C123.23,-93.8 129.08,-93.8 134.93,-93.8\"/>\n<polygon fill=\"black\" stroke=\"black\" points=\"134.64,-97.3 144.64,-93.8 134.64,-90.3 134.64,-97.3\"/>\n</g>\n<!-- input -->\n<g id=\"node8\" class=\"node\">\n<title>input</title>\n<polygon fill=\"none\" stroke=\"black\" stroke-dasharray=\"5,2\" points=\"89.05,-340.1 35.05,-340.1 35.05,-303.5 89.05,-303.5 89.05,-340.1\"/>\n<text text-anchor=\"middle\" x=\"62.05\" y=\"-316\" font-family=\"Helvetica,sans-Serif\" font-size=\"14.00\">input</text>\n</g>\n<!-- function -->\n<g id=\"node9\" class=\"node\">\n<title>function</title>\n<path fill=\"#b4d8e4\" stroke=\"black\" d=\"M84.47,-285.1C84.47,-285.1 39.62,-285.1 39.62,-285.1 33.62,-285.1 27.62,-279.1 27.62,-273.1 27.62,-273.1 27.62,-260.5 27.62,-260.5 27.62,-254.5 33.62,-248.5 39.62,-248.5 39.62,-248.5 84.47,-248.5 84.47,-248.5 90.47,-248.5 96.47,-254.5 96.47,-260.5 96.47,-260.5 96.47,-273.1 96.47,-273.1 96.47,-279.1 90.47,-285.1 84.47,-285.1\"/>\n<text text-anchor=\"middle\" x=\"62.05\" y=\"-261\" font-family=\"Helvetica,sans-Serif\" font-size=\"14.00\">function</text>\n</g>\n<!-- output -->\n<g id=\"node10\" class=\"node\">\n<title>output</title>\n<path fill=\"#ffc857\" stroke=\"black\" d=\"M79.6,-230.1C79.6,-230.1 44.5,-230.1 44.5,-230.1 38.5,-230.1 32.5,-224.1 32.5,-218.1 32.5,-218.1 32.5,-205.5 32.5,-205.5 32.5,-199.5 38.5,-193.5 44.5,-193.5 44.5,-193.5 79.6,-193.5 79.6,-193.5 85.6,-193.5 91.6,-199.5 91.6,-205.5 91.6,-205.5 91.6,-218.1 91.6,-218.1 91.6,-224.1 85.6,-230.1 79.6,-230.1\"/>\n<text text-anchor=\"middle\" x=\"62.05\" y=\"-206\" font-family=\"Helvetica,sans-Serif\" font-size=\"14.00\">output</text>\n</g>\n<!-- materializer -->\n<g id=\"node11\" class=\"node\">\n<title>materializer</title>\n<path fill=\"none\" stroke=\"black\" d=\"M108.1,-171.34C108.1,-173.37 87.46,-175.01 62.05,-175.01 36.64,-175.01 16,-173.37 16,-171.34 16,-171.34 16,-138.26 16,-138.26 16,-136.23 36.64,-134.59 62.05,-134.59 87.46,-134.59 108.1,-136.23 108.1,-138.26 108.1,-138.26 108.1,-171.34 108.1,-171.34\"/>\n<path fill=\"none\" stroke=\"black\" d=\"M108.1,-171.34C108.1,-169.31 87.46,-167.66 62.05,-167.66 36.64,-167.66 16,-169.31 16,-171.34\"/>\n<text text-anchor=\"middle\" x=\"62.05\" y=\"-149\" font-family=\"Helvetica,sans-Serif\" font-size=\"14.00\">materializer</text>\n</g>\n</g>\n</svg>\n",
      "text/plain": "<graphviz.graphs.Digraph at 0x1467f2290>"
     },
     "execution_count": 30,
     "metadata": {},
     "output_type": "execute_result"
    }
   ],
   "source": [
    "from hamilton import base\n",
    "dr_.visualize_materialization(\n",
    "  to.memory(\n",
    "    id=\"example_df\",\n",
    "    dependencies=output_columns,\n",
    "    combine=base.PandasDataFrameResult()\n",
    "  ),\n",
    "      inputs=initial_columns\n",
    ")"
   ]
  },
  {
   "cell_type": "code",
   "execution_count": null,
   "metadata": {},
   "outputs": [],
   "source": []
  }
 ],
 "metadata": {
  "kernelspec": {
   "display_name": "Python 3 (ipykernel)",
   "language": "python",
   "name": "python3"
  },
  "language_info": {
   "codemirror_mode": {
    "name": "ipython",
    "version": 3
   },
   "file_extension": ".py",
   "mimetype": "text/x-python",
   "name": "python",
   "nbconvert_exporter": "python",
   "pygments_lexer": "ipython3",
   "version": "3.9.13"
  }
 },
 "nbformat": 4,
 "nbformat_minor": 4
}
