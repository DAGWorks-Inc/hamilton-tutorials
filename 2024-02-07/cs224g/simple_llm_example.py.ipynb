{
 "cells": [
  {
   "cell_type": "markdown",
   "source": [
    "This notebook shows a simple example of using Hamilton as part of an LLM app."
   ],
   "metadata": {
    "collapsed": false
   },
   "id": "6a8b71592b3c8eb4"
  },
  {
   "cell_type": "code",
   "outputs": [],
   "source": [
    "# load some extensions / magic...\n",
    "%load_ext hamilton_magic\n",
    "%reload_ext hamilton_magic\n",
    "# load extension\n",
    "%load_ext autoreload\n",
    "# configure autoreload to only affect specified files\n",
    "%autoreload 1"
   ],
   "metadata": {
    "collapsed": false,
    "ExecuteTime": {
     "end_time": "2024-02-08T05:38:52.120836Z",
     "start_time": "2024-02-08T05:38:49.488688Z"
    }
   },
   "id": "f6d33c6b07e58a5d",
   "execution_count": 1
  },
  {
   "cell_type": "code",
   "outputs": [],
   "source": [
    "# import the base libraries\n",
    "from hamilton import driver"
   ],
   "metadata": {
    "collapsed": false
   },
   "id": "c6fff3bb99365b97",
   "execution_count": null
  },
  {
   "cell_type": "code",
   "outputs": [],
   "source": [
    "%%with_functions -m joke\n",
    "# %%write_file joke.py\n",
    "from typing import List\n",
    "\n",
    "import openai\n",
    "\n",
    "\n",
    "def llm_client() -> openai.OpenAI:\n",
    "    return openai.OpenAI()\n",
    "\n",
    "\n",
    "def joke_prompt(topic: str) -> str:\n",
    "    return f\"Tell me a short joke about {topic}\"\n",
    "\n",
    "\n",
    "def joke_messages(joke_prompt: str) -> List[dict]:\n",
    "    return [{\"role\": \"user\", \"content\": joke_prompt}]\n",
    "\n",
    "\n",
    "def joke_response(llm_client: openai.OpenAI,\n",
    "                  joke_messages: List[dict]) -> str:\n",
    "    response = llm_client.chat.completions.create(\n",
    "        model=\"gpt-3.5-turbo\",\n",
    "        messages=joke_messages,\n",
    "    )\n",
    "    return response.choices[0].message.content"
   ],
   "metadata": {
    "collapsed": false
   },
   "id": "26cc2f6bd5390b29",
   "execution_count": null
  },
  {
   "cell_type": "code",
   "outputs": [],
   "source": [
    "dr = (\n",
    "        driver.Builder()\n",
    "        .with_modules(joke)\n",
    "        .build()\n",
    "    )\n",
    "print(dr.execute([\"joke_response\"],\n",
    "                 inputs={\"topic\": \"ice cream\"}))"
   ],
   "metadata": {
    "collapsed": false
   },
   "id": "1be74fbdab6f8928",
   "execution_count": null
  },
  {
   "cell_type": "markdown",
   "source": [
    "# Prompts as code?\n",
    "\n",
    "```python\n",
    "def joke_prompt(topic: str) -> str:\n",
    "    return f\"Tell me a short joke about {topic}\"\n",
    "```\n",
    "\n",
    "vs \n",
    "\n",
    "```python\n",
    "def joke_prompt(topic: str, db: db_client) -> str:\n",
    "    return db.get(\"joke_prompt\").format(topic)\n",
    "```\n",
    "\n",
    "What is the operational difference between them?"
   ],
   "metadata": {
    "collapsed": false
   },
   "id": "240bfe27de2fdcf0"
  },
  {
   "cell_type": "code",
   "outputs": [],
   "source": [],
   "metadata": {
    "collapsed": false
   },
   "id": "8bcca0a557c63fc0"
  }
 ],
 "metadata": {
  "kernelspec": {
   "display_name": "Python 3",
   "language": "python",
   "name": "python3"
  },
  "language_info": {
   "codemirror_mode": {
    "name": "ipython",
    "version": 2
   },
   "file_extension": ".py",
   "mimetype": "text/x-python",
   "name": "python",
   "nbconvert_exporter": "python",
   "pygments_lexer": "ipython2",
   "version": "2.7.6"
  }
 },
 "nbformat": 4,
 "nbformat_minor": 5
}
