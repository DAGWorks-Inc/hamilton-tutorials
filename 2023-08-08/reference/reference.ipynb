{
 "cells": [
  {
   "cell_type": "markdown",
   "source": [
    "# Use this notebook to look up how do I X? with Hamilton.\n",
    "\n",
    "If you need more specifics we direct you to https://hamilton.dagworks.io for more documentation."
   ],
   "metadata": {
    "collapsed": false
   }
  },
  {
   "cell_type": "code",
   "execution_count": 71,
   "outputs": [
    {
     "name": "stdout",
     "output_type": "stream",
     "text": [
      "/Users/stefankrawczyk/dagworks/hamilton-tutorials/2023-08-08/reference\r\n"
     ]
    }
   ],
   "source": [
    "# validate what is the current working directory!\n",
    "!pwd"
   ],
   "metadata": {
    "collapsed": false,
    "ExecuteTime": {
     "end_time": "2023-08-07T04:01:38.262424Z",
     "start_time": "2023-08-07T04:01:38.138224Z"
    }
   }
  },
  {
   "cell_type": "code",
   "execution_count": 92,
   "outputs": [],
   "source": [
    "from IPython.display import clear_output"
   ],
   "metadata": {
    "collapsed": false,
    "ExecuteTime": {
     "end_time": "2023-08-08T05:42:35.056966Z",
     "start_time": "2023-08-08T05:42:35.051264Z"
    }
   }
  },
  {
   "cell_type": "markdown",
   "source": [
    "Uncomment and run the cell below if you are in a Google Colab environment. It will:\n",
    "\n",
    "1. Mount google drive. You will be asked to authenticate and give permissions.\n",
    "2. Change directory to google drive.\n",
    "3. Make a directory \"hamilton-tutorials\"\n",
    "4. Change directory to it.\n",
    "5. Clone this repository to your google drive\n",
    "6. Move your current directory to the example\n",
    "7. Install requirements.\n",
    "8. This means that any modifications will be saved, and you won't lose them if you close your browser."
   ],
   "metadata": {
    "collapsed": false
   }
  },
  {
   "cell_type": "code",
   "execution_count": 70,
   "outputs": [],
   "source": [
    "## 1. Mount google drive\n",
    "# from google.colab import drive\n",
    "# drive.mount('/content/drive')\n",
    "## 2. Change directory to google drive.\n",
    "# %cd /content/drive/MyDrive\n",
    "## 3. Make a directory \"hamilton-tutorials\"\n",
    "# !mkdir hamilton-tutorials\n",
    "## 4. Change directory to it.\n",
    "# %cd hamilton-tutorials\n",
    "## 5. Clone this repository to your google drive\n",
    "# !git clone https://github.com/DAGWorks-Inc/hamilton-tutorials/\n",
    "## 6. Move your current directory to the example\n",
    "# %cd hamilton-tutorials/2023-08-08/reference\n",
    "## 7. Install requirements.\n",
    "# %pip install -r requirements.txt\n",
    "# clear_output()  # optionally clear outputs\n",
    "## To check your current working directory you can type `!pwd` in a cell and run it."
   ],
   "metadata": {
    "collapsed": false,
    "ExecuteTime": {
     "end_time": "2023-08-07T04:01:15.189398Z",
     "start_time": "2023-08-07T04:01:15.183225Z"
    }
   }
  },
  {
   "cell_type": "code",
   "execution_count": null,
   "outputs": [],
   "source": [
    "!pip install -r requirements.txt"
   ],
   "metadata": {
    "collapsed": false
   }
  },
  {
   "cell_type": "code",
   "execution_count": 53,
   "outputs": [],
   "source": [
    "import pandas as pd\n",
    "import pandera as pa"
   ],
   "metadata": {
    "collapsed": false,
    "ExecuteTime": {
     "end_time": "2023-08-06T21:34:37.182638Z",
     "start_time": "2023-08-06T21:34:34.599925Z"
    }
   }
  },
  {
   "cell_type": "markdown",
   "source": [
    "## Old way vs new way\n",
    "A quick overview of the paradigm from a before and after perspective."
   ],
   "metadata": {
    "collapsed": false
   }
  },
  {
   "cell_type": "code",
   "execution_count": 3,
   "outputs": [],
   "source": [
    "def load_data() -> pd.DataFrame:\n",
    "    return pd.DataFrame({\n",
    "        'spend': [100.0, 200.0, 300.0, 400.0, 500.0],\n",
    "        'signups': [10, 20, 30, 40, 50]\n",
    "    })\n"
   ],
   "metadata": {
    "collapsed": false,
    "ExecuteTime": {
     "end_time": "2023-08-06T20:42:49.799171Z",
     "start_time": "2023-08-06T20:42:49.777221Z"
    }
   }
  },
  {
   "cell_type": "code",
   "execution_count": 4,
   "outputs": [
    {
     "name": "stdout",
     "output_type": "stream",
     "text": [
      "   spend  signups  avg_3wk_spend  spend_per_signup  spend_zero_mean  spend_zero_mean_unit_variance\n",
      "0  100.0       10            NaN              10.0           -200.0                      -1.264911\n",
      "1  200.0       20            NaN              10.0           -100.0                      -0.632456\n",
      "2  300.0       30          200.0              10.0              0.0                       0.000000\n",
      "3  400.0       40          300.0              10.0            100.0                       0.632456\n",
      "4  500.0       50          400.0              10.0            200.0                       1.264911\n"
     ]
    }
   ],
   "source": [
    "# Old Way -- instead of this:\n",
    "data = load_data()\n",
    "data['avg_3wk_spend'] = data['spend'].rolling(3).mean()\n",
    "data['spend_per_signup'] = data['spend']/data['signups']\n",
    "spend_mean = data['spend'].mean()\n",
    "data['spend_zero_mean'] = data['spend'] - spend_mean\n",
    "spend_std_dev = data['spend'].std()\n",
    "data['spend_zero_mean_unit_variance'] = data['spend_zero_mean']/spend_std_dev\n",
    "print(data.to_string())"
   ],
   "metadata": {
    "collapsed": false,
    "ExecuteTime": {
     "end_time": "2023-08-06T20:42:50.697792Z",
     "start_time": "2023-08-06T20:42:50.683722Z"
    }
   }
  },
  {
   "cell_type": "code",
   "execution_count": 5,
   "outputs": [
    {
     "name": "stdout",
     "output_type": "stream",
     "text": [
      "Overwriting new_way.py\n"
     ]
    }
   ],
   "source": [
    "%%writefile new_way.py\n",
    "# new_way.py --- %%writefile is a quick way to write a module too.\n",
    "import pandas as pd\n",
    "def avg_3wk_spend(spend: pd.Series) -> pd.Series:\n",
    "  \"\"\"Rolling 3 day average spend.\"\"\"\n",
    "  return spend.rolling(3).mean()\n",
    "\n",
    "\n",
    "def spend_per_signup(spend: pd.Series, signups: pd.Series) -> pd.Series:\n",
    "  \"\"\"The cost per signup in relation to spend.\"\"\"\n",
    "  return spend / signups\n",
    "\n",
    "\n",
    "def spend_mean(spend: pd.Series) -> float:\n",
    "  \"\"\"Shows function creating a scalar. In this case it computes the mean of the entire column.\"\"\"\n",
    "  return spend.mean()\n",
    "\n",
    "\n",
    "def spend_zero_mean(spend: pd.Series, spend_mean: float) -> pd.Series:\n",
    "  \"\"\"Shows function that takes a scalar. In this case to zero mean spend.\"\"\"\n",
    "  return spend - spend_mean\n",
    "\n",
    "\n",
    "def spend_std_dev(spend: pd.Series) -> float:\n",
    "  \"\"\"Function that computes the standard deviation of the spend column.\"\"\"\n",
    "  return spend.std()\n",
    "\n",
    "\n",
    "def spend_zero_mean_unit_variance(spend_zero_mean: pd.Series, spend_std_dev: float) -> pd.Series:\n",
    "  \"\"\"Function showing one way to make spend have zero mean and unit variance.\"\"\"\n",
    "  return spend_zero_mean / spend_std_dev\n"
   ],
   "metadata": {
    "collapsed": false,
    "ExecuteTime": {
     "end_time": "2023-08-06T20:42:52.889770Z",
     "start_time": "2023-08-06T20:42:52.884140Z"
    }
   }
  },
  {
   "cell_type": "code",
   "execution_count": 8,
   "outputs": [
    {
     "name": "stdout",
     "output_type": "stream",
     "text": [
      "   spend  signups  avg_3wk_spend  spend_per_signup  spend_zero_mean  spend_zero_mean_unit_variance\n",
      "0  100.0       10            NaN              10.0           -200.0                      -1.264911\n",
      "1  200.0       20            NaN              10.0           -100.0                      -0.632456\n",
      "2  300.0       30          200.0              10.0              0.0                       0.000000\n",
      "3  400.0       40          300.0              10.0            100.0                       0.632456\n",
      "4  500.0       50          400.0              10.0            200.0                       1.264911\n"
     ]
    }
   ],
   "source": [
    "from hamilton import driver\n",
    "import new_way\n",
    "dr = driver.Driver({}, new_way)\n",
    "outputs = [\"spend\",\n",
    "           \"signups\",\n",
    "           new_way.avg_3wk_spend,\n",
    "           new_way.spend_per_signup,\n",
    "           new_way.spend_zero_mean,\n",
    "           new_way.spend_zero_mean_unit_variance]\n",
    "result = dr.execute(\n",
    "  outputs,\n",
    "  inputs=load_data().to_dict(orient=\"series\")\n",
    ")\n",
    "print(result.to_string())\n"
   ],
   "metadata": {
    "collapsed": false,
    "ExecuteTime": {
     "end_time": "2023-08-06T20:48:56.519952Z",
     "start_time": "2023-08-06T20:48:56.501056Z"
    }
   }
  },
  {
   "cell_type": "markdown",
   "source": [
    "## Driver: Changing the \"type\" of what execute() returns\n",
    "Use this is if you don't want a dataframe as a result. Hamilton gives you flexibility to adjust and change the what the return type is."
   ],
   "metadata": {
    "collapsed": false
   }
  },
  {
   "cell_type": "code",
   "execution_count": 26,
   "outputs": [
    {
     "name": "stdout",
     "output_type": "stream",
     "text": [
      "{'spend': 0    100.0\n",
      "1    200.0\n",
      "2    300.0\n",
      "3    400.0\n",
      "4    500.0\n",
      "Name: spend, dtype: float64, 'signups': 0    10\n",
      "1    20\n",
      "2    30\n",
      "3    40\n",
      "4    50\n",
      "Name: signups, dtype: int64, 'avg_3wk_spend': 0      NaN\n",
      "1      NaN\n",
      "2    200.0\n",
      "3    300.0\n",
      "4    400.0\n",
      "Name: spend, dtype: float64, 'spend_per_signup': 0    10.0\n",
      "1    10.0\n",
      "2    10.0\n",
      "3    10.0\n",
      "4    10.0\n",
      "dtype: float64, 'spend_zero_mean': 0   -200.0\n",
      "1   -100.0\n",
      "2      0.0\n",
      "3    100.0\n",
      "4    200.0\n",
      "Name: spend, dtype: float64, 'spend_zero_mean_unit_variance': 0   -1.264911\n",
      "1   -0.632456\n",
      "2    0.000000\n",
      "3    0.632456\n",
      "4    1.264911\n",
      "Name: spend, dtype: float64}\n"
     ]
    }
   ],
   "source": [
    "from hamilton import base  #  base houses a few other ways to construct results.\n",
    "from hamilton import driver\n",
    "import new_way\n",
    "# instantiate the right adapter & result builder.\n",
    "dr2 = driver.Driver(\n",
    "    {},\n",
    "    new_way,\n",
    "    # adjust adapter to change behavior\n",
    "    adapter=base.SimplePythonGraphAdapter(base.DictResult())\n",
    ")\n",
    "outputs = [\"spend\",\n",
    "           \"signups\",\n",
    "           new_way.avg_3wk_spend,\n",
    "           new_way.spend_per_signup,\n",
    "           new_way.spend_zero_mean,\n",
    "           new_way.spend_zero_mean_unit_variance]\n",
    "result = dr2.execute(\n",
    "  outputs,\n",
    "  inputs=load_data().to_dict(orient=\"series\")\n",
    ")\n",
    "print(result)  # this is now a dictionary!"
   ],
   "metadata": {
    "collapsed": false,
    "ExecuteTime": {
     "end_time": "2023-08-06T21:06:19.587787Z",
     "start_time": "2023-08-06T21:06:19.580751Z"
    }
   }
  },
  {
   "cell_type": "markdown",
   "source": [
    "## Driver using overrides\n",
    "Use overrides in development, or using prior results to inject values into the DAG."
   ],
   "metadata": {
    "collapsed": false
   }
  },
  {
   "cell_type": "code",
   "execution_count": 27,
   "outputs": [
    {
     "name": "stdout",
     "output_type": "stream",
     "text": [
      "   spend  signups  avg_3wk_spend  spend_per_signup  spend_zero_mean  \\\n",
      "0  100.0       10            NaN              10.0           -200.0   \n",
      "1  200.0       20            NaN              10.0           -100.0   \n",
      "2  300.0       30          200.0              10.0              0.0   \n",
      "3  400.0       40          300.0              10.0            100.0   \n",
      "4  500.0       50          400.0              10.0            200.0   \n",
      "\n",
      "   spend_zero_mean_unit_variance  \n",
      "0                    -666.666667  \n",
      "1                    -333.333333  \n",
      "2                       0.000000  \n",
      "3                     333.333333  \n",
      "4                     666.666667  \n"
     ]
    }
   ],
   "source": [
    "result = dr.execute(\n",
    "  outputs,\n",
    "  inputs=load_data().to_dict(orient=\"series\"),\n",
    "  overrides={\"spend_std_dev\": 0.3}  # this will inject this value and short circuit DAG walking.\n",
    ")\n",
    "print(result)  # see values have changed"
   ],
   "metadata": {
    "collapsed": false,
    "ExecuteTime": {
     "end_time": "2023-08-06T21:06:21.588047Z",
     "start_time": "2023-08-06T21:06:21.564125Z"
    }
   }
  },
  {
   "cell_type": "markdown",
   "source": [
    "## Driver: reusing the same Driver multiple times\n",
    "Shows that you can reuse the same driver in a for loop passing different inputs. Use this for simulations, chunking over data, etc."
   ],
   "metadata": {
    "collapsed": false
   }
  },
  {
   "cell_type": "code",
   "execution_count": 28,
   "outputs": [
    {
     "name": "stdout",
     "output_type": "stream",
     "text": [
      "       spend  signups  avg_3wk_spend  spend_per_signup  spend_zero_mean  \\\n",
      "0  43.925551      305            NaN          0.144018        24.768071   \n",
      "1   1.744286      881            NaN          0.001980       -17.413194   \n",
      "2  44.697686      739      30.122508          0.060484        25.540206   \n",
      "3   5.327245      150      17.256406          0.035515       -13.830235   \n",
      "4   0.092630       50      16.705854          0.001853       -19.064850   \n",
      "\n",
      "   spend_zero_mean_unit_variance  \n",
      "0                       1.074913  \n",
      "1                      -0.755718  \n",
      "2                       1.108423  \n",
      "3                      -0.600220  \n",
      "4                      -0.827398  \n",
      "       spend  signups  avg_3wk_spend  spend_per_signup  spend_zero_mean  \\\n",
      "0  60.845175      356            NaN          0.170913        19.067889   \n",
      "1  25.515806      156            NaN          0.163563       -16.261480   \n",
      "2  14.752644      621      33.704542          0.023756       -27.024641   \n",
      "3  34.211227      552      24.826559          0.061977        -7.566059   \n",
      "4  73.561578      287      40.841816          0.256312        31.784292   \n",
      "\n",
      "   spend_zero_mean_unit_variance  \n",
      "0                       0.774287  \n",
      "1                      -0.660327  \n",
      "2                      -1.097385  \n",
      "3                      -0.307234  \n",
      "4                       1.290659  \n",
      "       spend  signups  avg_3wk_spend  spend_per_signup  spend_zero_mean  \\\n",
      "0  11.416803      662            NaN          0.017246        -0.611380   \n",
      "1   0.089217      115            NaN          0.000776       -11.938966   \n",
      "2   8.983994      702       6.830005          0.012798        -3.044189   \n",
      "3  23.078161      491      10.717124          0.047002        11.049977   \n",
      "4  16.572741      301      16.211632          0.055059         4.544558   \n",
      "\n",
      "   spend_zero_mean_unit_variance  \n",
      "0                      -0.071200  \n",
      "1                      -1.390381  \n",
      "2                      -0.354518  \n",
      "3                       1.286851  \n",
      "4                       0.529247  \n",
      "       spend  signups  avg_3wk_spend  spend_per_signup  spend_zero_mean  \\\n",
      "0   0.697926      839            NaN          0.000832       -11.681667   \n",
      "1  15.649468      994            NaN          0.015744         3.269875   \n",
      "2  12.241236      968       9.529543          0.012646        -0.138357   \n",
      "3  28.093069      551      18.661258          0.050986        15.713476   \n",
      "4   5.216266      363      15.183524          0.014370        -7.163327   \n",
      "\n",
      "   spend_zero_mean_unit_variance  \n",
      "0                      -1.107032  \n",
      "1                       0.309875  \n",
      "2                      -0.013112  \n",
      "3                       1.489113  \n",
      "4                      -0.678844  \n",
      "       spend  signups  avg_3wk_spend  spend_per_signup  spend_zero_mean  \\\n",
      "0  60.701534      928            NaN          0.065411        35.610855   \n",
      "1  31.889857      201            NaN          0.158656         6.799178   \n",
      "2   1.174332      281      31.255241          0.004179       -23.916348   \n",
      "3   2.989996      376      12.018062          0.007952       -22.100683   \n",
      "4  28.697678      538      10.954002          0.053341         3.606998   \n",
      "\n",
      "   spend_zero_mean_unit_variance  \n",
      "0                       1.457515  \n",
      "1                       0.278283  \n",
      "2                      -0.978871  \n",
      "3                      -0.904558  \n",
      "4                       0.147631  \n"
     ]
    }
   ],
   "source": [
    "import random\n",
    "data_chunks = [\n",
    "    {\"spend\": pd.Series([random.random() * random.randint(1, 100) for r in range(0,5)]),\n",
    "     \"signups\": pd.Series([random.randint(1, 1000) for __ in range(0,5)])\n",
    "     } for _ in range(0,5)\n",
    "]\n",
    "for chunk in data_chunks:\n",
    "    result = dr.execute(\n",
    "      outputs,\n",
    "      inputs=chunk,\n",
    "    )\n",
    "    print(result)"
   ],
   "metadata": {
    "collapsed": false,
    "ExecuteTime": {
     "end_time": "2023-08-06T21:06:28.290604Z",
     "start_time": "2023-08-06T21:06:28.231590Z"
    }
   }
  },
  {
   "cell_type": "markdown",
   "source": [
    "## Visualizing the DAG"
   ],
   "metadata": {
    "collapsed": false
   }
  },
  {
   "cell_type": "code",
   "execution_count": 91,
   "outputs": [
    {
     "data": {
      "image/svg+xml": "<?xml version=\"1.0\" encoding=\"UTF-8\" standalone=\"no\"?>\n<!DOCTYPE svg PUBLIC \"-//W3C//DTD SVG 1.1//EN\"\n \"http://www.w3.org/Graphics/SVG/1.1/DTD/svg11.dtd\">\n<!-- Generated by graphviz version 8.0.5 (20230430.1635)\n -->\n<!-- Pages: 1 -->\n<svg width=\"515pt\" height=\"260pt\"\n viewBox=\"0.00 0.00 514.93 260.00\" xmlns=\"http://www.w3.org/2000/svg\" xmlns:xlink=\"http://www.w3.org/1999/xlink\">\n<g id=\"graph0\" class=\"graph\" transform=\"scale(1 1) rotate(0) translate(4 256)\">\n<polygon fill=\"white\" stroke=\"none\" points=\"-4,4 -4,-256 510.93,-256 510.93,4 -4,4\"/>\n<!-- spend_zero_mean -->\n<g id=\"node1\" class=\"node\">\n<title>spend_zero_mean</title>\n<ellipse fill=\"none\" stroke=\"black\" cx=\"77.97\" cy=\"-90\" rx=\"77.97\" ry=\"18\"/>\n<text text-anchor=\"middle\" x=\"77.97\" y=\"-84.95\" font-family=\"Times,serif\" font-size=\"14.00\">spend_zero_mean</text>\n</g>\n<!-- spend_zero_mean_unit_variance -->\n<g id=\"node7\" class=\"node\">\n<title>spend_zero_mean_unit_variance</title>\n<ellipse fill=\"none\" stroke=\"black\" cx=\"158.97\" cy=\"-18\" rx=\"132.73\" ry=\"18\"/>\n<text text-anchor=\"middle\" x=\"158.97\" y=\"-12.95\" font-family=\"Times,serif\" font-size=\"14.00\">spend_zero_mean_unit_variance</text>\n</g>\n<!-- spend_zero_mean&#45;&gt;spend_zero_mean_unit_variance -->\n<g id=\"edge7\" class=\"edge\">\n<title>spend_zero_mean&#45;&gt;spend_zero_mean_unit_variance</title>\n<path fill=\"none\" stroke=\"black\" d=\"M97.16,-72.41C107.23,-63.71 119.75,-52.89 130.88,-43.27\"/>\n<polygon fill=\"black\" stroke=\"black\" points=\"132.78,-45.39 138.06,-36.2 128.21,-40.09 132.78,-45.39\"/>\n</g>\n<!-- spend -->\n<g id=\"node2\" class=\"node\">\n<title>spend</title>\n<ellipse fill=\"none\" stroke=\"black\" stroke-dasharray=\"5,2\" cx=\"223.97\" cy=\"-234\" rx=\"56.98\" ry=\"18\"/>\n<text text-anchor=\"middle\" x=\"223.97\" y=\"-228.95\" font-family=\"Times,serif\" font-size=\"14.00\">Input: spend</text>\n</g>\n<!-- spend&#45;&gt;spend_zero_mean -->\n<g id=\"edge1\" class=\"edge\">\n<title>spend&#45;&gt;spend_zero_mean</title>\n<path fill=\"none\" stroke=\"black\" d=\"M170.71,-227.12C114.48,-219.69 31.31,-204.78 11.97,-180 2.12,-167.39 5.05,-158.43 11.97,-144 17.82,-131.78 28.02,-121.49 38.67,-113.33\"/>\n<polygon fill=\"black\" stroke=\"black\" points=\"40.51,-115.61 46.64,-106.97 36.46,-109.9 40.51,-115.61\"/>\n</g>\n<!-- spend_mean -->\n<g id=\"node3\" class=\"node\">\n<title>spend_mean</title>\n<ellipse fill=\"none\" stroke=\"black\" cx=\"77.97\" cy=\"-162\" rx=\"57.49\" ry=\"18\"/>\n<text text-anchor=\"middle\" x=\"77.97\" y=\"-156.95\" font-family=\"Times,serif\" font-size=\"14.00\">spend_mean</text>\n</g>\n<!-- spend&#45;&gt;spend_mean -->\n<g id=\"edge3\" class=\"edge\">\n<title>spend&#45;&gt;spend_mean</title>\n<path fill=\"none\" stroke=\"black\" d=\"M193.71,-218.5C171.86,-208.02 142.12,-193.76 118.26,-182.32\"/>\n<polygon fill=\"black\" stroke=\"black\" points=\"119.96,-178.77 109.43,-177.61 116.93,-185.09 119.96,-178.77\"/>\n</g>\n<!-- avg_3wk_spend -->\n<g id=\"node5\" class=\"node\">\n<title>avg_3wk_spend</title>\n<ellipse fill=\"none\" stroke=\"black\" cx=\"223.97\" cy=\"-162\" rx=\"70.8\" ry=\"18\"/>\n<text text-anchor=\"middle\" x=\"223.97\" y=\"-156.95\" font-family=\"Times,serif\" font-size=\"14.00\">avg_3wk_spend</text>\n</g>\n<!-- spend&#45;&gt;avg_3wk_spend -->\n<g id=\"edge4\" class=\"edge\">\n<title>spend&#45;&gt;avg_3wk_spend</title>\n<path fill=\"none\" stroke=\"black\" d=\"M223.97,-215.7C223.97,-208.24 223.97,-199.32 223.97,-190.97\"/>\n<polygon fill=\"black\" stroke=\"black\" points=\"227.47,-191.1 223.97,-181.1 220.47,-191.1 227.47,-191.1\"/>\n</g>\n<!-- spend_per_signup -->\n<g id=\"node6\" class=\"node\">\n<title>spend_per_signup</title>\n<ellipse fill=\"none\" stroke=\"black\" cx=\"428.97\" cy=\"-162\" rx=\"77.97\" ry=\"18\"/>\n<text text-anchor=\"middle\" x=\"428.97\" y=\"-156.95\" font-family=\"Times,serif\" font-size=\"14.00\">spend_per_signup</text>\n</g>\n<!-- spend&#45;&gt;spend_per_signup -->\n<g id=\"edge5\" class=\"edge\">\n<title>spend&#45;&gt;spend_per_signup</title>\n<path fill=\"none\" stroke=\"black\" d=\"M261.57,-220.16C293.76,-209.17 340.46,-193.22 376.36,-180.96\"/>\n<polygon fill=\"black\" stroke=\"black\" points=\"377.32,-183.99 385.65,-177.45 375.06,-177.37 377.32,-183.99\"/>\n</g>\n<!-- spend_std_dev -->\n<g id=\"node8\" class=\"node\">\n<title>spend_std_dev</title>\n<ellipse fill=\"none\" stroke=\"black\" cx=\"280.97\" cy=\"-90\" rx=\"65.68\" ry=\"18\"/>\n<text text-anchor=\"middle\" x=\"280.97\" y=\"-84.95\" font-family=\"Times,serif\" font-size=\"14.00\">spend_std_dev</text>\n</g>\n<!-- spend&#45;&gt;spend_std_dev -->\n<g id=\"edge9\" class=\"edge\">\n<title>spend&#45;&gt;spend_std_dev</title>\n<path fill=\"none\" stroke=\"black\" d=\"M258.87,-219.36C275.73,-210.78 294.35,-197.91 303.97,-180 314.48,-160.43 306.75,-135.82 297.52,-117.44\"/>\n<polygon fill=\"black\" stroke=\"black\" points=\"300.2,-116.05 292.34,-108.95 294.06,-119.4 300.2,-116.05\"/>\n</g>\n<!-- spend_mean&#45;&gt;spend_zero_mean -->\n<g id=\"edge2\" class=\"edge\">\n<title>spend_mean&#45;&gt;spend_zero_mean</title>\n<path fill=\"none\" stroke=\"black\" d=\"M77.97,-143.7C77.97,-136.24 77.97,-127.32 77.97,-118.97\"/>\n<polygon fill=\"black\" stroke=\"black\" points=\"81.47,-119.1 77.97,-109.1 74.47,-119.1 81.47,-119.1\"/>\n</g>\n<!-- signups -->\n<g id=\"node4\" class=\"node\">\n<title>signups</title>\n<ellipse fill=\"none\" stroke=\"black\" stroke-dasharray=\"5,2\" cx=\"428.97\" cy=\"-234\" rx=\"63.63\" ry=\"18\"/>\n<text text-anchor=\"middle\" x=\"428.97\" y=\"-228.95\" font-family=\"Times,serif\" font-size=\"14.00\">Input: signups</text>\n</g>\n<!-- signups&#45;&gt;spend_per_signup -->\n<g id=\"edge6\" class=\"edge\">\n<title>signups&#45;&gt;spend_per_signup</title>\n<path fill=\"none\" stroke=\"black\" d=\"M428.97,-215.7C428.97,-208.24 428.97,-199.32 428.97,-190.97\"/>\n<polygon fill=\"black\" stroke=\"black\" points=\"432.47,-191.1 428.97,-181.1 425.47,-191.1 432.47,-191.1\"/>\n</g>\n<!-- spend_std_dev&#45;&gt;spend_zero_mean_unit_variance -->\n<g id=\"edge8\" class=\"edge\">\n<title>spend_std_dev&#45;&gt;spend_zero_mean_unit_variance</title>\n<path fill=\"none\" stroke=\"black\" d=\"M253.59,-73.29C237.15,-63.86 215.98,-51.71 197.83,-41.3\"/>\n<polygon fill=\"black\" stroke=\"black\" points=\"199.8,-37.82 189.38,-35.88 196.32,-43.89 199.8,-37.82\"/>\n</g>\n</g>\n</svg>\n",
      "text/plain": "<graphviz.graphs.Digraph at 0x11c7f6350>"
     },
     "execution_count": 91,
     "metadata": {},
     "output_type": "execute_result"
    }
   ],
   "source": [
    "from hamilton import driver\n",
    "import new_way\n",
    "\n",
    "# Create the driver -- passing in an empty config and the functions module\n",
    "dr = driver.Driver({}, new_way)\n",
    "# display everythin in new_way\n",
    "dr.display_all_functions(None)"
   ],
   "metadata": {
    "collapsed": false,
    "ExecuteTime": {
     "end_time": "2023-08-07T20:47:51.300692Z",
     "start_time": "2023-08-07T20:47:51.032930Z"
    }
   }
  },
  {
   "cell_type": "code",
   "execution_count": 90,
   "outputs": [
    {
     "data": {
      "image/svg+xml": "<?xml version=\"1.0\" encoding=\"UTF-8\" standalone=\"no\"?>\n<!DOCTYPE svg PUBLIC \"-//W3C//DTD SVG 1.1//EN\"\n \"http://www.w3.org/Graphics/SVG/1.1/DTD/svg11.dtd\">\n<!-- Generated by graphviz version 8.0.5 (20230430.1635)\n -->\n<!-- Pages: 1 -->\n<svg width=\"314pt\" height=\"260pt\"\n viewBox=\"0.00 0.00 313.65 260.00\" xmlns=\"http://www.w3.org/2000/svg\" xmlns:xlink=\"http://www.w3.org/1999/xlink\">\n<g id=\"graph0\" class=\"graph\" transform=\"scale(1 1) rotate(0) translate(4 256)\">\n<polygon fill=\"white\" stroke=\"none\" points=\"-4,4 -4,-256 309.65,-256 309.65,4 -4,4\"/>\n<!-- spend_zero_mean -->\n<g id=\"node1\" class=\"node\">\n<title>spend_zero_mean</title>\n<ellipse fill=\"none\" stroke=\"black\" cx=\"77.97\" cy=\"-90\" rx=\"77.97\" ry=\"18\"/>\n<text text-anchor=\"middle\" x=\"77.97\" y=\"-84.95\" font-family=\"Times,serif\" font-size=\"14.00\">spend_zero_mean</text>\n</g>\n<!-- spend_zero_mean_unit_variance -->\n<g id=\"node4\" class=\"node\">\n<title>spend_zero_mean_unit_variance</title>\n<polygon fill=\"none\" stroke=\"black\" points=\"256.22,-36 61.72,-36 61.72,0 256.22,0 256.22,-36\"/>\n<text text-anchor=\"middle\" x=\"158.97\" y=\"-12.95\" font-family=\"Times,serif\" font-size=\"14.00\">spend_zero_mean_unit_variance</text>\n</g>\n<!-- spend_zero_mean&#45;&gt;spend_zero_mean_unit_variance -->\n<g id=\"edge4\" class=\"edge\">\n<title>spend_zero_mean&#45;&gt;spend_zero_mean_unit_variance</title>\n<path fill=\"none\" stroke=\"black\" d=\"M97.16,-72.41C107.15,-63.78 119.56,-53.05 130.63,-43.48\"/>\n<polygon fill=\"black\" stroke=\"black\" points=\"132.5,-45.63 137.78,-36.45 127.92,-40.34 132.5,-45.63\"/>\n</g>\n<!-- spend -->\n<g id=\"node2\" class=\"node\">\n<title>spend</title>\n<ellipse fill=\"none\" stroke=\"black\" stroke-dasharray=\"5,2\" cx=\"154.97\" cy=\"-234\" rx=\"56.98\" ry=\"18\"/>\n<text text-anchor=\"middle\" x=\"154.97\" y=\"-228.95\" font-family=\"Times,serif\" font-size=\"14.00\">Input: spend</text>\n</g>\n<!-- spend&#45;&gt;spend_zero_mean -->\n<g id=\"edge1\" class=\"edge\">\n<title>spend&#45;&gt;spend_zero_mean</title>\n<path fill=\"none\" stroke=\"black\" d=\"M127.5,-217.95C113.6,-208.85 97.84,-195.92 88.97,-180 78.66,-161.51 76.19,-137.55 76.15,-119.14\"/>\n<polygon fill=\"black\" stroke=\"black\" points=\"79.67,-119.32 76.41,-109.24 72.68,-119.15 79.67,-119.32\"/>\n</g>\n<!-- spend_mean -->\n<g id=\"node3\" class=\"node\">\n<title>spend_mean</title>\n<ellipse fill=\"none\" stroke=\"black\" cx=\"154.97\" cy=\"-162\" rx=\"57.49\" ry=\"18\"/>\n<text text-anchor=\"middle\" x=\"154.97\" y=\"-156.95\" font-family=\"Times,serif\" font-size=\"14.00\">spend_mean</text>\n</g>\n<!-- spend&#45;&gt;spend_mean -->\n<g id=\"edge3\" class=\"edge\">\n<title>spend&#45;&gt;spend_mean</title>\n<path fill=\"none\" stroke=\"black\" d=\"M154.97,-215.7C154.97,-208.24 154.97,-199.32 154.97,-190.97\"/>\n<polygon fill=\"black\" stroke=\"black\" points=\"158.47,-191.1 154.97,-181.1 151.47,-191.1 158.47,-191.1\"/>\n</g>\n<!-- spend_std_dev -->\n<g id=\"node5\" class=\"node\">\n<title>spend_std_dev</title>\n<ellipse fill=\"none\" stroke=\"black\" cx=\"239.97\" cy=\"-90\" rx=\"65.68\" ry=\"18\"/>\n<text text-anchor=\"middle\" x=\"239.97\" y=\"-84.95\" font-family=\"Times,serif\" font-size=\"14.00\">spend_std_dev</text>\n</g>\n<!-- spend&#45;&gt;spend_std_dev -->\n<g id=\"edge6\" class=\"edge\">\n<title>spend&#45;&gt;spend_std_dev</title>\n<path fill=\"none\" stroke=\"black\" d=\"M181.55,-217.85C195.37,-208.64 211.33,-195.64 220.97,-180 232.24,-161.71 236.9,-137.73 238.79,-119.28\"/>\n<polygon fill=\"black\" stroke=\"black\" points=\"242.35,-119.57 239.65,-109.33 235.37,-119.02 242.35,-119.57\"/>\n</g>\n<!-- spend_mean&#45;&gt;spend_zero_mean -->\n<g id=\"edge2\" class=\"edge\">\n<title>spend_mean&#45;&gt;spend_zero_mean</title>\n<path fill=\"none\" stroke=\"black\" d=\"M137.11,-144.76C127.41,-135.95 115.22,-124.87 104.44,-115.07\"/>\n<polygon fill=\"black\" stroke=\"black\" points=\"107.29,-113.02 97.53,-108.88 102.58,-118.19 107.29,-113.02\"/>\n</g>\n<!-- spend_std_dev&#45;&gt;spend_zero_mean_unit_variance -->\n<g id=\"edge5\" class=\"edge\">\n<title>spend_std_dev&#45;&gt;spend_zero_mean_unit_variance</title>\n<path fill=\"none\" stroke=\"black\" d=\"M220.77,-72.41C210.78,-63.78 198.37,-53.05 187.3,-43.48\"/>\n<polygon fill=\"black\" stroke=\"black\" points=\"190.01,-40.34 180.15,-36.45 185.43,-45.63 190.01,-40.34\"/>\n</g>\n</g>\n</svg>\n",
      "text/plain": "<graphviz.graphs.Digraph at 0x11c800df0>"
     },
     "execution_count": 90,
     "metadata": {},
     "output_type": "execute_result"
    }
   ],
   "source": [
    "# display only the path we care about:\n",
    "dr.visualize_execution(\n",
    "    [\"spend_zero_mean_unit_variance\"],\n",
    "    None, None, inputs=load_data().to_dict(orient=\"series\"))"
   ],
   "metadata": {
    "collapsed": false,
    "ExecuteTime": {
     "end_time": "2023-08-07T20:47:42.961738Z",
     "start_time": "2023-08-07T20:47:42.734193Z"
    }
   }
  },
  {
   "cell_type": "code",
   "execution_count": 24,
   "outputs": [
    {
     "data": {
      "image/svg+xml": "<?xml version=\"1.0\" encoding=\"UTF-8\" standalone=\"no\"?>\n<!DOCTYPE svg PUBLIC \"-//W3C//DTD SVG 1.1//EN\"\n \"http://www.w3.org/Graphics/SVG/1.1/DTD/svg11.dtd\">\n<!-- Generated by graphviz version 8.0.5 (20230430.1635)\n -->\n<!-- Pages: 1 -->\n<svg width=\"335pt\" height=\"260pt\"\n viewBox=\"0.00 0.00 335.18 260.00\" xmlns=\"http://www.w3.org/2000/svg\" xmlns:xlink=\"http://www.w3.org/1999/xlink\">\n<g id=\"graph0\" class=\"graph\" transform=\"scale(1 1) rotate(0) translate(4 256)\">\n<polygon fill=\"white\" stroke=\"none\" points=\"-4,4 -4,-256 331.18,-256 331.18,4 -4,4\"/>\n<!-- spend_zero_mean -->\n<g id=\"node1\" class=\"node\">\n<title>spend_zero_mean</title>\n<ellipse fill=\"none\" stroke=\"red\" cx=\"227.68\" cy=\"-90\" rx=\"77.97\" ry=\"18\"/>\n<text text-anchor=\"middle\" x=\"227.68\" y=\"-84.95\" font-family=\"Times,serif\" font-size=\"14.00\">spend_zero_mean</text>\n</g>\n<!-- spend_zero_mean_unit_variance -->\n<g id=\"node3\" class=\"node\">\n<title>spend_zero_mean_unit_variance</title>\n<ellipse fill=\"none\" stroke=\"red\" cx=\"146.68\" cy=\"-18\" rx=\"132.73\" ry=\"18\"/>\n<text text-anchor=\"middle\" x=\"146.68\" y=\"-12.95\" font-family=\"Times,serif\" font-size=\"14.00\">spend_zero_mean_unit_variance</text>\n</g>\n<!-- spend_zero_mean&#45;&gt;spend_zero_mean_unit_variance -->\n<g id=\"edge4\" class=\"edge\">\n<title>spend_zero_mean&#45;&gt;spend_zero_mean_unit_variance</title>\n<path fill=\"none\" stroke=\"red\" d=\"M208.49,-72.41C198.42,-63.71 185.9,-52.89 174.77,-43.27\"/>\n<polygon fill=\"red\" stroke=\"red\" points=\"177.44,-40.09 167.59,-36.2 172.86,-45.39 177.44,-40.09\"/>\n</g>\n<!-- spend_mean -->\n<g id=\"node2\" class=\"node\">\n<title>spend_mean</title>\n<ellipse fill=\"none\" stroke=\"red\" cx=\"269.68\" cy=\"-162\" rx=\"57.49\" ry=\"18\"/>\n<text text-anchor=\"middle\" x=\"269.68\" y=\"-156.95\" font-family=\"Times,serif\" font-size=\"14.00\">spend_mean</text>\n</g>\n<!-- spend_mean&#45;&gt;spend_zero_mean -->\n<g id=\"edge2\" class=\"edge\">\n<title>spend_mean&#45;&gt;spend_zero_mean</title>\n<path fill=\"none\" stroke=\"red\" d=\"M259.52,-144.05C254.74,-136.09 248.93,-126.41 243.59,-117.51\"/>\n<polygon fill=\"red\" stroke=\"red\" points=\"246.19,-116.05 238.05,-109.28 240.19,-119.65 246.19,-116.05\"/>\n</g>\n<!-- spend -->\n<g id=\"node4\" class=\"node\">\n<title>spend</title>\n<ellipse fill=\"none\" stroke=\"black\" stroke-dasharray=\"5,2\" cx=\"226.68\" cy=\"-234\" rx=\"56.98\" ry=\"18\"/>\n<text text-anchor=\"middle\" x=\"226.68\" y=\"-228.95\" font-family=\"Times,serif\" font-size=\"14.00\">Input: spend</text>\n</g>\n<!-- spend&#45;&gt;spend_zero_mean -->\n<g id=\"edge1\" class=\"edge\">\n<title>spend&#45;&gt;spend_zero_mean</title>\n<path fill=\"none\" stroke=\"black\" d=\"M217.14,-215.93C212.04,-205.82 206.29,-192.57 203.68,-180 200.43,-164.33 200.31,-159.64 203.68,-144 205.6,-135.11 209.14,-125.93 212.91,-117.75\"/>\n<polygon fill=\"black\" stroke=\"black\" points=\"216.43,-119.54 217.73,-109.02 210.16,-116.43 216.43,-119.54\"/>\n</g>\n<!-- spend&#45;&gt;spend_mean -->\n<g id=\"edge3\" class=\"edge\">\n<title>spend&#45;&gt;spend_mean</title>\n<path fill=\"none\" stroke=\"black\" d=\"M237.09,-216.05C242.06,-207.97 248.11,-198.12 253.64,-189.11\"/>\n<polygon fill=\"black\" stroke=\"black\" points=\"257.12,-191.14 259.37,-180.79 251.15,-187.48 257.12,-191.14\"/>\n</g>\n<!-- spend_std_dev -->\n<g id=\"node5\" class=\"node\">\n<title>spend_std_dev</title>\n<ellipse fill=\"none\" stroke=\"black\" cx=\"65.68\" cy=\"-90\" rx=\"65.68\" ry=\"18\"/>\n<text text-anchor=\"middle\" x=\"65.68\" y=\"-84.95\" font-family=\"Times,serif\" font-size=\"14.00\">spend_std_dev</text>\n</g>\n<!-- spend_std_dev&#45;&gt;spend_zero_mean_unit_variance -->\n<g id=\"edge5\" class=\"edge\">\n<title>spend_std_dev&#45;&gt;spend_zero_mean_unit_variance</title>\n<path fill=\"none\" stroke=\"black\" d=\"M84.88,-72.41C94.94,-63.71 107.46,-52.89 118.6,-43.27\"/>\n<polygon fill=\"black\" stroke=\"black\" points=\"120.5,-45.39 125.78,-36.2 115.92,-40.09 120.5,-45.39\"/>\n</g>\n</g>\n</svg>\n",
      "text/plain": "<graphviz.graphs.Digraph at 0x10d074100>"
     },
     "execution_count": 24,
     "metadata": {},
     "output_type": "execute_result"
    }
   ],
   "source": [
    "# highlight path between two nodes\n",
    "dr.visualize_path_between(\"spend_mean\", \"spend_zero_mean_unit_variance\")"
   ],
   "metadata": {
    "collapsed": false,
    "ExecuteTime": {
     "end_time": "2023-08-06T21:00:37.374616Z",
     "start_time": "2023-08-06T21:00:37.054471Z"
    }
   }
  },
  {
   "cell_type": "markdown",
   "source": [
    "# Decorators\n",
    "This next section will have decorator snippets"
   ],
   "metadata": {
    "collapsed": false
   }
  },
  {
   "cell_type": "markdown",
   "source": [
    "## @config.when\n",
    "Use this to pull out `if/else` statements from your code, and have specific functions swapped out instead."
   ],
   "metadata": {
    "collapsed": false
   }
  },
  {
   "cell_type": "code",
   "execution_count": 34,
   "outputs": [
    {
     "name": "stdout",
     "output_type": "stream",
     "text": [
      "Overwriting config_example.py\n"
     ]
    }
   ],
   "source": [
    "%%writefile config_example.py\n",
    "import pandas as pd\n",
    "from hamilton.function_modifiers import config\n",
    "\n",
    "def spend_per_signup(spend: pd.Series, signups: pd.Series) -> pd.Series:\n",
    "  \"\"\"The cost per signup in relation to spend.\"\"\"\n",
    "  return spend / signups\n",
    "\n",
    "@config.when(lookback=\"long\")\n",
    "def acquisition_cost_rolling_mean__long(spend: pd.Series, specific_input_long: str) -> pd.Series:\n",
    "  \"\"\"Rolling 7 day average spend.\"\"\"\n",
    "  # specific_input_long just highlights that you can have a specific dependency unique to this\n",
    "  # function.\n",
    "  return spend.rolling(window=7, min_periods=1).mean()\n",
    "\n",
    "@config.when(lookback=\"short\")\n",
    "def acquisition_cost_rolling_mean__short(spend: pd.Series) -> pd.Series:\n",
    "  \"\"\"Rolling 3 day average spend.\"\"\"\n",
    "  return spend.rolling(window=3,min_periods=1).mean()\n"
   ],
   "metadata": {
    "collapsed": false,
    "ExecuteTime": {
     "end_time": "2023-08-06T21:12:33.201034Z",
     "start_time": "2023-08-06T21:12:33.194221Z"
    }
   }
  },
  {
   "cell_type": "code",
   "execution_count": 35,
   "outputs": [
    {
     "name": "stdout",
     "output_type": "stream",
     "text": [
      "   acquisition_cost_rolling_mean\n",
      "0                          100.0\n",
      "1                          150.0\n",
      "2                          200.0\n",
      "3                          250.0\n",
      "4                          300.0\n"
     ]
    }
   ],
   "source": [
    "from hamilton import driver\n",
    "import config_example\n",
    "# we statically create a DAG with the \"long\" version.\n",
    "dr = driver.Driver({\"lookback\" : \"long\",\n",
    "                    \"specific_input_long\": \"some_extra_input\"}, config_example)\n",
    "print(dr.execute(\n",
    "  final_vars=[\"acquisition_cost_rolling_mean\"],\n",
    "  inputs=load_data().to_dict(orient=\"series\")\n",
    "))"
   ],
   "metadata": {
    "collapsed": false,
    "ExecuteTime": {
     "end_time": "2023-08-06T21:12:33.712731Z",
     "start_time": "2023-08-06T21:12:33.688925Z"
    }
   }
  },
  {
   "cell_type": "code",
   "execution_count": 36,
   "outputs": [
    {
     "name": "stdout",
     "output_type": "stream",
     "text": [
      "   acquisition_cost_rolling_mean\n",
      "0                          100.0\n",
      "1                          150.0\n",
      "2                          200.0\n",
      "3                          300.0\n",
      "4                          400.0\n"
     ]
    }
   ],
   "source": [
    "# we statically create a DAG with the \"short\" version -- not extra inputs needed.\n",
    "dr = driver.Driver({\"lookback\" : \"short\"}, config_example)\n",
    "print(dr.execute(\n",
    "  final_vars=[\"acquisition_cost_rolling_mean\"],\n",
    "  inputs=load_data().to_dict(orient=\"series\")\n",
    "))"
   ],
   "metadata": {
    "collapsed": false,
    "ExecuteTime": {
     "end_time": "2023-08-06T21:12:42.785428Z",
     "start_time": "2023-08-06T21:12:42.776983Z"
    }
   }
  },
  {
   "cell_type": "markdown",
   "source": [
    "## @parameterize\n",
    "Use this if you want to programmatically create function definitions.\n",
    "\n",
    "E.g. where things differ by a value (use \"value\"), or by the function \"parameter\" (use \"source\") that should be used as input.\n"
   ],
   "metadata": {
    "collapsed": false
   }
  },
  {
   "cell_type": "code",
   "execution_count": 44,
   "outputs": [
    {
     "name": "stdout",
     "output_type": "stream",
     "text": [
      "Overwriting parameterize_example.py\n"
     ]
    }
   ],
   "source": [
    "%%writefile parameterize_example.py\n",
    "import pandas as pd\n",
    "from hamilton.function_modifiers import parameterize, value, source\n",
    "\n",
    "@parameterize(\n",
    "  acquisition_cost_rolling_mean_none={\"window\" : value(1)},\n",
    "  acquisition_cost_rolling_mean_short={\"window\" : value(3)},\n",
    "  acquisition_cost_rolling_mean_medium={\"window\" : value(5)},\n",
    "  acquisition_cost_rolling_mean_long={\"window\" : value(7)}\n",
    ")\n",
    "def base_acquisition_cost_rolling_mean(spend: pd.Series, window: int) -> float:\n",
    "  \"\"\"Rolling 3 day average spend.\"\"\"\n",
    "  return spend.rolling(window=window, min_periods=1).mean()\n",
    "\n",
    "@parameterize(\n",
    "    acrmn_doubled={\"input_source\": source(\"acquisition_cost_rolling_mean_none\")},\n",
    "    acrms_doubled={\"input_source\": source(\"acquisition_cost_rolling_mean_short\")},\n",
    "    acrmm_doubled={\"input_source\": source(\"acquisition_cost_rolling_mean_medium\")},\n",
    "    acrml_doubled={\"input_source\": source(\"acquisition_cost_rolling_mean_long\")}\n",
    ")\n",
    "def base_function_to_show_source_parameterization(input_source: float) -> float:\n",
    "  \"\"\"Doubles the {input_source}.\"\"\"\n",
    "  return input_source * 2\n"
   ],
   "metadata": {
    "collapsed": false,
    "ExecuteTime": {
     "end_time": "2023-08-06T21:25:14.032278Z",
     "start_time": "2023-08-06T21:25:14.023779Z"
    }
   }
  },
  {
   "cell_type": "code",
   "execution_count": 51,
   "outputs": [
    {
     "name": "stdout",
     "output_type": "stream",
     "text": [
      "   acquisition_cost_rolling_mean_short  acquisition_cost_rolling_mean_long  acrms_doubled  acrml_doubled\n",
      "0                                100.0                               100.0          200.0          200.0\n",
      "1                                150.0                               150.0          300.0          300.0\n",
      "2                                200.0                               200.0          400.0          400.0\n",
      "3                                300.0                               250.0          600.0          500.0\n",
      "4                                400.0                               300.0          800.0          600.0\n"
     ]
    },
    {
     "data": {
      "image/svg+xml": "<?xml version=\"1.0\" encoding=\"UTF-8\" standalone=\"no\"?>\n<!DOCTYPE svg PUBLIC \"-//W3C//DTD SVG 1.1//EN\"\n \"http://www.w3.org/Graphics/SVG/1.1/DTD/svg11.dtd\">\n<!-- Generated by graphviz version 8.0.5 (20230430.1635)\n -->\n<!-- Pages: 1 -->\n<svg width=\"1267pt\" height=\"188pt\"\n viewBox=\"0.00 0.00 1266.65 188.00\" xmlns=\"http://www.w3.org/2000/svg\" xmlns:xlink=\"http://www.w3.org/1999/xlink\">\n<g id=\"graph0\" class=\"graph\" transform=\"scale(1 1) rotate(0) translate(4 184)\">\n<polygon fill=\"white\" stroke=\"none\" points=\"-4,4 -4,-184 1262.65,-184 1262.65,4 -4,4\"/>\n<!-- acquisition_cost_rolling_mean_none -->\n<g id=\"node1\" class=\"node\">\n<title>acquisition_cost_rolling_mean_none</title>\n<ellipse fill=\"none\" stroke=\"black\" cx=\"147.57\" cy=\"-90\" rx=\"147.57\" ry=\"18\"/>\n<text text-anchor=\"middle\" x=\"147.57\" y=\"-84.95\" font-family=\"Times,serif\" font-size=\"14.00\">acquisition_cost_rolling_mean_none</text>\n</g>\n<!-- acrmn_doubled -->\n<g id=\"node6\" class=\"node\">\n<title>acrmn_doubled</title>\n<ellipse fill=\"none\" stroke=\"black\" cx=\"147.57\" cy=\"-18\" rx=\"68.75\" ry=\"18\"/>\n<text text-anchor=\"middle\" x=\"147.57\" y=\"-12.95\" font-family=\"Times,serif\" font-size=\"14.00\">acrmn_doubled</text>\n</g>\n<!-- acquisition_cost_rolling_mean_none&#45;&gt;acrmn_doubled -->\n<g id=\"edge5\" class=\"edge\">\n<title>acquisition_cost_rolling_mean_none&#45;&gt;acrmn_doubled</title>\n<path fill=\"none\" stroke=\"black\" d=\"M147.57,-71.7C147.57,-64.24 147.57,-55.32 147.57,-46.97\"/>\n<polygon fill=\"black\" stroke=\"black\" points=\"151.07,-47.1 147.57,-37.1 144.07,-47.1 151.07,-47.1\"/>\n</g>\n<!-- acrmm_doubled -->\n<g id=\"node2\" class=\"node\">\n<title>acrmm_doubled</title>\n<ellipse fill=\"none\" stroke=\"black\" cx=\"473.57\" cy=\"-18\" rx=\"71.82\" ry=\"18\"/>\n<text text-anchor=\"middle\" x=\"473.57\" y=\"-12.95\" font-family=\"Times,serif\" font-size=\"14.00\">acrmm_doubled</text>\n</g>\n<!-- spend -->\n<g id=\"node3\" class=\"node\">\n<title>spend</title>\n<ellipse fill=\"none\" stroke=\"black\" stroke-dasharray=\"5,2\" cx=\"635.57\" cy=\"-162\" rx=\"56.98\" ry=\"18\"/>\n<text text-anchor=\"middle\" x=\"635.57\" y=\"-156.95\" font-family=\"Times,serif\" font-size=\"14.00\">Input: spend</text>\n</g>\n<!-- spend&#45;&gt;acquisition_cost_rolling_mean_none -->\n<g id=\"edge1\" class=\"edge\">\n<title>spend&#45;&gt;acquisition_cost_rolling_mean_none</title>\n<path fill=\"none\" stroke=\"black\" d=\"M584.73,-153.71C506.21,-142.44 353.84,-120.59 251.38,-105.89\"/>\n<polygon fill=\"black\" stroke=\"black\" points=\"252.09,-102.31 241.7,-104.36 251.1,-109.24 252.09,-102.31\"/>\n</g>\n<!-- acquisition_cost_rolling_mean_medium -->\n<g id=\"node5\" class=\"node\">\n<title>acquisition_cost_rolling_mean_medium</title>\n<ellipse fill=\"none\" stroke=\"black\" cx=\"473.57\" cy=\"-90\" rx=\"160.88\" ry=\"18\"/>\n<text text-anchor=\"middle\" x=\"473.57\" y=\"-84.95\" font-family=\"Times,serif\" font-size=\"14.00\">acquisition_cost_rolling_mean_medium</text>\n</g>\n<!-- spend&#45;&gt;acquisition_cost_rolling_mean_medium -->\n<g id=\"edge4\" class=\"edge\">\n<title>spend&#45;&gt;acquisition_cost_rolling_mean_medium</title>\n<path fill=\"none\" stroke=\"black\" d=\"M602.79,-146.83C579.77,-136.89 548.59,-123.41 522.62,-112.19\"/>\n<polygon fill=\"black\" stroke=\"black\" points=\"524.15,-108.61 513.59,-107.86 521.38,-115.04 524.15,-108.61\"/>\n</g>\n<!-- acquisition_cost_rolling_mean_long -->\n<g id=\"node7\" class=\"node\">\n<title>acquisition_cost_rolling_mean_long</title>\n<ellipse fill=\"none\" stroke=\"black\" cx=\"798.57\" cy=\"-90\" rx=\"146.04\" ry=\"18\"/>\n<text text-anchor=\"middle\" x=\"798.57\" y=\"-84.95\" font-family=\"Times,serif\" font-size=\"14.00\">acquisition_cost_rolling_mean_long</text>\n</g>\n<!-- spend&#45;&gt;acquisition_cost_rolling_mean_long -->\n<g id=\"edge6\" class=\"edge\">\n<title>spend&#45;&gt;acquisition_cost_rolling_mean_long</title>\n<path fill=\"none\" stroke=\"black\" d=\"M668.17,-147C691.48,-136.99 723.27,-123.34 749.62,-112.02\"/>\n<polygon fill=\"black\" stroke=\"black\" points=\"750.62,-114.97 758.42,-107.81 747.85,-108.54 750.62,-114.97\"/>\n</g>\n<!-- acquisition_cost_rolling_mean_short -->\n<g id=\"node8\" class=\"node\">\n<title>acquisition_cost_rolling_mean_short</title>\n<ellipse fill=\"none\" stroke=\"black\" cx=\"1110.57\" cy=\"-90\" rx=\"148.08\" ry=\"18\"/>\n<text text-anchor=\"middle\" x=\"1110.57\" y=\"-84.95\" font-family=\"Times,serif\" font-size=\"14.00\">acquisition_cost_rolling_mean_short</text>\n</g>\n<!-- spend&#45;&gt;acquisition_cost_rolling_mean_short -->\n<g id=\"edge7\" class=\"edge\">\n<title>spend&#45;&gt;acquisition_cost_rolling_mean_short</title>\n<path fill=\"none\" stroke=\"black\" d=\"M686.4,-153.51C762.84,-142.24 908.95,-120.71 1008.08,-106.1\"/>\n<polygon fill=\"black\" stroke=\"black\" points=\"1008.34,-109.46 1017.72,-104.54 1007.32,-102.53 1008.34,-109.46\"/>\n</g>\n<!-- acrms_doubled -->\n<g id=\"node4\" class=\"node\">\n<title>acrms_doubled</title>\n<ellipse fill=\"none\" stroke=\"black\" cx=\"1110.57\" cy=\"-18\" rx=\"67.73\" ry=\"18\"/>\n<text text-anchor=\"middle\" x=\"1110.57\" y=\"-12.95\" font-family=\"Times,serif\" font-size=\"14.00\">acrms_doubled</text>\n</g>\n<!-- acquisition_cost_rolling_mean_medium&#45;&gt;acrmm_doubled -->\n<g id=\"edge2\" class=\"edge\">\n<title>acquisition_cost_rolling_mean_medium&#45;&gt;acrmm_doubled</title>\n<path fill=\"none\" stroke=\"black\" d=\"M473.57,-71.7C473.57,-64.24 473.57,-55.32 473.57,-46.97\"/>\n<polygon fill=\"black\" stroke=\"black\" points=\"477.07,-47.1 473.57,-37.1 470.07,-47.1 477.07,-47.1\"/>\n</g>\n<!-- acrml_doubled -->\n<g id=\"node9\" class=\"node\">\n<title>acrml_doubled</title>\n<ellipse fill=\"none\" stroke=\"black\" cx=\"798.57\" cy=\"-18\" rx=\"66.71\" ry=\"18\"/>\n<text text-anchor=\"middle\" x=\"798.57\" y=\"-12.95\" font-family=\"Times,serif\" font-size=\"14.00\">acrml_doubled</text>\n</g>\n<!-- acquisition_cost_rolling_mean_long&#45;&gt;acrml_doubled -->\n<g id=\"edge8\" class=\"edge\">\n<title>acquisition_cost_rolling_mean_long&#45;&gt;acrml_doubled</title>\n<path fill=\"none\" stroke=\"black\" d=\"M798.57,-71.7C798.57,-64.24 798.57,-55.32 798.57,-46.97\"/>\n<polygon fill=\"black\" stroke=\"black\" points=\"802.07,-47.1 798.57,-37.1 795.07,-47.1 802.07,-47.1\"/>\n</g>\n<!-- acquisition_cost_rolling_mean_short&#45;&gt;acrms_doubled -->\n<g id=\"edge3\" class=\"edge\">\n<title>acquisition_cost_rolling_mean_short&#45;&gt;acrms_doubled</title>\n<path fill=\"none\" stroke=\"black\" d=\"M1110.57,-71.7C1110.57,-64.24 1110.57,-55.32 1110.57,-46.97\"/>\n<polygon fill=\"black\" stroke=\"black\" points=\"1114.07,-47.1 1110.57,-37.1 1107.07,-47.1 1114.07,-47.1\"/>\n</g>\n</g>\n</svg>\n",
      "text/plain": "<graphviz.graphs.Digraph at 0x10d6f86d0>"
     },
     "execution_count": 51,
     "metadata": {},
     "output_type": "execute_result"
    }
   ],
   "source": [
    "from hamilton import driver\n",
    "import parameterize_example\n",
    "dr = driver.Driver({}, parameterize_example)\n",
    "result = dr.execute(\n",
    "  [\n",
    "      \"acquisition_cost_rolling_mean_short\",\n",
    "      \"acquisition_cost_rolling_mean_long\",\n",
    "      \"acrms_doubled\",\n",
    "      \"acrml_doubled\",\n",
    "  ],\n",
    "  inputs=load_data().to_dict(orient=\"series\")\n",
    ")\n",
    "# print result\n",
    "print(result.to_string())\n",
    "# and show what was define -- we only ran part of this DAG.\n",
    "dr.display_all_functions(None)"
   ],
   "metadata": {
    "collapsed": false,
    "ExecuteTime": {
     "end_time": "2023-08-06T21:27:24.434629Z",
     "start_time": "2023-08-06T21:27:23.964046Z"
    }
   }
  },
  {
   "cell_type": "markdown",
   "source": [
    "## Runtime Data Quality checks with @check_output\n",
    "With Hamilton you can annotate a function with an expectation. It will then run after that function is executed and check it. This is great having jobs fail quickly."
   ],
   "metadata": {
    "collapsed": false
   }
  },
  {
   "cell_type": "code",
   "execution_count": 81,
   "outputs": [
    {
     "name": "stdout",
     "output_type": "stream",
     "text": [
      "Overwriting check_output_example.py\n"
     ]
    }
   ],
   "source": [
    "%%writefile check_output_example.py\n",
    "import pandas as pd\n",
    "import pandera as pa\n",
    "import numpy as np\n",
    "\n",
    "from hamilton.function_modifiers import check_output\n",
    "\n",
    "# pandera doesn't operate over single values\n",
    "@check_output(range=(20.0, 60.0), data_type=np.float64, importance=\"fail\")\n",
    "def age_mean(age: pd.Series) -> np.float64:\n",
    "    \"\"\"Average of age\"\"\"\n",
    "    return age.mean()\n",
    "\n",
    "# create pandera schema with expectations\n",
    "age_zero_mean_schema = pa.SeriesSchema(\n",
    "    np.float64,\n",
    "    checks=[\n",
    "        pa.Check.in_range(-120.0, 120.0),\n",
    "    ],\n",
    "    nullable=False,\n",
    ")\n",
    "\n",
    "# This doesn't seem to work when running from within a notebook...\n",
    "# @check_output(schema=age_zero_mean_schema, importance=\"warn\")\n",
    "def age_zero_mean(age: pd.Series, age_mean: np.float64) -> pd.Series:\n",
    "    \"\"\"Zero mean of age\"\"\"\n",
    "    return age - age_mean\n",
    "\n",
    "# if __name__ == '__main__':\n",
    "#     import check_output_example\n",
    "#     from hamilton import driver\n",
    "#     from hamilton.data_quality.base import DataValidationError\n",
    "#     dr = driver.Driver({}, check_output_example)\n",
    "#     try:\n",
    "#         result = dr.execute([\"age_zero_mean\"],\n",
    "#                             inputs={\"age\": pd.Series([1, 2, 3, 4, 5])})\n",
    "#     except DataValidationError:\n",
    "#         print(\"Caught DataValidationError\")\n",
    "#\n",
    "#     result = dr.execute([\"age_zero_mean\"],\n",
    "#                         inputs={\"age\": pd.Series([21, 22, 23, 24, 25])})\n",
    "#     print(result.to_string())\n"
   ],
   "metadata": {
    "collapsed": false,
    "ExecuteTime": {
     "end_time": "2023-08-07T20:31:41.869849Z",
     "start_time": "2023-08-07T20:31:41.864100Z"
    }
   }
  },
  {
   "cell_type": "code",
   "execution_count": 85,
   "outputs": [
    {
     "name": "stderr",
     "output_type": "stream",
     "text": [
      "[age_mean:range_validator] validator failed. Message was: Data point 11.5 does not fall within acceptable range: (20.0, 60.0). Diagnostic information is: {'range': (20.0, 60.0), 'value': 11.5}.\n",
      "\n",
      "Node age_mean encountered an error\n",
      "Traceback (most recent call last):\n",
      "  File \"/Users/stefankrawczyk/.pyenv/versions/3.10.4/envs/hamilton-tutorials-py310/lib/python3.10/site-packages/hamilton/graph.py\", line 481, in dfs_traverse\n",
      "    value = adapter.execute_node(node_, kwargs)\n",
      "  File \"/Users/stefankrawczyk/.pyenv/versions/3.10.4/envs/hamilton-tutorials-py310/lib/python3.10/site-packages/hamilton/base.py\", line 457, in execute_node\n",
      "    return node.callable(**kwargs)\n",
      "  File \"/Users/stefankrawczyk/.pyenv/versions/3.10.4/envs/hamilton-tutorials-py310/lib/python3.10/site-packages/hamilton/function_modifiers/validation.py\", line 84, in final_node_callable\n",
      "    dq_base.act_fail_bulk(node_.name, failures)\n",
      "  File \"/Users/stefankrawczyk/.pyenv/versions/3.10.4/envs/hamilton-tutorials-py310/lib/python3.10/site-packages/hamilton/data_quality/base.py\", line 106, in act_fail_bulk\n",
      "    raise DataValidationError(error_messages)\n",
      "hamilton.data_quality.base.DataValidationError: [\"[age_mean:range_validator] validator failed. Message was: Data point 11.5 does not fall within acceptable range: (20.0, 60.0). Diagnostic information is: {'range': (20.0, 60.0), 'value': 11.5}.\\n\"]\n",
      "-------------------------------------------------------------------\n",
      "Oh no an error! Need help with Hamilton?\n",
      "Join our slack and ask for help! https://join.slack.com/t/hamilton-opensource/shared_invite/zt-1bjs72asx-wcUTgH7q7QX1igiQ5bbdcg\n",
      "-------------------------------------------------------------------\n",
      "\n"
     ]
    },
    {
     "name": "stdout",
     "output_type": "stream",
     "text": [
      "   age_zero_mean\n",
      "0          -20.0\n",
      "1          -10.0\n",
      "2           10.0\n",
      "3           20.0\n",
      "As expected got a validation error: [\"[age_mean:range_validator] validator failed. Message was: Data point 11.5 does not fall within acceptable range: (20.0, 60.0). Diagnostic information is: {'range': (20.0, 60.0), 'value': 11.5}.\\n\"]\n",
      "done\n"
     ]
    }
   ],
   "source": [
    "from hamilton import driver\n",
    "import check_output_example\n",
    "import importlib\n",
    "importlib.reload(check_output_example)\n",
    "dr = driver.Driver({}, check_output_example)\n",
    "# this will run as expected\n",
    "result = dr.execute(\n",
    "  [\"age_zero_mean\"],\n",
    "  inputs={\n",
    "      \"age\": pd.Series([20, 30, 50, 60])\n",
    "  }\n",
    ")\n",
    "print(result.to_string())\n",
    "# this will fail because age isn't in range.\n",
    "try:\n",
    "    result = dr.execute(\n",
    "      [check_output_example.age_zero_mean],\n",
    "      inputs={\n",
    "          \"age\": pd.Series([10, 11, 12, 13])\n",
    "      }\n",
    "    )\n",
    "except Exception as e:\n",
    "    print(f\"As expected got a validation error: {e}\")\n",
    "print(\"done\")"
   ],
   "metadata": {
    "collapsed": false,
    "ExecuteTime": {
     "end_time": "2023-08-07T20:32:33.009626Z",
     "start_time": "2023-08-07T20:32:32.976092Z"
    }
   }
  },
  {
   "cell_type": "markdown",
   "source": [
    "## @tag\n",
    "Use this to annotated functions with extra metadata. You can then do some cool things and query the DAG and use them to determine what to request/compute, or determine who to contact, or build a governance solution on top of, etc."
   ],
   "metadata": {
    "collapsed": false
   }
  },
  {
   "cell_type": "code",
   "execution_count": 68,
   "outputs": [
    {
     "name": "stdout",
     "output_type": "stream",
     "text": [
      "Writing tag_example.py\n"
     ]
    }
   ],
   "source": [
    "%%writefile tag_example.py\n",
    "import pandas as pd\n",
    "from hamilton.function_modifiers import tag\n",
    "\n",
    "@tag(feature=\"true\")\n",
    "def avg_3wk_spend(spend: pd.Series) -> pd.Series:\n",
    "  \"\"\"Rolling 3 day average spend.\"\"\"\n",
    "  return spend.rolling(3).mean()\n",
    "\n",
    "@tag(feature=\"true\")\n",
    "def spend_per_signup(spend: pd.Series, signups: pd.Series) -> pd.Series:\n",
    "  \"\"\"The cost per signup in relation to spend.\"\"\"\n",
    "  return spend / signups\n",
    "\n",
    "def spend_mean(spend: pd.Series) -> float:\n",
    "  \"\"\"Shows function creating a scalar. In this case it computes the mean of the entire column.\"\"\"\n",
    "  return spend.mean()\n",
    "\n",
    "def spend_zero_mean(spend: pd.Series, spend_mean: float) -> pd.Series:\n",
    "  \"\"\"Shows function that takes a scalar. In this case to zero mean spend.\"\"\"\n",
    "  return spend - spend_mean\n",
    "\n",
    "\n",
    "def spend_std_dev(spend: pd.Series) -> float:\n",
    "  \"\"\"Function that computes the standard deviation of the spend column.\"\"\"\n",
    "  return spend.std()\n",
    "\n",
    "@tag(feature=\"true\")\n",
    "def spend_zero_mean_unit_variance(spend_zero_mean: pd.Series, spend_std_dev: float) -> pd.Series:\n",
    "  \"\"\"Function showing one way to make spend have zero mean and unit variance.\"\"\"\n",
    "  return spend_zero_mean / spend_std_dev"
   ],
   "metadata": {
    "collapsed": false,
    "ExecuteTime": {
     "end_time": "2023-08-06T21:56:33.498978Z",
     "start_time": "2023-08-06T21:56:33.462414Z"
    }
   }
  },
  {
   "cell_type": "code",
   "execution_count": 69,
   "outputs": [
    {
     "name": "stdout",
     "output_type": "stream",
     "text": [
      "   avg_3wk_spend  spend_per_signup  spend_zero_mean_unit_variance\n",
      "0            NaN              10.0                      -1.264911\n",
      "1            NaN              10.0                      -0.632456\n",
      "2          200.0              10.0                       0.000000\n",
      "3          300.0              10.0                       0.632456\n",
      "4          400.0              10.0                       1.264911\n"
     ]
    }
   ],
   "source": [
    "from hamilton import driver\n",
    "import tag_example\n",
    "dr = driver.Driver({}, tag_example)\n",
    "outputs = [var.name for var in dr.list_available_variables()\n",
    "           if var.tags.get(\"feature\") == \"true\"]\n",
    "result = dr.execute(\n",
    "    outputs,\n",
    "    inputs=load_data().to_dict(orient=\"series\")\n",
    ")\n",
    "print(result.to_string())"
   ],
   "metadata": {
    "collapsed": false,
    "ExecuteTime": {
     "end_time": "2023-08-06T21:58:02.051326Z",
     "start_time": "2023-08-06T21:58:02.016131Z"
    }
   }
  },
  {
   "cell_type": "markdown",
   "source": [
    "# Module Composability\n",
    "You can manage different DAG shapes quite easily.\n",
    "You can do so via @config.when, or via different modules you pass into the driver, or both.\n"
   ],
   "metadata": {
    "collapsed": false
   }
  },
  {
   "cell_type": "code",
   "execution_count": 86,
   "outputs": [],
   "source": [
    "# TODO: Fill in code live if needed."
   ],
   "metadata": {
    "collapsed": false,
    "ExecuteTime": {
     "end_time": "2023-08-07T20:34:45.999680Z",
     "start_time": "2023-08-07T20:34:45.974239Z"
    }
   }
  },
  {
   "cell_type": "markdown",
   "source": [
    "# CachingAdapter\n",
    "This is useful for local iteration and you want to save an \"expensive\" step and not have to compute it again. You can also use it in production and extend it."
   ],
   "metadata": {
    "collapsed": false
   }
  },
  {
   "cell_type": "code",
   "execution_count": 88,
   "outputs": [
    {
     "name": "stdout",
     "output_type": "stream",
     "text": [
      "   avg_3wk_spend  spend_per_signup  spend_zero_mean_unit_variance\n",
      "0            NaN              10.0                      -1.264911\n",
      "1            NaN              10.0                      -0.632456\n",
      "2          200.0              10.0                       0.000000\n",
      "3          300.0              10.0                       0.632456\n",
      "4          400.0              10.0                       1.264911\n"
     ]
    }
   ],
   "source": [
    "# TODO: walk through caching adapter code.\n",
    "# for this to work, you need to annotate functions with `tag(cache=\"TYPE\")`.\n",
    "import pathlib\n",
    "from hamilton.experimental import h_cache\n",
    "import new_way\n",
    "\n",
    "config = {}\n",
    "cache_path = \"tmp\"\n",
    "pathlib.Path(cache_path).mkdir(exist_ok=True)\n",
    "adapter = h_cache.CachingGraphAdapter(cache_path, base.PandasDataFrameResult())\n",
    "dr = driver.Driver(config, new_way, adapter=adapter)\n",
    "output_columns = [\n",
    "    new_way.avg_3wk_spend,\n",
    "    new_way.spend_per_signup,\n",
    "    new_way.spend_zero_mean_unit_variance,\n",
    "]\n",
    "\n",
    "df = dr.execute(output_columns, inputs=load_data().to_dict(orient=\"series\"))\n",
    "print(df.to_string())"
   ],
   "metadata": {
    "collapsed": false,
    "ExecuteTime": {
     "end_time": "2023-08-07T20:39:04.125315Z",
     "start_time": "2023-08-07T20:39:04.077695Z"
    }
   }
  },
  {
   "cell_type": "code",
   "execution_count": null,
   "outputs": [],
   "source": [],
   "metadata": {
    "collapsed": false
   }
  }
 ],
 "metadata": {
  "kernelspec": {
   "display_name": "Python 3",
   "language": "python",
   "name": "python3"
  },
  "language_info": {
   "codemirror_mode": {
    "name": "ipython",
    "version": 2
   },
   "file_extension": ".py",
   "mimetype": "text/x-python",
   "name": "python",
   "nbconvert_exporter": "python",
   "pygments_lexer": "ipython2",
   "version": "2.7.6"
  }
 },
 "nbformat": 4,
 "nbformat_minor": 0
}
